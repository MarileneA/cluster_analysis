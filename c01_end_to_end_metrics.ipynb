{
 "cells": [
  {
   "cell_type": "markdown",
   "id": "7cd04bc6",
   "metadata": {},
   "source": [
    "# Solution Planning\n"
   ]
  },
  {
   "cell_type": "markdown",
   "id": "eb3c4930",
   "metadata": {},
   "source": [
    "## Business Problem\n",
    "   **What is the business problem?**\n",
    "\n",
    "    Select the most valuable customers to join the \"Loyals\" loyalty program.\n",
    "\n",
    "    Answering business questions to the marketing team."
   ]
  },
  {
   "cell_type": "markdown",
   "id": "1bf70f33",
   "metadata": {},
   "source": [
    "## Output\n",
    "**What will I deliver? / Where does the business team want to see it?**\n",
    "\n",
    "List in xls / send by email. It must contain customers who will join Loyals (loyalty program).\n",
    "Format:\n",
    "client_id\tis_loyal\n",
    "\n",
    "    │1\t│yes\n",
    "    │2\t│no\n",
    "    \n",
    "**PDF report answering business questions / send by email and present to the marketing team:**\n",
    "\n",
    "    Who are the people eligible to participate in the Loyals program?\n",
    "    How many customers will be part of the group?\n",
    "    What are the main characteristics of these customers?\n",
    "    What is the percentage of revenue contribution from Loyals?\n",
    "    What is the expected revenue for this group for the coming months?\n",
    "    What are the conditions for a person to be eligible for Loyals?\n",
    "    What are the conditions for a person to be removed from Loyals?\n",
    "    What is the guarantee that the Loyals program is better than the rest of the base?\n",
    "    What actions can the marketing team take to increase revenue?"
   ]
  },
  {
   "cell_type": "markdown",
   "id": "9e9af167",
   "metadata": {},
   "source": [
    "### Input"
   ]
  },
  {
   "cell_type": "markdown",
   "id": "e9131109",
   "metadata": {},
   "source": [
    "Data sources: Dataset \"Ecommerce.csv\", containing e-commerce sales for the period of one year.\n",
    "\n",
    "Tools: Python 3.8.12, Jupyter Notebook, Git, Github.\n",
    "\n",
    "Process\n",
    "Type of problem: Separation of customers by groups.\n",
    "\n",
    "Main methods: clustering.\n",
    "\n",
    "**Business Questions:**\n",
    "\n",
    "    Who are the people eligible to participate in the Loyals program?\n",
    "    \n",
    "    What does it mean to be eligible? / What are higher \"value\" customers? (depending on business area)\n",
    "    Invoicing:\n",
    "    \n",
    "   - High average ticket\n",
    "       High LTV (sum of customer revenue)\n",
    "       \n",
    "       Low recency (time since last purchase)\n",
    "       \n",
    "       High basket size (qty products purchased per purchase)\n",
    "       \n",
    "       Low churn probability (would use the output of a model)\n",
    "       \n",
    "       High LTV Prediction (would use output from a model)\n",
    "       \n",
    "       High propensity to buy (would use the output of a model)\n",
    "       \n",
    "              \n",
    "   - Cost:\n",
    "        Low return rate\n",
    "        \n",
    "   - Shopping experience:\n",
    "   \n",
    "        High average of the evaluations"
   ]
  },
  {
   "cell_type": "markdown",
   "id": "70175101",
   "metadata": {},
   "source": [
    "## Solution Benchmarking\n",
    "Desk Research\n",
    "Reading articles on customer segmentation on the internet to understand what the market is doing.\n",
    "\n",
    "Identify from market solutions, with the business team, what we can do as an MVP.\n",
    "\n",
    "RFM segmentation model."
   ]
  },
  {
   "cell_type": "markdown",
   "id": "ddc3489f",
   "metadata": {},
   "source": [
    "# Imports"
   ]
  },
  {
   "cell_type": "code",
   "execution_count": 50,
   "id": "989fd6b2",
   "metadata": {
    "ExecuteTime": {
     "end_time": "2023-05-16T20:39:06.518631Z",
     "start_time": "2023-05-16T20:39:06.503634Z"
    }
   },
   "outputs": [],
   "source": [
    "import re\n",
    "import inflection\n",
    "import pandas            as pd\n",
    "import seaborn           as sns\n",
    "import datetime          as dt\n",
    "from matplotlib  import pyplot as plt\n",
    "\n",
    "from sklearn import cluster as c\n",
    "from sklearn import metrics as m\n",
    "from yellowbrick.cluster import KElbowVisualizer, SilhouetteVisualizer"
   ]
  },
  {
   "cell_type": "markdown",
   "id": "bf115ad3",
   "metadata": {},
   "source": [
    "## Helper Functions"
   ]
  },
  {
   "cell_type": "code",
   "execution_count": 2,
   "id": "705d026b",
   "metadata": {
    "ExecuteTime": {
     "end_time": "2023-05-16T19:55:26.720740Z",
     "start_time": "2023-05-16T19:55:26.710742Z"
    }
   },
   "outputs": [],
   "source": [
    "# Função para formatar notação científica\n",
    "pd.set_option('display.float_format', lambda x: '%.4f' % x)\n",
    "\n",
    "# Tamanho dos Graficos\n",
    "sns.set(style = \"darkgrid\")\n",
    "sns.set(rc={\"figure.figsize\":(15, 10)})\n",
    "#pd.options.display.float_format = \"{:,.2f}\".format\n"
   ]
  },
  {
   "cell_type": "markdown",
   "id": "74775086",
   "metadata": {},
   "source": [
    "## Load Data"
   ]
  },
  {
   "cell_type": "code",
   "execution_count": 3,
   "id": "5a0ec561",
   "metadata": {
    "ExecuteTime": {
     "end_time": "2023-05-16T19:55:27.593202Z",
     "start_time": "2023-05-16T19:55:26.725012Z"
    }
   },
   "outputs": [],
   "source": [
    "df_raw = pd.read_csv('data/ecommerce.csv',encoding='unicode_escape')"
   ]
  },
  {
   "cell_type": "code",
   "execution_count": 4,
   "id": "1423b465",
   "metadata": {
    "ExecuteTime": {
     "end_time": "2023-05-16T19:55:27.653264Z",
     "start_time": "2023-05-16T19:55:27.597386Z"
    }
   },
   "outputs": [],
   "source": [
    "df_raw = df_raw.drop('Unnamed: 8', axis=1)"
   ]
  },
  {
   "cell_type": "markdown",
   "id": "75169820",
   "metadata": {
    "heading_collapsed": true
   },
   "source": [
    "# Data Description"
   ]
  },
  {
   "cell_type": "code",
   "execution_count": 5,
   "id": "6623cba6",
   "metadata": {
    "ExecuteTime": {
     "end_time": "2023-05-16T19:55:27.761703Z",
     "start_time": "2023-05-16T19:55:27.655157Z"
    },
    "hidden": true
   },
   "outputs": [],
   "source": [
    "df1 = df_raw.copy()"
   ]
  },
  {
   "cell_type": "markdown",
   "id": "55547185",
   "metadata": {
    "hidden": true
   },
   "source": [
    "## Rename Columns"
   ]
  },
  {
   "cell_type": "code",
   "execution_count": 6,
   "id": "ee019bcb",
   "metadata": {
    "ExecuteTime": {
     "end_time": "2023-05-16T19:55:27.901056Z",
     "start_time": "2023-05-16T19:55:27.765324Z"
    },
    "hidden": true
   },
   "outputs": [],
   "source": [
    "#Renomear as colunas do dataset microdados\n",
    "cols_old = list(df1)\n",
    "\n",
    "\n",
    "#Função para renomear colunas\n",
    "\n",
    "snakecase = lambda x: inflection.underscore(x)\n",
    "\n",
    "cols_new = list( map( snakecase, cols_old) )\n",
    "\n",
    "#Rename\n",
    "df1.columns = cols_new"
   ]
  },
  {
   "cell_type": "markdown",
   "id": "790d400a",
   "metadata": {
    "ExecuteTime": {
     "end_time": "2023-05-16T13:42:02.719373Z",
     "start_time": "2023-05-16T13:42:02.707376Z"
    },
    "hidden": true
   },
   "source": [
    "## Data Dimensions"
   ]
  },
  {
   "cell_type": "code",
   "execution_count": 7,
   "id": "3cc0d555",
   "metadata": {
    "ExecuteTime": {
     "end_time": "2023-05-16T19:55:27.993177Z",
     "start_time": "2023-05-16T19:55:27.903996Z"
    },
    "hidden": true
   },
   "outputs": [
    {
     "name": "stdout",
     "output_type": "stream",
     "text": [
      "Number of rows: 541909\n",
      "Number of columns: 8\n"
     ]
    }
   ],
   "source": [
    "print(f'Number of rows: {df1.shape[0]}')\n",
    "print(f'Number of columns: {df1.shape[1]}')"
   ]
  },
  {
   "cell_type": "markdown",
   "id": "67d9b09f",
   "metadata": {
    "hidden": true
   },
   "source": [
    "## Data Dtypes"
   ]
  },
  {
   "cell_type": "code",
   "execution_count": 8,
   "id": "18120a33",
   "metadata": {
    "ExecuteTime": {
     "end_time": "2023-05-16T19:55:28.101742Z",
     "start_time": "2023-05-16T19:55:27.998176Z"
    },
    "hidden": true
   },
   "outputs": [
    {
     "data": {
      "text/plain": [
       "invoice_no       object\n",
       "stock_code       object\n",
       "description      object\n",
       "quantity          int64\n",
       "invoice_date     object\n",
       "unit_price      float64\n",
       "customer_id     float64\n",
       "country          object\n",
       "dtype: object"
      ]
     },
     "execution_count": 8,
     "metadata": {},
     "output_type": "execute_result"
    }
   ],
   "source": [
    "df1.dtypes"
   ]
  },
  {
   "cell_type": "markdown",
   "id": "d75af7de",
   "metadata": {
    "hidden": true
   },
   "source": [
    "## Check NA"
   ]
  },
  {
   "cell_type": "code",
   "execution_count": 9,
   "id": "a2e00ffa",
   "metadata": {
    "ExecuteTime": {
     "end_time": "2023-05-16T19:55:28.525456Z",
     "start_time": "2023-05-16T19:55:28.107878Z"
    },
    "hidden": true
   },
   "outputs": [
    {
     "data": {
      "text/plain": [
       "invoice_no           0\n",
       "stock_code           0\n",
       "description       1454\n",
       "quantity             0\n",
       "invoice_date         0\n",
       "unit_price           0\n",
       "customer_id     135080\n",
       "country              0\n",
       "dtype: int64"
      ]
     },
     "execution_count": 9,
     "metadata": {},
     "output_type": "execute_result"
    }
   ],
   "source": [
    "df1.isna().sum()"
   ]
  },
  {
   "cell_type": "markdown",
   "id": "b0d3417d",
   "metadata": {
    "hidden": true
   },
   "source": [
    "## Drop NA"
   ]
  },
  {
   "cell_type": "code",
   "execution_count": 10,
   "id": "2a7fe861",
   "metadata": {
    "ExecuteTime": {
     "end_time": "2023-05-16T19:55:29.049202Z",
     "start_time": "2023-05-16T19:55:28.531381Z"
    },
    "hidden": true
   },
   "outputs": [],
   "source": [
    "df1 = df1.dropna()"
   ]
  },
  {
   "cell_type": "markdown",
   "id": "934c939b",
   "metadata": {
    "ExecuteTime": {
     "end_time": "2023-05-16T13:44:17.738637Z",
     "start_time": "2023-05-16T13:44:17.467791Z"
    },
    "hidden": true
   },
   "source": [
    "The most NA values are in the customer_id column. \n",
    "In this first step, I decided to exclude the NA values, as it isn't possible to fill in these values without further information."
   ]
  },
  {
   "cell_type": "markdown",
   "id": "71ff1dc4",
   "metadata": {
    "hidden": true
   },
   "source": [
    "## Change dtypes"
   ]
  },
  {
   "cell_type": "code",
   "execution_count": 11,
   "id": "10e57102",
   "metadata": {
    "ExecuteTime": {
     "end_time": "2023-05-16T19:55:29.238049Z",
     "start_time": "2023-05-16T19:55:29.052375Z"
    },
    "hidden": true
   },
   "outputs": [
    {
     "data": {
      "text/plain": [
       "invoice_no              object\n",
       "stock_code              object\n",
       "description             object\n",
       "quantity                 int64\n",
       "invoice_date    datetime64[ns]\n",
       "unit_price             float64\n",
       "customer_id              int64\n",
       "country                 object\n",
       "dtype: object"
      ]
     },
     "execution_count": 11,
     "metadata": {},
     "output_type": "execute_result"
    }
   ],
   "source": [
    "# invoicedate\n",
    "df1['invoice_date'] = pd.to_datetime( df1['invoice_date'], format='%d-%b-%y')\n",
    "\n",
    "#customerid\n",
    "df1['customer_id'] = df1['customer_id'].astype('int64')\n",
    "df1.dtypes"
   ]
  },
  {
   "cell_type": "markdown",
   "id": "dea5199d",
   "metadata": {
    "hidden": true
   },
   "source": [
    "## Descriptive Statistics"
   ]
  },
  {
   "cell_type": "code",
   "execution_count": 12,
   "id": "e7d26756",
   "metadata": {
    "ExecuteTime": {
     "end_time": "2023-05-16T19:55:29.315112Z",
     "start_time": "2023-05-16T19:55:29.241006Z"
    },
    "hidden": true
   },
   "outputs": [],
   "source": [
    "num_attributes = df1.select_dtypes( include=['int64', 'float64'])\n",
    "cat_attributes = df1.select_dtypes( exclude=['int64', 'float64', 'datetime64[ns]'])"
   ]
  },
  {
   "cell_type": "markdown",
   "id": "2622d775",
   "metadata": {
    "hidden": true
   },
   "source": [
    "### Numerical Attributes"
   ]
  },
  {
   "cell_type": "code",
   "execution_count": 13,
   "id": "d11e1bfe",
   "metadata": {
    "ExecuteTime": {
     "end_time": "2023-05-16T19:55:29.522757Z",
     "start_time": "2023-05-16T19:55:29.317994Z"
    },
    "hidden": true
   },
   "outputs": [
    {
     "data": {
      "text/html": [
       "<div>\n",
       "<style scoped>\n",
       "    .dataframe tbody tr th:only-of-type {\n",
       "        vertical-align: middle;\n",
       "    }\n",
       "\n",
       "    .dataframe tbody tr th {\n",
       "        vertical-align: top;\n",
       "    }\n",
       "\n",
       "    .dataframe thead th {\n",
       "        text-align: right;\n",
       "    }\n",
       "</style>\n",
       "<table border=\"1\" class=\"dataframe\">\n",
       "  <thead>\n",
       "    <tr style=\"text-align: right;\">\n",
       "      <th></th>\n",
       "      <th>attributes</th>\n",
       "      <th>min</th>\n",
       "      <th>max</th>\n",
       "      <th>range</th>\n",
       "      <th>mean</th>\n",
       "      <th>median</th>\n",
       "      <th>std</th>\n",
       "      <th>skew</th>\n",
       "      <th>kurtosis</th>\n",
       "    </tr>\n",
       "  </thead>\n",
       "  <tbody>\n",
       "    <tr>\n",
       "      <th>0</th>\n",
       "      <td>quantity</td>\n",
       "      <td>-80995.0000</td>\n",
       "      <td>80995.0000</td>\n",
       "      <td>161990.0000</td>\n",
       "      <td>12.0613</td>\n",
       "      <td>5.0000</td>\n",
       "      <td>248.6931</td>\n",
       "      <td>0.1827</td>\n",
       "      <td>94317.5637</td>\n",
       "    </tr>\n",
       "    <tr>\n",
       "      <th>1</th>\n",
       "      <td>unit_price</td>\n",
       "      <td>0.0000</td>\n",
       "      <td>38970.0000</td>\n",
       "      <td>38970.0000</td>\n",
       "      <td>3.4605</td>\n",
       "      <td>1.9500</td>\n",
       "      <td>69.3151</td>\n",
       "      <td>452.2190</td>\n",
       "      <td>246924.5430</td>\n",
       "    </tr>\n",
       "    <tr>\n",
       "      <th>2</th>\n",
       "      <td>customer_id</td>\n",
       "      <td>12346.0000</td>\n",
       "      <td>18287.0000</td>\n",
       "      <td>5941.0000</td>\n",
       "      <td>15287.6906</td>\n",
       "      <td>15152.0000</td>\n",
       "      <td>1713.5982</td>\n",
       "      <td>0.0298</td>\n",
       "      <td>-1.1800</td>\n",
       "    </tr>\n",
       "  </tbody>\n",
       "</table>\n",
       "</div>"
      ],
      "text/plain": [
       "    attributes         min        max       range       mean     median  \\\n",
       "0     quantity -80995.0000 80995.0000 161990.0000    12.0613     5.0000   \n",
       "1   unit_price      0.0000 38970.0000  38970.0000     3.4605     1.9500   \n",
       "2  customer_id  12346.0000 18287.0000   5941.0000 15287.6906 15152.0000   \n",
       "\n",
       "        std     skew    kurtosis  \n",
       "0  248.6931   0.1827  94317.5637  \n",
       "1   69.3151 452.2190 246924.5430  \n",
       "2 1713.5982   0.0298     -1.1800  "
      ]
     },
     "execution_count": 13,
     "metadata": {},
     "output_type": "execute_result"
    }
   ],
   "source": [
    "#central tendency - mean, median, \n",
    "ct1 = pd.DataFrame(num_attributes.apply(np.mean) ).T\n",
    "ct2 = pd.DataFrame(num_attributes.apply(np.median)).T\n",
    "\n",
    "#Dispersion - std, \n",
    "d1 = pd.DataFrame(num_attributes.apply(np.std)).T\n",
    "d2 = pd.DataFrame(num_attributes.apply(np.min)).T\n",
    "d3 = pd.DataFrame(num_attributes.apply(np.max)).T\n",
    "d4 = pd.DataFrame(num_attributes.apply(lambda x: x.max() - x.min())).T\n",
    "d5 = pd.DataFrame(num_attributes.apply(lambda x: x.skew()) ).T\n",
    "d6 = pd.DataFrame(num_attributes.apply(lambda x: x.kurtosis()) ).T\n",
    "\n",
    "#Merge\n",
    "n = pd.concat([d2, d3, d4, ct1, ct2, d1, d5, d6]).T.reset_index()\n",
    "n.columns = ['attributes', 'min', 'max', 'range','mean', 'median', 'std','skew','kurtosis']\n",
    "n"
   ]
  },
  {
   "cell_type": "markdown",
   "id": "fde9507a",
   "metadata": {
    "hidden": true
   },
   "source": [
    "### Categorical Attributes"
   ]
  },
  {
   "cell_type": "code",
   "execution_count": 14,
   "id": "d61486b1",
   "metadata": {
    "ExecuteTime": {
     "end_time": "2023-05-16T19:55:29.998898Z",
     "start_time": "2023-05-16T19:55:29.527753Z"
    },
    "hidden": true
   },
   "outputs": [
    {
     "name": "stdout",
     "output_type": "stream",
     "text": [
      "total de invoices com letras: 8905\n",
      "total de invoices com valores negativos: 8905\n"
     ]
    }
   ],
   "source": [
    "# problem: The invoice has numbers and letters\n",
    "\n",
    "df_letter_invoices = df1.loc[df1['invoice_no'].apply( lambda x: bool( re.search( '[^0-9]+', x ) ) ), :]\n",
    "\n",
    "#Check if all invoices are letter\n",
    "print(f'total de invoices com letras: {len(df_letter_invoices)}')\n",
    "\n",
    "#Check if all invoices are negative\n",
    "print(f'total de invoices com valores negativos: {len(df_letter_invoices[ df_letter_invoices[\"quantity\"] < 0 ])}')"
   ]
  },
  {
   "cell_type": "markdown",
   "id": "f2f48011",
   "metadata": {
    "hidden": true
   },
   "source": [
    "### Stoke_code"
   ]
  },
  {
   "cell_type": "code",
   "execution_count": 15,
   "id": "001a8253",
   "metadata": {
    "ExecuteTime": {
     "end_time": "2023-05-16T19:55:30.853485Z",
     "start_time": "2023-05-16T19:55:30.004034Z"
    },
    "hidden": true
   },
   "outputs": [
    {
     "data": {
      "text/plain": [
       "array(['POST', 'D', 'M', 'PADS', 'DOT', 'CRUK'], dtype=object)"
      ]
     },
     "execution_count": 15,
     "metadata": {},
     "output_type": "execute_result"
    }
   ],
   "source": [
    "at_least_one_string = len(cat_attributes.loc[ cat_attributes['stock_code'].apply( lambda x: bool( re.search('[^0-9]+', x))), 'stock_code'].drop_duplicates())\n",
    "\n",
    "cat_attributes.loc[ cat_attributes['stock_code'].apply( lambda x:  bool( re.search( '^[a-zA-z]+$', x))),'stock_code'].unique()\n",
    "\n",
    "#Ação\n",
    "# Remover 'POST', 'D', 'DOT', 'M', 'S', 'AMAZONFEE', 'm', 'DCGSSBOY', 'DCGSSGIRL', 'PADS', 'B', 'CRUK'"
   ]
  },
  {
   "cell_type": "markdown",
   "id": "14970e1d",
   "metadata": {
    "hidden": true
   },
   "source": [
    "### Country"
   ]
  },
  {
   "cell_type": "code",
   "execution_count": 16,
   "id": "3eacd72e",
   "metadata": {
    "ExecuteTime": {
     "end_time": "2023-05-16T19:55:30.912628Z",
     "start_time": "2023-05-16T19:55:30.857481Z"
    },
    "hidden": true
   },
   "outputs": [
    {
     "data": {
      "text/plain": [
       "37"
      ]
     },
     "execution_count": 16,
     "metadata": {},
     "output_type": "execute_result"
    }
   ],
   "source": [
    "len(df1['country'].unique())"
   ]
  },
  {
   "cell_type": "code",
   "execution_count": 17,
   "id": "50174d3b",
   "metadata": {
    "ExecuteTime": {
     "end_time": "2023-05-16T19:55:31.020084Z",
     "start_time": "2023-05-16T19:55:30.918747Z"
    },
    "hidden": true
   },
   "outputs": [
    {
     "data": {
      "text/plain": [
       "United Kingdom         0.8895\n",
       "Germany                0.0233\n",
       "France                 0.0209\n",
       "EIRE                   0.0184\n",
       "Spain                  0.0062\n",
       "Netherlands            0.0058\n",
       "Belgium                0.0051\n",
       "Switzerland            0.0046\n",
       "Portugal               0.0036\n",
       "Australia              0.0031\n",
       "Norway                 0.0027\n",
       "Italy                  0.0020\n",
       "Channel Islands        0.0019\n",
       "Finland                0.0017\n",
       "Cyprus                 0.0015\n",
       "Sweden                 0.0011\n",
       "Austria                0.0010\n",
       "Denmark                0.0010\n",
       "Japan                  0.0009\n",
       "Poland                 0.0008\n",
       "USA                    0.0007\n",
       "Israel                 0.0006\n",
       "Unspecified            0.0006\n",
       "Singapore              0.0006\n",
       "Iceland                0.0004\n",
       "Canada                 0.0004\n",
       "Greece                 0.0004\n",
       "Malta                  0.0003\n",
       "United Arab Emirates   0.0002\n",
       "European Community     0.0001\n",
       "RSA                    0.0001\n",
       "Lebanon                0.0001\n",
       "Lithuania              0.0001\n",
       "Brazil                 0.0001\n",
       "Czech Republic         0.0001\n",
       "Bahrain                0.0000\n",
       "Saudi Arabia           0.0000\n",
       "Name: country, dtype: float64"
      ]
     },
     "execution_count": 17,
     "metadata": {},
     "output_type": "execute_result"
    }
   ],
   "source": [
    "# country x purchases\n",
    "df1['country'].value_counts(normalize=True)"
   ]
  },
  {
   "cell_type": "markdown",
   "id": "1aeab951",
   "metadata": {
    "heading_collapsed": true
   },
   "source": [
    "# Filtering Variable"
   ]
  },
  {
   "cell_type": "code",
   "execution_count": 18,
   "id": "efcb6a95",
   "metadata": {
    "ExecuteTime": {
     "end_time": "2023-05-16T19:55:31.144096Z",
     "start_time": "2023-05-16T19:55:31.023193Z"
    },
    "hidden": true
   },
   "outputs": [],
   "source": [
    "df2 = df1.copy()"
   ]
  },
  {
   "cell_type": "markdown",
   "id": "1501dbc6",
   "metadata": {
    "heading_collapsed": true
   },
   "source": [
    "# Feature Engeneering"
   ]
  },
  {
   "cell_type": "code",
   "execution_count": 19,
   "id": "bbc83295",
   "metadata": {
    "ExecuteTime": {
     "end_time": "2023-05-16T19:55:31.283459Z",
     "start_time": "2023-05-16T19:55:31.148947Z"
    },
    "hidden": true
   },
   "outputs": [],
   "source": [
    "df3 = df2.copy()"
   ]
  },
  {
   "cell_type": "code",
   "execution_count": 20,
   "id": "b8bfad89",
   "metadata": {
    "ExecuteTime": {
     "end_time": "2023-05-16T19:55:31.400838Z",
     "start_time": "2023-05-16T19:55:31.286477Z"
    },
    "hidden": true
   },
   "outputs": [],
   "source": [
    "  \n",
    "#create the referente table with uniques customer_id (and reset index)\n",
    "df_ref = df3.drop(['invoice_no', 'stock_code', 'description', 'quantity', 'invoice_date',\n",
    "       'unit_price', 'country'], axis=1).drop_duplicates(ignore_index=True).copy()"
   ]
  },
  {
   "cell_type": "markdown",
   "id": "3b4cfea6",
   "metadata": {
    "hidden": true
   },
   "source": [
    "**Let's to create the RFM Features**"
   ]
  },
  {
   "cell_type": "markdown",
   "id": "84ca9b6e",
   "metadata": {
    "hidden": true
   },
   "source": [
    "## Monetary"
   ]
  },
  {
   "cell_type": "code",
   "execution_count": 21,
   "id": "804bf381",
   "metadata": {
    "ExecuteTime": {
     "end_time": "2023-05-16T19:55:31.540570Z",
     "start_time": "2023-05-16T19:55:31.403782Z"
    },
    "hidden": true
   },
   "outputs": [
    {
     "data": {
      "text/html": [
       "<div>\n",
       "<style scoped>\n",
       "    .dataframe tbody tr th:only-of-type {\n",
       "        vertical-align: middle;\n",
       "    }\n",
       "\n",
       "    .dataframe tbody tr th {\n",
       "        vertical-align: top;\n",
       "    }\n",
       "\n",
       "    .dataframe thead th {\n",
       "        text-align: right;\n",
       "    }\n",
       "</style>\n",
       "<table border=\"1\" class=\"dataframe\">\n",
       "  <thead>\n",
       "    <tr style=\"text-align: right;\">\n",
       "      <th></th>\n",
       "      <th>invoice_no</th>\n",
       "      <th>stock_code</th>\n",
       "      <th>description</th>\n",
       "      <th>quantity</th>\n",
       "      <th>invoice_date</th>\n",
       "      <th>unit_price</th>\n",
       "      <th>customer_id</th>\n",
       "      <th>country</th>\n",
       "      <th>monetary</th>\n",
       "    </tr>\n",
       "  </thead>\n",
       "  <tbody>\n",
       "    <tr>\n",
       "      <th>538842</th>\n",
       "      <td>581418</td>\n",
       "      <td>23153</td>\n",
       "      <td>ZINC SWEETHEART WIRE LETTER RACK</td>\n",
       "      <td>4</td>\n",
       "      <td>2017-12-06</td>\n",
       "      <td>3.7500</td>\n",
       "      <td>17451</td>\n",
       "      <td>United Kingdom</td>\n",
       "      <td>15.0000</td>\n",
       "    </tr>\n",
       "    <tr>\n",
       "      <th>85169</th>\n",
       "      <td>543466</td>\n",
       "      <td>71053</td>\n",
       "      <td>WHITE METAL LANTERN</td>\n",
       "      <td>6</td>\n",
       "      <td>2017-02-06</td>\n",
       "      <td>3.7500</td>\n",
       "      <td>16713</td>\n",
       "      <td>United Kingdom</td>\n",
       "      <td>22.5000</td>\n",
       "    </tr>\n",
       "  </tbody>\n",
       "</table>\n",
       "</div>"
      ],
      "text/plain": [
       "       invoice_no stock_code                       description  quantity  \\\n",
       "538842     581418      23153  ZINC SWEETHEART WIRE LETTER RACK         4   \n",
       "85169      543466      71053               WHITE METAL LANTERN         6   \n",
       "\n",
       "       invoice_date  unit_price  customer_id         country  monetary  \n",
       "538842   2017-12-06      3.7500        17451  United Kingdom   15.0000  \n",
       "85169    2017-02-06      3.7500        16713  United Kingdom   22.5000  "
      ]
     },
     "execution_count": 21,
     "metadata": {},
     "output_type": "execute_result"
    }
   ],
   "source": [
    "# Gross Revenue: (quantity * price of each purchase)\n",
    "df3['monetary'] = df3['quantity'] * df3['unit_price']\n",
    "df3.sample(2)"
   ]
  },
  {
   "cell_type": "code",
   "execution_count": 22,
   "id": "fcb26989",
   "metadata": {
    "ExecuteTime": {
     "end_time": "2023-05-16T19:55:31.650364Z",
     "start_time": "2023-05-16T19:55:31.544534Z"
    },
    "hidden": true
   },
   "outputs": [
    {
     "data": {
      "text/html": [
       "<div>\n",
       "<style scoped>\n",
       "    .dataframe tbody tr th:only-of-type {\n",
       "        vertical-align: middle;\n",
       "    }\n",
       "\n",
       "    .dataframe tbody tr th {\n",
       "        vertical-align: top;\n",
       "    }\n",
       "\n",
       "    .dataframe thead th {\n",
       "        text-align: right;\n",
       "    }\n",
       "</style>\n",
       "<table border=\"1\" class=\"dataframe\">\n",
       "  <thead>\n",
       "    <tr style=\"text-align: right;\">\n",
       "      <th></th>\n",
       "      <th>customer_id</th>\n",
       "      <th>monetary</th>\n",
       "    </tr>\n",
       "  </thead>\n",
       "  <tbody>\n",
       "    <tr>\n",
       "      <th>0</th>\n",
       "      <td>12346</td>\n",
       "      <td>0.0000</td>\n",
       "    </tr>\n",
       "    <tr>\n",
       "      <th>1</th>\n",
       "      <td>12347</td>\n",
       "      <td>4310.0000</td>\n",
       "    </tr>\n",
       "    <tr>\n",
       "      <th>2</th>\n",
       "      <td>12348</td>\n",
       "      <td>1797.2400</td>\n",
       "    </tr>\n",
       "    <tr>\n",
       "      <th>3</th>\n",
       "      <td>12349</td>\n",
       "      <td>1757.5500</td>\n",
       "    </tr>\n",
       "    <tr>\n",
       "      <th>4</th>\n",
       "      <td>12350</td>\n",
       "      <td>334.4000</td>\n",
       "    </tr>\n",
       "  </tbody>\n",
       "</table>\n",
       "</div>"
      ],
      "text/plain": [
       "   customer_id  monetary\n",
       "0        12346    0.0000\n",
       "1        12347 4310.0000\n",
       "2        12348 1797.2400\n",
       "3        12349 1757.5500\n",
       "4        12350  334.4000"
      ]
     },
     "execution_count": 22,
     "metadata": {},
     "output_type": "execute_result"
    }
   ],
   "source": [
    "# df_monetary = gorss_revenue by customer\n",
    "df_monetary = df3[['customer_id','monetary']].groupby('customer_id').sum().reset_index()\n",
    "df_monetary.head()"
   ]
  },
  {
   "cell_type": "code",
   "execution_count": 23,
   "id": "ee745e62",
   "metadata": {
    "ExecuteTime": {
     "end_time": "2023-05-16T19:55:31.760215Z",
     "start_time": "2023-05-16T19:55:31.653412Z"
    },
    "hidden": true
   },
   "outputs": [
    {
     "data": {
      "text/plain": [
       "customer_id    0\n",
       "monetary       0\n",
       "dtype: int64"
      ]
     },
     "execution_count": 23,
     "metadata": {},
     "output_type": "execute_result"
    }
   ],
   "source": [
    "#merge df_ref + df_monetary\n",
    "df_ref = pd.merge( df_ref, df_monetary, on='customer_id', how='left' )\n",
    "\n",
    "df_ref.isna().sum()"
   ]
  },
  {
   "cell_type": "markdown",
   "id": "ab4e2b4a",
   "metadata": {
    "hidden": true
   },
   "source": [
    "## Recency"
   ]
  },
  {
   "cell_type": "code",
   "execution_count": 24,
   "id": "2b5a3f8a",
   "metadata": {
    "ExecuteTime": {
     "end_time": "2023-05-16T19:55:31.898517Z",
     "start_time": "2023-05-16T19:55:31.765381Z"
    },
    "hidden": true
   },
   "outputs": [
    {
     "data": {
      "text/html": [
       "<div>\n",
       "<style scoped>\n",
       "    .dataframe tbody tr th:only-of-type {\n",
       "        vertical-align: middle;\n",
       "    }\n",
       "\n",
       "    .dataframe tbody tr th {\n",
       "        vertical-align: top;\n",
       "    }\n",
       "\n",
       "    .dataframe thead th {\n",
       "        text-align: right;\n",
       "    }\n",
       "</style>\n",
       "<table border=\"1\" class=\"dataframe\">\n",
       "  <thead>\n",
       "    <tr style=\"text-align: right;\">\n",
       "      <th></th>\n",
       "      <th>customer_id</th>\n",
       "      <th>invoice_date</th>\n",
       "    </tr>\n",
       "  </thead>\n",
       "  <tbody>\n",
       "    <tr>\n",
       "      <th>0</th>\n",
       "      <td>12346</td>\n",
       "      <td>2017-01-16</td>\n",
       "    </tr>\n",
       "    <tr>\n",
       "      <th>1</th>\n",
       "      <td>12347</td>\n",
       "      <td>2017-12-05</td>\n",
       "    </tr>\n",
       "    <tr>\n",
       "      <th>2</th>\n",
       "      <td>12348</td>\n",
       "      <td>2017-09-23</td>\n",
       "    </tr>\n",
       "    <tr>\n",
       "      <th>3</th>\n",
       "      <td>12349</td>\n",
       "      <td>2017-11-19</td>\n",
       "    </tr>\n",
       "    <tr>\n",
       "      <th>4</th>\n",
       "      <td>12350</td>\n",
       "      <td>2017-01-31</td>\n",
       "    </tr>\n",
       "  </tbody>\n",
       "</table>\n",
       "</div>"
      ],
      "text/plain": [
       "   customer_id invoice_date\n",
       "0        12346   2017-01-16\n",
       "1        12347   2017-12-05\n",
       "2        12348   2017-09-23\n",
       "3        12349   2017-11-19\n",
       "4        12350   2017-01-31"
      ]
     },
     "execution_count": 24,
     "metadata": {},
     "output_type": "execute_result"
    }
   ],
   "source": [
    "# Recency: number of days since last purchase\n",
    "# get each customer's last day of purchase \n",
    "df_recency = df3[['customer_id','invoice_date']].groupby('customer_id').max().reset_index()\n",
    "df_recency.head()"
   ]
  },
  {
   "cell_type": "code",
   "execution_count": 25,
   "id": "1cbef048",
   "metadata": {
    "ExecuteTime": {
     "end_time": "2023-05-16T19:55:32.008348Z",
     "start_time": "2023-05-16T19:55:31.902516Z"
    },
    "hidden": true
   },
   "outputs": [],
   "source": [
    "#'2017-12-07' is the last day with purchases on this dataset. \n",
    "# Let's assume '2017-12-07' is today, avoiding big distortions. Using updated dataset, last purchase would be recent (dataset is 4y/o +).\n",
    "# In real cases, this variable would be dt.date.today(), and could be updated daily.\n",
    "today = df3['invoice_date'].max()\n",
    "\n",
    "#Calculate number of days since last purchase\n",
    "#\"today\" (being '2017-12-07') - invoice_date (last day of purchase of each customer)\n",
    "df_recency['recency_days'] = (df3['invoice_date'].max() - df_recency['invoice_date']).dt.days"
   ]
  },
  {
   "cell_type": "code",
   "execution_count": 26,
   "id": "211cf72c",
   "metadata": {
    "ExecuteTime": {
     "end_time": "2023-05-16T19:55:32.132325Z",
     "start_time": "2023-05-16T19:55:32.012184Z"
    },
    "hidden": true
   },
   "outputs": [
    {
     "data": {
      "text/plain": [
       "Timestamp('2017-12-07 00:00:00')"
      ]
     },
     "execution_count": 26,
     "metadata": {},
     "output_type": "execute_result"
    }
   ],
   "source": [
    "#check recency days (2017-12-07 -> 2017-01-16) = 325 days\n",
    "df3['invoice_date'].max()"
   ]
  },
  {
   "cell_type": "code",
   "execution_count": 27,
   "id": "be26011e",
   "metadata": {
    "ExecuteTime": {
     "end_time": "2023-05-16T19:55:32.255010Z",
     "start_time": "2023-05-16T19:55:32.135690Z"
    },
    "hidden": true
   },
   "outputs": [
    {
     "data": {
      "text/plain": [
       "customer_id     0\n",
       "monetary        0\n",
       "recency_days    0\n",
       "dtype: int64"
      ]
     },
     "execution_count": 27,
     "metadata": {},
     "output_type": "execute_result"
    }
   ],
   "source": [
    "#drop invoice_date (max purchase date) from df_recency\n",
    "df_recency = df_recency[['customer_id', 'recency_days']].copy()\n",
    "# merge df_recency w/ df_ref\n",
    "\n",
    "df_ref = pd.merge( df_ref, df_recency, on='customer_id', how='left' )\n",
    "#check NA\n",
    "df_ref.isna().sum()"
   ]
  },
  {
   "cell_type": "markdown",
   "id": "d4a29e14",
   "metadata": {
    "hidden": true
   },
   "source": [
    "## Frequency"
   ]
  },
  {
   "cell_type": "code",
   "execution_count": 28,
   "id": "5c5e67d0",
   "metadata": {
    "ExecuteTime": {
     "end_time": "2023-05-16T19:55:32.363253Z",
     "start_time": "2023-05-16T19:55:32.268214Z"
    },
    "hidden": true
   },
   "outputs": [
    {
     "data": {
      "text/html": [
       "<div>\n",
       "<style scoped>\n",
       "    .dataframe tbody tr th:only-of-type {\n",
       "        vertical-align: middle;\n",
       "    }\n",
       "\n",
       "    .dataframe tbody tr th {\n",
       "        vertical-align: top;\n",
       "    }\n",
       "\n",
       "    .dataframe thead th {\n",
       "        text-align: right;\n",
       "    }\n",
       "</style>\n",
       "<table border=\"1\" class=\"dataframe\">\n",
       "  <thead>\n",
       "    <tr style=\"text-align: right;\">\n",
       "      <th></th>\n",
       "      <th>customer_id</th>\n",
       "      <th>invoice_no</th>\n",
       "    </tr>\n",
       "  </thead>\n",
       "  <tbody>\n",
       "    <tr>\n",
       "      <th>0</th>\n",
       "      <td>17850</td>\n",
       "      <td>536365</td>\n",
       "    </tr>\n",
       "    <tr>\n",
       "      <th>1</th>\n",
       "      <td>17850</td>\n",
       "      <td>536365</td>\n",
       "    </tr>\n",
       "    <tr>\n",
       "      <th>2</th>\n",
       "      <td>17850</td>\n",
       "      <td>536365</td>\n",
       "    </tr>\n",
       "    <tr>\n",
       "      <th>3</th>\n",
       "      <td>17850</td>\n",
       "      <td>536365</td>\n",
       "    </tr>\n",
       "    <tr>\n",
       "      <th>4</th>\n",
       "      <td>17850</td>\n",
       "      <td>536365</td>\n",
       "    </tr>\n",
       "    <tr>\n",
       "      <th>5</th>\n",
       "      <td>17850</td>\n",
       "      <td>536365</td>\n",
       "    </tr>\n",
       "    <tr>\n",
       "      <th>6</th>\n",
       "      <td>17850</td>\n",
       "      <td>536365</td>\n",
       "    </tr>\n",
       "    <tr>\n",
       "      <th>7</th>\n",
       "      <td>17850</td>\n",
       "      <td>536366</td>\n",
       "    </tr>\n",
       "    <tr>\n",
       "      <th>8</th>\n",
       "      <td>17850</td>\n",
       "      <td>536366</td>\n",
       "    </tr>\n",
       "    <tr>\n",
       "      <th>9</th>\n",
       "      <td>13047</td>\n",
       "      <td>536367</td>\n",
       "    </tr>\n",
       "  </tbody>\n",
       "</table>\n",
       "</div>"
      ],
      "text/plain": [
       "   customer_id invoice_no\n",
       "0        17850     536365\n",
       "1        17850     536365\n",
       "2        17850     536365\n",
       "3        17850     536365\n",
       "4        17850     536365\n",
       "5        17850     536365\n",
       "6        17850     536365\n",
       "7        17850     536366\n",
       "8        17850     536366\n",
       "9        13047     536367"
      ]
     },
     "execution_count": 28,
     "metadata": {},
     "output_type": "execute_result"
    }
   ],
   "source": [
    "#check customer_id and invoice_no\n",
    "#there are many duplicated invoices per customer\n",
    "df3[['customer_id','invoice_no']].head(10)"
   ]
  },
  {
   "cell_type": "code",
   "execution_count": 29,
   "id": "75994912",
   "metadata": {
    "ExecuteTime": {
     "end_time": "2023-05-16T19:55:32.550625Z",
     "start_time": "2023-05-16T19:55:32.366218Z"
    },
    "hidden": true
   },
   "outputs": [
    {
     "data": {
      "text/html": [
       "<div>\n",
       "<style scoped>\n",
       "    .dataframe tbody tr th:only-of-type {\n",
       "        vertical-align: middle;\n",
       "    }\n",
       "\n",
       "    .dataframe tbody tr th {\n",
       "        vertical-align: top;\n",
       "    }\n",
       "\n",
       "    .dataframe thead th {\n",
       "        text-align: right;\n",
       "    }\n",
       "</style>\n",
       "<table border=\"1\" class=\"dataframe\">\n",
       "  <thead>\n",
       "    <tr style=\"text-align: right;\">\n",
       "      <th></th>\n",
       "      <th>customer_id</th>\n",
       "      <th>invoice_no</th>\n",
       "    </tr>\n",
       "  </thead>\n",
       "  <tbody>\n",
       "    <tr>\n",
       "      <th>0</th>\n",
       "      <td>12346</td>\n",
       "      <td>2</td>\n",
       "    </tr>\n",
       "    <tr>\n",
       "      <th>1</th>\n",
       "      <td>12347</td>\n",
       "      <td>7</td>\n",
       "    </tr>\n",
       "    <tr>\n",
       "      <th>2</th>\n",
       "      <td>12348</td>\n",
       "      <td>4</td>\n",
       "    </tr>\n",
       "    <tr>\n",
       "      <th>3</th>\n",
       "      <td>12349</td>\n",
       "      <td>1</td>\n",
       "    </tr>\n",
       "    <tr>\n",
       "      <th>4</th>\n",
       "      <td>12350</td>\n",
       "      <td>1</td>\n",
       "    </tr>\n",
       "  </tbody>\n",
       "</table>\n",
       "</div>"
      ],
      "text/plain": [
       "   customer_id  invoice_no\n",
       "0        12346           2\n",
       "1        12347           7\n",
       "2        12348           4\n",
       "3        12349           1\n",
       "4        12350           1"
      ]
     },
     "execution_count": 29,
     "metadata": {},
     "output_type": "execute_result"
    }
   ],
   "source": [
    "#create new dataset with customer_id and invoice_no\n",
    "#drop duplicates() to get count just one duplicate per customer\n",
    "df_freq = df3[['customer_id','invoice_no']].drop_duplicates().groupby('customer_id').count().reset_index()\n",
    "df_freq.head()"
   ]
  },
  {
   "cell_type": "code",
   "execution_count": 30,
   "id": "a952ab44",
   "metadata": {
    "ExecuteTime": {
     "end_time": "2023-05-16T19:55:32.597045Z",
     "start_time": "2023-05-16T19:55:32.554445Z"
    },
    "hidden": true
   },
   "outputs": [
    {
     "data": {
      "text/html": [
       "<div>\n",
       "<style scoped>\n",
       "    .dataframe tbody tr th:only-of-type {\n",
       "        vertical-align: middle;\n",
       "    }\n",
       "\n",
       "    .dataframe tbody tr th {\n",
       "        vertical-align: top;\n",
       "    }\n",
       "\n",
       "    .dataframe thead th {\n",
       "        text-align: right;\n",
       "    }\n",
       "</style>\n",
       "<table border=\"1\" class=\"dataframe\">\n",
       "  <thead>\n",
       "    <tr style=\"text-align: right;\">\n",
       "      <th></th>\n",
       "      <th>customer_id</th>\n",
       "      <th>monetary</th>\n",
       "      <th>recency_days</th>\n",
       "      <th>invoice_no</th>\n",
       "    </tr>\n",
       "  </thead>\n",
       "  <tbody>\n",
       "    <tr>\n",
       "      <th>0</th>\n",
       "      <td>17850</td>\n",
       "      <td>5288.6300</td>\n",
       "      <td>302</td>\n",
       "      <td>35</td>\n",
       "    </tr>\n",
       "    <tr>\n",
       "      <th>1</th>\n",
       "      <td>13047</td>\n",
       "      <td>3079.1000</td>\n",
       "      <td>31</td>\n",
       "      <td>18</td>\n",
       "    </tr>\n",
       "    <tr>\n",
       "      <th>2</th>\n",
       "      <td>12583</td>\n",
       "      <td>7187.3400</td>\n",
       "      <td>2</td>\n",
       "      <td>18</td>\n",
       "    </tr>\n",
       "    <tr>\n",
       "      <th>3</th>\n",
       "      <td>13748</td>\n",
       "      <td>948.2500</td>\n",
       "      <td>95</td>\n",
       "      <td>5</td>\n",
       "    </tr>\n",
       "    <tr>\n",
       "      <th>4</th>\n",
       "      <td>15100</td>\n",
       "      <td>635.1000</td>\n",
       "      <td>330</td>\n",
       "      <td>6</td>\n",
       "    </tr>\n",
       "  </tbody>\n",
       "</table>\n",
       "</div>"
      ],
      "text/plain": [
       "   customer_id  monetary  recency_days  invoice_no\n",
       "0        17850 5288.6300           302          35\n",
       "1        13047 3079.1000            31          18\n",
       "2        12583 7187.3400             2          18\n",
       "3        13748  948.2500            95           5\n",
       "4        15100  635.1000           330           6"
      ]
     },
     "execution_count": 30,
     "metadata": {},
     "output_type": "execute_result"
    }
   ],
   "source": [
    "df_ref = pd.merge( df_ref, df_freq, on='customer_id', how='left')\n",
    "df_ref.head()"
   ]
  },
  {
   "cell_type": "code",
   "execution_count": 31,
   "id": "25a816a9",
   "metadata": {
    "ExecuteTime": {
     "end_time": "2023-05-16T19:55:32.706249Z",
     "start_time": "2023-05-16T19:55:32.603048Z"
    },
    "hidden": true
   },
   "outputs": [
    {
     "data": {
      "text/plain": [
       "customer_id     0\n",
       "monetary        0\n",
       "recency_days    0\n",
       "invoice_no      0\n",
       "dtype: int64"
      ]
     },
     "execution_count": 31,
     "metadata": {},
     "output_type": "execute_result"
    }
   ],
   "source": [
    "#check NAs\n",
    "df_ref.isna().sum()"
   ]
  },
  {
   "cell_type": "markdown",
   "id": "344d721d",
   "metadata": {
    "heading_collapsed": true
   },
   "source": [
    "# EDA"
   ]
  },
  {
   "cell_type": "code",
   "execution_count": 32,
   "id": "0622ff5f",
   "metadata": {
    "ExecuteTime": {
     "end_time": "2023-05-16T19:55:32.828526Z",
     "start_time": "2023-05-16T19:55:32.712251Z"
    },
    "hidden": true
   },
   "outputs": [],
   "source": [
    "df4 = df_ref.copy()"
   ]
  },
  {
   "cell_type": "markdown",
   "id": "498cac9f",
   "metadata": {
    "hidden": true
   },
   "source": [
    "## Estudo do Espaco"
   ]
  },
  {
   "cell_type": "markdown",
   "id": "dda6adbd",
   "metadata": {},
   "source": [
    "# Data Preparation"
   ]
  },
  {
   "cell_type": "code",
   "execution_count": 33,
   "id": "e1c664c8",
   "metadata": {
    "ExecuteTime": {
     "end_time": "2023-05-16T19:55:32.937299Z",
     "start_time": "2023-05-16T19:55:32.832446Z"
    }
   },
   "outputs": [],
   "source": [
    "df5 = df4.copy()"
   ]
  },
  {
   "cell_type": "markdown",
   "id": "2baea053",
   "metadata": {},
   "source": [
    "# Feature Selection"
   ]
  },
  {
   "cell_type": "code",
   "execution_count": 34,
   "id": "8eaa9e58",
   "metadata": {
    "ExecuteTime": {
     "end_time": "2023-05-16T19:55:33.045822Z",
     "start_time": "2023-05-16T19:55:32.941297Z"
    }
   },
   "outputs": [],
   "source": [
    "#pass by now\n",
    "df6 = df5.copy()"
   ]
  },
  {
   "cell_type": "markdown",
   "id": "8fb6c5bf",
   "metadata": {},
   "source": [
    "# Hyper Parameter Fine-Tuning"
   ]
  },
  {
   "cell_type": "code",
   "execution_count": 35,
   "id": "eba3bf5b",
   "metadata": {
    "ExecuteTime": {
     "end_time": "2023-05-16T19:55:33.294014Z",
     "start_time": "2023-05-16T19:55:33.050825Z"
    }
   },
   "outputs": [
    {
     "data": {
      "text/html": [
       "<div>\n",
       "<style scoped>\n",
       "    .dataframe tbody tr th:only-of-type {\n",
       "        vertical-align: middle;\n",
       "    }\n",
       "\n",
       "    .dataframe tbody tr th {\n",
       "        vertical-align: top;\n",
       "    }\n",
       "\n",
       "    .dataframe thead th {\n",
       "        text-align: right;\n",
       "    }\n",
       "</style>\n",
       "<table border=\"1\" class=\"dataframe\">\n",
       "  <thead>\n",
       "    <tr style=\"text-align: right;\">\n",
       "      <th></th>\n",
       "      <th>monetary</th>\n",
       "      <th>recency_days</th>\n",
       "      <th>invoice_no</th>\n",
       "    </tr>\n",
       "  </thead>\n",
       "  <tbody>\n",
       "    <tr>\n",
       "      <th>0</th>\n",
       "      <td>5288.6300</td>\n",
       "      <td>302</td>\n",
       "      <td>35</td>\n",
       "    </tr>\n",
       "    <tr>\n",
       "      <th>1</th>\n",
       "      <td>3079.1000</td>\n",
       "      <td>31</td>\n",
       "      <td>18</td>\n",
       "    </tr>\n",
       "    <tr>\n",
       "      <th>2</th>\n",
       "      <td>7187.3400</td>\n",
       "      <td>2</td>\n",
       "      <td>18</td>\n",
       "    </tr>\n",
       "    <tr>\n",
       "      <th>3</th>\n",
       "      <td>948.2500</td>\n",
       "      <td>95</td>\n",
       "      <td>5</td>\n",
       "    </tr>\n",
       "    <tr>\n",
       "      <th>4</th>\n",
       "      <td>635.1000</td>\n",
       "      <td>330</td>\n",
       "      <td>6</td>\n",
       "    </tr>\n",
       "  </tbody>\n",
       "</table>\n",
       "</div>"
      ],
      "text/plain": [
       "   monetary  recency_days  invoice_no\n",
       "0 5288.6300           302          35\n",
       "1 3079.1000            31          18\n",
       "2 7187.3400             2          18\n",
       "3  948.2500            95           5\n",
       "4  635.1000           330           6"
      ]
     },
     "execution_count": 35,
     "metadata": {},
     "output_type": "execute_result"
    }
   ],
   "source": [
    "#drop customer_id\n",
    "X = df6.drop('customer_id', axis=1).copy()\n",
    "X.head()"
   ]
  },
  {
   "cell_type": "markdown",
   "id": "61f2352d",
   "metadata": {},
   "source": [
    "For a good clustering, we need clusters to have two properties:\n",
    "\n",
    "- Compactness: smallest possible distance between the points of the same cluster.\n",
    "- Separation: greatest possible distance between the points of different clusters.\n",
    "Let's use k-means with 2 metrics:\n",
    "\n",
    "1 - Within-Cluster Sum of Square (WSS) - calculates Compactness\n",
    " \n",
    "2 - Silhouette Score (SS) - calculates Compactness and Separation"
   ]
  },
  {
   "cell_type": "markdown",
   "id": "f6d47c13",
   "metadata": {},
   "source": [
    "## Whitin-Cluster Sum of Square (WSS)"
   ]
  },
  {
   "cell_type": "code",
   "execution_count": 36,
   "id": "4cd1cd3e",
   "metadata": {
    "ExecuteTime": {
     "end_time": "2023-05-16T20:33:11.932453Z",
     "start_time": "2023-05-16T20:33:11.915451Z"
    }
   },
   "outputs": [],
   "source": [
    "#define from 2 to 7 possible clusters\n",
    "clusters = [2, 3, 4, 5, 6,7]"
   ]
  },
  {
   "cell_type": "code",
   "execution_count": 42,
   "id": "1e89df62",
   "metadata": {
    "ExecuteTime": {
     "end_time": "2023-05-16T20:34:14.179569Z",
     "start_time": "2023-05-16T20:34:13.259292Z"
    }
   },
   "outputs": [],
   "source": [
    "wss = []\n",
    "for k in clusters:\n",
    "    #model definition\n",
    "    kmeans= c.KMeans(init='random', \n",
    "                     n_clusters=k, \n",
    "                     n_init=10, \n",
    "                     max_iter=300,\n",
    "                     random_state=42)\n",
    "    # model training\n",
    "    kmeans.fit(X)\n",
    "    \n",
    "    #Validation\n",
    "    wss.append(kmeans.inertia_)"
   ]
  },
  {
   "cell_type": "code",
   "execution_count": 47,
   "id": "3c4b3135",
   "metadata": {
    "ExecuteTime": {
     "end_time": "2023-05-16T20:38:19.722658Z",
     "start_time": "2023-05-16T20:38:18.184137Z"
    }
   },
   "outputs": [
    {
     "name": "stderr",
     "output_type": "stream",
     "text": [
      "C:\\Users\\PC\\projetos\\clusterizacao\\cluster\\lib\\site-packages\\sklearn\\cluster\\_kmeans.py:870: FutureWarning: The default value of `n_init` will change from 10 to 'auto' in 1.4. Set the value of `n_init` explicitly to suppress the warning\n",
      "  warnings.warn(\n",
      "C:\\Users\\PC\\projetos\\clusterizacao\\cluster\\lib\\site-packages\\sklearn\\cluster\\_kmeans.py:870: FutureWarning: The default value of `n_init` will change from 10 to 'auto' in 1.4. Set the value of `n_init` explicitly to suppress the warning\n",
      "  warnings.warn(\n",
      "C:\\Users\\PC\\projetos\\clusterizacao\\cluster\\lib\\site-packages\\sklearn\\cluster\\_kmeans.py:870: FutureWarning: The default value of `n_init` will change from 10 to 'auto' in 1.4. Set the value of `n_init` explicitly to suppress the warning\n",
      "  warnings.warn(\n",
      "C:\\Users\\PC\\projetos\\clusterizacao\\cluster\\lib\\site-packages\\sklearn\\cluster\\_kmeans.py:870: FutureWarning: The default value of `n_init` will change from 10 to 'auto' in 1.4. Set the value of `n_init` explicitly to suppress the warning\n",
      "  warnings.warn(\n",
      "C:\\Users\\PC\\projetos\\clusterizacao\\cluster\\lib\\site-packages\\sklearn\\cluster\\_kmeans.py:870: FutureWarning: The default value of `n_init` will change from 10 to 'auto' in 1.4. Set the value of `n_init` explicitly to suppress the warning\n",
      "  warnings.warn(\n",
      "C:\\Users\\PC\\projetos\\clusterizacao\\cluster\\lib\\site-packages\\sklearn\\cluster\\_kmeans.py:870: FutureWarning: The default value of `n_init` will change from 10 to 'auto' in 1.4. Set the value of `n_init` explicitly to suppress the warning\n",
      "  warnings.warn(\n"
     ]
    },
    {
     "data": {
      "image/png": "[encoded data removed]",
      "text/plain": [
       "<Figure size 800x550 with 1 Axes>"
      ]
     },
     "metadata": {},
     "output_type": "display_data"
    }
   ],
   "source": [
    "kmeans = KElbowVisualizer(c.KMeans(), k=clusters, timings=False )\n",
    "kmeans.fit(X)\n",
    "kmeans.show();"
   ]
  },
  {
   "cell_type": "markdown",
   "id": "41190624",
   "metadata": {},
   "source": [
    "- The smaller the WSS, the smaller the sum of the distances within the clusters, which means that the points are closer to their centroid, so the cluster is more compact!\n",
    "\n",
    "- even though with more cluster (4, 5 ou 6), we would have (a bit) more condensed clusters, the optimized number of cluster"
   ]
  },
  {
   "cell_type": "markdown",
   "id": "7eef416c",
   "metadata": {},
   "source": [
    "## Silhouette Score"
   ]
  },
  {
   "cell_type": "code",
   "execution_count": 48,
   "id": "6c222e6d",
   "metadata": {
    "ExecuteTime": {
     "end_time": "2023-05-16T20:38:27.837974Z",
     "start_time": "2023-05-16T20:38:23.749977Z"
    }
   },
   "outputs": [
    {
     "name": "stderr",
     "output_type": "stream",
     "text": [
      "C:\\Users\\PC\\projetos\\clusterizacao\\cluster\\lib\\site-packages\\sklearn\\cluster\\_kmeans.py:870: FutureWarning: The default value of `n_init` will change from 10 to 'auto' in 1.4. Set the value of `n_init` explicitly to suppress the warning\n",
      "  warnings.warn(\n",
      "C:\\Users\\PC\\projetos\\clusterizacao\\cluster\\lib\\site-packages\\sklearn\\cluster\\_kmeans.py:870: FutureWarning: The default value of `n_init` will change from 10 to 'auto' in 1.4. Set the value of `n_init` explicitly to suppress the warning\n",
      "  warnings.warn(\n",
      "C:\\Users\\PC\\projetos\\clusterizacao\\cluster\\lib\\site-packages\\sklearn\\cluster\\_kmeans.py:870: FutureWarning: The default value of `n_init` will change from 10 to 'auto' in 1.4. Set the value of `n_init` explicitly to suppress the warning\n",
      "  warnings.warn(\n",
      "C:\\Users\\PC\\projetos\\clusterizacao\\cluster\\lib\\site-packages\\sklearn\\cluster\\_kmeans.py:870: FutureWarning: The default value of `n_init` will change from 10 to 'auto' in 1.4. Set the value of `n_init` explicitly to suppress the warning\n",
      "  warnings.warn(\n",
      "C:\\Users\\PC\\projetos\\clusterizacao\\cluster\\lib\\site-packages\\sklearn\\cluster\\_kmeans.py:870: FutureWarning: The default value of `n_init` will change from 10 to 'auto' in 1.4. Set the value of `n_init` explicitly to suppress the warning\n",
      "  warnings.warn(\n",
      "C:\\Users\\PC\\projetos\\clusterizacao\\cluster\\lib\\site-packages\\sklearn\\cluster\\_kmeans.py:870: FutureWarning: The default value of `n_init` will change from 10 to 'auto' in 1.4. Set the value of `n_init` explicitly to suppress the warning\n",
      "  warnings.warn(\n"
     ]
    },
    {
     "data": {
      "image/png": "[encoded data removed]",
      "text/plain": [
       "<Figure size 800x550 with 1 Axes>"
      ]
     },
     "metadata": {},
     "output_type": "display_data"
    }
   ],
   "source": [
    "#calculate silhouette score also with yellowbrick library\n",
    "kmeans = KElbowVisualizer(c.KMeans(), k=clusters, metric='silhouette', timings=False )\n",
    "kmeans.fit(X)\n",
    "kmeans.show();"
   ]
  },
  {
   "cell_type": "markdown",
   "id": "69d6f358",
   "metadata": {},
   "source": [
    "Being SS=1 the best clustering result:\n",
    "\n",
    "- with 2 clusters, the result is 0.99 (awesome)\n",
    "- with 3 clusters, it is 0,96 (awesome)\n",
    "- with 4, or 5, we still have SS > 0.8, it's still very good!\n",
    "According to SS, the ideal cluster number is 2, but fur business porposes, it's interesting to have at least 3 groups or more."
   ]
  },
  {
   "cell_type": "markdown",
   "id": "74b16f8b",
   "metadata": {},
   "source": [
    "## Silhouette Analysis"
   ]
  },
  {
   "cell_type": "code",
   "execution_count": 51,
   "id": "08bd0157",
   "metadata": {
    "ExecuteTime": {
     "end_time": "2023-05-16T20:47:31.648091Z",
     "start_time": "2023-05-16T20:47:21.580367Z"
    }
   },
   "outputs": [
    {
     "data": {
      "image/png": "[encoded data removed]",
      "text/plain": [
       "<Figure size 2500x1800 with 6 Axes>"
      ]
     },
     "metadata": {},
     "output_type": "display_data"
    }
   ],
   "source": [
    "fig, ax = plt.subplots(3, 2, figsize=(25,18))\n",
    "\n",
    "k = [2,3,4,5,6,7]\n",
    "for k in clusters:\n",
    "    km = c.KMeans(n_clusters=k, init='random',n_init=10, max_iter=100, random_state=42)\n",
    "    q, mod =divmod(k, 2) #usar divisão por moda pra plotar os gráficos\n",
    "    \n",
    "    #Plot Silhouette\n",
    "    visualizer = SilhouetteVisualizer(km, color='yellowbrick', ax=ax[q-1][mod])\n",
    "    visualizer.fit(X)\n",
    "    visualizer.finalize()"
   ]
  },
  {
   "cell_type": "markdown",
   "id": "c9c7dae5",
   "metadata": {},
   "source": [
    "In this first analysis, it is possible to notice that the clusters are not well divided"
   ]
  },
  {
   "cell_type": "markdown",
   "id": "81f5ab35",
   "metadata": {},
   "source": [
    "# Model Training"
   ]
  },
  {
   "cell_type": "code",
   "execution_count": null,
   "id": "6c674eef",
   "metadata": {},
   "outputs": [],
   "source": []
  },
  {
   "cell_type": "code",
   "execution_count": null,
   "id": "13e09acb",
   "metadata": {},
   "outputs": [],
   "source": []
  },
  {
   "cell_type": "markdown",
   "id": "7ce114d3",
   "metadata": {},
   "source": [
    "# Cluster Analysis Variable"
   ]
  },
  {
   "cell_type": "code",
   "execution_count": null,
   "id": "377ad407",
   "metadata": {},
   "outputs": [],
   "source": []
  }
 ],
 "metadata": {
  "kernelspec": {
   "display_name": "Python 3 (ipykernel)",
   "language": "python",
   "name": "python3"
  },
  "language_info": {
   "codemirror_mode": {
    "name": "ipython",
    "version": 3
   },
   "file_extension": ".py",
   "mimetype": "text/x-python",
   "name": "python",
   "nbconvert_exporter": "python",
   "pygments_lexer": "ipython3",
   "version": "3.10.9"
  },
  "varInspector": {
   "cols": {
    "lenName": 16,
    "lenType": 16,
    "lenVar": 40
   },
   "kernels_config": {
    "python": {
     "delete_cmd_postfix": "",
     "delete_cmd_prefix": "del ",
     "library": "var_list.py",
     "varRefreshCmd": "print(var_dic_list())"
    },
    "r": {
     "delete_cmd_postfix": ") ",
     "delete_cmd_prefix": "rm(",
     "library": "var_list.r",
     "varRefreshCmd": "cat(var_dic_list()) "
    }
   },
   "types_to_exclude": [
    "module",
    "function",
    "builtin_function_or_method",
    "instance",
    "_Feature"
   ],
   "window_display": false
  }
 },
 "nbformat": 4,
 "nbformat_minor": 5
}

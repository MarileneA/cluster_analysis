{
 "cells": [
  {
   "cell_type": "markdown",
   "id": "c0bff162",
   "metadata": {},
   "source": [
    "## E-commerce with RFM and Clustering"
   ]
  },
  {
   "cell_type": "markdown",
   "id": "00e027ce",
   "metadata": {},
   "source": [
    "O Objetivo desse projeto é agrupar os clientes de modo para que o time de Marketing faça campanhas mais assertivas de acordo com os grupos.\n",
    "Para isso Usarei os elementos da Análise RFM. Para identificar os clientes de alto valor e responder as perguntas de negócio.\n"
   ]
  },
  {
   "cell_type": "markdown",
   "id": "ab370623",
   "metadata": {},
   "source": [
    "# Imports"
   ]
  },
  {
   "cell_type": "code",
   "execution_count": 11,
   "id": "42934ebb",
   "metadata": {
    "ExecuteTime": {
     "end_time": "2023-05-10T11:59:28.750651Z",
     "start_time": "2023-05-10T11:59:27.532950Z"
    }
   },
   "outputs": [],
   "source": [
    "import re\n",
    "import sweetviz as sv\n",
    "import warnings\n",
    "import pandas as pd\n",
    "import numpy as np\n",
    "import matplotlib.pyplot as plt\n",
    "import seaborn as sns\n",
    "import datetime as dt\n",
    "\n",
    "\n",
    "warnings.filterwarnings( 'ignore' )"
   ]
  },
  {
   "cell_type": "markdown",
   "id": "e7e61ebf",
   "metadata": {},
   "source": [
    "## Load Data"
   ]
  },
  {
   "cell_type": "code",
   "execution_count": 12,
   "id": "fac23f09",
   "metadata": {
    "ExecuteTime": {
     "end_time": "2023-05-10T11:59:30.476438Z",
     "start_time": "2023-05-10T11:59:28.756483Z"
    }
   },
   "outputs": [],
   "source": [
    "df_raw = pd.read_csv('data/ecommerce.csv',header= 0, encoding= 'unicode_escape')"
   ]
  },
  {
   "cell_type": "code",
   "execution_count": 13,
   "id": "11e6b3ca",
   "metadata": {
    "ExecuteTime": {
     "end_time": "2023-05-10T11:59:30.537432Z",
     "start_time": "2023-05-10T11:59:30.479343Z"
    }
   },
   "outputs": [],
   "source": [
    "df_raw =df_raw.drop(['Unnamed: 8'], axis=1)"
   ]
  },
  {
   "cell_type": "code",
   "execution_count": 14,
   "id": "e9daad7f",
   "metadata": {
    "ExecuteTime": {
     "end_time": "2023-05-10T11:59:30.724463Z",
     "start_time": "2023-05-10T11:59:30.542359Z"
    }
   },
   "outputs": [
    {
     "data": {
      "text/html": [
       "<div>\n",
       "<style scoped>\n",
       "    .dataframe tbody tr th:only-of-type {\n",
       "        vertical-align: middle;\n",
       "    }\n",
       "\n",
       "    .dataframe tbody tr th {\n",
       "        vertical-align: top;\n",
       "    }\n",
       "\n",
       "    .dataframe thead th {\n",
       "        text-align: right;\n",
       "    }\n",
       "</style>\n",
       "<table border=\"1\" class=\"dataframe\">\n",
       "  <thead>\n",
       "    <tr style=\"text-align: right;\">\n",
       "      <th></th>\n",
       "      <th>InvoiceNo</th>\n",
       "      <th>StockCode</th>\n",
       "      <th>Description</th>\n",
       "      <th>Quantity</th>\n",
       "      <th>InvoiceDate</th>\n",
       "      <th>UnitPrice</th>\n",
       "      <th>CustomerID</th>\n",
       "      <th>Country</th>\n",
       "    </tr>\n",
       "  </thead>\n",
       "  <tbody>\n",
       "    <tr>\n",
       "      <th>0</th>\n",
       "      <td>536365</td>\n",
       "      <td>85123A</td>\n",
       "      <td>WHITE HANGING HEART T-LIGHT HOLDER</td>\n",
       "      <td>6</td>\n",
       "      <td>29-Nov-16</td>\n",
       "      <td>2.55</td>\n",
       "      <td>17850.0</td>\n",
       "      <td>United Kingdom</td>\n",
       "    </tr>\n",
       "    <tr>\n",
       "      <th>1</th>\n",
       "      <td>536365</td>\n",
       "      <td>71053</td>\n",
       "      <td>WHITE METAL LANTERN</td>\n",
       "      <td>6</td>\n",
       "      <td>29-Nov-16</td>\n",
       "      <td>3.39</td>\n",
       "      <td>17850.0</td>\n",
       "      <td>United Kingdom</td>\n",
       "    </tr>\n",
       "    <tr>\n",
       "      <th>2</th>\n",
       "      <td>536365</td>\n",
       "      <td>84406B</td>\n",
       "      <td>CREAM CUPID HEARTS COAT HANGER</td>\n",
       "      <td>8</td>\n",
       "      <td>29-Nov-16</td>\n",
       "      <td>2.75</td>\n",
       "      <td>17850.0</td>\n",
       "      <td>United Kingdom</td>\n",
       "    </tr>\n",
       "    <tr>\n",
       "      <th>3</th>\n",
       "      <td>536365</td>\n",
       "      <td>84029G</td>\n",
       "      <td>KNITTED UNION FLAG HOT WATER BOTTLE</td>\n",
       "      <td>6</td>\n",
       "      <td>29-Nov-16</td>\n",
       "      <td>3.39</td>\n",
       "      <td>17850.0</td>\n",
       "      <td>United Kingdom</td>\n",
       "    </tr>\n",
       "    <tr>\n",
       "      <th>4</th>\n",
       "      <td>536365</td>\n",
       "      <td>84029E</td>\n",
       "      <td>RED WOOLLY HOTTIE WHITE HEART.</td>\n",
       "      <td>6</td>\n",
       "      <td>29-Nov-16</td>\n",
       "      <td>3.39</td>\n",
       "      <td>17850.0</td>\n",
       "      <td>United Kingdom</td>\n",
       "    </tr>\n",
       "  </tbody>\n",
       "</table>\n",
       "</div>"
      ],
      "text/plain": [
       "  InvoiceNo StockCode                          Description  Quantity  \\\n",
       "0    536365    85123A   WHITE HANGING HEART T-LIGHT HOLDER         6   \n",
       "1    536365     71053                  WHITE METAL LANTERN         6   \n",
       "2    536365    84406B       CREAM CUPID HEARTS COAT HANGER         8   \n",
       "3    536365    84029G  KNITTED UNION FLAG HOT WATER BOTTLE         6   \n",
       "4    536365    84029E       RED WOOLLY HOTTIE WHITE HEART.         6   \n",
       "\n",
       "  InvoiceDate  UnitPrice  CustomerID         Country  \n",
       "0   29-Nov-16       2.55     17850.0  United Kingdom  \n",
       "1   29-Nov-16       3.39     17850.0  United Kingdom  \n",
       "2   29-Nov-16       2.75     17850.0  United Kingdom  \n",
       "3   29-Nov-16       3.39     17850.0  United Kingdom  \n",
       "4   29-Nov-16       3.39     17850.0  United Kingdom  "
      ]
     },
     "execution_count": 14,
     "metadata": {},
     "output_type": "execute_result"
    }
   ],
   "source": [
    "df_raw.head()"
   ]
  },
  {
   "cell_type": "markdown",
   "id": "518ca37c",
   "metadata": {},
   "source": [
    "# Data Description"
   ]
  },
  {
   "cell_type": "code",
   "execution_count": 15,
   "id": "174fb5b6",
   "metadata": {
    "ExecuteTime": {
     "end_time": "2023-05-10T11:59:30.897546Z",
     "start_time": "2023-05-10T11:59:30.727428Z"
    }
   },
   "outputs": [],
   "source": [
    "df1 = df_raw.copy()"
   ]
  },
  {
   "cell_type": "markdown",
   "id": "7f9b149e",
   "metadata": {},
   "source": [
    "## Rename Columns"
   ]
  },
  {
   "cell_type": "code",
   "execution_count": 16,
   "id": "8f8d1871",
   "metadata": {
    "ExecuteTime": {
     "end_time": "2023-05-10T11:59:31.068127Z",
     "start_time": "2023-05-10T11:59:30.902384Z"
    }
   },
   "outputs": [
    {
     "data": {
      "text/plain": [
       "Index(['InvoiceNo', 'StockCode', 'Description', 'Quantity', 'InvoiceDate',\n",
       "       'UnitPrice', 'CustomerID', 'Country'],\n",
       "      dtype='object')"
      ]
     },
     "execution_count": 16,
     "metadata": {},
     "output_type": "execute_result"
    }
   ],
   "source": [
    "df1.columns"
   ]
  },
  {
   "cell_type": "code",
   "execution_count": 17,
   "id": "4ce8fdf9",
   "metadata": {
    "ExecuteTime": {
     "end_time": "2023-05-10T11:59:31.378995Z",
     "start_time": "2023-05-10T11:59:31.072093Z"
    }
   },
   "outputs": [],
   "source": [
    "import inflection"
   ]
  },
  {
   "cell_type": "code",
   "execution_count": 18,
   "id": "89689387",
   "metadata": {
    "ExecuteTime": {
     "end_time": "2023-05-10T11:59:31.612380Z",
     "start_time": "2023-05-10T11:59:31.383011Z"
    }
   },
   "outputs": [],
   "source": [
    "#Função para renomear colunas\n",
    "cols_old = list(df1.columns)\n",
    "snakecase = lambda x: inflection.underscore(x)\n",
    "\n",
    "cols_new = list( map( snakecase, cols_old) )\n",
    "\n",
    "#Rename\n",
    "df1.columns = cols_new"
   ]
  },
  {
   "cell_type": "markdown",
   "id": "8ac7b4d0",
   "metadata": {},
   "source": [
    "## Data Dimensions"
   ]
  },
  {
   "cell_type": "code",
   "execution_count": 19,
   "id": "7248d321",
   "metadata": {
    "ExecuteTime": {
     "end_time": "2023-05-10T11:59:31.860347Z",
     "start_time": "2023-05-10T11:59:31.617391Z"
    }
   },
   "outputs": [
    {
     "name": "stdout",
     "output_type": "stream",
     "text": [
      "Number of Columns: 8\n",
      "\n",
      "Number of Rows: 541909\n"
     ]
    }
   ],
   "source": [
    "print(f'Number of Columns: {df1.shape[1]}\\n')\n",
    "print(f'Number of Rows: {df1.shape[0]}')\n",
    "\n"
   ]
  },
  {
   "cell_type": "markdown",
   "id": "89651626",
   "metadata": {},
   "source": [
    "## Data Types"
   ]
  },
  {
   "cell_type": "code",
   "execution_count": 20,
   "id": "6575aa89",
   "metadata": {
    "ExecuteTime": {
     "end_time": "2023-05-10T11:59:32.093255Z",
     "start_time": "2023-05-10T11:59:31.866516Z"
    }
   },
   "outputs": [
    {
     "data": {
      "text/plain": [
       "invoice_no       object\n",
       "stock_code       object\n",
       "description      object\n",
       "quantity          int64\n",
       "invoice_date     object\n",
       "unit_price      float64\n",
       "customer_id     float64\n",
       "country          object\n",
       "dtype: object"
      ]
     },
     "execution_count": 20,
     "metadata": {},
     "output_type": "execute_result"
    }
   ],
   "source": [
    "df1.dtypes"
   ]
  },
  {
   "cell_type": "markdown",
   "id": "2546ccc5",
   "metadata": {},
   "source": [
    "## Check NA"
   ]
  },
  {
   "cell_type": "code",
   "execution_count": 21,
   "id": "e30d107e",
   "metadata": {
    "ExecuteTime": {
     "end_time": "2023-05-10T11:59:32.638153Z",
     "start_time": "2023-05-10T11:59:32.098077Z"
    }
   },
   "outputs": [
    {
     "data": {
      "text/plain": [
       "invoice_no      0.000000\n",
       "stock_code      0.000000\n",
       "description     0.002683\n",
       "quantity        0.000000\n",
       "invoice_date    0.000000\n",
       "unit_price      0.000000\n",
       "customer_id     0.249267\n",
       "country         0.000000\n",
       "dtype: float64"
      ]
     },
     "execution_count": 21,
     "metadata": {},
     "output_type": "execute_result"
    }
   ],
   "source": [
    "df1.isna().sum()/len(df1)"
   ]
  },
  {
   "cell_type": "markdown",
   "id": "7adafa34",
   "metadata": {
    "ExecuteTime": {
     "end_time": "2023-05-08T10:36:05.026820Z",
     "start_time": "2023-05-08T10:36:04.829941Z"
    }
   },
   "source": [
    "**Há um grande numero de valores NA na coluna customer ID.**\n",
    "- Não faria sentido preencher com média ou moda, vamos excluí-los."
   ]
  },
  {
   "cell_type": "markdown",
   "id": "87c315d8",
   "metadata": {},
   "source": [
    "### Drop NA"
   ]
  },
  {
   "cell_type": "code",
   "execution_count": 22,
   "id": "68d6983f",
   "metadata": {
    "ExecuteTime": {
     "end_time": "2023-05-10T11:59:32.855674Z",
     "start_time": "2023-05-10T11:59:32.642158Z"
    }
   },
   "outputs": [],
   "source": [
    "df1 = df1.dropna(subset=['customer_id'])"
   ]
  },
  {
   "cell_type": "markdown",
   "id": "71511d87",
   "metadata": {},
   "source": [
    "## Change dtypes"
   ]
  },
  {
   "cell_type": "code",
   "execution_count": 23,
   "id": "af5399a3",
   "metadata": {
    "ExecuteTime": {
     "end_time": "2023-05-10T11:59:33.058512Z",
     "start_time": "2023-05-10T11:59:32.859618Z"
    }
   },
   "outputs": [],
   "source": [
    "# invoicedate\n",
    "df1['invoice_date'] = pd.to_datetime(df1['invoice_date'], format='%d-%b-%y')\n",
    "\n",
    "#Customer_id\n",
    "df1['customer_id'] = df1['customer_id'].astype('int64')"
   ]
  },
  {
   "cell_type": "code",
   "execution_count": 24,
   "id": "574316a7",
   "metadata": {
    "ExecuteTime": {
     "end_time": "2023-05-10T11:59:33.214603Z",
     "start_time": "2023-05-10T11:59:33.062429Z"
    }
   },
   "outputs": [
    {
     "data": {
      "text/plain": [
       "invoice_no              object\n",
       "stock_code              object\n",
       "description             object\n",
       "quantity                 int64\n",
       "invoice_date    datetime64[ns]\n",
       "unit_price             float64\n",
       "customer_id              int64\n",
       "country                 object\n",
       "dtype: object"
      ]
     },
     "execution_count": 24,
     "metadata": {},
     "output_type": "execute_result"
    }
   ],
   "source": [
    "df1.dtypes"
   ]
  },
  {
   "cell_type": "markdown",
   "id": "160e208f",
   "metadata": {},
   "source": [
    "## Descriptive Statistics"
   ]
  },
  {
   "cell_type": "code",
   "execution_count": 25,
   "id": "b9bbf39e",
   "metadata": {
    "ExecuteTime": {
     "end_time": "2023-05-10T11:59:33.511113Z",
     "start_time": "2023-05-10T11:59:33.218601Z"
    }
   },
   "outputs": [],
   "source": [
    "num_attributes = df1.select_dtypes(include=['int64', 'float64'])\n",
    "cat_attributes = df1.select_dtypes(exclude=['int64', 'float64', 'datetime64[ns]'])"
   ]
  },
  {
   "cell_type": "markdown",
   "id": "22460c67",
   "metadata": {},
   "source": [
    "### Numerical Attributes"
   ]
  },
  {
   "cell_type": "code",
   "execution_count": 26,
   "id": "2a44edee",
   "metadata": {
    "ExecuteTime": {
     "end_time": "2023-05-10T11:59:33.775915Z",
     "start_time": "2023-05-10T11:59:33.514959Z"
    }
   },
   "outputs": [
    {
     "data": {
      "text/html": [
       "<div>\n",
       "<style scoped>\n",
       "    .dataframe tbody tr th:only-of-type {\n",
       "        vertical-align: middle;\n",
       "    }\n",
       "\n",
       "    .dataframe tbody tr th {\n",
       "        vertical-align: top;\n",
       "    }\n",
       "\n",
       "    .dataframe thead th {\n",
       "        text-align: right;\n",
       "    }\n",
       "</style>\n",
       "<table border=\"1\" class=\"dataframe\">\n",
       "  <thead>\n",
       "    <tr style=\"text-align: right;\">\n",
       "      <th></th>\n",
       "      <th>attributes</th>\n",
       "      <th>min</th>\n",
       "      <th>max</th>\n",
       "      <th>range</th>\n",
       "      <th>mean</th>\n",
       "      <th>median</th>\n",
       "      <th>std</th>\n",
       "      <th>skew</th>\n",
       "      <th>kurtosis</th>\n",
       "    </tr>\n",
       "  </thead>\n",
       "  <tbody>\n",
       "    <tr>\n",
       "      <th>0</th>\n",
       "      <td>quantity</td>\n",
       "      <td>-80995.0</td>\n",
       "      <td>80995.0</td>\n",
       "      <td>161990.0</td>\n",
       "      <td>12.061303</td>\n",
       "      <td>5.00</td>\n",
       "      <td>248.693064</td>\n",
       "      <td>0.182663</td>\n",
       "      <td>94317.563673</td>\n",
       "    </tr>\n",
       "    <tr>\n",
       "      <th>1</th>\n",
       "      <td>unit_price</td>\n",
       "      <td>0.0</td>\n",
       "      <td>38970.0</td>\n",
       "      <td>38970.0</td>\n",
       "      <td>3.460471</td>\n",
       "      <td>1.95</td>\n",
       "      <td>69.315077</td>\n",
       "      <td>452.219019</td>\n",
       "      <td>246924.542988</td>\n",
       "    </tr>\n",
       "    <tr>\n",
       "      <th>2</th>\n",
       "      <td>customer_id</td>\n",
       "      <td>12346.0</td>\n",
       "      <td>18287.0</td>\n",
       "      <td>5941.0</td>\n",
       "      <td>15287.690570</td>\n",
       "      <td>15152.00</td>\n",
       "      <td>1713.598197</td>\n",
       "      <td>0.029835</td>\n",
       "      <td>-1.179982</td>\n",
       "    </tr>\n",
       "  </tbody>\n",
       "</table>\n",
       "</div>"
      ],
      "text/plain": [
       "    attributes      min      max     range          mean    median  \\\n",
       "0     quantity -80995.0  80995.0  161990.0     12.061303      5.00   \n",
       "1   unit_price      0.0  38970.0   38970.0      3.460471      1.95   \n",
       "2  customer_id  12346.0  18287.0    5941.0  15287.690570  15152.00   \n",
       "\n",
       "           std        skew       kurtosis  \n",
       "0   248.693064    0.182663   94317.563673  \n",
       "1    69.315077  452.219019  246924.542988  \n",
       "2  1713.598197    0.029835      -1.179982  "
      ]
     },
     "execution_count": 26,
     "metadata": {},
     "output_type": "execute_result"
    }
   ],
   "source": [
    "#central tendency - mean, median, \n",
    "ct1 = pd.DataFrame(num_attributes.apply(np.mean) ).T\n",
    "ct2 = pd.DataFrame(num_attributes.apply(np.median)).T\n",
    "\n",
    "#Dispersion - std, \n",
    "d1 = pd.DataFrame(num_attributes.apply(np.std)).T\n",
    "d2 = pd.DataFrame(num_attributes.apply(np.min)).T\n",
    "d3 = pd.DataFrame(num_attributes.apply(np.max)).T\n",
    "d4 = pd.DataFrame(num_attributes.apply(lambda x: x.max() - x.min())).T\n",
    "d5 = pd.DataFrame(num_attributes.apply(lambda x: x.skew()) ).T\n",
    "d6 = pd.DataFrame(num_attributes.apply(lambda x: x.kurtosis()) ).T\n",
    "\n",
    "#Merge\n",
    "n = pd.concat([d2, d3, d4, ct1, ct2, d1, d5, d6]).T.reset_index()\n",
    "n.columns = ['attributes', 'min', 'max', 'range','mean', 'median', 'std','skew','kurtosis']\n",
    "n"
   ]
  },
  {
   "cell_type": "markdown",
   "id": "3968b872",
   "metadata": {},
   "source": [
    " ### Categorical Attributes"
   ]
  },
  {
   "cell_type": "code",
   "execution_count": 27,
   "id": "1b276ae6",
   "metadata": {
    "ExecuteTime": {
     "end_time": "2023-05-10T11:59:34.060274Z",
     "start_time": "2023-05-10T11:59:33.779918Z"
    }
   },
   "outputs": [
    {
     "data": {
      "text/plain": [
       "invoice_no     22190\n",
       "stock_code      3684\n",
       "description     3896\n",
       "country           37\n",
       "dtype: int64"
      ]
     },
     "execution_count": 27,
     "metadata": {},
     "output_type": "execute_result"
    }
   ],
   "source": [
    "# check unique values of categorical features\n",
    "cat_attributes.apply( lambda x: x.unique().shape[0])"
   ]
  },
  {
   "cell_type": "markdown",
   "id": "d44f1bbc",
   "metadata": {},
   "source": [
    "### Country"
   ]
  },
  {
   "cell_type": "code",
   "execution_count": 67,
   "id": "aed58a72",
   "metadata": {
    "ExecuteTime": {
     "end_time": "2023-05-10T13:04:25.272740Z",
     "start_time": "2023-05-10T13:04:25.218743Z"
    }
   },
   "outputs": [
    {
     "data": {
      "text/plain": [
       "United Kingdom          0.889509\n",
       "Germany                 0.023339\n",
       "France                  0.020871\n",
       "EIRE                    0.018398\n",
       "Spain                   0.006226\n",
       "Netherlands             0.005828\n",
       "Belgium                 0.005086\n",
       "Switzerland             0.004614\n",
       "Portugal                0.003638\n",
       "Australia               0.003095\n",
       "Norway                  0.002669\n",
       "Italy                   0.001974\n",
       "Channel Islands         0.001863\n",
       "Finland                 0.001708\n",
       "Cyprus                  0.001529\n",
       "Sweden                  0.001136\n",
       "Austria                 0.000986\n",
       "Denmark                 0.000956\n",
       "Japan                   0.000880\n",
       "Poland                  0.000838\n",
       "USA                     0.000715\n",
       "Israel                  0.000615\n",
       "Unspecified             0.000600\n",
       "Singapore               0.000563\n",
       "Iceland                 0.000447\n",
       "Canada                  0.000371\n",
       "Greece                  0.000359\n",
       "Malta                   0.000312\n",
       "United Arab Emirates    0.000167\n",
       "European Community      0.000150\n",
       "RSA                     0.000143\n",
       "Lebanon                 0.000111\n",
       "Lithuania               0.000086\n",
       "Brazil                  0.000079\n",
       "Czech Republic          0.000074\n",
       "Bahrain                 0.000042\n",
       "Saudi Arabia            0.000025\n",
       "Name: country, dtype: float64"
      ]
     },
     "execution_count": 67,
     "metadata": {},
     "output_type": "execute_result"
    }
   ],
   "source": [
    "#purchase to countries\n",
    "\n",
    "df1['country'].value_counts(normalize=True)"
   ]
  },
  {
   "cell_type": "code",
   "execution_count": 68,
   "id": "5586813f",
   "metadata": {
    "ExecuteTime": {
     "end_time": "2023-05-10T13:04:26.216745Z",
     "start_time": "2023-05-10T13:04:26.052746Z"
    }
   },
   "outputs": [
    {
     "data": {
      "text/html": [
       "<div>\n",
       "<style scoped>\n",
       "    .dataframe tbody tr th:only-of-type {\n",
       "        vertical-align: middle;\n",
       "    }\n",
       "\n",
       "    .dataframe tbody tr th {\n",
       "        vertical-align: top;\n",
       "    }\n",
       "\n",
       "    .dataframe thead th {\n",
       "        text-align: right;\n",
       "    }\n",
       "</style>\n",
       "<table border=\"1\" class=\"dataframe\">\n",
       "  <thead>\n",
       "    <tr style=\"text-align: right;\">\n",
       "      <th></th>\n",
       "      <th>country</th>\n",
       "      <th>customer_id</th>\n",
       "    </tr>\n",
       "  </thead>\n",
       "  <tbody>\n",
       "    <tr>\n",
       "      <th>35</th>\n",
       "      <td>United Kingdom</td>\n",
       "      <td>3950</td>\n",
       "    </tr>\n",
       "    <tr>\n",
       "      <th>14</th>\n",
       "      <td>Germany</td>\n",
       "      <td>95</td>\n",
       "    </tr>\n",
       "    <tr>\n",
       "      <th>13</th>\n",
       "      <td>France</td>\n",
       "      <td>87</td>\n",
       "    </tr>\n",
       "    <tr>\n",
       "      <th>30</th>\n",
       "      <td>Spain</td>\n",
       "      <td>31</td>\n",
       "    </tr>\n",
       "    <tr>\n",
       "      <th>3</th>\n",
       "      <td>Belgium</td>\n",
       "      <td>25</td>\n",
       "    </tr>\n",
       "  </tbody>\n",
       "</table>\n",
       "</div>"
      ],
      "text/plain": [
       "           country  customer_id\n",
       "35  United Kingdom         3950\n",
       "14         Germany           95\n",
       "13          France           87\n",
       "30           Spain           31\n",
       "3          Belgium           25"
      ]
     },
     "execution_count": 68,
     "metadata": {},
     "output_type": "execute_result"
    }
   ],
   "source": [
    "df1[['customer_id', 'country']].drop_duplicates().groupby('country').count().reset_index().sort_values('customer_id', ascending=False).head()"
   ]
  },
  {
   "cell_type": "markdown",
   "id": "59d774ed",
   "metadata": {},
   "source": [
    "Há mais clientes no Reino Unido (United Kingdom)com aproximadamente 4.000, seguido da Alemanha (Germany) e França (France) com 95 e 87, respectivamente."
   ]
  },
  {
   "cell_type": "markdown",
   "id": "f0f8d05d",
   "metadata": {},
   "source": [
    "### Invoice_no"
   ]
  },
  {
   "cell_type": "code",
   "execution_count": 69,
   "id": "b648bff5",
   "metadata": {
    "ExecuteTime": {
     "end_time": "2023-05-10T13:04:27.428555Z",
     "start_time": "2023-05-10T13:04:26.899078Z"
    }
   },
   "outputs": [
    {
     "name": "stdout",
     "output_type": "stream",
     "text": [
      "total de invoices com letras: 8905\n",
      "total de invoices com valores negativos: 8905\n"
     ]
    }
   ],
   "source": [
    "# problema: A coluna invoice é composta por numeros e letras\n",
    "\n",
    "df_letter_invoices = df1.loc[df1['invoice_no'].apply( lambda x: bool( re.search( '[^0-9]+', x ) ) ), :]\n",
    "\n",
    "#Verificar se todos os invoices são negativos\n",
    "print(f'total de invoices com letras: {len(df_letter_invoices)}')\n",
    "\n",
    "#Verificar se todos os invoices são negativos\n",
    "print(f'total de invoices com valores negativos: {len(df_letter_invoices[ df_letter_invoices[\"quantity\"] < 0 ])}')"
   ]
  },
  {
   "cell_type": "markdown",
   "id": "38f7a08c",
   "metadata": {},
   "source": [
    "# Filtering Variable"
   ]
  },
  {
   "cell_type": "code",
   "execution_count": 98,
   "id": "29fd4cb7",
   "metadata": {
    "ExecuteTime": {
     "end_time": "2023-05-10T13:17:20.764857Z",
     "start_time": "2023-05-10T13:17:20.734858Z"
    }
   },
   "outputs": [],
   "source": [
    "df2 =df1.copy()"
   ]
  },
  {
   "cell_type": "code",
   "execution_count": 99,
   "id": "a62f58dc",
   "metadata": {
    "ExecuteTime": {
     "end_time": "2023-05-10T13:17:21.824753Z",
     "start_time": "2023-05-10T13:17:21.406479Z"
    }
   },
   "outputs": [],
   "source": [
    "#=====================Numerical Attributes=================================\n",
    "#Quantity\n",
    "df2 = df2.loc[df2['unit_price']>= 0.04]\n",
    "\n",
    "\n",
    "#=====================Caterical Attributes=================================\n",
    "df2=  df2[~df2['stock_code'].isin( ['POST', 'D', 'DOT', 'M', 'S', 'AMAZONFEE', 'm', 'DCGSSBOY',\n",
    "       'DCGSSGIRL', 'PADS', 'B', 'CRUK'])]\n",
    "\n",
    "#Description\n",
    "df2 = df2.drop(columns='description', axis=1)\n",
    "\n",
    "\n",
    "#map\n",
    "df2 = df2[~df2['country'].isin(['European Community', 'Unspecified'])]\n",
    "\n",
    "#Quantity\n",
    "df_return = df2.loc[df1['quantity']<0, :]\n",
    "df2_purchase = df2.loc[df1['quantity']>= 0, :]\n",
    "\n",
    "\n",
    "#Remove Bad User \n",
    "df2 = df2[~df2['customer_id'].isin( [16446] )]\n"
   ]
  },
  {
   "cell_type": "markdown",
   "id": "d8b21503",
   "metadata": {},
   "source": [
    "# Feature Engeneering"
   ]
  },
  {
   "cell_type": "code",
   "execution_count": 100,
   "id": "b7fe1afb",
   "metadata": {
    "ExecuteTime": {
     "end_time": "2023-05-10T13:17:24.775647Z",
     "start_time": "2023-05-10T13:17:24.737656Z"
    }
   },
   "outputs": [],
   "source": [
    "df3 = df2.copy()"
   ]
  },
  {
   "cell_type": "code",
   "execution_count": 101,
   "id": "b7b4ef39",
   "metadata": {
    "ExecuteTime": {
     "end_time": "2023-05-10T13:17:25.659106Z",
     "start_time": "2023-05-10T13:17:25.421262Z"
    }
   },
   "outputs": [],
   "source": [
    "# Criar colunas Recency, Frequency, Monetary\n",
    "# Data reference\n",
    "df_ref = df3.drop(['invoice_no', 'stock_code', 'quantity', 'invoice_date', 'unit_price', \n",
    "                   'country'], axis=1).drop_duplicates(ignore_index=True)"
   ]
  },
  {
   "cell_type": "markdown",
   "id": "c212b9b8",
   "metadata": {
    "ExecuteTime": {
     "end_time": "2023-05-08T12:22:47.485471Z",
     "start_time": "2023-05-08T12:22:47.477476Z"
    }
   },
   "source": [
    "### Gross Revenue"
   ]
  },
  {
   "cell_type": "code",
   "execution_count": 102,
   "id": "2c950c13",
   "metadata": {
    "ExecuteTime": {
     "end_time": "2023-05-10T13:17:27.296495Z",
     "start_time": "2023-05-10T13:17:27.234282Z"
    }
   },
   "outputs": [],
   "source": [
    "#Gross Revenue (Faturamento) - Quantity * price\n",
    "df2_purchase[ 'gross_revenue'] = df2_purchase['quantity'] * df2_purchase['unit_price']\n",
    "\n",
    "#Monetary\n",
    "df_monetary = df2_purchase[['customer_id', 'gross_revenue']].groupby('customer_id').sum().reset_index()\n",
    "\n",
    "df_ref = pd.merge(df_ref, df_monetary, on='customer_id', how='left')"
   ]
  },
  {
   "cell_type": "markdown",
   "id": "811243bf",
   "metadata": {},
   "source": [
    "### Recency - days since the last purchase"
   ]
  },
  {
   "cell_type": "code",
   "execution_count": 103,
   "id": "d35fdc86",
   "metadata": {
    "ExecuteTime": {
     "end_time": "2023-05-10T13:17:29.802212Z",
     "start_time": "2023-05-10T13:17:28.050821Z"
    }
   },
   "outputs": [
    {
     "data": {
      "text/plain": [
       "customer_id       0\n",
       "gross_revenue    27\n",
       "recency_days     27\n",
       "dtype: int64"
      ]
     },
     "execution_count": 103,
     "metadata": {},
     "output_type": "execute_result"
    }
   ],
   "source": [
    "# Recency - Last day purchase\n",
    "df_recency = df2_purchase.loc[:, ['customer_id', 'invoice_date']].groupby( 'customer_id' ).max().reset_index()\n",
    "df_recency['recency_days'] = ( df2['invoice_date'].max() - df_recency['invoice_date'] ).dt.days\n",
    "df_recency = df_recency[['customer_id', 'recency_days']].copy()\n",
    "df_ref = pd.merge( df_ref, df_recency, on='customer_id', how='left' )\n",
    "df_ref.isna().sum()"
   ]
  },
  {
   "cell_type": "markdown",
   "id": "6dbe346b",
   "metadata": {},
   "source": [
    "### Quantity of Purchases by Customer\n"
   ]
  },
  {
   "cell_type": "code",
   "execution_count": 104,
   "id": "8773f959",
   "metadata": {
    "ExecuteTime": {
     "end_time": "2023-05-10T13:17:30.473212Z",
     "start_time": "2023-05-10T13:17:30.383216Z"
    }
   },
   "outputs": [
    {
     "data": {
      "text/plain": [
       "customer_id        0\n",
       "gross_revenue     27\n",
       "recency_days      27\n",
       "qty_invoice_no    27\n",
       "dtype: int64"
      ]
     },
     "execution_count": 104,
     "metadata": {},
     "output_type": "execute_result"
    }
   ],
   "source": [
    "# Qty of invoice no per customer\n",
    "df_invoice_no = df2_purchase[['customer_id', 'invoice_no']].drop_duplicates().groupby('customer_id').count().reset_index().rename(columns = {'invoice_no': 'qty_invoice_no'})\n",
    "\n",
    "df_ref = pd.merge(df_ref, df_invoice_no, on = 'customer_id', how = 'left')\n",
    "df_ref.isna().sum()"
   ]
  },
  {
   "cell_type": "markdown",
   "id": "5424c23d",
   "metadata": {},
   "source": [
    "### Quantity of products (different stock codes by customer)"
   ]
  },
  {
   "cell_type": "code",
   "execution_count": 105,
   "id": "321aec31",
   "metadata": {
    "ExecuteTime": {
     "end_time": "2023-05-10T13:17:31.245420Z",
     "start_time": "2023-05-10T13:17:31.095420Z"
    }
   },
   "outputs": [
    {
     "data": {
      "text/plain": [
       "customer_id        0\n",
       "gross_revenue     27\n",
       "recency_days      27\n",
       "qty_invoice_no    27\n",
       "qtde_products     27\n",
       "dtype: int64"
      ]
     },
     "execution_count": 105,
     "metadata": {},
     "output_type": "execute_result"
    }
   ],
   "source": [
    "#Products number\n",
    "df_freq = (df2_purchase.loc[:,['customer_id', 'stock_code']].groupby('customer_id')\n",
    "                                                            .count()\n",
    "                                                            .reset_index()\n",
    "                                                            .rename(columns={'stock_code':'qtde_products'}))\n",
    "           \n",
    "df_ref =pd.merge(df_ref, df_freq, on='customer_id', how='left')\n",
    "df_ref.isna().sum()"
   ]
  },
  {
   "cell_type": "markdown",
   "id": "d8f759cd",
   "metadata": {},
   "source": [
    "### Quantity of Items Purchased by Customer"
   ]
  },
  {
   "cell_type": "code",
   "execution_count": 106,
   "id": "0e876ffa",
   "metadata": {
    "ExecuteTime": {
     "end_time": "2023-05-10T13:17:31.815169Z",
     "start_time": "2023-05-10T13:17:31.773421Z"
    }
   },
   "outputs": [
    {
     "data": {
      "text/plain": [
       "customer_id        0\n",
       "gross_revenue     27\n",
       "recency_days      27\n",
       "qty_invoice_no    27\n",
       "qtde_products     27\n",
       "qty_items         27\n",
       "dtype: int64"
      ]
     },
     "execution_count": 106,
     "metadata": {},
     "output_type": "execute_result"
    }
   ],
   "source": [
    "# Quantity of items purchased by customer\n",
    "df_freq = (df2_purchase.loc[:, ['customer_id', 'quantity']].groupby( 'customer_id' ).sum()\n",
    "                                                           .reset_index()\n",
    "                                                           .rename( columns={'quantity': 'qty_items'} ) )\n",
    "df_ref = pd.merge( df_ref, df_freq, on='customer_id', how='left' )\n",
    "df_ref.isna().sum()"
   ]
  },
  {
   "cell_type": "markdown",
   "id": "674db6a3",
   "metadata": {},
   "source": [
    "### Frequency"
   ]
  },
  {
   "cell_type": "code",
   "execution_count": 107,
   "id": "3d5d9810",
   "metadata": {
    "ExecuteTime": {
     "end_time": "2023-05-10T13:17:50.642645Z",
     "start_time": "2023-05-10T13:17:32.363385Z"
    }
   },
   "outputs": [],
   "source": [
    "df_aux = (df2_purchase[['customer_id', 'invoice_no', 'invoice_date']].drop_duplicates()\n",
    "                                                           .groupby('customer_id')\n",
    "                                                           .agg(max_ =('invoice_date', 'max'),\n",
    "                                                                min_ =('invoice_date', 'min'),\n",
    "                                                                days_ =('invoice_date', lambda x:(( x.max() - x.min()).days)+1),\n",
    "                                                                buy_ =('invoice_date', 'count'))).reset_index()\n",
    "#Frequency\n",
    "df_aux['frequency'] =df_aux[['buy_', 'days_']].apply( lambda x: x['buy_']/ x['days_'] if x['days_'] != 0 else 0, axis=1)\n",
    "\n",
    "#Merge\n",
    "df_ref = pd.merge(df_ref, df_aux[['customer_id', 'frequency']], how='left', on='customer_id')"
   ]
  },
  {
   "cell_type": "markdown",
   "id": "6d8f473e",
   "metadata": {},
   "source": [
    "### Average Ticket Value"
   ]
  },
  {
   "cell_type": "code",
   "execution_count": 108,
   "id": "46575aea",
   "metadata": {
    "ExecuteTime": {
     "end_time": "2023-05-10T13:17:51.291391Z",
     "start_time": "2023-05-10T13:17:51.250394Z"
    }
   },
   "outputs": [
    {
     "data": {
      "text/plain": [
       "customer_id        0\n",
       "gross_revenue     27\n",
       "recency_days      27\n",
       "qty_invoice_no    27\n",
       "qtde_products     27\n",
       "qty_items         27\n",
       "frequency         27\n",
       "avg_ticket        27\n",
       "dtype: int64"
      ]
     },
     "execution_count": 108,
     "metadata": {},
     "output_type": "execute_result"
    }
   ],
   "source": [
    "# Average Ticket Value\n",
    "df_avg_ticket = df2_purchase.loc[:, ['customer_id', 'gross_revenue']].groupby( 'customer_id' ).mean().reset_index().rename( columns={'gross_revenue':'avg_ticket'} )\n",
    "df_ref = pd.merge( df_ref, df_avg_ticket, on='customer_id', how='left')\n",
    "df_ref.isna().sum()"
   ]
  },
  {
   "cell_type": "markdown",
   "id": "042f6d72",
   "metadata": {},
   "source": [
    "### Number of Returns"
   ]
  },
  {
   "cell_type": "code",
   "execution_count": 109,
   "id": "323fed79",
   "metadata": {
    "ExecuteTime": {
     "end_time": "2023-05-10T13:17:51.899534Z",
     "start_time": "2023-05-10T13:17:51.855496Z"
    }
   },
   "outputs": [
    {
     "data": {
      "text/plain": [
       "customer_id        0\n",
       "gross_revenue     27\n",
       "recency_days      27\n",
       "qty_invoice_no    27\n",
       "qtde_products     27\n",
       "qty_items         27\n",
       "frequency         27\n",
       "avg_ticket        27\n",
       "qty_returns        0\n",
       "dtype: int64"
      ]
     },
     "execution_count": 109,
     "metadata": {},
     "output_type": "execute_result"
    }
   ],
   "source": [
    "#Number of Returns\n",
    "df_returns = df_return[['customer_id', 'quantity']].groupby( 'customer_id' ).sum().reset_index().rename( columns={'quantity':'qty_returns'} )\n",
    "df_returns['qty_returns'] = df_returns['qty_returns'] * -1\n",
    "\n",
    "df_ref = pd.merge( df_ref, df_returns, how='left', on='customer_id' )\n",
    "df_ref.loc[df_ref['qty_returns'].isna(), 'qty_returns'] = 0 #customers with 0 returned items\n",
    "\n",
    "df_ref.isna().sum()"
   ]
  },
  {
   "cell_type": "markdown",
   "id": "497e37e0",
   "metadata": {},
   "source": [
    "### Basket Size"
   ]
  },
  {
   "cell_type": "code",
   "execution_count": 110,
   "id": "04be86a8",
   "metadata": {
    "ExecuteTime": {
     "end_time": "2023-05-10T13:17:52.675076Z",
     "start_time": "2023-05-10T13:17:52.462499Z"
    }
   },
   "outputs": [
    {
     "data": {
      "text/plain": [
       "customer_id         0\n",
       "gross_revenue      27\n",
       "recency_days       27\n",
       "qty_invoice_no     27\n",
       "qtde_products      27\n",
       "qty_items          27\n",
       "frequency          27\n",
       "avg_ticket         27\n",
       "qty_returns         0\n",
       "avg_basket_size    27\n",
       "dtype: int64"
      ]
     },
     "execution_count": 110,
     "metadata": {},
     "output_type": "execute_result"
    }
   ],
   "source": [
    "#Basket Size - the number of products sold in a single purchase ( Quantity )\n",
    "# Invoice No = Purchase = purchase\n",
    "# Stock Code = Produto Único = Product\n",
    "# Quantity = Item = Item\n",
    "\n",
    "df_aux = ( df2_purchase.loc[:, ['customer_id', 'invoice_no', 'quantity']].groupby( 'customer_id' )\n",
    "                                                                            .agg( n_purchase=( 'invoice_no', 'nunique'),\n",
    "                                                                                   n_products=( 'quantity', 'sum' ) )\n",
    "                                                                            .reset_index() )\n",
    "\n",
    "# calculation\n",
    "df_aux['avg_basket_size'] = df_aux['n_products'] / df_aux['n_purchase']\n",
    "\n",
    "# merge\n",
    "df_ref = pd.merge( df_ref, df_aux[['customer_id', 'avg_basket_size']], how='left', on='customer_id' )\n",
    "df_ref.isna().sum()"
   ]
  },
  {
   "cell_type": "markdown",
   "id": "1cbc56ae",
   "metadata": {},
   "source": [
    "### Unique Basket Size"
   ]
  },
  {
   "cell_type": "code",
   "execution_count": 111,
   "id": "0363c98c",
   "metadata": {
    "ExecuteTime": {
     "end_time": "2023-05-10T13:17:54.181856Z",
     "start_time": "2023-05-10T13:17:53.871855Z"
    }
   },
   "outputs": [
    {
     "data": {
      "text/plain": [
       "customer_id                0\n",
       "gross_revenue             27\n",
       "recency_days              27\n",
       "qty_invoice_no            27\n",
       "qtde_products             27\n",
       "qty_items                 27\n",
       "frequency                 27\n",
       "avg_ticket                27\n",
       "qty_returns                0\n",
       "avg_basket_size           27\n",
       "avg_unique_basket_size    27\n",
       "dtype: int64"
      ]
     },
     "execution_count": 111,
     "metadata": {},
     "output_type": "execute_result"
    }
   ],
   "source": [
    "#Unique Basket Size - Quantidade de produtos distintos por compra\n",
    "\n",
    "df_aux = ( df2_purchase.loc[:, ['customer_id', 'invoice_no', 'stock_code']].groupby( 'customer_id' )\n",
    "                                                                            .agg( n_purchase=( 'invoice_no', 'nunique'),\n",
    "                                                                                   n_products=( 'stock_code', 'nunique' ) )\n",
    "                                                                            .reset_index() )\n",
    "\n",
    "# calculation\n",
    "df_aux['avg_unique_basket_size'] = df_aux['n_products'] / df_aux['n_purchase']\n",
    "\n",
    "# merge\n",
    "df_ref = pd.merge( df_ref, df_aux[['customer_id', 'avg_unique_basket_size']], how='left', on='customer_id' )\n",
    "df_ref.isna().sum()"
   ]
  },
  {
   "cell_type": "markdown",
   "id": "848d898f",
   "metadata": {},
   "source": [
    "# EDA"
   ]
  },
  {
   "cell_type": "code",
   "execution_count": 112,
   "id": "57f44d0d",
   "metadata": {
    "ExecuteTime": {
     "end_time": "2023-05-10T13:17:54.841621Z",
     "start_time": "2023-05-10T13:17:54.831591Z"
    }
   },
   "outputs": [],
   "source": [
    "df4 = df_ref.copy()"
   ]
  },
  {
   "cell_type": "markdown",
   "id": "2dabfe3c",
   "metadata": {},
   "source": [
    "**O cluster deve ser coesos e separados**\n",
    "**Métricas que indicam variabilidade:** \n",
    "\n",
    "    - Min, Max, Range (Dispersão)\n",
    "    \n",
    "    - Media e Mediana\n",
    "    \n",
    "    - Desvio padrão e Variancia\n",
    "    \n",
    "    - Distribuição\n",
    "    \n",
    "    - Coeficiente de Variação\n",
    "    \n",
    "    - Olhar com atenção pros outliers"
   ]
  },
  {
   "cell_type": "markdown",
   "id": "efa0eaa0",
   "metadata": {},
   "source": [
    "## Análise Univariada\n",
    "Usar o Sweetviz"
   ]
  },
  {
   "cell_type": "code",
   "execution_count": 113,
   "id": "928033f4",
   "metadata": {
    "ExecuteTime": {
     "end_time": "2023-05-10T13:18:20.640378Z",
     "start_time": "2023-05-10T13:17:55.452591Z"
    }
   },
   "outputs": [
    {
     "data": {
      "application/vnd.jupyter.widget-view+json": {
       "model_id": "0235450d2359482ebd882a0ff8e7534f",
       "version_major": 2,
       "version_minor": 0
      },
      "text/plain": [
       "                                             |                                             | [  0%]   00:00 ->…"
      ]
     },
     "metadata": {},
     "output_type": "display_data"
    },
    {
     "name": "stdout",
     "output_type": "stream",
     "text": [
      "Report SWEETVIZ_REPORT.html was generated! NOTEBOOK/COLAB USERS: the web browser MAY not pop up, regardless, the report IS saved in your notebook/colab files.\n"
     ]
    }
   ],
   "source": [
    "#generate report with Pandas Profiling Report\n",
    "my_report2 = sv.analyze(df4)\n",
    "my_report2.show_html() "
   ]
  },
  {
   "cell_type": "markdown",
   "id": "4a13fb22",
   "metadata": {
    "ExecuteTime": {
     "end_time": "2023-05-10T11:59:49.486989Z",
     "start_time": "2023-05-10T11:59:49.486989Z"
    }
   },
   "source": [
    "- AO analisar o relatório do sweetviz observei que tem um valor muito alto. Vamos dar um zoom nesse id e ver do que se trata"
   ]
  },
  {
   "cell_type": "markdown",
   "id": "9f64eb8c",
   "metadata": {
    "ExecuteTime": {
     "end_time": "2023-05-10T11:59:49.491990Z",
     "start_time": "2023-05-10T11:59:49.491990Z"
    }
   },
   "source": [
    "### Quantity Items"
   ]
  },
  {
   "cell_type": "code",
   "execution_count": 86,
   "id": "989afd84",
   "metadata": {
    "ExecuteTime": {
     "end_time": "2023-05-10T13:05:13.205754Z",
     "start_time": "2023-05-10T13:05:13.181722Z"
    }
   },
   "outputs": [
    {
     "data": {
      "text/html": [
       "<div>\n",
       "<style scoped>\n",
       "    .dataframe tbody tr th:only-of-type {\n",
       "        vertical-align: middle;\n",
       "    }\n",
       "\n",
       "    .dataframe tbody tr th {\n",
       "        vertical-align: top;\n",
       "    }\n",
       "\n",
       "    .dataframe thead th {\n",
       "        text-align: right;\n",
       "    }\n",
       "</style>\n",
       "<table border=\"1\" class=\"dataframe\">\n",
       "  <thead>\n",
       "    <tr style=\"text-align: right;\">\n",
       "      <th></th>\n",
       "      <th>customer_id</th>\n",
       "      <th>gross_revenue</th>\n",
       "      <th>recency_days</th>\n",
       "      <th>qty_invoice_no</th>\n",
       "      <th>qtde_products</th>\n",
       "      <th>qty_items</th>\n",
       "      <th>frequency</th>\n",
       "      <th>avg_ticket</th>\n",
       "      <th>qty_returns</th>\n",
       "      <th>avg_basket_size</th>\n",
       "      <th>avg_unique_basket_size</th>\n",
       "    </tr>\n",
       "  </thead>\n",
       "  <tbody>\n",
       "    <tr>\n",
       "      <th>908</th>\n",
       "      <td>14646</td>\n",
       "      <td>279138.02</td>\n",
       "      <td>1.0</td>\n",
       "      <td>72.0</td>\n",
       "      <td>2060.0</td>\n",
       "      <td>196844.0</td>\n",
       "      <td>0.20339</td>\n",
       "      <td>135.503893</td>\n",
       "      <td>288.0</td>\n",
       "      <td>2733.944444</td>\n",
       "      <td>9.708333</td>\n",
       "    </tr>\n",
       "  </tbody>\n",
       "</table>\n",
       "</div>"
      ],
      "text/plain": [
       "     customer_id  gross_revenue  recency_days  qty_invoice_no  qtde_products  \\\n",
       "908        14646      279138.02           1.0            72.0         2060.0   \n",
       "\n",
       "     qty_items  frequency  avg_ticket  qty_returns  avg_basket_size  \\\n",
       "908   196844.0    0.20339  135.503893        288.0      2733.944444   \n",
       "\n",
       "     avg_unique_basket_size  \n",
       "908                9.708333  "
      ]
     },
     "execution_count": 86,
     "metadata": {},
     "output_type": "execute_result"
    }
   ],
   "source": [
    "df4.loc[df4['qty_items']==196844]"
   ]
  },
  {
   "cell_type": "code",
   "execution_count": null,
   "id": "3ff7ec0f",
   "metadata": {},
   "outputs": [],
   "source": [
    "Esse cliente fez a compra ha 1 dia, comprou 2060 produtos m tem uma frequencia de 20"
   ]
  },
  {
   "cell_type": "code",
   "execution_count": 91,
   "id": "483e195e",
   "metadata": {
    "ExecuteTime": {
     "end_time": "2023-05-10T13:07:52.272630Z",
     "start_time": "2023-05-10T13:07:52.239631Z"
    }
   },
   "outputs": [
    {
     "data": {
      "text/html": [
       "<div>\n",
       "<style scoped>\n",
       "    .dataframe tbody tr th:only-of-type {\n",
       "        vertical-align: middle;\n",
       "    }\n",
       "\n",
       "    .dataframe tbody tr th {\n",
       "        vertical-align: top;\n",
       "    }\n",
       "\n",
       "    .dataframe thead th {\n",
       "        text-align: right;\n",
       "    }\n",
       "</style>\n",
       "<table border=\"1\" class=\"dataframe\">\n",
       "  <thead>\n",
       "    <tr style=\"text-align: right;\">\n",
       "      <th></th>\n",
       "      <th>invoice_no</th>\n",
       "      <th>stock_code</th>\n",
       "      <th>quantity</th>\n",
       "      <th>invoice_date</th>\n",
       "      <th>unit_price</th>\n",
       "      <th>customer_id</th>\n",
       "      <th>country</th>\n",
       "    </tr>\n",
       "  </thead>\n",
       "  <tbody>\n",
       "    <tr>\n",
       "      <th>37952</th>\n",
       "      <td>539491</td>\n",
       "      <td>21981</td>\n",
       "      <td>12</td>\n",
       "      <td>2016-12-18</td>\n",
       "      <td>0.29</td>\n",
       "      <td>14646</td>\n",
       "      <td>Netherlands</td>\n",
       "    </tr>\n",
       "    <tr>\n",
       "      <th>37953</th>\n",
       "      <td>539491</td>\n",
       "      <td>21986</td>\n",
       "      <td>12</td>\n",
       "      <td>2016-12-18</td>\n",
       "      <td>0.29</td>\n",
       "      <td>14646</td>\n",
       "      <td>Netherlands</td>\n",
       "    </tr>\n",
       "    <tr>\n",
       "      <th>37954</th>\n",
       "      <td>539491</td>\n",
       "      <td>22720</td>\n",
       "      <td>2</td>\n",
       "      <td>2016-12-18</td>\n",
       "      <td>4.95</td>\n",
       "      <td>14646</td>\n",
       "      <td>Netherlands</td>\n",
       "    </tr>\n",
       "    <tr>\n",
       "      <th>37955</th>\n",
       "      <td>539491</td>\n",
       "      <td>21931</td>\n",
       "      <td>1</td>\n",
       "      <td>2016-12-18</td>\n",
       "      <td>1.95</td>\n",
       "      <td>14646</td>\n",
       "      <td>Netherlands</td>\n",
       "    </tr>\n",
       "    <tr>\n",
       "      <th>37956</th>\n",
       "      <td>539491</td>\n",
       "      <td>22613</td>\n",
       "      <td>2</td>\n",
       "      <td>2016-12-18</td>\n",
       "      <td>0.85</td>\n",
       "      <td>14646</td>\n",
       "      <td>Netherlands</td>\n",
       "    </tr>\n",
       "    <tr>\n",
       "      <th>37957</th>\n",
       "      <td>539491</td>\n",
       "      <td>20751</td>\n",
       "      <td>1</td>\n",
       "      <td>2016-12-18</td>\n",
       "      <td>2.10</td>\n",
       "      <td>14646</td>\n",
       "      <td>Netherlands</td>\n",
       "    </tr>\n",
       "    <tr>\n",
       "      <th>37958</th>\n",
       "      <td>539491</td>\n",
       "      <td>21246</td>\n",
       "      <td>2</td>\n",
       "      <td>2016-12-18</td>\n",
       "      <td>4.95</td>\n",
       "      <td>14646</td>\n",
       "      <td>Netherlands</td>\n",
       "    </tr>\n",
       "    <tr>\n",
       "      <th>37959</th>\n",
       "      <td>539491</td>\n",
       "      <td>22960</td>\n",
       "      <td>1</td>\n",
       "      <td>2016-12-18</td>\n",
       "      <td>4.25</td>\n",
       "      <td>14646</td>\n",
       "      <td>Netherlands</td>\n",
       "    </tr>\n",
       "    <tr>\n",
       "      <th>37960</th>\n",
       "      <td>539491</td>\n",
       "      <td>22355</td>\n",
       "      <td>2</td>\n",
       "      <td>2016-12-18</td>\n",
       "      <td>0.85</td>\n",
       "      <td>14646</td>\n",
       "      <td>Netherlands</td>\n",
       "    </tr>\n",
       "    <tr>\n",
       "      <th>37961</th>\n",
       "      <td>539491</td>\n",
       "      <td>21123</td>\n",
       "      <td>2</td>\n",
       "      <td>2016-12-18</td>\n",
       "      <td>1.25</td>\n",
       "      <td>14646</td>\n",
       "      <td>Netherlands</td>\n",
       "    </tr>\n",
       "    <tr>\n",
       "      <th>37962</th>\n",
       "      <td>539491</td>\n",
       "      <td>47599A</td>\n",
       "      <td>2</td>\n",
       "      <td>2016-12-18</td>\n",
       "      <td>2.10</td>\n",
       "      <td>14646</td>\n",
       "      <td>Netherlands</td>\n",
       "    </tr>\n",
       "    <tr>\n",
       "      <th>37963</th>\n",
       "      <td>539491</td>\n",
       "      <td>22331</td>\n",
       "      <td>2</td>\n",
       "      <td>2016-12-18</td>\n",
       "      <td>1.65</td>\n",
       "      <td>14646</td>\n",
       "      <td>Netherlands</td>\n",
       "    </tr>\n",
       "    <tr>\n",
       "      <th>37964</th>\n",
       "      <td>539491</td>\n",
       "      <td>22333</td>\n",
       "      <td>2</td>\n",
       "      <td>2016-12-18</td>\n",
       "      <td>1.65</td>\n",
       "      <td>14646</td>\n",
       "      <td>Netherlands</td>\n",
       "    </tr>\n",
       "    <tr>\n",
       "      <th>37965</th>\n",
       "      <td>539491</td>\n",
       "      <td>22315</td>\n",
       "      <td>1</td>\n",
       "      <td>2016-12-18</td>\n",
       "      <td>1.25</td>\n",
       "      <td>14646</td>\n",
       "      <td>Netherlands</td>\n",
       "    </tr>\n",
       "    <tr>\n",
       "      <th>37966</th>\n",
       "      <td>539491</td>\n",
       "      <td>22445</td>\n",
       "      <td>1</td>\n",
       "      <td>2016-12-18</td>\n",
       "      <td>2.95</td>\n",
       "      <td>14646</td>\n",
       "      <td>Netherlands</td>\n",
       "    </tr>\n",
       "    <tr>\n",
       "      <th>40190</th>\n",
       "      <td>539731</td>\n",
       "      <td>21212</td>\n",
       "      <td>240</td>\n",
       "      <td>2016-12-19</td>\n",
       "      <td>0.42</td>\n",
       "      <td>14646</td>\n",
       "      <td>Netherlands</td>\n",
       "    </tr>\n",
       "    <tr>\n",
       "      <th>40191</th>\n",
       "      <td>539731</td>\n",
       "      <td>22858</td>\n",
       "      <td>108</td>\n",
       "      <td>2016-12-19</td>\n",
       "      <td>1.45</td>\n",
       "      <td>14646</td>\n",
       "      <td>Netherlands</td>\n",
       "    </tr>\n",
       "    <tr>\n",
       "      <th>40192</th>\n",
       "      <td>539731</td>\n",
       "      <td>84459A</td>\n",
       "      <td>192</td>\n",
       "      <td>2016-12-19</td>\n",
       "      <td>1.25</td>\n",
       "      <td>14646</td>\n",
       "      <td>Netherlands</td>\n",
       "    </tr>\n",
       "    <tr>\n",
       "      <th>40193</th>\n",
       "      <td>539731</td>\n",
       "      <td>84459B</td>\n",
       "      <td>192</td>\n",
       "      <td>2016-12-19</td>\n",
       "      <td>1.25</td>\n",
       "      <td>14646</td>\n",
       "      <td>Netherlands</td>\n",
       "    </tr>\n",
       "    <tr>\n",
       "      <th>40194</th>\n",
       "      <td>539731</td>\n",
       "      <td>22859</td>\n",
       "      <td>108</td>\n",
       "      <td>2016-12-19</td>\n",
       "      <td>1.45</td>\n",
       "      <td>14646</td>\n",
       "      <td>Netherlands</td>\n",
       "    </tr>\n",
       "  </tbody>\n",
       "</table>\n",
       "</div>"
      ],
      "text/plain": [
       "      invoice_no stock_code  quantity invoice_date  unit_price  customer_id  \\\n",
       "37952     539491      21981        12   2016-12-18        0.29        14646   \n",
       "37953     539491      21986        12   2016-12-18        0.29        14646   \n",
       "37954     539491      22720         2   2016-12-18        4.95        14646   \n",
       "37955     539491      21931         1   2016-12-18        1.95        14646   \n",
       "37956     539491      22613         2   2016-12-18        0.85        14646   \n",
       "37957     539491      20751         1   2016-12-18        2.10        14646   \n",
       "37958     539491      21246         2   2016-12-18        4.95        14646   \n",
       "37959     539491      22960         1   2016-12-18        4.25        14646   \n",
       "37960     539491      22355         2   2016-12-18        0.85        14646   \n",
       "37961     539491      21123         2   2016-12-18        1.25        14646   \n",
       "37962     539491     47599A         2   2016-12-18        2.10        14646   \n",
       "37963     539491      22331         2   2016-12-18        1.65        14646   \n",
       "37964     539491      22333         2   2016-12-18        1.65        14646   \n",
       "37965     539491      22315         1   2016-12-18        1.25        14646   \n",
       "37966     539491      22445         1   2016-12-18        2.95        14646   \n",
       "40190     539731      21212       240   2016-12-19        0.42        14646   \n",
       "40191     539731      22858       108   2016-12-19        1.45        14646   \n",
       "40192     539731     84459A       192   2016-12-19        1.25        14646   \n",
       "40193     539731     84459B       192   2016-12-19        1.25        14646   \n",
       "40194     539731      22859       108   2016-12-19        1.45        14646   \n",
       "\n",
       "           country  \n",
       "37952  Netherlands  \n",
       "37953  Netherlands  \n",
       "37954  Netherlands  \n",
       "37955  Netherlands  \n",
       "37956  Netherlands  \n",
       "37957  Netherlands  \n",
       "37958  Netherlands  \n",
       "37959  Netherlands  \n",
       "37960  Netherlands  \n",
       "37961  Netherlands  \n",
       "37962  Netherlands  \n",
       "37963  Netherlands  \n",
       "37964  Netherlands  \n",
       "37965  Netherlands  \n",
       "37966  Netherlands  \n",
       "40190  Netherlands  \n",
       "40191  Netherlands  \n",
       "40192  Netherlands  \n",
       "40193  Netherlands  \n",
       "40194  Netherlands  "
      ]
     },
     "execution_count": 91,
     "metadata": {},
     "output_type": "execute_result"
    }
   ],
   "source": [
    "df3[df3['customer_id']==14646].head(20)"
   ]
  },
  {
   "cell_type": "markdown",
   "id": "63845c5a",
   "metadata": {},
   "source": [
    "**- Ao que aparece é um cliente recorrente que compra grandes quantidades em pequenos valores**"
   ]
  },
  {
   "cell_type": "markdown",
   "id": "619e99f2",
   "metadata": {},
   "source": [
    "### AVG Ticket"
   ]
  },
  {
   "cell_type": "markdown",
   "id": "4bd52855",
   "metadata": {},
   "source": [
    "O AVG tciket também demosntrou um valor discrepante.\n",
    "Percebe-se que é o mesmo cliente anterior, sendo assim, a decisão é de excluir esse id, pois ele gera um outlier e distorce as informações dos dados."
   ]
  },
  {
   "cell_type": "code",
   "execution_count": 96,
   "id": "a34f6362",
   "metadata": {
    "ExecuteTime": {
     "end_time": "2023-05-10T13:12:14.155697Z",
     "start_time": "2023-05-10T13:12:14.126690Z"
    }
   },
   "outputs": [
    {
     "data": {
      "text/html": [
       "<div>\n",
       "<style scoped>\n",
       "    .dataframe tbody tr th:only-of-type {\n",
       "        vertical-align: middle;\n",
       "    }\n",
       "\n",
       "    .dataframe tbody tr th {\n",
       "        vertical-align: top;\n",
       "    }\n",
       "\n",
       "    .dataframe thead th {\n",
       "        text-align: right;\n",
       "    }\n",
       "</style>\n",
       "<table border=\"1\" class=\"dataframe\">\n",
       "  <thead>\n",
       "    <tr style=\"text-align: right;\">\n",
       "      <th></th>\n",
       "      <th>customer_id</th>\n",
       "      <th>gross_revenue</th>\n",
       "      <th>recency_days</th>\n",
       "      <th>qty_invoice_no</th>\n",
       "      <th>qtde_products</th>\n",
       "      <th>qty_items</th>\n",
       "      <th>frequency</th>\n",
       "      <th>avg_ticket</th>\n",
       "      <th>qty_returns</th>\n",
       "      <th>avg_basket_size</th>\n",
       "      <th>avg_unique_basket_size</th>\n",
       "    </tr>\n",
       "  </thead>\n",
       "  <tbody>\n",
       "    <tr>\n",
       "      <th>2644</th>\n",
       "      <td>16446</td>\n",
       "      <td>168472.5</td>\n",
       "      <td>0.0</td>\n",
       "      <td>2.0</td>\n",
       "      <td>3.0</td>\n",
       "      <td>80997.0</td>\n",
       "      <td>0.009709</td>\n",
       "      <td>56157.5</td>\n",
       "      <td>80995.0</td>\n",
       "      <td>40498.5</td>\n",
       "      <td>1.5</td>\n",
       "    </tr>\n",
       "  </tbody>\n",
       "</table>\n",
       "</div>"
      ],
      "text/plain": [
       "      customer_id  gross_revenue  recency_days  qty_invoice_no  qtde_products  \\\n",
       "2644        16446       168472.5           0.0             2.0            3.0   \n",
       "\n",
       "      qty_items  frequency  avg_ticket  qty_returns  avg_basket_size  \\\n",
       "2644    80997.0   0.009709     56157.5      80995.0          40498.5   \n",
       "\n",
       "      avg_unique_basket_size  \n",
       "2644                     1.5  "
      ]
     },
     "execution_count": 96,
     "metadata": {},
     "output_type": "execute_result"
    }
   ],
   "source": [
    "df4[df4['avg_ticket']==56157.5]"
   ]
  },
  {
   "cell_type": "markdown",
   "id": "7c2d8dda",
   "metadata": {},
   "source": [
    "### Frequency"
   ]
  },
  {
   "cell_type": "code",
   "execution_count": 119,
   "id": "e62ea49c",
   "metadata": {
    "ExecuteTime": {
     "end_time": "2023-05-10T13:21:37.115969Z",
     "start_time": "2023-05-10T13:21:37.084968Z"
    }
   },
   "outputs": [
    {
     "data": {
      "text/html": [
       "<div>\n",
       "<style scoped>\n",
       "    .dataframe tbody tr th:only-of-type {\n",
       "        vertical-align: middle;\n",
       "    }\n",
       "\n",
       "    .dataframe tbody tr th {\n",
       "        vertical-align: top;\n",
       "    }\n",
       "\n",
       "    .dataframe thead th {\n",
       "        text-align: right;\n",
       "    }\n",
       "</style>\n",
       "<table border=\"1\" class=\"dataframe\">\n",
       "  <thead>\n",
       "    <tr style=\"text-align: right;\">\n",
       "      <th></th>\n",
       "      <th>customer_id</th>\n",
       "      <th>gross_revenue</th>\n",
       "      <th>recency_days</th>\n",
       "      <th>qty_invoice_no</th>\n",
       "      <th>qtde_products</th>\n",
       "      <th>qty_items</th>\n",
       "      <th>frequency</th>\n",
       "      <th>avg_ticket</th>\n",
       "      <th>qty_returns</th>\n",
       "      <th>avg_basket_size</th>\n",
       "      <th>avg_unique_basket_size</th>\n",
       "    </tr>\n",
       "  </thead>\n",
       "  <tbody>\n",
       "    <tr>\n",
       "      <th>0</th>\n",
       "      <td>17850</td>\n",
       "      <td>5391.21</td>\n",
       "      <td>372.0</td>\n",
       "      <td>34.0</td>\n",
       "      <td>297.0</td>\n",
       "      <td>1733.0</td>\n",
       "      <td>17.0</td>\n",
       "      <td>18.152222</td>\n",
       "      <td>40.0</td>\n",
       "      <td>50.970588</td>\n",
       "      <td>0.617647</td>\n",
       "    </tr>\n",
       "  </tbody>\n",
       "</table>\n",
       "</div>"
      ],
      "text/plain": [
       "   customer_id  gross_revenue  recency_days  qty_invoice_no  qtde_products  \\\n",
       "0        17850        5391.21         372.0            34.0          297.0   \n",
       "\n",
       "   qty_items  frequency  avg_ticket  qty_returns  avg_basket_size  \\\n",
       "0     1733.0       17.0   18.152222         40.0        50.970588   \n",
       "\n",
       "   avg_unique_basket_size  \n",
       "0                0.617647  "
      ]
     },
     "execution_count": 119,
     "metadata": {},
     "output_type": "execute_result"
    }
   ],
   "source": [
    "df4[df4['frequency']==17]"
   ]
  },
  {
   "cell_type": "code",
   "execution_count": 122,
   "id": "fb64a660",
   "metadata": {
    "ExecuteTime": {
     "end_time": "2023-05-10T13:23:24.645561Z",
     "start_time": "2023-05-10T13:23:24.610562Z"
    }
   },
   "outputs": [
    {
     "data": {
      "text/html": [
       "<div>\n",
       "<style scoped>\n",
       "    .dataframe tbody tr th:only-of-type {\n",
       "        vertical-align: middle;\n",
       "    }\n",
       "\n",
       "    .dataframe tbody tr th {\n",
       "        vertical-align: top;\n",
       "    }\n",
       "\n",
       "    .dataframe thead th {\n",
       "        text-align: right;\n",
       "    }\n",
       "</style>\n",
       "<table border=\"1\" class=\"dataframe\">\n",
       "  <thead>\n",
       "    <tr style=\"text-align: right;\">\n",
       "      <th></th>\n",
       "      <th>invoice_no</th>\n",
       "      <th>stock_code</th>\n",
       "      <th>quantity</th>\n",
       "      <th>invoice_date</th>\n",
       "      <th>unit_price</th>\n",
       "      <th>customer_id</th>\n",
       "      <th>country</th>\n",
       "    </tr>\n",
       "  </thead>\n",
       "  <tbody>\n",
       "    <tr>\n",
       "      <th>0</th>\n",
       "      <td>536365</td>\n",
       "      <td>85123A</td>\n",
       "      <td>6</td>\n",
       "      <td>2016-11-29</td>\n",
       "      <td>2.55</td>\n",
       "      <td>17850</td>\n",
       "      <td>United Kingdom</td>\n",
       "    </tr>\n",
       "    <tr>\n",
       "      <th>1</th>\n",
       "      <td>536365</td>\n",
       "      <td>71053</td>\n",
       "      <td>6</td>\n",
       "      <td>2016-11-29</td>\n",
       "      <td>3.39</td>\n",
       "      <td>17850</td>\n",
       "      <td>United Kingdom</td>\n",
       "    </tr>\n",
       "    <tr>\n",
       "      <th>2</th>\n",
       "      <td>536365</td>\n",
       "      <td>84406B</td>\n",
       "      <td>8</td>\n",
       "      <td>2016-11-29</td>\n",
       "      <td>2.75</td>\n",
       "      <td>17850</td>\n",
       "      <td>United Kingdom</td>\n",
       "    </tr>\n",
       "    <tr>\n",
       "      <th>3</th>\n",
       "      <td>536365</td>\n",
       "      <td>84029G</td>\n",
       "      <td>6</td>\n",
       "      <td>2016-11-29</td>\n",
       "      <td>3.39</td>\n",
       "      <td>17850</td>\n",
       "      <td>United Kingdom</td>\n",
       "    </tr>\n",
       "    <tr>\n",
       "      <th>4</th>\n",
       "      <td>536365</td>\n",
       "      <td>84029E</td>\n",
       "      <td>6</td>\n",
       "      <td>2016-11-29</td>\n",
       "      <td>3.39</td>\n",
       "      <td>17850</td>\n",
       "      <td>United Kingdom</td>\n",
       "    </tr>\n",
       "    <tr>\n",
       "      <th>5</th>\n",
       "      <td>536365</td>\n",
       "      <td>22752</td>\n",
       "      <td>2</td>\n",
       "      <td>2016-11-29</td>\n",
       "      <td>7.65</td>\n",
       "      <td>17850</td>\n",
       "      <td>United Kingdom</td>\n",
       "    </tr>\n",
       "    <tr>\n",
       "      <th>6</th>\n",
       "      <td>536365</td>\n",
       "      <td>21730</td>\n",
       "      <td>6</td>\n",
       "      <td>2016-11-29</td>\n",
       "      <td>4.25</td>\n",
       "      <td>17850</td>\n",
       "      <td>United Kingdom</td>\n",
       "    </tr>\n",
       "    <tr>\n",
       "      <th>7</th>\n",
       "      <td>536366</td>\n",
       "      <td>22633</td>\n",
       "      <td>6</td>\n",
       "      <td>2016-11-29</td>\n",
       "      <td>1.85</td>\n",
       "      <td>17850</td>\n",
       "      <td>United Kingdom</td>\n",
       "    </tr>\n",
       "    <tr>\n",
       "      <th>8</th>\n",
       "      <td>536366</td>\n",
       "      <td>22632</td>\n",
       "      <td>6</td>\n",
       "      <td>2016-11-29</td>\n",
       "      <td>1.85</td>\n",
       "      <td>17850</td>\n",
       "      <td>United Kingdom</td>\n",
       "    </tr>\n",
       "    <tr>\n",
       "      <th>47</th>\n",
       "      <td>536372</td>\n",
       "      <td>22632</td>\n",
       "      <td>6</td>\n",
       "      <td>2016-11-29</td>\n",
       "      <td>1.85</td>\n",
       "      <td>17850</td>\n",
       "      <td>United Kingdom</td>\n",
       "    </tr>\n",
       "    <tr>\n",
       "      <th>48</th>\n",
       "      <td>536372</td>\n",
       "      <td>22633</td>\n",
       "      <td>6</td>\n",
       "      <td>2016-11-29</td>\n",
       "      <td>1.85</td>\n",
       "      <td>17850</td>\n",
       "      <td>United Kingdom</td>\n",
       "    </tr>\n",
       "    <tr>\n",
       "      <th>49</th>\n",
       "      <td>536373</td>\n",
       "      <td>85123A</td>\n",
       "      <td>6</td>\n",
       "      <td>2016-11-29</td>\n",
       "      <td>2.55</td>\n",
       "      <td>17850</td>\n",
       "      <td>United Kingdom</td>\n",
       "    </tr>\n",
       "    <tr>\n",
       "      <th>50</th>\n",
       "      <td>536373</td>\n",
       "      <td>71053</td>\n",
       "      <td>6</td>\n",
       "      <td>2016-11-29</td>\n",
       "      <td>3.39</td>\n",
       "      <td>17850</td>\n",
       "      <td>United Kingdom</td>\n",
       "    </tr>\n",
       "    <tr>\n",
       "      <th>51</th>\n",
       "      <td>536373</td>\n",
       "      <td>84406B</td>\n",
       "      <td>8</td>\n",
       "      <td>2016-11-29</td>\n",
       "      <td>2.75</td>\n",
       "      <td>17850</td>\n",
       "      <td>United Kingdom</td>\n",
       "    </tr>\n",
       "    <tr>\n",
       "      <th>52</th>\n",
       "      <td>536373</td>\n",
       "      <td>20679</td>\n",
       "      <td>6</td>\n",
       "      <td>2016-11-29</td>\n",
       "      <td>4.95</td>\n",
       "      <td>17850</td>\n",
       "      <td>United Kingdom</td>\n",
       "    </tr>\n",
       "    <tr>\n",
       "      <th>53</th>\n",
       "      <td>536373</td>\n",
       "      <td>37370</td>\n",
       "      <td>6</td>\n",
       "      <td>2016-11-29</td>\n",
       "      <td>1.06</td>\n",
       "      <td>17850</td>\n",
       "      <td>United Kingdom</td>\n",
       "    </tr>\n",
       "    <tr>\n",
       "      <th>54</th>\n",
       "      <td>536373</td>\n",
       "      <td>21871</td>\n",
       "      <td>6</td>\n",
       "      <td>2016-11-29</td>\n",
       "      <td>1.06</td>\n",
       "      <td>17850</td>\n",
       "      <td>United Kingdom</td>\n",
       "    </tr>\n",
       "    <tr>\n",
       "      <th>55</th>\n",
       "      <td>536373</td>\n",
       "      <td>21071</td>\n",
       "      <td>6</td>\n",
       "      <td>2016-11-29</td>\n",
       "      <td>1.06</td>\n",
       "      <td>17850</td>\n",
       "      <td>United Kingdom</td>\n",
       "    </tr>\n",
       "    <tr>\n",
       "      <th>56</th>\n",
       "      <td>536373</td>\n",
       "      <td>21068</td>\n",
       "      <td>6</td>\n",
       "      <td>2016-11-29</td>\n",
       "      <td>1.06</td>\n",
       "      <td>17850</td>\n",
       "      <td>United Kingdom</td>\n",
       "    </tr>\n",
       "    <tr>\n",
       "      <th>57</th>\n",
       "      <td>536373</td>\n",
       "      <td>82483</td>\n",
       "      <td>2</td>\n",
       "      <td>2016-11-29</td>\n",
       "      <td>4.95</td>\n",
       "      <td>17850</td>\n",
       "      <td>United Kingdom</td>\n",
       "    </tr>\n",
       "  </tbody>\n",
       "</table>\n",
       "</div>"
      ],
      "text/plain": [
       "   invoice_no stock_code  quantity invoice_date  unit_price  customer_id  \\\n",
       "0      536365     85123A         6   2016-11-29        2.55        17850   \n",
       "1      536365      71053         6   2016-11-29        3.39        17850   \n",
       "2      536365     84406B         8   2016-11-29        2.75        17850   \n",
       "3      536365     84029G         6   2016-11-29        3.39        17850   \n",
       "4      536365     84029E         6   2016-11-29        3.39        17850   \n",
       "5      536365      22752         2   2016-11-29        7.65        17850   \n",
       "6      536365      21730         6   2016-11-29        4.25        17850   \n",
       "7      536366      22633         6   2016-11-29        1.85        17850   \n",
       "8      536366      22632         6   2016-11-29        1.85        17850   \n",
       "47     536372      22632         6   2016-11-29        1.85        17850   \n",
       "48     536372      22633         6   2016-11-29        1.85        17850   \n",
       "49     536373     85123A         6   2016-11-29        2.55        17850   \n",
       "50     536373      71053         6   2016-11-29        3.39        17850   \n",
       "51     536373     84406B         8   2016-11-29        2.75        17850   \n",
       "52     536373      20679         6   2016-11-29        4.95        17850   \n",
       "53     536373      37370         6   2016-11-29        1.06        17850   \n",
       "54     536373      21871         6   2016-11-29        1.06        17850   \n",
       "55     536373      21071         6   2016-11-29        1.06        17850   \n",
       "56     536373      21068         6   2016-11-29        1.06        17850   \n",
       "57     536373      82483         2   2016-11-29        4.95        17850   \n",
       "\n",
       "           country  \n",
       "0   United Kingdom  \n",
       "1   United Kingdom  \n",
       "2   United Kingdom  \n",
       "3   United Kingdom  \n",
       "4   United Kingdom  \n",
       "5   United Kingdom  \n",
       "6   United Kingdom  \n",
       "7   United Kingdom  \n",
       "8   United Kingdom  \n",
       "47  United Kingdom  \n",
       "48  United Kingdom  \n",
       "49  United Kingdom  \n",
       "50  United Kingdom  \n",
       "51  United Kingdom  \n",
       "52  United Kingdom  \n",
       "53  United Kingdom  \n",
       "54  United Kingdom  \n",
       "55  United Kingdom  \n",
       "56  United Kingdom  \n",
       "57  United Kingdom  "
      ]
     },
     "execution_count": 122,
     "metadata": {},
     "output_type": "execute_result"
    }
   ],
   "source": [
    "df3[df3['customer_id']==17850].head(20)"
   ]
  },
  {
   "cell_type": "markdown",
   "id": "bf75e490",
   "metadata": {},
   "source": [
    "O gráfico mostra que a distribuição é afetada pelos valores extremos. Portanto, a maioria dos clientes gastou menos de 1,00 durante o periodo em análise."
   ]
  },
  {
   "cell_type": "markdown",
   "id": "ee494b9e",
   "metadata": {
    "ExecuteTime": {
     "end_time": "2023-05-10T13:18:53.684913Z",
     "start_time": "2023-05-10T13:18:52.589574Z"
    }
   },
   "source": [
    "### AVG Basket size"
   ]
  },
  {
   "cell_type": "markdown",
   "id": "b649b39c",
   "metadata": {},
   "source": [
    "- No gráfico é possível notar que a maioria das compras foram realizadas nos últimos 100 dias\n",
    "- Mas há clientes que não fazem compras ha 373 dias"
   ]
  },
  {
   "cell_type": "code",
   "execution_count": 125,
   "id": "6225da70",
   "metadata": {
    "ExecuteTime": {
     "end_time": "2023-05-10T13:25:57.992061Z",
     "start_time": "2023-05-10T13:25:57.974024Z"
    }
   },
   "outputs": [
    {
     "data": {
      "text/html": [
       "<div>\n",
       "<style scoped>\n",
       "    .dataframe tbody tr th:only-of-type {\n",
       "        vertical-align: middle;\n",
       "    }\n",
       "\n",
       "    .dataframe tbody tr th {\n",
       "        vertical-align: top;\n",
       "    }\n",
       "\n",
       "    .dataframe thead th {\n",
       "        text-align: right;\n",
       "    }\n",
       "</style>\n",
       "<table border=\"1\" class=\"dataframe\">\n",
       "  <thead>\n",
       "    <tr style=\"text-align: right;\">\n",
       "      <th></th>\n",
       "      <th>customer_id</th>\n",
       "      <th>gross_revenue</th>\n",
       "      <th>recency_days</th>\n",
       "      <th>qty_invoice_no</th>\n",
       "      <th>qtde_products</th>\n",
       "      <th>qty_items</th>\n",
       "      <th>frequency</th>\n",
       "      <th>avg_ticket</th>\n",
       "      <th>qty_returns</th>\n",
       "      <th>avg_basket_size</th>\n",
       "      <th>avg_unique_basket_size</th>\n",
       "    </tr>\n",
       "  </thead>\n",
       "  <tbody>\n",
       "  </tbody>\n",
       "</table>\n",
       "</div>"
      ],
      "text/plain": [
       "Empty DataFrame\n",
       "Columns: [customer_id, gross_revenue, recency_days, qty_invoice_no, qtde_products, qty_items, frequency, avg_ticket, qty_returns, avg_basket_size, avg_unique_basket_size]\n",
       "Index: []"
      ]
     },
     "execution_count": 125,
     "metadata": {},
     "output_type": "execute_result"
    }
   ],
   "source": [
    "df4[df4['avg_basket_size']==40498.5]"
   ]
  },
  {
   "cell_type": "markdown",
   "id": "7dade44f",
   "metadata": {},
   "source": [
    "## Bivariate Analysis"
   ]
  },
  {
   "cell_type": "markdown",
   "id": "c072879e",
   "metadata": {},
   "source": [
    "- analyze a feature in relation to all others"
   ]
  },
  {
   "cell_type": "code",
   "execution_count": 133,
   "id": "d0e377bd",
   "metadata": {
    "ExecuteTime": {
     "end_time": "2023-05-10T13:31:59.539182Z",
     "start_time": "2023-05-10T13:31:59.491184Z"
    }
   },
   "outputs": [],
   "source": [
    "cols = ['customer_id']\n",
    "df = df3.drop(cols, axis = 1).copy()"
   ]
  },
  {
   "cell_type": "code",
   "execution_count": null,
   "id": "5ba1c7d6",
   "metadata": {
    "ExecuteTime": {
     "start_time": "2023-05-10T13:32:16.821Z"
    }
   },
   "outputs": [
    {
     "name": "stderr",
     "output_type": "stream",
     "text": [
      "\n",
      "KeyboardInterrupt\n",
      "\n"
     ]
    }
   ],
   "source": [
    "plt.figure( figsize = (25, 12))\n",
    "sns.pairplot(df);"
   ]
  },
  {
   "cell_type": "markdown",
   "id": "99274905",
   "metadata": {},
   "source": [
    "**Notes**\n",
    "\n",
    "    - Frequency has low variance\n",
    "    - Avg ticket has low variance"
   ]
  },
  {
   "cell_type": "code",
   "execution_count": null,
   "id": "15a5229a",
   "metadata": {},
   "outputs": [],
   "source": [
    "pd.to_csv('data/data.to_csv')"
   ]
  },
  {
   "cell_type": "markdown",
   "id": "d3cb8276",
   "metadata": {},
   "source": [
    "# Segmentar os Clientes"
   ]
  },
  {
   "cell_type": "code",
   "execution_count": 126,
   "id": "c3362825",
   "metadata": {
    "ExecuteTime": {
     "end_time": "2023-05-10T13:29:17.976357Z",
     "start_time": "2023-05-10T13:29:17.940358Z"
    }
   },
   "outputs": [
    {
     "data": {
      "text/html": [
       "<div>\n",
       "<style scoped>\n",
       "    .dataframe tbody tr th:only-of-type {\n",
       "        vertical-align: middle;\n",
       "    }\n",
       "\n",
       "    .dataframe tbody tr th {\n",
       "        vertical-align: top;\n",
       "    }\n",
       "\n",
       "    .dataframe thead th {\n",
       "        text-align: right;\n",
       "    }\n",
       "</style>\n",
       "<table border=\"1\" class=\"dataframe\">\n",
       "  <thead>\n",
       "    <tr style=\"text-align: right;\">\n",
       "      <th></th>\n",
       "      <th>customer_id</th>\n",
       "      <th>gross_revenue</th>\n",
       "      <th>recency_days</th>\n",
       "      <th>qty_invoice_no</th>\n",
       "      <th>qtde_products</th>\n",
       "      <th>qty_items</th>\n",
       "      <th>frequency</th>\n",
       "      <th>avg_ticket</th>\n",
       "      <th>qty_returns</th>\n",
       "      <th>avg_basket_size</th>\n",
       "      <th>avg_unique_basket_size</th>\n",
       "    </tr>\n",
       "  </thead>\n",
       "  <tbody>\n",
       "    <tr>\n",
       "      <th>0</th>\n",
       "      <td>17850</td>\n",
       "      <td>5391.21</td>\n",
       "      <td>372.0</td>\n",
       "      <td>34.0</td>\n",
       "      <td>297.0</td>\n",
       "      <td>1733.0</td>\n",
       "      <td>17.000000</td>\n",
       "      <td>18.152222</td>\n",
       "      <td>40.0</td>\n",
       "      <td>50.970588</td>\n",
       "      <td>0.617647</td>\n",
       "    </tr>\n",
       "    <tr>\n",
       "      <th>1</th>\n",
       "      <td>13047</td>\n",
       "      <td>3232.59</td>\n",
       "      <td>56.0</td>\n",
       "      <td>9.0</td>\n",
       "      <td>171.0</td>\n",
       "      <td>1390.0</td>\n",
       "      <td>0.028302</td>\n",
       "      <td>18.904035</td>\n",
       "      <td>35.0</td>\n",
       "      <td>154.444444</td>\n",
       "      <td>11.666667</td>\n",
       "    </tr>\n",
       "    <tr>\n",
       "      <th>2</th>\n",
       "      <td>12583</td>\n",
       "      <td>6705.38</td>\n",
       "      <td>2.0</td>\n",
       "      <td>15.0</td>\n",
       "      <td>232.0</td>\n",
       "      <td>5028.0</td>\n",
       "      <td>0.040323</td>\n",
       "      <td>28.902500</td>\n",
       "      <td>50.0</td>\n",
       "      <td>335.200000</td>\n",
       "      <td>7.600000</td>\n",
       "    </tr>\n",
       "    <tr>\n",
       "      <th>3</th>\n",
       "      <td>13748</td>\n",
       "      <td>948.25</td>\n",
       "      <td>95.0</td>\n",
       "      <td>5.0</td>\n",
       "      <td>28.0</td>\n",
       "      <td>439.0</td>\n",
       "      <td>0.017921</td>\n",
       "      <td>33.866071</td>\n",
       "      <td>0.0</td>\n",
       "      <td>87.800000</td>\n",
       "      <td>4.800000</td>\n",
       "    </tr>\n",
       "    <tr>\n",
       "      <th>4</th>\n",
       "      <td>15100</td>\n",
       "      <td>876.00</td>\n",
       "      <td>333.0</td>\n",
       "      <td>3.0</td>\n",
       "      <td>3.0</td>\n",
       "      <td>80.0</td>\n",
       "      <td>0.073171</td>\n",
       "      <td>292.000000</td>\n",
       "      <td>22.0</td>\n",
       "      <td>26.666667</td>\n",
       "      <td>0.333333</td>\n",
       "    </tr>\n",
       "  </tbody>\n",
       "</table>\n",
       "</div>"
      ],
      "text/plain": [
       "   customer_id  gross_revenue  recency_days  qty_invoice_no  qtde_products  \\\n",
       "0        17850        5391.21         372.0            34.0          297.0   \n",
       "1        13047        3232.59          56.0             9.0          171.0   \n",
       "2        12583        6705.38           2.0            15.0          232.0   \n",
       "3        13748         948.25          95.0             5.0           28.0   \n",
       "4        15100         876.00         333.0             3.0            3.0   \n",
       "\n",
       "   qty_items  frequency  avg_ticket  qty_returns  avg_basket_size  \\\n",
       "0     1733.0  17.000000   18.152222         40.0        50.970588   \n",
       "1     1390.0   0.028302   18.904035         35.0       154.444444   \n",
       "2     5028.0   0.040323   28.902500         50.0       335.200000   \n",
       "3      439.0   0.017921   33.866071          0.0        87.800000   \n",
       "4       80.0   0.073171  292.000000         22.0        26.666667   \n",
       "\n",
       "   avg_unique_basket_size  \n",
       "0                0.617647  \n",
       "1               11.666667  \n",
       "2                7.600000  \n",
       "3                4.800000  \n",
       "4                0.333333  "
      ]
     },
     "execution_count": 126,
     "metadata": {},
     "output_type": "execute_result"
    }
   ],
   "source": [
    "rfm_table = df4.copy()\n",
    "rfm_table.head()"
   ]
  },
  {
   "cell_type": "code",
   "execution_count": 127,
   "id": "adadcde4",
   "metadata": {
    "ExecuteTime": {
     "end_time": "2023-05-10T13:29:20.954397Z",
     "start_time": "2023-05-10T13:29:20.925399Z"
    }
   },
   "outputs": [
    {
     "data": {
      "text/html": [
       "<div>\n",
       "<style scoped>\n",
       "    .dataframe tbody tr th:only-of-type {\n",
       "        vertical-align: middle;\n",
       "    }\n",
       "\n",
       "    .dataframe tbody tr th {\n",
       "        vertical-align: top;\n",
       "    }\n",
       "\n",
       "    .dataframe thead th {\n",
       "        text-align: right;\n",
       "    }\n",
       "</style>\n",
       "<table border=\"1\" class=\"dataframe\">\n",
       "  <thead>\n",
       "    <tr style=\"text-align: right;\">\n",
       "      <th></th>\n",
       "      <th>customer_id</th>\n",
       "      <th>gross_revenue</th>\n",
       "      <th>recency_days</th>\n",
       "      <th>qty_invoice_no</th>\n",
       "      <th>qtde_products</th>\n",
       "      <th>qty_items</th>\n",
       "      <th>frequency</th>\n",
       "      <th>avg_ticket</th>\n",
       "      <th>qty_returns</th>\n",
       "      <th>avg_basket_size</th>\n",
       "      <th>avg_unique_basket_size</th>\n",
       "    </tr>\n",
       "  </thead>\n",
       "  <tbody>\n",
       "    <tr>\n",
       "      <th>0</th>\n",
       "      <td>17850</td>\n",
       "      <td>5391.21</td>\n",
       "      <td>372.0</td>\n",
       "      <td>34.0</td>\n",
       "      <td>297.0</td>\n",
       "      <td>1733.0</td>\n",
       "      <td>17.000000</td>\n",
       "      <td>18.152222</td>\n",
       "      <td>40.0</td>\n",
       "      <td>50.970588</td>\n",
       "      <td>0.617647</td>\n",
       "    </tr>\n",
       "    <tr>\n",
       "      <th>1</th>\n",
       "      <td>13047</td>\n",
       "      <td>3232.59</td>\n",
       "      <td>56.0</td>\n",
       "      <td>9.0</td>\n",
       "      <td>171.0</td>\n",
       "      <td>1390.0</td>\n",
       "      <td>0.028302</td>\n",
       "      <td>18.904035</td>\n",
       "      <td>35.0</td>\n",
       "      <td>154.444444</td>\n",
       "      <td>11.666667</td>\n",
       "    </tr>\n",
       "    <tr>\n",
       "      <th>2</th>\n",
       "      <td>12583</td>\n",
       "      <td>6705.38</td>\n",
       "      <td>2.0</td>\n",
       "      <td>15.0</td>\n",
       "      <td>232.0</td>\n",
       "      <td>5028.0</td>\n",
       "      <td>0.040323</td>\n",
       "      <td>28.902500</td>\n",
       "      <td>50.0</td>\n",
       "      <td>335.200000</td>\n",
       "      <td>7.600000</td>\n",
       "    </tr>\n",
       "    <tr>\n",
       "      <th>3</th>\n",
       "      <td>13748</td>\n",
       "      <td>948.25</td>\n",
       "      <td>95.0</td>\n",
       "      <td>5.0</td>\n",
       "      <td>28.0</td>\n",
       "      <td>439.0</td>\n",
       "      <td>0.017921</td>\n",
       "      <td>33.866071</td>\n",
       "      <td>0.0</td>\n",
       "      <td>87.800000</td>\n",
       "      <td>4.800000</td>\n",
       "    </tr>\n",
       "    <tr>\n",
       "      <th>4</th>\n",
       "      <td>15100</td>\n",
       "      <td>876.00</td>\n",
       "      <td>333.0</td>\n",
       "      <td>3.0</td>\n",
       "      <td>3.0</td>\n",
       "      <td>80.0</td>\n",
       "      <td>0.073171</td>\n",
       "      <td>292.000000</td>\n",
       "      <td>22.0</td>\n",
       "      <td>26.666667</td>\n",
       "      <td>0.333333</td>\n",
       "    </tr>\n",
       "  </tbody>\n",
       "</table>\n",
       "</div>"
      ],
      "text/plain": [
       "   customer_id  gross_revenue  recency_days  qty_invoice_no  qtde_products  \\\n",
       "0        17850        5391.21         372.0            34.0          297.0   \n",
       "1        13047        3232.59          56.0             9.0          171.0   \n",
       "2        12583        6705.38           2.0            15.0          232.0   \n",
       "3        13748         948.25          95.0             5.0           28.0   \n",
       "4        15100         876.00         333.0             3.0            3.0   \n",
       "\n",
       "   qty_items  frequency  avg_ticket  qty_returns  avg_basket_size  \\\n",
       "0     1733.0  17.000000   18.152222         40.0        50.970588   \n",
       "1     1390.0   0.028302   18.904035         35.0       154.444444   \n",
       "2     5028.0   0.040323   28.902500         50.0       335.200000   \n",
       "3      439.0   0.017921   33.866071          0.0        87.800000   \n",
       "4       80.0   0.073171  292.000000         22.0        26.666667   \n",
       "\n",
       "   avg_unique_basket_size  \n",
       "0                0.617647  \n",
       "1               11.666667  \n",
       "2                7.600000  \n",
       "3                4.800000  \n",
       "4                0.333333  "
      ]
     },
     "execution_count": 127,
     "metadata": {},
     "output_type": "execute_result"
    }
   ],
   "source": [
    "df4.head()"
   ]
  },
  {
   "cell_type": "code",
   "execution_count": 128,
   "id": "344b6d2c",
   "metadata": {
    "ExecuteTime": {
     "end_time": "2023-05-10T13:29:22.385131Z",
     "start_time": "2023-05-10T13:29:21.708398Z"
    }
   },
   "outputs": [],
   "source": [
    "last_day = df3.invoice_date.max() + dt.timedelta(days = 1)"
   ]
  },
  {
   "cell_type": "code",
   "execution_count": 129,
   "id": "f89058fe",
   "metadata": {
    "ExecuteTime": {
     "end_time": "2023-05-10T13:29:23.942267Z",
     "start_time": "2023-05-10T13:29:23.135186Z"
    }
   },
   "outputs": [
    {
     "data": {
      "text/html": [
       "<div>\n",
       "<style scoped>\n",
       "    .dataframe tbody tr th:only-of-type {\n",
       "        vertical-align: middle;\n",
       "    }\n",
       "\n",
       "    .dataframe tbody tr th {\n",
       "        vertical-align: top;\n",
       "    }\n",
       "\n",
       "    .dataframe thead th {\n",
       "        text-align: right;\n",
       "    }\n",
       "</style>\n",
       "<table border=\"1\" class=\"dataframe\">\n",
       "  <thead>\n",
       "    <tr style=\"text-align: right;\">\n",
       "      <th></th>\n",
       "      <th>customer_id</th>\n",
       "      <th>gross_revenue</th>\n",
       "      <th>recency_days</th>\n",
       "      <th>qty_invoice_no</th>\n",
       "      <th>qtde_products</th>\n",
       "      <th>qty_items</th>\n",
       "      <th>frequency</th>\n",
       "      <th>avg_ticket</th>\n",
       "      <th>qty_returns</th>\n",
       "      <th>avg_basket_size</th>\n",
       "      <th>avg_unique_basket_size</th>\n",
       "      <th>R</th>\n",
       "      <th>F</th>\n",
       "      <th>M</th>\n",
       "    </tr>\n",
       "  </thead>\n",
       "  <tbody>\n",
       "    <tr>\n",
       "      <th>0</th>\n",
       "      <td>17850</td>\n",
       "      <td>5391.21</td>\n",
       "      <td>372.0</td>\n",
       "      <td>34.0</td>\n",
       "      <td>297.0</td>\n",
       "      <td>1733.0</td>\n",
       "      <td>17.000000</td>\n",
       "      <td>18.152222</td>\n",
       "      <td>40.0</td>\n",
       "      <td>50.970588</td>\n",
       "      <td>0.617647</td>\n",
       "      <td>1</td>\n",
       "      <td>5</td>\n",
       "      <td>5</td>\n",
       "    </tr>\n",
       "    <tr>\n",
       "      <th>1</th>\n",
       "      <td>13047</td>\n",
       "      <td>3232.59</td>\n",
       "      <td>56.0</td>\n",
       "      <td>9.0</td>\n",
       "      <td>171.0</td>\n",
       "      <td>1390.0</td>\n",
       "      <td>0.028302</td>\n",
       "      <td>18.904035</td>\n",
       "      <td>35.0</td>\n",
       "      <td>154.444444</td>\n",
       "      <td>11.666667</td>\n",
       "      <td>3</td>\n",
       "      <td>2</td>\n",
       "      <td>5</td>\n",
       "    </tr>\n",
       "    <tr>\n",
       "      <th>2</th>\n",
       "      <td>12583</td>\n",
       "      <td>6705.38</td>\n",
       "      <td>2.0</td>\n",
       "      <td>15.0</td>\n",
       "      <td>232.0</td>\n",
       "      <td>5028.0</td>\n",
       "      <td>0.040323</td>\n",
       "      <td>28.902500</td>\n",
       "      <td>50.0</td>\n",
       "      <td>335.200000</td>\n",
       "      <td>7.600000</td>\n",
       "      <td>5</td>\n",
       "      <td>3</td>\n",
       "      <td>5</td>\n",
       "    </tr>\n",
       "    <tr>\n",
       "      <th>3</th>\n",
       "      <td>13748</td>\n",
       "      <td>948.25</td>\n",
       "      <td>95.0</td>\n",
       "      <td>5.0</td>\n",
       "      <td>28.0</td>\n",
       "      <td>439.0</td>\n",
       "      <td>0.017921</td>\n",
       "      <td>33.866071</td>\n",
       "      <td>0.0</td>\n",
       "      <td>87.800000</td>\n",
       "      <td>4.800000</td>\n",
       "      <td>2</td>\n",
       "      <td>2</td>\n",
       "      <td>4</td>\n",
       "    </tr>\n",
       "    <tr>\n",
       "      <th>4</th>\n",
       "      <td>15100</td>\n",
       "      <td>876.00</td>\n",
       "      <td>333.0</td>\n",
       "      <td>3.0</td>\n",
       "      <td>3.0</td>\n",
       "      <td>80.0</td>\n",
       "      <td>0.073171</td>\n",
       "      <td>292.000000</td>\n",
       "      <td>22.0</td>\n",
       "      <td>26.666667</td>\n",
       "      <td>0.333333</td>\n",
       "      <td>1</td>\n",
       "      <td>3</td>\n",
       "      <td>3</td>\n",
       "    </tr>\n",
       "  </tbody>\n",
       "</table>\n",
       "</div>"
      ],
      "text/plain": [
       "   customer_id  gross_revenue  recency_days  qty_invoice_no  qtde_products  \\\n",
       "0        17850        5391.21         372.0            34.0          297.0   \n",
       "1        13047        3232.59          56.0             9.0          171.0   \n",
       "2        12583        6705.38           2.0            15.0          232.0   \n",
       "3        13748         948.25          95.0             5.0           28.0   \n",
       "4        15100         876.00         333.0             3.0            3.0   \n",
       "\n",
       "   qty_items  frequency  avg_ticket  qty_returns  avg_basket_size  \\\n",
       "0     1733.0  17.000000   18.152222         40.0        50.970588   \n",
       "1     1390.0   0.028302   18.904035         35.0       154.444444   \n",
       "2     5028.0   0.040323   28.902500         50.0       335.200000   \n",
       "3      439.0   0.017921   33.866071          0.0        87.800000   \n",
       "4       80.0   0.073171  292.000000         22.0        26.666667   \n",
       "\n",
       "   avg_unique_basket_size  R  F  M  \n",
       "0                0.617647  1  5  5  \n",
       "1               11.666667  3  2  5  \n",
       "2                7.600000  5  3  5  \n",
       "3                4.800000  2  2  4  \n",
       "4                0.333333  1  3  3  "
      ]
     },
     "execution_count": 129,
     "metadata": {},
     "output_type": "execute_result"
    }
   ],
   "source": [
    "r_labels = range(5, 0, -1)\n",
    "fm_labels = range(1, 6)\n",
    "\n",
    "rfm_table[\"R\"] = pd.qcut(rfm_table[\"recency_days\"], 5, labels = r_labels)\n",
    "rfm_table[\"F\"] = pd.qcut(rfm_table[\"frequency\"].rank(method = 'first'), 5, labels = fm_labels)\n",
    "rfm_table[\"M\"] = pd.qcut(rfm_table[\"gross_revenue\"], 5, labels = fm_labels)\n",
    "\n",
    "rfm_table.head()"
   ]
  },
  {
   "cell_type": "code",
   "execution_count": 130,
   "id": "e57b7786",
   "metadata": {
    "ExecuteTime": {
     "end_time": "2023-05-10T13:29:25.279449Z",
     "start_time": "2023-05-10T13:29:24.904133Z"
    }
   },
   "outputs": [
    {
     "data": {
      "text/html": [
       "<div>\n",
       "<style scoped>\n",
       "    .dataframe tbody tr th:only-of-type {\n",
       "        vertical-align: middle;\n",
       "    }\n",
       "\n",
       "    .dataframe tbody tr th {\n",
       "        vertical-align: top;\n",
       "    }\n",
       "\n",
       "    .dataframe thead th {\n",
       "        text-align: right;\n",
       "    }\n",
       "</style>\n",
       "<table border=\"1\" class=\"dataframe\">\n",
       "  <thead>\n",
       "    <tr style=\"text-align: right;\">\n",
       "      <th></th>\n",
       "      <th>customer_id</th>\n",
       "      <th>gross_revenue</th>\n",
       "      <th>recency_days</th>\n",
       "      <th>qty_invoice_no</th>\n",
       "      <th>qtde_products</th>\n",
       "      <th>qty_items</th>\n",
       "      <th>frequency</th>\n",
       "      <th>avg_ticket</th>\n",
       "      <th>qty_returns</th>\n",
       "      <th>avg_basket_size</th>\n",
       "      <th>avg_unique_basket_size</th>\n",
       "      <th>R</th>\n",
       "      <th>F</th>\n",
       "      <th>M</th>\n",
       "      <th>RFM_segment</th>\n",
       "      <th>RFM_score</th>\n",
       "    </tr>\n",
       "  </thead>\n",
       "  <tbody>\n",
       "    <tr>\n",
       "      <th>0</th>\n",
       "      <td>17850</td>\n",
       "      <td>5391.21</td>\n",
       "      <td>372.0</td>\n",
       "      <td>34.0</td>\n",
       "      <td>297.0</td>\n",
       "      <td>1733.0</td>\n",
       "      <td>17.000000</td>\n",
       "      <td>18.152222</td>\n",
       "      <td>40.0</td>\n",
       "      <td>50.970588</td>\n",
       "      <td>0.617647</td>\n",
       "      <td>1</td>\n",
       "      <td>5</td>\n",
       "      <td>5</td>\n",
       "      <td>155</td>\n",
       "      <td>11</td>\n",
       "    </tr>\n",
       "    <tr>\n",
       "      <th>1</th>\n",
       "      <td>13047</td>\n",
       "      <td>3232.59</td>\n",
       "      <td>56.0</td>\n",
       "      <td>9.0</td>\n",
       "      <td>171.0</td>\n",
       "      <td>1390.0</td>\n",
       "      <td>0.028302</td>\n",
       "      <td>18.904035</td>\n",
       "      <td>35.0</td>\n",
       "      <td>154.444444</td>\n",
       "      <td>11.666667</td>\n",
       "      <td>3</td>\n",
       "      <td>2</td>\n",
       "      <td>5</td>\n",
       "      <td>325</td>\n",
       "      <td>10</td>\n",
       "    </tr>\n",
       "    <tr>\n",
       "      <th>2</th>\n",
       "      <td>12583</td>\n",
       "      <td>6705.38</td>\n",
       "      <td>2.0</td>\n",
       "      <td>15.0</td>\n",
       "      <td>232.0</td>\n",
       "      <td>5028.0</td>\n",
       "      <td>0.040323</td>\n",
       "      <td>28.902500</td>\n",
       "      <td>50.0</td>\n",
       "      <td>335.200000</td>\n",
       "      <td>7.600000</td>\n",
       "      <td>5</td>\n",
       "      <td>3</td>\n",
       "      <td>5</td>\n",
       "      <td>535</td>\n",
       "      <td>13</td>\n",
       "    </tr>\n",
       "    <tr>\n",
       "      <th>3</th>\n",
       "      <td>13748</td>\n",
       "      <td>948.25</td>\n",
       "      <td>95.0</td>\n",
       "      <td>5.0</td>\n",
       "      <td>28.0</td>\n",
       "      <td>439.0</td>\n",
       "      <td>0.017921</td>\n",
       "      <td>33.866071</td>\n",
       "      <td>0.0</td>\n",
       "      <td>87.800000</td>\n",
       "      <td>4.800000</td>\n",
       "      <td>2</td>\n",
       "      <td>2</td>\n",
       "      <td>4</td>\n",
       "      <td>224</td>\n",
       "      <td>8</td>\n",
       "    </tr>\n",
       "    <tr>\n",
       "      <th>4</th>\n",
       "      <td>15100</td>\n",
       "      <td>876.00</td>\n",
       "      <td>333.0</td>\n",
       "      <td>3.0</td>\n",
       "      <td>3.0</td>\n",
       "      <td>80.0</td>\n",
       "      <td>0.073171</td>\n",
       "      <td>292.000000</td>\n",
       "      <td>22.0</td>\n",
       "      <td>26.666667</td>\n",
       "      <td>0.333333</td>\n",
       "      <td>1</td>\n",
       "      <td>3</td>\n",
       "      <td>3</td>\n",
       "      <td>133</td>\n",
       "      <td>7</td>\n",
       "    </tr>\n",
       "  </tbody>\n",
       "</table>\n",
       "</div>"
      ],
      "text/plain": [
       "   customer_id  gross_revenue  recency_days  qty_invoice_no  qtde_products  \\\n",
       "0        17850        5391.21         372.0            34.0          297.0   \n",
       "1        13047        3232.59          56.0             9.0          171.0   \n",
       "2        12583        6705.38           2.0            15.0          232.0   \n",
       "3        13748         948.25          95.0             5.0           28.0   \n",
       "4        15100         876.00         333.0             3.0            3.0   \n",
       "\n",
       "   qty_items  frequency  avg_ticket  qty_returns  avg_basket_size  \\\n",
       "0     1733.0  17.000000   18.152222         40.0        50.970588   \n",
       "1     1390.0   0.028302   18.904035         35.0       154.444444   \n",
       "2     5028.0   0.040323   28.902500         50.0       335.200000   \n",
       "3      439.0   0.017921   33.866071          0.0        87.800000   \n",
       "4       80.0   0.073171  292.000000         22.0        26.666667   \n",
       "\n",
       "   avg_unique_basket_size  R  F  M RFM_segment  RFM_score  \n",
       "0                0.617647  1  5  5         155         11  \n",
       "1               11.666667  3  2  5         325         10  \n",
       "2                7.600000  5  3  5         535         13  \n",
       "3                4.800000  2  2  4         224          8  \n",
       "4                0.333333  1  3  3         133          7  "
      ]
     },
     "execution_count": 130,
     "metadata": {},
     "output_type": "execute_result"
    }
   ],
   "source": [
    "rfm_table[\"RFM_segment\"] = rfm_table[\"R\"].astype(str) + rfm_table[\"F\"].astype(str) + rfm_table[\"M\"].astype(str)\n",
    "rfm_table[\"RFM_score\"] = rfm_table[[\"R\", \"F\", \"M\"]].sum(axis = 1)\n",
    "\n",
    "rfm_table.head()\n"
   ]
  },
  {
   "cell_type": "markdown",
   "id": "6842cd99",
   "metadata": {},
   "source": [
    "Campeões: Comprou recentemente, compra com frequência e gasta mais\n",
    "\n",
    "Clientes fiéis: Compre regularmente. Responsivo a promoções.\n",
    "\n",
    "Potencial fiel: clientes recentes com frequência média.\n",
    "\n",
    "Clientes recentes: comprou mais recentemente, mas não com há frequência.\n",
    "\n",
    "Promissor: compradores recentes, mas não gastaram muito.\n",
    "\n",
    "Precisa de atenção: Recência, frequência e valores monetários acima da média. Pode não ter comprado muito recentemente.\n",
    "\n",
    "Prestes a dormir: Recência e frequência abaixo da média. Vai perdê-los se não for reativado.\n",
    "\n",
    "Em risco: Há algum tempo desde que eles compraram. Precisa trazê-los de volta!\n",
    "\n",
    "Não posso perdê-los: comprava com frequência, mas não retornou por um longo tempo.\n",
    "\n",
    "Hibernando: A última compra foi há muito tempo e possui baixo número de pedidos. Pode ser um cliente já perdido."
   ]
  },
  {
   "cell_type": "markdown",
   "id": "5d74dd54",
   "metadata": {
    "ExecuteTime": {
     "end_time": "2023-05-09T13:34:54.035333Z",
     "start_time": "2023-05-09T13:34:53.996335Z"
    }
   },
   "source": [
    "### Creating&Analysing RFM Segments"
   ]
  },
  {
   "cell_type": "code",
   "execution_count": 131,
   "id": "07276cc9",
   "metadata": {
    "ExecuteTime": {
     "end_time": "2023-05-10T13:29:27.243392Z",
     "start_time": "2023-05-10T13:29:26.583374Z"
    }
   },
   "outputs": [
    {
     "data": {
      "text/html": [
       "<div>\n",
       "<style scoped>\n",
       "    .dataframe tbody tr th:only-of-type {\n",
       "        vertical-align: middle;\n",
       "    }\n",
       "\n",
       "    .dataframe tbody tr th {\n",
       "        vertical-align: top;\n",
       "    }\n",
       "\n",
       "    .dataframe thead th {\n",
       "        text-align: right;\n",
       "    }\n",
       "</style>\n",
       "<table border=\"1\" class=\"dataframe\">\n",
       "  <thead>\n",
       "    <tr style=\"text-align: right;\">\n",
       "      <th></th>\n",
       "      <th>customer_id</th>\n",
       "      <th>gross_revenue</th>\n",
       "      <th>recency_days</th>\n",
       "      <th>qty_invoice_no</th>\n",
       "      <th>qtde_products</th>\n",
       "      <th>qty_items</th>\n",
       "      <th>frequency</th>\n",
       "      <th>avg_ticket</th>\n",
       "      <th>qty_returns</th>\n",
       "      <th>avg_basket_size</th>\n",
       "      <th>avg_unique_basket_size</th>\n",
       "      <th>R</th>\n",
       "      <th>F</th>\n",
       "      <th>M</th>\n",
       "      <th>RFM_segment</th>\n",
       "      <th>RFM_score</th>\n",
       "      <th>segment</th>\n",
       "    </tr>\n",
       "  </thead>\n",
       "  <tbody>\n",
       "    <tr>\n",
       "      <th>1363</th>\n",
       "      <td>17604</td>\n",
       "      <td>309.36</td>\n",
       "      <td>217.0</td>\n",
       "      <td>2.0</td>\n",
       "      <td>63.0</td>\n",
       "      <td>169.0</td>\n",
       "      <td>0.020833</td>\n",
       "      <td>4.910476</td>\n",
       "      <td>0.0</td>\n",
       "      <td>84.50</td>\n",
       "      <td>28.500000</td>\n",
       "      <td>1</td>\n",
       "      <td>2</td>\n",
       "      <td>2</td>\n",
       "      <td>122</td>\n",
       "      <td>5</td>\n",
       "      <td>Hibernating</td>\n",
       "    </tr>\n",
       "    <tr>\n",
       "      <th>2494</th>\n",
       "      <td>17974</td>\n",
       "      <td>740.79</td>\n",
       "      <td>24.0</td>\n",
       "      <td>3.0</td>\n",
       "      <td>179.0</td>\n",
       "      <td>519.0</td>\n",
       "      <td>0.015306</td>\n",
       "      <td>4.138492</td>\n",
       "      <td>0.0</td>\n",
       "      <td>173.00</td>\n",
       "      <td>47.666667</td>\n",
       "      <td>4</td>\n",
       "      <td>1</td>\n",
       "      <td>3</td>\n",
       "      <td>413</td>\n",
       "      <td>8</td>\n",
       "      <td>Promising</td>\n",
       "    </tr>\n",
       "    <tr>\n",
       "      <th>1600</th>\n",
       "      <td>13904</td>\n",
       "      <td>332.64</td>\n",
       "      <td>37.0</td>\n",
       "      <td>2.0</td>\n",
       "      <td>26.0</td>\n",
       "      <td>332.0</td>\n",
       "      <td>0.007752</td>\n",
       "      <td>12.793846</td>\n",
       "      <td>0.0</td>\n",
       "      <td>166.00</td>\n",
       "      <td>12.000000</td>\n",
       "      <td>3</td>\n",
       "      <td>1</td>\n",
       "      <td>2</td>\n",
       "      <td>312</td>\n",
       "      <td>6</td>\n",
       "      <td>About To Sleep</td>\n",
       "    </tr>\n",
       "    <tr>\n",
       "      <th>2183</th>\n",
       "      <td>17781</td>\n",
       "      <td>188.02</td>\n",
       "      <td>159.0</td>\n",
       "      <td>2.0</td>\n",
       "      <td>12.0</td>\n",
       "      <td>34.0</td>\n",
       "      <td>0.021053</td>\n",
       "      <td>15.668333</td>\n",
       "      <td>0.0</td>\n",
       "      <td>17.00</td>\n",
       "      <td>6.000000</td>\n",
       "      <td>2</td>\n",
       "      <td>2</td>\n",
       "      <td>1</td>\n",
       "      <td>221</td>\n",
       "      <td>5</td>\n",
       "      <td>Hibernating</td>\n",
       "    </tr>\n",
       "    <tr>\n",
       "      <th>481</th>\n",
       "      <td>16558</td>\n",
       "      <td>8338.49</td>\n",
       "      <td>0.0</td>\n",
       "      <td>20.0</td>\n",
       "      <td>460.0</td>\n",
       "      <td>5377.0</td>\n",
       "      <td>0.054496</td>\n",
       "      <td>18.127152</td>\n",
       "      <td>31.0</td>\n",
       "      <td>268.85</td>\n",
       "      <td>13.200000</td>\n",
       "      <td>5</td>\n",
       "      <td>3</td>\n",
       "      <td>5</td>\n",
       "      <td>535</td>\n",
       "      <td>13</td>\n",
       "      <td>Potential Loyalists</td>\n",
       "    </tr>\n",
       "  </tbody>\n",
       "</table>\n",
       "</div>"
      ],
      "text/plain": [
       "      customer_id  gross_revenue  recency_days  qty_invoice_no  qtde_products  \\\n",
       "1363        17604         309.36         217.0             2.0           63.0   \n",
       "2494        17974         740.79          24.0             3.0          179.0   \n",
       "1600        13904         332.64          37.0             2.0           26.0   \n",
       "2183        17781         188.02         159.0             2.0           12.0   \n",
       "481         16558        8338.49           0.0            20.0          460.0   \n",
       "\n",
       "      qty_items  frequency  avg_ticket  qty_returns  avg_basket_size  \\\n",
       "1363      169.0   0.020833    4.910476          0.0            84.50   \n",
       "2494      519.0   0.015306    4.138492          0.0           173.00   \n",
       "1600      332.0   0.007752   12.793846          0.0           166.00   \n",
       "2183       34.0   0.021053   15.668333          0.0            17.00   \n",
       "481      5377.0   0.054496   18.127152         31.0           268.85   \n",
       "\n",
       "      avg_unique_basket_size  R  F  M RFM_segment  RFM_score  \\\n",
       "1363               28.500000  1  2  2         122          5   \n",
       "2494               47.666667  4  1  3         413          8   \n",
       "1600               12.000000  3  1  2         312          6   \n",
       "2183                6.000000  2  2  1         221          5   \n",
       "481                13.200000  5  3  5         535         13   \n",
       "\n",
       "                  segment  \n",
       "1363          Hibernating  \n",
       "2494            Promising  \n",
       "1600       About To Sleep  \n",
       "2183          Hibernating  \n",
       "481   Potential Loyalists  "
      ]
     },
     "execution_count": 131,
     "metadata": {},
     "output_type": "execute_result"
    }
   ],
   "source": [
    "segt_map = {\n",
    "            r'[1-2][1-2]': 'Hibernating',\n",
    "            r'[1-2][3-4]': 'At-Risk',\n",
    "            r'[1-2]5'    : 'Cannot lose them',\n",
    "            r'3[1-2]'    : 'About To Sleep',\n",
    "            r'33'        : 'Need Attention',\n",
    "            r'[3-4][4-5]': 'Loyal Customers',\n",
    "            r'41'        : 'Promising',\n",
    "            r'51'        : 'New Customers',\n",
    "            r'[4-5][2-3]': 'Potential Loyalists',\n",
    "            r'5[4-5]'    : 'Champions'\n",
    "}\n",
    "rfm_table['segment'] = rfm_table['R'].astype(str) + rfm_table['F'].astype(str)\n",
    "rfm_table['segment'] = rfm_table['segment'].replace(segt_map, regex=True)\n",
    "rfm_table.sample(5)"
   ]
  },
  {
   "cell_type": "markdown",
   "id": "67930e58",
   "metadata": {
    "ExecuteTime": {
     "end_time": "2023-05-09T14:07:10.929723Z",
     "start_time": "2023-05-09T14:07:10.366687Z"
    }
   },
   "source": [
    "### Visualizar o Grafico RFM\n"
   ]
  },
  {
   "cell_type": "code",
   "execution_count": 132,
   "id": "2a1c6815",
   "metadata": {
    "ExecuteTime": {
     "end_time": "2023-05-10T13:29:29.562711Z",
     "start_time": "2023-05-10T13:29:28.330139Z"
    },
    "scrolled": true
   },
   "outputs": [
    {
     "data": {
      "image/png": "[encoded data removed]",
      "text/plain": [
       "<Figure size 1900x1500 with 1 Axes>"
      ]
     },
     "metadata": {},
     "output_type": "display_data"
    }
   ],
   "source": [
    "## Visualizing RFM Grid\n",
    "rfm_coordinates = {\"Champions\": [3, 5, 0.8, 1],\n",
    "                   \"Loyal Customers\": [3, 5, 0.4, 0.8],\n",
    "                   \"Cannot lose them\": [4, 5, 0, 0.4],\n",
    "                   \"At-Risk\": [2, 4, 0, 0.4],\n",
    "                   \"Hibernating\": [0, 2, 0, 0.4],\n",
    "                   \"About To Sleep\": [0, 2, 0.4, 0.6],\n",
    "                   \"Promising\": [0, 1, 0.6, 0.8],\n",
    "                   \"New Customers\": [0, 1, 0.8, 1],\n",
    "                   \"Potential Loyalists\": [1, 3, 0.6, 1],\n",
    "                   \"Need Attention\": [2, 3, 0.4, 0.6]}\n",
    "\n",
    "fig, ax = plt.subplots(figsize = (19, 15))\n",
    "\n",
    "ax.set_xlim([0, 5])\n",
    "ax.set_ylim([0, 5])\n",
    "\n",
    "plt.rcParams[\"axes.facecolor\"] = \"white\"\n",
    "palette = [ \"#6b5b95\",\"#87bdd8\", \"#9370DB\", \"#f4e1d2\",  \"#b1cbbb\", \n",
    "           \"#b2b2b2\", \"#b2ad7f\", \"#618685\", \"#878f99\", \"#8F8FBD\"]\n",
    "\n",
    "for key, color in zip(rfm_coordinates.keys(), palette[:10]):\n",
    "    \n",
    "    coordinates = rfm_coordinates[key]\n",
    "    ymin, ymax, xmin, xmax = coordinates[0], coordinates[1], coordinates[2], coordinates[3]\n",
    "    \n",
    "    ax.axhspan(ymin = ymin, ymax = ymax, xmin = xmin, xmax = xmax, facecolor = color)\n",
    "    \n",
    "    users = rfm_table[rfm_table.segment == key].shape[0]\n",
    "    users_percentage = (rfm_table[rfm_table.segment == key].shape[0] / rfm_table.shape[0]) * 100\n",
    "    avg_monetary = rfm_table[rfm_table.segment == key][\"gross_revenue\"].mean()\n",
    "    \n",
    "    user_txt = \"\\n\\nTotal Users: \" + str(users) + \"(\" +  str(round(users_percentage, 2)) + \"%)\"\n",
    "    monetary_txt = \"\\n\\n\\n\\nAverage Monetary: \" + str(round(avg_monetary, 2))\n",
    "    \n",
    "    x = 5 * (xmin + xmax) / 2\n",
    "    y = (ymin + ymax) / 2\n",
    "    \n",
    "    plt.text(x = x, y = y, s = key, ha = \"center\", va = \"center\", fontsize = 18, color = \"white\", fontweight = \"bold\")\n",
    "    plt.text(x = x, y = y, s = user_txt, ha = \"center\", va = \"center\", fontsize = 14, color = \"white\")    \n",
    "    plt.text(x = x, y = y, s = monetary_txt, ha = \"center\", va = \"center\", fontsize = 14, color = \"black\")    \n",
    "    \n",
    "    ax.set_xlabel(\"Recency Score\")\n",
    "    ax.set_ylabel(\"Frequency Score\")\n",
    "    \n",
    "sns.despine(left = True, bottom = True)\n",
    "plt.show()"
   ]
  },
  {
   "cell_type": "markdown",
   "id": "ae26d28b",
   "metadata": {
    "ExecuteTime": {
     "end_time": "2023-05-09T15:12:12.515758Z",
     "start_time": "2023-05-09T15:12:12.507757Z"
    }
   },
   "source": [
    "#### Cluster Champions"
   ]
  },
  {
   "cell_type": "markdown",
   "id": "89845dcc",
   "metadata": {
    "ExecuteTime": {
     "end_time": "2023-05-09T15:37:16.677376Z",
     "start_time": "2023-05-09T15:37:16.648381Z"
    }
   },
   "source": [
    "**- Características:**\n",
    "\n",
    "Quantidade: 146 clientes. \n",
    "\n",
    "Receita média: $ 12.746,43\n",
    "\n",
    "Representatividade: 3,35% dos clientes"
   ]
  },
  {
   "cell_type": "code",
   "execution_count": null,
   "id": "74dcb314",
   "metadata": {},
   "outputs": [],
   "source": []
  }
 ],
 "metadata": {
  "kernelspec": {
   "display_name": "Python 3 (ipykernel)",
   "language": "python",
   "name": "python3"
  },
  "language_info": {
   "codemirror_mode": {
    "name": "ipython",
    "version": 3
   },
   "file_extension": ".py",
   "mimetype": "text/x-python",
   "name": "python",
   "nbconvert_exporter": "python",
   "pygments_lexer": "ipython3",
   "version": "3.10.9"
  },
  "varInspector": {
   "cols": {
    "lenName": 16,
    "lenType": 16,
    "lenVar": 40
   },
   "kernels_config": {
    "python": {
     "delete_cmd_postfix": "",
     "delete_cmd_prefix": "del ",
     "library": "var_list.py",
     "varRefreshCmd": "print(var_dic_list())"
    },
    "r": {
     "delete_cmd_postfix": ") ",
     "delete_cmd_prefix": "rm(",
     "library": "var_list.r",
     "varRefreshCmd": "cat(var_dic_list()) "
    }
   },
   "types_to_exclude": [
    "module",
    "function",
    "builtin_function_or_method",
    "instance",
    "_Feature"
   ],
   "window_display": false
  }
 },
 "nbformat": 4,
 "nbformat_minor": 5
}

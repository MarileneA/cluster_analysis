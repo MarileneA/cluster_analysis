{
 "cells": [
  {
   "cell_type": "markdown",
   "id": "c0bff162",
   "metadata": {},
   "source": [
    "## E-commerce with RFM and Clustering"
   ]
  },
  {
   "cell_type": "markdown",
   "id": "eb3c4930",
   "metadata": {},
   "source": [
    "## Business Problem\n",
    "   **What is the business problem?**\n",
    "\n",
    "    Select the most valuable customers to join the \"Loyals\" loyalty program.\n",
    "\n",
    "    Answering business questions to the marketing team."
   ]
  },
  {
   "cell_type": "markdown",
   "id": "1bf70f33",
   "metadata": {},
   "source": [
    "## Output\n",
    "**What will I deliver? / Where does the business team want to see it?**\n",
    "\n",
    "List in xls / send by email. It must contain customers who will join Loyals (loyalty program).\n",
    "Format:\n",
    "client_id\tis_loyal\n",
    "\n",
    "    │1\t│yes\n",
    "    │2\t│no\n",
    "    \n",
    "**PDF report answering business questions / send by email and present to the marketing team:**\n",
    "\n",
    "    Who are the people eligible to participate in the Loyals program?\n",
    "    How many customers will be part of the group?\n",
    "    What are the main characteristics of these customers?\n",
    "    What is the percentage of revenue contribution from Loyals?\n",
    "    What is the expected revenue for this group for the coming months?\n",
    "    What are the conditions for a person to be eligible for Loyals?\n",
    "    What are the conditions for a person to be removed from Loyals?\n",
    "    What is the guarantee that the Loyals program is better than the rest of the base?\n",
    "    What actions can the marketing team take to increase revenue?"
   ]
  },
  {
   "cell_type": "markdown",
   "id": "9e9af167",
   "metadata": {},
   "source": [
    "### Input"
   ]
  },
  {
   "cell_type": "markdown",
   "id": "e9131109",
   "metadata": {},
   "source": [
    "Data sources: Dataset \"Ecommerce.csv\", containing e-commerce sales for the period of one year.\n",
    "\n",
    "Tools: Python 3.8.12, Jupyter Notebook, Git, Github.\n",
    "\n",
    "Process\n",
    "Type of problem: Separation of customers by groups.\n",
    "\n",
    "Main methods: clustering.\n",
    "\n",
    "**Business Questions:**\n",
    "\n",
    "    Who are the people eligible to participate in the Loyals program?\n",
    "    \n",
    "    What does it mean to be eligible? / What are higher \"value\" customers? (depending on business area)\n",
    "    Invoicing:\n",
    "    \n",
    "   - High average ticket\n",
    "       High LTV (sum of customer revenue)\n",
    "       \n",
    "       Low recency (time since last purchase)\n",
    "       \n",
    "       High basket size (qty products purchased per purchase)\n",
    "       \n",
    "       Low churn probability (would use the output of a model)\n",
    "       \n",
    "       High LTV Prediction (would use output from a model)\n",
    "       \n",
    "       High propensity to buy (would use the output of a model)\n",
    "       \n",
    "              \n",
    "   - Cost:\n",
    "        Low return rate\n",
    "        \n",
    "   - Shopping experience:\n",
    "   \n",
    "        High average of the evaluations"
   ]
  },
  {
   "cell_type": "markdown",
   "id": "70175101",
   "metadata": {},
   "source": [
    "## Solution Benchmarking\n",
    "Desk Research\n",
    "Reading articles on customer segmentation on the internet to understand what the market is doing.\n",
    "\n",
    "Identify from market solutions, with the business team, what we can do as an MVP.\n",
    "\n",
    "RFM segmentation model."
   ]
  },
  {
   "cell_type": "markdown",
   "id": "ab370623",
   "metadata": {},
   "source": [
    "# Imports"
   ]
  },
  {
   "cell_type": "code",
   "execution_count": 55,
   "id": "42934ebb",
   "metadata": {
    "ExecuteTime": {
     "end_time": "2023-05-29T12:48:06.717173Z",
     "start_time": "2023-05-29T12:48:06.537834Z"
    }
   },
   "outputs": [],
   "source": [
    "import re\n",
    "import sweetviz as sv\n",
    "import inflection\n",
    "import warnings\n",
    "import pandas as pd\n",
    "import numpy as np\n",
    "import matplotlib.pyplot as plt\n",
    "import seaborn as sns\n",
    "import datetime as dt\n",
    "from sklearn import preprocessing as pp\n",
    "from sklearn.cluster import KMeans\n",
    "from sklearn import metrics as m\n",
    "import umap.umap_   as umap\n",
    "from sklearn             import decomposition as dd\n",
    "from sklearn.manifold import TSNE\n",
    "from sklearn.preprocessing import MinMaxScaler\n",
    "from sklearn.ensemble import RandomForestRegressor\n",
    "from sklearn.mixture import GaussianMixture\n",
    "\n",
    "\n",
    "warnings.filterwarnings( 'ignore' )"
   ]
  },
  {
   "cell_type": "markdown",
   "id": "bf115ad3",
   "metadata": {},
   "source": [
    "## Helper Functions"
   ]
  },
  {
   "cell_type": "code",
   "execution_count": 2,
   "id": "705d026b",
   "metadata": {
    "ExecuteTime": {
     "end_time": "2023-05-29T11:25:07.648811Z",
     "start_time": "2023-05-29T11:25:07.637612Z"
    }
   },
   "outputs": [],
   "source": [
    "# Função para formatar notação científica\n",
    "pd.set_option('display.float_format', lambda x: '%.4f' % x)\n",
    "\n",
    "# Tamanho dos Graficos\n",
    "sns.set(style = \"darkgrid\")\n",
    "sns.set(rc={\"figure.figsize\":(15, 10)})\n",
    "#pd.options.display.float_format = \"{:,.2f}\".format\n"
   ]
  },
  {
   "cell_type": "markdown",
   "id": "e7e61ebf",
   "metadata": {},
   "source": [
    "## Load Data"
   ]
  },
  {
   "cell_type": "code",
   "execution_count": 3,
   "id": "fac23f09",
   "metadata": {
    "ExecuteTime": {
     "end_time": "2023-05-29T11:25:08.981171Z",
     "start_time": "2023-05-29T11:25:07.651935Z"
    }
   },
   "outputs": [],
   "source": [
    "df_raw = pd.read_csv('data/ecommerce.csv',header= 0, encoding= 'unicode_escape')"
   ]
  },
  {
   "cell_type": "code",
   "execution_count": 4,
   "id": "11e6b3ca",
   "metadata": {
    "ExecuteTime": {
     "end_time": "2023-05-29T11:25:09.120709Z",
     "start_time": "2023-05-29T11:25:08.986260Z"
    }
   },
   "outputs": [],
   "source": [
    "df_raw =df_raw.drop(['Unnamed: 8'], axis=1)"
   ]
  },
  {
   "cell_type": "code",
   "execution_count": 5,
   "id": "e9daad7f",
   "metadata": {
    "ExecuteTime": {
     "end_time": "2023-05-29T11:25:09.308915Z",
     "start_time": "2023-05-29T11:25:09.124859Z"
    }
   },
   "outputs": [
    {
     "data": {
      "text/html": [
       "<div>\n",
       "<style scoped>\n",
       "    .dataframe tbody tr th:only-of-type {\n",
       "        vertical-align: middle;\n",
       "    }\n",
       "\n",
       "    .dataframe tbody tr th {\n",
       "        vertical-align: top;\n",
       "    }\n",
       "\n",
       "    .dataframe thead th {\n",
       "        text-align: right;\n",
       "    }\n",
       "</style>\n",
       "<table border=\"1\" class=\"dataframe\">\n",
       "  <thead>\n",
       "    <tr style=\"text-align: right;\">\n",
       "      <th></th>\n",
       "      <th>InvoiceNo</th>\n",
       "      <th>StockCode</th>\n",
       "      <th>Description</th>\n",
       "      <th>Quantity</th>\n",
       "      <th>InvoiceDate</th>\n",
       "      <th>UnitPrice</th>\n",
       "      <th>CustomerID</th>\n",
       "      <th>Country</th>\n",
       "    </tr>\n",
       "  </thead>\n",
       "  <tbody>\n",
       "    <tr>\n",
       "      <th>0</th>\n",
       "      <td>536365</td>\n",
       "      <td>85123A</td>\n",
       "      <td>WHITE HANGING HEART T-LIGHT HOLDER</td>\n",
       "      <td>6</td>\n",
       "      <td>29-Nov-16</td>\n",
       "      <td>2.5500</td>\n",
       "      <td>17850.0000</td>\n",
       "      <td>United Kingdom</td>\n",
       "    </tr>\n",
       "    <tr>\n",
       "      <th>1</th>\n",
       "      <td>536365</td>\n",
       "      <td>71053</td>\n",
       "      <td>WHITE METAL LANTERN</td>\n",
       "      <td>6</td>\n",
       "      <td>29-Nov-16</td>\n",
       "      <td>3.3900</td>\n",
       "      <td>17850.0000</td>\n",
       "      <td>United Kingdom</td>\n",
       "    </tr>\n",
       "    <tr>\n",
       "      <th>2</th>\n",
       "      <td>536365</td>\n",
       "      <td>84406B</td>\n",
       "      <td>CREAM CUPID HEARTS COAT HANGER</td>\n",
       "      <td>8</td>\n",
       "      <td>29-Nov-16</td>\n",
       "      <td>2.7500</td>\n",
       "      <td>17850.0000</td>\n",
       "      <td>United Kingdom</td>\n",
       "    </tr>\n",
       "    <tr>\n",
       "      <th>3</th>\n",
       "      <td>536365</td>\n",
       "      <td>84029G</td>\n",
       "      <td>KNITTED UNION FLAG HOT WATER BOTTLE</td>\n",
       "      <td>6</td>\n",
       "      <td>29-Nov-16</td>\n",
       "      <td>3.3900</td>\n",
       "      <td>17850.0000</td>\n",
       "      <td>United Kingdom</td>\n",
       "    </tr>\n",
       "    <tr>\n",
       "      <th>4</th>\n",
       "      <td>536365</td>\n",
       "      <td>84029E</td>\n",
       "      <td>RED WOOLLY HOTTIE WHITE HEART.</td>\n",
       "      <td>6</td>\n",
       "      <td>29-Nov-16</td>\n",
       "      <td>3.3900</td>\n",
       "      <td>17850.0000</td>\n",
       "      <td>United Kingdom</td>\n",
       "    </tr>\n",
       "  </tbody>\n",
       "</table>\n",
       "</div>"
      ],
      "text/plain": [
       "  InvoiceNo StockCode                          Description  Quantity  \\\n",
       "0    536365    85123A   WHITE HANGING HEART T-LIGHT HOLDER         6   \n",
       "1    536365     71053                  WHITE METAL LANTERN         6   \n",
       "2    536365    84406B       CREAM CUPID HEARTS COAT HANGER         8   \n",
       "3    536365    84029G  KNITTED UNION FLAG HOT WATER BOTTLE         6   \n",
       "4    536365    84029E       RED WOOLLY HOTTIE WHITE HEART.         6   \n",
       "\n",
       "  InvoiceDate  UnitPrice  CustomerID         Country  \n",
       "0   29-Nov-16     2.5500  17850.0000  United Kingdom  \n",
       "1   29-Nov-16     3.3900  17850.0000  United Kingdom  \n",
       "2   29-Nov-16     2.7500  17850.0000  United Kingdom  \n",
       "3   29-Nov-16     3.3900  17850.0000  United Kingdom  \n",
       "4   29-Nov-16     3.3900  17850.0000  United Kingdom  "
      ]
     },
     "execution_count": 5,
     "metadata": {},
     "output_type": "execute_result"
    }
   ],
   "source": [
    "df_raw.head()"
   ]
  },
  {
   "cell_type": "markdown",
   "id": "518ca37c",
   "metadata": {},
   "source": [
    "# Data Description"
   ]
  },
  {
   "cell_type": "code",
   "execution_count": 6,
   "id": "174fb5b6",
   "metadata": {
    "ExecuteTime": {
     "end_time": "2023-05-29T11:25:09.354914Z",
     "start_time": "2023-05-29T11:25:09.312917Z"
    }
   },
   "outputs": [],
   "source": [
    "df1 = df_raw.copy()"
   ]
  },
  {
   "cell_type": "markdown",
   "id": "7f9b149e",
   "metadata": {},
   "source": [
    "## Rename Columns"
   ]
  },
  {
   "cell_type": "code",
   "execution_count": 7,
   "id": "8f8d1871",
   "metadata": {
    "ExecuteTime": {
     "end_time": "2023-05-29T11:25:09.556564Z",
     "start_time": "2023-05-29T11:25:09.359914Z"
    }
   },
   "outputs": [
    {
     "data": {
      "text/plain": [
       "Index(['InvoiceNo', 'StockCode', 'Description', 'Quantity', 'InvoiceDate',\n",
       "       'UnitPrice', 'CustomerID', 'Country'],\n",
       "      dtype='object')"
      ]
     },
     "execution_count": 7,
     "metadata": {},
     "output_type": "execute_result"
    }
   ],
   "source": [
    "df1.columns"
   ]
  },
  {
   "cell_type": "code",
   "execution_count": 9,
   "id": "89689387",
   "metadata": {
    "ExecuteTime": {
     "end_time": "2023-05-29T11:25:09.934236Z",
     "start_time": "2023-05-29T11:25:09.845318Z"
    }
   },
   "outputs": [],
   "source": [
    "#Função para renomear colunas\n",
    "cols_old = list(df1.columns)\n",
    "snakecase = lambda x: inflection.underscore(x)\n",
    "\n",
    "cols_new = list( map( snakecase, cols_old) )\n",
    "\n",
    "#Rename\n",
    "df1.columns = cols_new"
   ]
  },
  {
   "cell_type": "markdown",
   "id": "8ac7b4d0",
   "metadata": {},
   "source": [
    "## Data Dimensions"
   ]
  },
  {
   "cell_type": "code",
   "execution_count": 10,
   "id": "7248d321",
   "metadata": {
    "ExecuteTime": {
     "end_time": "2023-05-29T11:25:10.167202Z",
     "start_time": "2023-05-29T11:25:09.941855Z"
    }
   },
   "outputs": [
    {
     "name": "stdout",
     "output_type": "stream",
     "text": [
      "Number of Columns: 8\n",
      "\n",
      "Number of Rows: 541909\n"
     ]
    }
   ],
   "source": [
    "print(f'Number of Columns: {df1.shape[1]}\\n')\n",
    "print(f'Number of Rows: {df1.shape[0]}')\n",
    "\n"
   ]
  },
  {
   "cell_type": "markdown",
   "id": "89651626",
   "metadata": {},
   "source": [
    "## Data Types"
   ]
  },
  {
   "cell_type": "code",
   "execution_count": 11,
   "id": "6575aa89",
   "metadata": {
    "ExecuteTime": {
     "end_time": "2023-05-29T11:25:10.339373Z",
     "start_time": "2023-05-29T11:25:10.171572Z"
    }
   },
   "outputs": [
    {
     "data": {
      "text/plain": [
       "invoice_no       object\n",
       "stock_code       object\n",
       "description      object\n",
       "quantity          int64\n",
       "invoice_date     object\n",
       "unit_price      float64\n",
       "customer_id     float64\n",
       "country          object\n",
       "dtype: object"
      ]
     },
     "execution_count": 11,
     "metadata": {},
     "output_type": "execute_result"
    }
   ],
   "source": [
    "df1.dtypes"
   ]
  },
  {
   "cell_type": "markdown",
   "id": "2546ccc5",
   "metadata": {},
   "source": [
    "## Check NA"
   ]
  },
  {
   "cell_type": "code",
   "execution_count": 12,
   "id": "e30d107e",
   "metadata": {
    "ExecuteTime": {
     "end_time": "2023-05-29T11:25:10.921887Z",
     "start_time": "2023-05-29T11:25:10.347367Z"
    }
   },
   "outputs": [
    {
     "data": {
      "text/plain": [
       "invoice_no     0.0000\n",
       "stock_code     0.0000\n",
       "description    0.0027\n",
       "quantity       0.0000\n",
       "invoice_date   0.0000\n",
       "unit_price     0.0000\n",
       "customer_id    0.2493\n",
       "country        0.0000\n",
       "dtype: float64"
      ]
     },
     "execution_count": 12,
     "metadata": {},
     "output_type": "execute_result"
    }
   ],
   "source": [
    "df1.isna().sum()/len(df1)"
   ]
  },
  {
   "cell_type": "markdown",
   "id": "7adafa34",
   "metadata": {
    "ExecuteTime": {
     "end_time": "2023-05-08T10:36:05.026820Z",
     "start_time": "2023-05-08T10:36:04.829941Z"
    }
   },
   "source": [
    "**Há um grande numero de valores NA na coluna customer ID.**\n",
    "- Não faria sentido preencher com média ou moda, vamos excluí-los."
   ]
  },
  {
   "cell_type": "markdown",
   "id": "87c315d8",
   "metadata": {},
   "source": [
    "### Drop NA"
   ]
  },
  {
   "cell_type": "code",
   "execution_count": 13,
   "id": "68d6983f",
   "metadata": {
    "ExecuteTime": {
     "end_time": "2023-05-29T11:25:11.124353Z",
     "start_time": "2023-05-29T11:25:10.926890Z"
    }
   },
   "outputs": [],
   "source": [
    "df1 = df1.dropna(subset=['customer_id'])"
   ]
  },
  {
   "cell_type": "markdown",
   "id": "71511d87",
   "metadata": {},
   "source": [
    "## Change dtypes"
   ]
  },
  {
   "cell_type": "code",
   "execution_count": 14,
   "id": "af5399a3",
   "metadata": {
    "ExecuteTime": {
     "end_time": "2023-05-29T11:25:11.529501Z",
     "start_time": "2023-05-29T11:25:11.127354Z"
    }
   },
   "outputs": [],
   "source": [
    "# invoicedate\n",
    "df1['invoice_date'] = pd.to_datetime(df1['invoice_date'], format='%d-%b-%y')\n",
    "\n",
    "#Customer_id\n",
    "df1['customer_id'] = df1['customer_id'].astype('int64')"
   ]
  },
  {
   "cell_type": "code",
   "execution_count": 15,
   "id": "574316a7",
   "metadata": {
    "ExecuteTime": {
     "end_time": "2023-05-29T11:25:11.559489Z",
     "start_time": "2023-05-29T11:25:11.534490Z"
    }
   },
   "outputs": [
    {
     "data": {
      "text/plain": [
       "invoice_no              object\n",
       "stock_code              object\n",
       "description             object\n",
       "quantity                 int64\n",
       "invoice_date    datetime64[ns]\n",
       "unit_price             float64\n",
       "customer_id              int64\n",
       "country                 object\n",
       "dtype: object"
      ]
     },
     "execution_count": 15,
     "metadata": {},
     "output_type": "execute_result"
    }
   ],
   "source": [
    "df1.dtypes"
   ]
  },
  {
   "cell_type": "markdown",
   "id": "160e208f",
   "metadata": {},
   "source": [
    "## Descriptive Statistics"
   ]
  },
  {
   "cell_type": "code",
   "execution_count": 16,
   "id": "b9bbf39e",
   "metadata": {
    "ExecuteTime": {
     "end_time": "2023-05-29T11:25:11.698225Z",
     "start_time": "2023-05-29T11:25:11.562483Z"
    }
   },
   "outputs": [],
   "source": [
    "num_attributes = df1.select_dtypes(include=['int64', 'float64'])\n",
    "cat_attributes = df1.select_dtypes(exclude=['int64', 'float64', 'datetime64[ns]'])"
   ]
  },
  {
   "cell_type": "markdown",
   "id": "22460c67",
   "metadata": {},
   "source": [
    "### Numerical Attributes"
   ]
  },
  {
   "cell_type": "code",
   "execution_count": 17,
   "id": "2a44edee",
   "metadata": {
    "ExecuteTime": {
     "end_time": "2023-05-29T11:25:11.935981Z",
     "start_time": "2023-05-29T11:25:11.703238Z"
    }
   },
   "outputs": [
    {
     "data": {
      "text/html": [
       "<div>\n",
       "<style scoped>\n",
       "    .dataframe tbody tr th:only-of-type {\n",
       "        vertical-align: middle;\n",
       "    }\n",
       "\n",
       "    .dataframe tbody tr th {\n",
       "        vertical-align: top;\n",
       "    }\n",
       "\n",
       "    .dataframe thead th {\n",
       "        text-align: right;\n",
       "    }\n",
       "</style>\n",
       "<table border=\"1\" class=\"dataframe\">\n",
       "  <thead>\n",
       "    <tr style=\"text-align: right;\">\n",
       "      <th></th>\n",
       "      <th>attributes</th>\n",
       "      <th>min</th>\n",
       "      <th>max</th>\n",
       "      <th>range</th>\n",
       "      <th>mean</th>\n",
       "      <th>median</th>\n",
       "      <th>std</th>\n",
       "      <th>skew</th>\n",
       "      <th>kurtosis</th>\n",
       "    </tr>\n",
       "  </thead>\n",
       "  <tbody>\n",
       "    <tr>\n",
       "      <th>0</th>\n",
       "      <td>quantity</td>\n",
       "      <td>-80995.0000</td>\n",
       "      <td>80995.0000</td>\n",
       "      <td>161990.0000</td>\n",
       "      <td>12.0613</td>\n",
       "      <td>5.0000</td>\n",
       "      <td>248.6931</td>\n",
       "      <td>0.1827</td>\n",
       "      <td>94317.5637</td>\n",
       "    </tr>\n",
       "    <tr>\n",
       "      <th>1</th>\n",
       "      <td>unit_price</td>\n",
       "      <td>0.0000</td>\n",
       "      <td>38970.0000</td>\n",
       "      <td>38970.0000</td>\n",
       "      <td>3.4605</td>\n",
       "      <td>1.9500</td>\n",
       "      <td>69.3151</td>\n",
       "      <td>452.2190</td>\n",
       "      <td>246924.5430</td>\n",
       "    </tr>\n",
       "    <tr>\n",
       "      <th>2</th>\n",
       "      <td>customer_id</td>\n",
       "      <td>12346.0000</td>\n",
       "      <td>18287.0000</td>\n",
       "      <td>5941.0000</td>\n",
       "      <td>15287.6906</td>\n",
       "      <td>15152.0000</td>\n",
       "      <td>1713.5982</td>\n",
       "      <td>0.0298</td>\n",
       "      <td>-1.1800</td>\n",
       "    </tr>\n",
       "  </tbody>\n",
       "</table>\n",
       "</div>"
      ],
      "text/plain": [
       "    attributes         min        max       range       mean     median  \\\n",
       "0     quantity -80995.0000 80995.0000 161990.0000    12.0613     5.0000   \n",
       "1   unit_price      0.0000 38970.0000  38970.0000     3.4605     1.9500   \n",
       "2  customer_id  12346.0000 18287.0000   5941.0000 15287.6906 15152.0000   \n",
       "\n",
       "        std     skew    kurtosis  \n",
       "0  248.6931   0.1827  94317.5637  \n",
       "1   69.3151 452.2190 246924.5430  \n",
       "2 1713.5982   0.0298     -1.1800  "
      ]
     },
     "execution_count": 17,
     "metadata": {},
     "output_type": "execute_result"
    }
   ],
   "source": [
    "#central tendency - mean, median, \n",
    "ct1 = pd.DataFrame(num_attributes.apply(np.mean) ).T\n",
    "ct2 = pd.DataFrame(num_attributes.apply(np.median)).T\n",
    "\n",
    "#Dispersion - std, \n",
    "d1 = pd.DataFrame(num_attributes.apply(np.std)).T\n",
    "d2 = pd.DataFrame(num_attributes.apply(np.min)).T\n",
    "d3 = pd.DataFrame(num_attributes.apply(np.max)).T\n",
    "d4 = pd.DataFrame(num_attributes.apply(lambda x: x.max() - x.min())).T\n",
    "d5 = pd.DataFrame(num_attributes.apply(lambda x: x.skew()) ).T\n",
    "d6 = pd.DataFrame(num_attributes.apply(lambda x: x.kurtosis()) ).T\n",
    "\n",
    "#Merge\n",
    "n = pd.concat([d2, d3, d4, ct1, ct2, d1, d5, d6]).T.reset_index()\n",
    "n.columns = ['attributes', 'min', 'max', 'range','mean', 'median', 'std','skew','kurtosis']\n",
    "n"
   ]
  },
  {
   "cell_type": "markdown",
   "id": "3968b872",
   "metadata": {},
   "source": [
    " ### Categorical Attributes"
   ]
  },
  {
   "cell_type": "code",
   "execution_count": 18,
   "id": "1b276ae6",
   "metadata": {
    "ExecuteTime": {
     "end_time": "2023-05-29T11:25:12.079951Z",
     "start_time": "2023-05-29T11:25:11.939954Z"
    }
   },
   "outputs": [
    {
     "data": {
      "text/plain": [
       "invoice_no     22190\n",
       "stock_code      3684\n",
       "description     3896\n",
       "country           37\n",
       "dtype: int64"
      ]
     },
     "execution_count": 18,
     "metadata": {},
     "output_type": "execute_result"
    }
   ],
   "source": [
    "# check unique values of categorical features\n",
    "cat_attributes.apply( lambda x: x.unique().shape[0])"
   ]
  },
  {
   "cell_type": "markdown",
   "id": "d44f1bbc",
   "metadata": {},
   "source": [
    "### Country"
   ]
  },
  {
   "cell_type": "code",
   "execution_count": 19,
   "id": "aed58a72",
   "metadata": {
    "ExecuteTime": {
     "end_time": "2023-05-29T11:25:12.205376Z",
     "start_time": "2023-05-29T11:25:12.083956Z"
    }
   },
   "outputs": [
    {
     "data": {
      "text/plain": [
       "United Kingdom         0.8895\n",
       "Germany                0.0233\n",
       "France                 0.0209\n",
       "EIRE                   0.0184\n",
       "Spain                  0.0062\n",
       "Netherlands            0.0058\n",
       "Belgium                0.0051\n",
       "Switzerland            0.0046\n",
       "Portugal               0.0036\n",
       "Australia              0.0031\n",
       "Norway                 0.0027\n",
       "Italy                  0.0020\n",
       "Channel Islands        0.0019\n",
       "Finland                0.0017\n",
       "Cyprus                 0.0015\n",
       "Sweden                 0.0011\n",
       "Austria                0.0010\n",
       "Denmark                0.0010\n",
       "Japan                  0.0009\n",
       "Poland                 0.0008\n",
       "USA                    0.0007\n",
       "Israel                 0.0006\n",
       "Unspecified            0.0006\n",
       "Singapore              0.0006\n",
       "Iceland                0.0004\n",
       "Canada                 0.0004\n",
       "Greece                 0.0004\n",
       "Malta                  0.0003\n",
       "United Arab Emirates   0.0002\n",
       "European Community     0.0001\n",
       "RSA                    0.0001\n",
       "Lebanon                0.0001\n",
       "Lithuania              0.0001\n",
       "Brazil                 0.0001\n",
       "Czech Republic         0.0001\n",
       "Bahrain                0.0000\n",
       "Saudi Arabia           0.0000\n",
       "Name: country, dtype: float64"
      ]
     },
     "execution_count": 19,
     "metadata": {},
     "output_type": "execute_result"
    }
   ],
   "source": [
    "#purchase to countries\n",
    "\n",
    "df1['country'].value_counts(normalize=True)"
   ]
  },
  {
   "cell_type": "code",
   "execution_count": 20,
   "id": "5586813f",
   "metadata": {
    "ExecuteTime": {
     "end_time": "2023-05-29T11:25:12.499443Z",
     "start_time": "2023-05-29T11:25:12.208381Z"
    }
   },
   "outputs": [
    {
     "data": {
      "text/html": [
       "<div>\n",
       "<style scoped>\n",
       "    .dataframe tbody tr th:only-of-type {\n",
       "        vertical-align: middle;\n",
       "    }\n",
       "\n",
       "    .dataframe tbody tr th {\n",
       "        vertical-align: top;\n",
       "    }\n",
       "\n",
       "    .dataframe thead th {\n",
       "        text-align: right;\n",
       "    }\n",
       "</style>\n",
       "<table border=\"1\" class=\"dataframe\">\n",
       "  <thead>\n",
       "    <tr style=\"text-align: right;\">\n",
       "      <th></th>\n",
       "      <th>country</th>\n",
       "      <th>customer_id</th>\n",
       "    </tr>\n",
       "  </thead>\n",
       "  <tbody>\n",
       "    <tr>\n",
       "      <th>35</th>\n",
       "      <td>United Kingdom</td>\n",
       "      <td>3950</td>\n",
       "    </tr>\n",
       "    <tr>\n",
       "      <th>14</th>\n",
       "      <td>Germany</td>\n",
       "      <td>95</td>\n",
       "    </tr>\n",
       "    <tr>\n",
       "      <th>13</th>\n",
       "      <td>France</td>\n",
       "      <td>87</td>\n",
       "    </tr>\n",
       "    <tr>\n",
       "      <th>30</th>\n",
       "      <td>Spain</td>\n",
       "      <td>31</td>\n",
       "    </tr>\n",
       "    <tr>\n",
       "      <th>3</th>\n",
       "      <td>Belgium</td>\n",
       "      <td>25</td>\n",
       "    </tr>\n",
       "  </tbody>\n",
       "</table>\n",
       "</div>"
      ],
      "text/plain": [
       "           country  customer_id\n",
       "35  United Kingdom         3950\n",
       "14         Germany           95\n",
       "13          France           87\n",
       "30           Spain           31\n",
       "3          Belgium           25"
      ]
     },
     "execution_count": 20,
     "metadata": {},
     "output_type": "execute_result"
    }
   ],
   "source": [
    "df1[['customer_id', 'country']].drop_duplicates().groupby('country').count().reset_index().sort_values('customer_id', ascending=False).head()"
   ]
  },
  {
   "cell_type": "markdown",
   "id": "59d774ed",
   "metadata": {},
   "source": [
    "Há mais clientes no Reino Unido (United Kingdom)com aproximadamente 4.000, seguido da Alemanha (Germany) e França (France) com 95 e 87, respectivamente."
   ]
  },
  {
   "cell_type": "markdown",
   "id": "f0f8d05d",
   "metadata": {},
   "source": [
    "### Invoice_no"
   ]
  },
  {
   "cell_type": "code",
   "execution_count": 21,
   "id": "b648bff5",
   "metadata": {
    "ExecuteTime": {
     "end_time": "2023-05-29T11:25:12.968826Z",
     "start_time": "2023-05-29T11:25:12.502438Z"
    }
   },
   "outputs": [
    {
     "name": "stdout",
     "output_type": "stream",
     "text": [
      "total de invoices com letras: 8905\n",
      "total de invoices com valores negativos: 8905\n"
     ]
    }
   ],
   "source": [
    "# problema: A coluna invoice é composta por numeros e letras\n",
    "\n",
    "df_letter_invoices = df1.loc[df1['invoice_no'].apply( lambda x: bool( re.search( '[^0-9]+', x ) ) ), :]\n",
    "\n",
    "#Verificar se todos os invoices são negativos\n",
    "print(f'total de invoices com letras: {len(df_letter_invoices)}')\n",
    "\n",
    "#Verificar se todos os invoices são negativos\n",
    "print(f'total de invoices com valores negativos: {len(df_letter_invoices[ df_letter_invoices[\"quantity\"] < 0 ])}')"
   ]
  },
  {
   "cell_type": "markdown",
   "id": "38f7a08c",
   "metadata": {},
   "source": [
    "# Filtering Variable"
   ]
  },
  {
   "cell_type": "code",
   "execution_count": 22,
   "id": "29fd4cb7",
   "metadata": {
    "ExecuteTime": {
     "end_time": "2023-05-29T11:25:12.999822Z",
     "start_time": "2023-05-29T11:25:12.973640Z"
    }
   },
   "outputs": [],
   "source": [
    "df2 =df1.copy()"
   ]
  },
  {
   "cell_type": "code",
   "execution_count": 23,
   "id": "a62f58dc",
   "metadata": {
    "ExecuteTime": {
     "end_time": "2023-05-29T11:25:13.542134Z",
     "start_time": "2023-05-29T11:25:13.003638Z"
    }
   },
   "outputs": [],
   "source": [
    "#=====================Numerical Attributes=================================\n",
    "#Quantity\n",
    "df2 = df2.loc[df2['unit_price']>= 0.04]\n",
    "\n",
    "\n",
    "#=====================Caterical Attributes=================================\n",
    "df2=  df2[~df2['stock_code'].isin( ['POST', 'D', 'DOT', 'M', 'S', 'AMAZONFEE', 'm', 'DCGSSBOY',\n",
    "       'DCGSSGIRL', 'PADS', 'B', 'CRUK'])]\n",
    "\n",
    "#Description\n",
    "df2 = df2.drop(columns='description', axis=1)\n",
    "\n",
    "\n",
    "#map\n",
    "df2 = df2[~df2['country'].isin(['European Community', 'Unspecified'])]\n",
    "\n",
    "#Quantity\n",
    "df_return = df2.loc[df1['quantity']<0, :]\n",
    "df2_purchase = df2.loc[df1['quantity']>= 0, :]\n",
    "\n",
    "\n",
    "#Remove Bad User \n",
    "df2 = df2[~df2['customer_id'].isin( [16446] )]\n"
   ]
  },
  {
   "cell_type": "markdown",
   "id": "d8b21503",
   "metadata": {},
   "source": [
    "# Feature Engeneering"
   ]
  },
  {
   "cell_type": "code",
   "execution_count": 24,
   "id": "b7fe1afb",
   "metadata": {
    "ExecuteTime": {
     "end_time": "2023-05-29T11:25:13.574109Z",
     "start_time": "2023-05-29T11:25:13.545107Z"
    }
   },
   "outputs": [],
   "source": [
    "df3 = df2.copy()"
   ]
  },
  {
   "cell_type": "code",
   "execution_count": 25,
   "id": "b7b4ef39",
   "metadata": {
    "ExecuteTime": {
     "end_time": "2023-05-29T11:25:13.702113Z",
     "start_time": "2023-05-29T11:25:13.582108Z"
    }
   },
   "outputs": [],
   "source": [
    "# Criar colunas Recency, Frequency, Monetary\n",
    "# Data reference\n",
    "df_ref = df3.drop(['invoice_no', 'stock_code', 'quantity', 'invoice_date', 'unit_price', \n",
    "                   'country'], axis=1).drop_duplicates(ignore_index=True)"
   ]
  },
  {
   "cell_type": "markdown",
   "id": "c212b9b8",
   "metadata": {
    "ExecuteTime": {
     "end_time": "2023-05-08T12:22:47.485471Z",
     "start_time": "2023-05-08T12:22:47.477476Z"
    }
   },
   "source": [
    "### Gross Revenue"
   ]
  },
  {
   "cell_type": "code",
   "execution_count": 26,
   "id": "2c950c13",
   "metadata": {
    "ExecuteTime": {
     "end_time": "2023-05-29T11:25:13.981933Z",
     "start_time": "2023-05-29T11:25:13.706113Z"
    }
   },
   "outputs": [],
   "source": [
    "#Gross Revenue (Faturamento) - Quantity * price\n",
    "df2_purchase[ 'gross_revenue'] = df2_purchase['quantity'] * df2_purchase['unit_price']\n",
    "\n",
    "#Monetary\n",
    "df_monetary = df2_purchase[['customer_id', 'gross_revenue']].groupby('customer_id').sum().reset_index()\n",
    "\n",
    "df_ref = pd.merge(df_ref, df_monetary, on='customer_id', how='left')"
   ]
  },
  {
   "cell_type": "markdown",
   "id": "811243bf",
   "metadata": {},
   "source": [
    "### Recency - days since the last purchase"
   ]
  },
  {
   "cell_type": "code",
   "execution_count": 27,
   "id": "d35fdc86",
   "metadata": {
    "ExecuteTime": {
     "end_time": "2023-05-29T11:25:14.076099Z",
     "start_time": "2023-05-29T11:25:13.987096Z"
    }
   },
   "outputs": [
    {
     "data": {
      "text/plain": [
       "customer_id       0\n",
       "gross_revenue    27\n",
       "recency_days     27\n",
       "dtype: int64"
      ]
     },
     "execution_count": 27,
     "metadata": {},
     "output_type": "execute_result"
    }
   ],
   "source": [
    "# Recency - Last day purchase\n",
    "df_recency = df2_purchase.loc[:, ['customer_id', 'invoice_date']].groupby( 'customer_id' ).max().reset_index()\n",
    "df_recency['recency_days'] = ( df2['invoice_date'].max() - df_recency['invoice_date'] ).dt.days\n",
    "df_recency = df_recency[['customer_id', 'recency_days']].copy()\n",
    "df_ref = pd.merge( df_ref, df_recency, on='customer_id', how='left' )\n",
    "df_ref.isna().sum()"
   ]
  },
  {
   "cell_type": "markdown",
   "id": "6dbe346b",
   "metadata": {},
   "source": [
    "### Quantity of Purchases by Customer\n"
   ]
  },
  {
   "cell_type": "code",
   "execution_count": 28,
   "id": "8773f959",
   "metadata": {
    "ExecuteTime": {
     "end_time": "2023-05-29T11:25:14.262619Z",
     "start_time": "2023-05-29T11:25:14.095100Z"
    }
   },
   "outputs": [
    {
     "data": {
      "text/plain": [
       "customer_id        0\n",
       "gross_revenue     27\n",
       "recency_days      27\n",
       "qty_invoice_no    27\n",
       "dtype: int64"
      ]
     },
     "execution_count": 28,
     "metadata": {},
     "output_type": "execute_result"
    }
   ],
   "source": [
    "# Qty of invoice no per customer\n",
    "df_invoice_no = df2_purchase[['customer_id', 'invoice_no']].drop_duplicates().groupby('customer_id').count().reset_index().rename(columns = {'invoice_no': 'qty_invoice_no'})\n",
    "\n",
    "df_ref = pd.merge(df_ref, df_invoice_no, on = 'customer_id', how = 'left')\n",
    "df_ref.isna().sum()"
   ]
  },
  {
   "cell_type": "markdown",
   "id": "5424c23d",
   "metadata": {},
   "source": [
    "### Quantity of products (different stock codes by customer)"
   ]
  },
  {
   "cell_type": "code",
   "execution_count": 29,
   "id": "321aec31",
   "metadata": {
    "ExecuteTime": {
     "end_time": "2023-05-29T11:25:14.371779Z",
     "start_time": "2023-05-29T11:25:14.269616Z"
    }
   },
   "outputs": [
    {
     "data": {
      "text/plain": [
       "customer_id        0\n",
       "gross_revenue     27\n",
       "recency_days      27\n",
       "qty_invoice_no    27\n",
       "qtde_products     27\n",
       "dtype: int64"
      ]
     },
     "execution_count": 29,
     "metadata": {},
     "output_type": "execute_result"
    }
   ],
   "source": [
    "#Products number\n",
    "df_freq = (df2_purchase.loc[:,['customer_id', 'stock_code']].groupby('customer_id')\n",
    "                                                            .count()\n",
    "                                                            .reset_index()\n",
    "                                                            .rename(columns={'stock_code':'qtde_products'}))\n",
    "           \n",
    "df_ref =pd.merge(df_ref, df_freq, on='customer_id', how='left')\n",
    "df_ref.isna().sum()"
   ]
  },
  {
   "cell_type": "markdown",
   "id": "d8f759cd",
   "metadata": {},
   "source": [
    "### Quantity of Items Purchased by Customer"
   ]
  },
  {
   "cell_type": "code",
   "execution_count": 30,
   "id": "0e876ffa",
   "metadata": {
    "ExecuteTime": {
     "end_time": "2023-05-29T11:25:14.434761Z",
     "start_time": "2023-05-29T11:25:14.374761Z"
    }
   },
   "outputs": [
    {
     "data": {
      "text/plain": [
       "customer_id        0\n",
       "gross_revenue     27\n",
       "recency_days      27\n",
       "qty_invoice_no    27\n",
       "qtde_products     27\n",
       "qty_items         27\n",
       "dtype: int64"
      ]
     },
     "execution_count": 30,
     "metadata": {},
     "output_type": "execute_result"
    }
   ],
   "source": [
    "# Quantity of items purchased by customer\n",
    "df_freq = (df2_purchase.loc[:, ['customer_id', 'quantity']].groupby( 'customer_id' ).sum()\n",
    "                                                           .reset_index()\n",
    "                                                           .rename( columns={'quantity': 'qty_items'} ) )\n",
    "df_ref = pd.merge( df_ref, df_freq, on='customer_id', how='left' )\n",
    "df_ref.isna().sum()"
   ]
  },
  {
   "cell_type": "markdown",
   "id": "674db6a3",
   "metadata": {},
   "source": [
    "### Frequency"
   ]
  },
  {
   "cell_type": "code",
   "execution_count": 31,
   "id": "3d5d9810",
   "metadata": {
    "ExecuteTime": {
     "end_time": "2023-05-29T11:25:15.807932Z",
     "start_time": "2023-05-29T11:25:14.438762Z"
    }
   },
   "outputs": [],
   "source": [
    "df_aux = (df2_purchase[['customer_id', 'invoice_no', 'invoice_date']].drop_duplicates()\n",
    "                                                           .groupby('customer_id')\n",
    "                                                           .agg(max_ =('invoice_date', 'max'),\n",
    "                                                                min_ =('invoice_date', 'min'),\n",
    "                                                                days_ =('invoice_date', lambda x:(( x.max() - x.min()).days)+1),\n",
    "                                                                buy_ =('invoice_date', 'count'))).reset_index()\n",
    "#Frequency\n",
    "df_aux['frequency'] =df_aux[['buy_', 'days_']].apply( lambda x: x['buy_']/ x['days_'] if x['days_'] != 0 else 0, axis=1)\n",
    "\n",
    "#Merge\n",
    "df_ref = pd.merge(df_ref, df_aux[['customer_id', 'frequency']], how='left', on='customer_id')"
   ]
  },
  {
   "cell_type": "markdown",
   "id": "6d8f473e",
   "metadata": {},
   "source": [
    "### Average Ticket Value"
   ]
  },
  {
   "cell_type": "code",
   "execution_count": 32,
   "id": "46575aea",
   "metadata": {
    "ExecuteTime": {
     "end_time": "2023-05-29T11:25:15.855934Z",
     "start_time": "2023-05-29T11:25:15.810934Z"
    }
   },
   "outputs": [
    {
     "data": {
      "text/plain": [
       "customer_id        0\n",
       "gross_revenue     27\n",
       "recency_days      27\n",
       "qty_invoice_no    27\n",
       "qtde_products     27\n",
       "qty_items         27\n",
       "frequency         27\n",
       "avg_ticket        27\n",
       "dtype: int64"
      ]
     },
     "execution_count": 32,
     "metadata": {},
     "output_type": "execute_result"
    }
   ],
   "source": [
    "# Average Ticket Value\n",
    "df_avg_ticket = df2_purchase.loc[:, ['customer_id', 'gross_revenue']].groupby( 'customer_id' ).mean().reset_index().rename( columns={'gross_revenue':'avg_ticket'} )\n",
    "df_ref = pd.merge( df_ref, df_avg_ticket, on='customer_id', how='left')\n",
    "df_ref.isna().sum()"
   ]
  },
  {
   "cell_type": "markdown",
   "id": "042f6d72",
   "metadata": {},
   "source": [
    "### Number of Returns"
   ]
  },
  {
   "cell_type": "code",
   "execution_count": 33,
   "id": "323fed79",
   "metadata": {
    "ExecuteTime": {
     "end_time": "2023-05-29T11:25:15.982197Z",
     "start_time": "2023-05-29T11:25:15.858935Z"
    }
   },
   "outputs": [
    {
     "data": {
      "text/plain": [
       "customer_id        0\n",
       "gross_revenue     27\n",
       "recency_days      27\n",
       "qty_invoice_no    27\n",
       "qtde_products     27\n",
       "qty_items         27\n",
       "frequency         27\n",
       "avg_ticket        27\n",
       "qty_returns        0\n",
       "dtype: int64"
      ]
     },
     "execution_count": 33,
     "metadata": {},
     "output_type": "execute_result"
    }
   ],
   "source": [
    "#Number of Returns\n",
    "df_returns = df_return[['customer_id', 'quantity']].groupby( 'customer_id' ).sum().reset_index().rename( columns={'quantity':'qty_returns'} )\n",
    "df_returns['qty_returns'] = df_returns['qty_returns'] * -1\n",
    "\n",
    "df_ref = pd.merge( df_ref, df_returns, how='left', on='customer_id' )\n",
    "df_ref.loc[df_ref['qty_returns'].isna(), 'qty_returns'] = 0 #customers with 0 returned items\n",
    "\n",
    "df_ref.isna().sum()"
   ]
  },
  {
   "cell_type": "markdown",
   "id": "497e37e0",
   "metadata": {},
   "source": [
    "### Basket Size"
   ]
  },
  {
   "cell_type": "code",
   "execution_count": 34,
   "id": "04be86a8",
   "metadata": {
    "ExecuteTime": {
     "end_time": "2023-05-29T11:25:16.281192Z",
     "start_time": "2023-05-29T11:25:15.986198Z"
    }
   },
   "outputs": [
    {
     "data": {
      "text/plain": [
       "customer_id         0\n",
       "gross_revenue      27\n",
       "recency_days       27\n",
       "qty_invoice_no     27\n",
       "qtde_products      27\n",
       "qty_items          27\n",
       "frequency          27\n",
       "avg_ticket         27\n",
       "qty_returns         0\n",
       "avg_basket_size    27\n",
       "dtype: int64"
      ]
     },
     "execution_count": 34,
     "metadata": {},
     "output_type": "execute_result"
    }
   ],
   "source": [
    "#Basket Size - the number of products sold in a single purchase ( Quantity )\n",
    "# Invoice No = Purchase = purchase\n",
    "# Stock Code = Produto Único = Product\n",
    "# Quantity = Item = Item\n",
    "\n",
    "df_aux = ( df2_purchase.loc[:, ['customer_id', 'invoice_no', 'quantity']].groupby( 'customer_id' )\n",
    "                                                                            .agg( n_purchase=( 'invoice_no', 'nunique'),\n",
    "                                                                                   n_products=( 'quantity', 'sum' ) )\n",
    "                                                                            .reset_index() )\n",
    "\n",
    "# calculation\n",
    "df_aux['avg_basket_size'] = df_aux['n_products'] / df_aux['n_purchase']\n",
    "\n",
    "# merge\n",
    "df_ref = pd.merge( df_ref, df_aux[['customer_id', 'avg_basket_size']], how='left', on='customer_id' )\n",
    "df_ref.isna().sum()"
   ]
  },
  {
   "cell_type": "markdown",
   "id": "1cbc56ae",
   "metadata": {},
   "source": [
    "### Unique Basket Size"
   ]
  },
  {
   "cell_type": "code",
   "execution_count": 35,
   "id": "0363c98c",
   "metadata": {
    "ExecuteTime": {
     "end_time": "2023-05-29T11:25:16.622129Z",
     "start_time": "2023-05-29T11:25:16.286769Z"
    }
   },
   "outputs": [
    {
     "data": {
      "text/plain": [
       "customer_id                0\n",
       "gross_revenue             27\n",
       "recency_days              27\n",
       "qty_invoice_no            27\n",
       "qtde_products             27\n",
       "qty_items                 27\n",
       "frequency                 27\n",
       "avg_ticket                27\n",
       "qty_returns                0\n",
       "avg_basket_size           27\n",
       "avg_unique_basket_size    27\n",
       "dtype: int64"
      ]
     },
     "execution_count": 35,
     "metadata": {},
     "output_type": "execute_result"
    }
   ],
   "source": [
    "#Unique Basket Size - Quantidade de produtos distintos por compra\n",
    "\n",
    "df_aux = ( df2_purchase.loc[:, ['customer_id', 'invoice_no', 'stock_code']].groupby( 'customer_id' )\n",
    "                                                                            .agg( n_purchase=( 'invoice_no', 'nunique'),\n",
    "                                                                                   n_products=( 'stock_code', 'nunique' ) )\n",
    "                                                                            .reset_index() )\n",
    "\n",
    "# calculation\n",
    "df_aux['avg_unique_basket_size'] = df_aux['n_products'] / df_aux['n_purchase']\n",
    "\n",
    "# merge\n",
    "df_ref = pd.merge( df_ref, df_aux[['customer_id', 'avg_unique_basket_size']], how='left', on='customer_id' )\n",
    "df_ref.isna().sum()"
   ]
  },
  {
   "cell_type": "markdown",
   "id": "848d898f",
   "metadata": {},
   "source": [
    "# EDA"
   ]
  },
  {
   "cell_type": "code",
   "execution_count": 36,
   "id": "57f44d0d",
   "metadata": {
    "ExecuteTime": {
     "end_time": "2023-05-29T11:25:16.638127Z",
     "start_time": "2023-05-29T11:25:16.627126Z"
    }
   },
   "outputs": [],
   "source": [
    "df4 = df_ref.copy()"
   ]
  },
  {
   "cell_type": "code",
   "execution_count": 37,
   "id": "3f6c7663",
   "metadata": {
    "ExecuteTime": {
     "end_time": "2023-05-29T11:25:16.810606Z",
     "start_time": "2023-05-29T11:25:16.641142Z"
    }
   },
   "outputs": [
    {
     "data": {
      "text/plain": [
       "customer_id                0\n",
       "gross_revenue             27\n",
       "recency_days              27\n",
       "qty_invoice_no            27\n",
       "qtde_products             27\n",
       "qty_items                 27\n",
       "frequency                 27\n",
       "avg_ticket                27\n",
       "qty_returns                0\n",
       "avg_basket_size           27\n",
       "avg_unique_basket_size    27\n",
       "dtype: int64"
      ]
     },
     "execution_count": 37,
     "metadata": {},
     "output_type": "execute_result"
    }
   ],
   "source": [
    "df4.isna().sum()"
   ]
  },
  {
   "cell_type": "markdown",
   "id": "2dabfe3c",
   "metadata": {},
   "source": [
    "**O cluster deve ser coesos e separados**\n",
    "**Métricas que indicam variabilidade:** \n",
    "\n",
    "    - Min, Max, Range (Dispersão)\n",
    "    \n",
    "    - Media e Mediana\n",
    "    \n",
    "    - Desvio padrão e Variancia\n",
    "    \n",
    "    - Distribuição\n",
    "    \n",
    "    - Coeficiente de Variação\n",
    "    \n",
    "    - Olhar com atenção pros outliers"
   ]
  },
  {
   "cell_type": "markdown",
   "id": "efa0eaa0",
   "metadata": {},
   "source": [
    "## Análise Univariada\n",
    "Usar o Sweetviz"
   ]
  },
  {
   "cell_type": "code",
   "execution_count": 38,
   "id": "928033f4",
   "metadata": {
    "ExecuteTime": {
     "end_time": "2023-05-29T11:25:16.966614Z",
     "start_time": "2023-05-29T11:25:16.814618Z"
    }
   },
   "outputs": [],
   "source": [
    "#generate report with Pandas Profiling Report\n",
    "#my_report2 = sv.analyze(df4)\n",
    "#my_report2.show_html() "
   ]
  },
  {
   "cell_type": "markdown",
   "id": "4a13fb22",
   "metadata": {
    "ExecuteTime": {
     "end_time": "2023-05-10T11:59:49.486989Z",
     "start_time": "2023-05-10T11:59:49.486989Z"
    }
   },
   "source": [
    "- AO analisar o relatório do sweetviz observei que tem um valor muito alto. Vamos dar um zoom nesse id e ver do que se trata"
   ]
  },
  {
   "cell_type": "markdown",
   "id": "9f64eb8c",
   "metadata": {
    "ExecuteTime": {
     "end_time": "2023-05-10T11:59:49.491990Z",
     "start_time": "2023-05-10T11:59:49.491990Z"
    }
   },
   "source": [
    "### Quantity Items"
   ]
  },
  {
   "cell_type": "code",
   "execution_count": 39,
   "id": "989afd84",
   "metadata": {
    "ExecuteTime": {
     "end_time": "2023-05-29T11:25:17.076730Z",
     "start_time": "2023-05-29T11:25:16.969470Z"
    }
   },
   "outputs": [
    {
     "data": {
      "text/html": [
       "<div>\n",
       "<style scoped>\n",
       "    .dataframe tbody tr th:only-of-type {\n",
       "        vertical-align: middle;\n",
       "    }\n",
       "\n",
       "    .dataframe tbody tr th {\n",
       "        vertical-align: top;\n",
       "    }\n",
       "\n",
       "    .dataframe thead th {\n",
       "        text-align: right;\n",
       "    }\n",
       "</style>\n",
       "<table border=\"1\" class=\"dataframe\">\n",
       "  <thead>\n",
       "    <tr style=\"text-align: right;\">\n",
       "      <th></th>\n",
       "      <th>customer_id</th>\n",
       "      <th>gross_revenue</th>\n",
       "      <th>recency_days</th>\n",
       "      <th>qty_invoice_no</th>\n",
       "      <th>qtde_products</th>\n",
       "      <th>qty_items</th>\n",
       "      <th>frequency</th>\n",
       "      <th>avg_ticket</th>\n",
       "      <th>qty_returns</th>\n",
       "      <th>avg_basket_size</th>\n",
       "      <th>avg_unique_basket_size</th>\n",
       "    </tr>\n",
       "  </thead>\n",
       "  <tbody>\n",
       "    <tr>\n",
       "      <th>908</th>\n",
       "      <td>14646</td>\n",
       "      <td>279138.0200</td>\n",
       "      <td>1.0000</td>\n",
       "      <td>72.0000</td>\n",
       "      <td>2060.0000</td>\n",
       "      <td>196844.0000</td>\n",
       "      <td>0.2034</td>\n",
       "      <td>135.5039</td>\n",
       "      <td>288.0000</td>\n",
       "      <td>2733.9444</td>\n",
       "      <td>9.7083</td>\n",
       "    </tr>\n",
       "  </tbody>\n",
       "</table>\n",
       "</div>"
      ],
      "text/plain": [
       "     customer_id  gross_revenue  recency_days  qty_invoice_no  qtde_products  \\\n",
       "908        14646    279138.0200        1.0000         72.0000      2060.0000   \n",
       "\n",
       "      qty_items  frequency  avg_ticket  qty_returns  avg_basket_size  \\\n",
       "908 196844.0000     0.2034    135.5039     288.0000        2733.9444   \n",
       "\n",
       "     avg_unique_basket_size  \n",
       "908                  9.7083  "
      ]
     },
     "execution_count": 39,
     "metadata": {},
     "output_type": "execute_result"
    }
   ],
   "source": [
    "df4.loc[df4['qty_items']==196844]"
   ]
  },
  {
   "cell_type": "markdown",
   "id": "7761e3b3",
   "metadata": {
    "ExecuteTime": {
     "end_time": "2023-05-10T18:06:34.016281Z",
     "start_time": "2023-05-10T18:06:33.899469Z"
    }
   },
   "source": [
    "Esse cliente fez a compra ha 1 dia, comprou 2060 produtos m tem uma frequencia de 20"
   ]
  },
  {
   "cell_type": "code",
   "execution_count": 40,
   "id": "483e195e",
   "metadata": {
    "ExecuteTime": {
     "end_time": "2023-05-29T11:25:17.295529Z",
     "start_time": "2023-05-29T11:25:17.081730Z"
    }
   },
   "outputs": [
    {
     "data": {
      "text/html": [
       "<div>\n",
       "<style scoped>\n",
       "    .dataframe tbody tr th:only-of-type {\n",
       "        vertical-align: middle;\n",
       "    }\n",
       "\n",
       "    .dataframe tbody tr th {\n",
       "        vertical-align: top;\n",
       "    }\n",
       "\n",
       "    .dataframe thead th {\n",
       "        text-align: right;\n",
       "    }\n",
       "</style>\n",
       "<table border=\"1\" class=\"dataframe\">\n",
       "  <thead>\n",
       "    <tr style=\"text-align: right;\">\n",
       "      <th></th>\n",
       "      <th>invoice_no</th>\n",
       "      <th>stock_code</th>\n",
       "      <th>quantity</th>\n",
       "      <th>invoice_date</th>\n",
       "      <th>unit_price</th>\n",
       "      <th>customer_id</th>\n",
       "      <th>country</th>\n",
       "    </tr>\n",
       "  </thead>\n",
       "  <tbody>\n",
       "    <tr>\n",
       "      <th>37952</th>\n",
       "      <td>539491</td>\n",
       "      <td>21981</td>\n",
       "      <td>12</td>\n",
       "      <td>2016-12-18</td>\n",
       "      <td>0.2900</td>\n",
       "      <td>14646</td>\n",
       "      <td>Netherlands</td>\n",
       "    </tr>\n",
       "    <tr>\n",
       "      <th>37953</th>\n",
       "      <td>539491</td>\n",
       "      <td>21986</td>\n",
       "      <td>12</td>\n",
       "      <td>2016-12-18</td>\n",
       "      <td>0.2900</td>\n",
       "      <td>14646</td>\n",
       "      <td>Netherlands</td>\n",
       "    </tr>\n",
       "    <tr>\n",
       "      <th>37954</th>\n",
       "      <td>539491</td>\n",
       "      <td>22720</td>\n",
       "      <td>2</td>\n",
       "      <td>2016-12-18</td>\n",
       "      <td>4.9500</td>\n",
       "      <td>14646</td>\n",
       "      <td>Netherlands</td>\n",
       "    </tr>\n",
       "    <tr>\n",
       "      <th>37955</th>\n",
       "      <td>539491</td>\n",
       "      <td>21931</td>\n",
       "      <td>1</td>\n",
       "      <td>2016-12-18</td>\n",
       "      <td>1.9500</td>\n",
       "      <td>14646</td>\n",
       "      <td>Netherlands</td>\n",
       "    </tr>\n",
       "    <tr>\n",
       "      <th>37956</th>\n",
       "      <td>539491</td>\n",
       "      <td>22613</td>\n",
       "      <td>2</td>\n",
       "      <td>2016-12-18</td>\n",
       "      <td>0.8500</td>\n",
       "      <td>14646</td>\n",
       "      <td>Netherlands</td>\n",
       "    </tr>\n",
       "    <tr>\n",
       "      <th>37957</th>\n",
       "      <td>539491</td>\n",
       "      <td>20751</td>\n",
       "      <td>1</td>\n",
       "      <td>2016-12-18</td>\n",
       "      <td>2.1000</td>\n",
       "      <td>14646</td>\n",
       "      <td>Netherlands</td>\n",
       "    </tr>\n",
       "    <tr>\n",
       "      <th>37958</th>\n",
       "      <td>539491</td>\n",
       "      <td>21246</td>\n",
       "      <td>2</td>\n",
       "      <td>2016-12-18</td>\n",
       "      <td>4.9500</td>\n",
       "      <td>14646</td>\n",
       "      <td>Netherlands</td>\n",
       "    </tr>\n",
       "    <tr>\n",
       "      <th>37959</th>\n",
       "      <td>539491</td>\n",
       "      <td>22960</td>\n",
       "      <td>1</td>\n",
       "      <td>2016-12-18</td>\n",
       "      <td>4.2500</td>\n",
       "      <td>14646</td>\n",
       "      <td>Netherlands</td>\n",
       "    </tr>\n",
       "    <tr>\n",
       "      <th>37960</th>\n",
       "      <td>539491</td>\n",
       "      <td>22355</td>\n",
       "      <td>2</td>\n",
       "      <td>2016-12-18</td>\n",
       "      <td>0.8500</td>\n",
       "      <td>14646</td>\n",
       "      <td>Netherlands</td>\n",
       "    </tr>\n",
       "    <tr>\n",
       "      <th>37961</th>\n",
       "      <td>539491</td>\n",
       "      <td>21123</td>\n",
       "      <td>2</td>\n",
       "      <td>2016-12-18</td>\n",
       "      <td>1.2500</td>\n",
       "      <td>14646</td>\n",
       "      <td>Netherlands</td>\n",
       "    </tr>\n",
       "    <tr>\n",
       "      <th>37962</th>\n",
       "      <td>539491</td>\n",
       "      <td>47599A</td>\n",
       "      <td>2</td>\n",
       "      <td>2016-12-18</td>\n",
       "      <td>2.1000</td>\n",
       "      <td>14646</td>\n",
       "      <td>Netherlands</td>\n",
       "    </tr>\n",
       "    <tr>\n",
       "      <th>37963</th>\n",
       "      <td>539491</td>\n",
       "      <td>22331</td>\n",
       "      <td>2</td>\n",
       "      <td>2016-12-18</td>\n",
       "      <td>1.6500</td>\n",
       "      <td>14646</td>\n",
       "      <td>Netherlands</td>\n",
       "    </tr>\n",
       "    <tr>\n",
       "      <th>37964</th>\n",
       "      <td>539491</td>\n",
       "      <td>22333</td>\n",
       "      <td>2</td>\n",
       "      <td>2016-12-18</td>\n",
       "      <td>1.6500</td>\n",
       "      <td>14646</td>\n",
       "      <td>Netherlands</td>\n",
       "    </tr>\n",
       "    <tr>\n",
       "      <th>37965</th>\n",
       "      <td>539491</td>\n",
       "      <td>22315</td>\n",
       "      <td>1</td>\n",
       "      <td>2016-12-18</td>\n",
       "      <td>1.2500</td>\n",
       "      <td>14646</td>\n",
       "      <td>Netherlands</td>\n",
       "    </tr>\n",
       "    <tr>\n",
       "      <th>37966</th>\n",
       "      <td>539491</td>\n",
       "      <td>22445</td>\n",
       "      <td>1</td>\n",
       "      <td>2016-12-18</td>\n",
       "      <td>2.9500</td>\n",
       "      <td>14646</td>\n",
       "      <td>Netherlands</td>\n",
       "    </tr>\n",
       "    <tr>\n",
       "      <th>40190</th>\n",
       "      <td>539731</td>\n",
       "      <td>21212</td>\n",
       "      <td>240</td>\n",
       "      <td>2016-12-19</td>\n",
       "      <td>0.4200</td>\n",
       "      <td>14646</td>\n",
       "      <td>Netherlands</td>\n",
       "    </tr>\n",
       "    <tr>\n",
       "      <th>40191</th>\n",
       "      <td>539731</td>\n",
       "      <td>22858</td>\n",
       "      <td>108</td>\n",
       "      <td>2016-12-19</td>\n",
       "      <td>1.4500</td>\n",
       "      <td>14646</td>\n",
       "      <td>Netherlands</td>\n",
       "    </tr>\n",
       "    <tr>\n",
       "      <th>40192</th>\n",
       "      <td>539731</td>\n",
       "      <td>84459A</td>\n",
       "      <td>192</td>\n",
       "      <td>2016-12-19</td>\n",
       "      <td>1.2500</td>\n",
       "      <td>14646</td>\n",
       "      <td>Netherlands</td>\n",
       "    </tr>\n",
       "    <tr>\n",
       "      <th>40193</th>\n",
       "      <td>539731</td>\n",
       "      <td>84459B</td>\n",
       "      <td>192</td>\n",
       "      <td>2016-12-19</td>\n",
       "      <td>1.2500</td>\n",
       "      <td>14646</td>\n",
       "      <td>Netherlands</td>\n",
       "    </tr>\n",
       "    <tr>\n",
       "      <th>40194</th>\n",
       "      <td>539731</td>\n",
       "      <td>22859</td>\n",
       "      <td>108</td>\n",
       "      <td>2016-12-19</td>\n",
       "      <td>1.4500</td>\n",
       "      <td>14646</td>\n",
       "      <td>Netherlands</td>\n",
       "    </tr>\n",
       "  </tbody>\n",
       "</table>\n",
       "</div>"
      ],
      "text/plain": [
       "      invoice_no stock_code  quantity invoice_date  unit_price  customer_id  \\\n",
       "37952     539491      21981        12   2016-12-18      0.2900        14646   \n",
       "37953     539491      21986        12   2016-12-18      0.2900        14646   \n",
       "37954     539491      22720         2   2016-12-18      4.9500        14646   \n",
       "37955     539491      21931         1   2016-12-18      1.9500        14646   \n",
       "37956     539491      22613         2   2016-12-18      0.8500        14646   \n",
       "37957     539491      20751         1   2016-12-18      2.1000        14646   \n",
       "37958     539491      21246         2   2016-12-18      4.9500        14646   \n",
       "37959     539491      22960         1   2016-12-18      4.2500        14646   \n",
       "37960     539491      22355         2   2016-12-18      0.8500        14646   \n",
       "37961     539491      21123         2   2016-12-18      1.2500        14646   \n",
       "37962     539491     47599A         2   2016-12-18      2.1000        14646   \n",
       "37963     539491      22331         2   2016-12-18      1.6500        14646   \n",
       "37964     539491      22333         2   2016-12-18      1.6500        14646   \n",
       "37965     539491      22315         1   2016-12-18      1.2500        14646   \n",
       "37966     539491      22445         1   2016-12-18      2.9500        14646   \n",
       "40190     539731      21212       240   2016-12-19      0.4200        14646   \n",
       "40191     539731      22858       108   2016-12-19      1.4500        14646   \n",
       "40192     539731     84459A       192   2016-12-19      1.2500        14646   \n",
       "40193     539731     84459B       192   2016-12-19      1.2500        14646   \n",
       "40194     539731      22859       108   2016-12-19      1.4500        14646   \n",
       "\n",
       "           country  \n",
       "37952  Netherlands  \n",
       "37953  Netherlands  \n",
       "37954  Netherlands  \n",
       "37955  Netherlands  \n",
       "37956  Netherlands  \n",
       "37957  Netherlands  \n",
       "37958  Netherlands  \n",
       "37959  Netherlands  \n",
       "37960  Netherlands  \n",
       "37961  Netherlands  \n",
       "37962  Netherlands  \n",
       "37963  Netherlands  \n",
       "37964  Netherlands  \n",
       "37965  Netherlands  \n",
       "37966  Netherlands  \n",
       "40190  Netherlands  \n",
       "40191  Netherlands  \n",
       "40192  Netherlands  \n",
       "40193  Netherlands  \n",
       "40194  Netherlands  "
      ]
     },
     "execution_count": 40,
     "metadata": {},
     "output_type": "execute_result"
    }
   ],
   "source": [
    "df3[df3['customer_id']==14646].head(20)"
   ]
  },
  {
   "cell_type": "markdown",
   "id": "63845c5a",
   "metadata": {},
   "source": [
    "**- Ao que aparece é um cliente recorrente que compra grandes quantidades em pequenos valores**"
   ]
  },
  {
   "cell_type": "markdown",
   "id": "619e99f2",
   "metadata": {},
   "source": [
    "### AVG Ticket"
   ]
  },
  {
   "cell_type": "markdown",
   "id": "4bd52855",
   "metadata": {},
   "source": [
    "O AVG tciket também demosntrou um valor discrepante.\n",
    "Percebe-se que é o mesmo cliente anterior, sendo assim, a decisão é de excluir esse id, pois ele gera um outlier e distorce as informações dos dados."
   ]
  },
  {
   "cell_type": "code",
   "execution_count": 41,
   "id": "a34f6362",
   "metadata": {
    "ExecuteTime": {
     "end_time": "2023-05-29T11:25:17.388999Z",
     "start_time": "2023-05-29T11:25:17.300527Z"
    }
   },
   "outputs": [],
   "source": [
    "#df4[df4['avg_ticket']==56157.5]"
   ]
  },
  {
   "cell_type": "markdown",
   "id": "7c2d8dda",
   "metadata": {},
   "source": [
    "### Frequency"
   ]
  },
  {
   "cell_type": "code",
   "execution_count": 42,
   "id": "e62ea49c",
   "metadata": {
    "ExecuteTime": {
     "end_time": "2023-05-29T11:25:17.558738Z",
     "start_time": "2023-05-29T11:25:17.392253Z"
    }
   },
   "outputs": [
    {
     "data": {
      "text/html": [
       "<div>\n",
       "<style scoped>\n",
       "    .dataframe tbody tr th:only-of-type {\n",
       "        vertical-align: middle;\n",
       "    }\n",
       "\n",
       "    .dataframe tbody tr th {\n",
       "        vertical-align: top;\n",
       "    }\n",
       "\n",
       "    .dataframe thead th {\n",
       "        text-align: right;\n",
       "    }\n",
       "</style>\n",
       "<table border=\"1\" class=\"dataframe\">\n",
       "  <thead>\n",
       "    <tr style=\"text-align: right;\">\n",
       "      <th></th>\n",
       "      <th>customer_id</th>\n",
       "      <th>gross_revenue</th>\n",
       "      <th>recency_days</th>\n",
       "      <th>qty_invoice_no</th>\n",
       "      <th>qtde_products</th>\n",
       "      <th>qty_items</th>\n",
       "      <th>frequency</th>\n",
       "      <th>avg_ticket</th>\n",
       "      <th>qty_returns</th>\n",
       "      <th>avg_basket_size</th>\n",
       "      <th>avg_unique_basket_size</th>\n",
       "    </tr>\n",
       "  </thead>\n",
       "  <tbody>\n",
       "    <tr>\n",
       "      <th>0</th>\n",
       "      <td>17850</td>\n",
       "      <td>5391.2100</td>\n",
       "      <td>372.0000</td>\n",
       "      <td>34.0000</td>\n",
       "      <td>297.0000</td>\n",
       "      <td>1733.0000</td>\n",
       "      <td>17.0000</td>\n",
       "      <td>18.1522</td>\n",
       "      <td>40.0000</td>\n",
       "      <td>50.9706</td>\n",
       "      <td>0.6176</td>\n",
       "    </tr>\n",
       "  </tbody>\n",
       "</table>\n",
       "</div>"
      ],
      "text/plain": [
       "   customer_id  gross_revenue  recency_days  qty_invoice_no  qtde_products  \\\n",
       "0        17850      5391.2100      372.0000         34.0000       297.0000   \n",
       "\n",
       "   qty_items  frequency  avg_ticket  qty_returns  avg_basket_size  \\\n",
       "0  1733.0000    17.0000     18.1522      40.0000          50.9706   \n",
       "\n",
       "   avg_unique_basket_size  \n",
       "0                  0.6176  "
      ]
     },
     "execution_count": 42,
     "metadata": {},
     "output_type": "execute_result"
    }
   ],
   "source": [
    "df4[df4['frequency']==17]"
   ]
  },
  {
   "cell_type": "code",
   "execution_count": 43,
   "id": "fb64a660",
   "metadata": {
    "ExecuteTime": {
     "end_time": "2023-05-29T11:25:17.792841Z",
     "start_time": "2023-05-29T11:25:17.562735Z"
    }
   },
   "outputs": [
    {
     "data": {
      "text/html": [
       "<div>\n",
       "<style scoped>\n",
       "    .dataframe tbody tr th:only-of-type {\n",
       "        vertical-align: middle;\n",
       "    }\n",
       "\n",
       "    .dataframe tbody tr th {\n",
       "        vertical-align: top;\n",
       "    }\n",
       "\n",
       "    .dataframe thead th {\n",
       "        text-align: right;\n",
       "    }\n",
       "</style>\n",
       "<table border=\"1\" class=\"dataframe\">\n",
       "  <thead>\n",
       "    <tr style=\"text-align: right;\">\n",
       "      <th></th>\n",
       "      <th>invoice_no</th>\n",
       "      <th>stock_code</th>\n",
       "      <th>quantity</th>\n",
       "      <th>invoice_date</th>\n",
       "      <th>unit_price</th>\n",
       "      <th>customer_id</th>\n",
       "      <th>country</th>\n",
       "    </tr>\n",
       "  </thead>\n",
       "  <tbody>\n",
       "    <tr>\n",
       "      <th>0</th>\n",
       "      <td>536365</td>\n",
       "      <td>85123A</td>\n",
       "      <td>6</td>\n",
       "      <td>2016-11-29</td>\n",
       "      <td>2.5500</td>\n",
       "      <td>17850</td>\n",
       "      <td>United Kingdom</td>\n",
       "    </tr>\n",
       "    <tr>\n",
       "      <th>1</th>\n",
       "      <td>536365</td>\n",
       "      <td>71053</td>\n",
       "      <td>6</td>\n",
       "      <td>2016-11-29</td>\n",
       "      <td>3.3900</td>\n",
       "      <td>17850</td>\n",
       "      <td>United Kingdom</td>\n",
       "    </tr>\n",
       "    <tr>\n",
       "      <th>2</th>\n",
       "      <td>536365</td>\n",
       "      <td>84406B</td>\n",
       "      <td>8</td>\n",
       "      <td>2016-11-29</td>\n",
       "      <td>2.7500</td>\n",
       "      <td>17850</td>\n",
       "      <td>United Kingdom</td>\n",
       "    </tr>\n",
       "    <tr>\n",
       "      <th>3</th>\n",
       "      <td>536365</td>\n",
       "      <td>84029G</td>\n",
       "      <td>6</td>\n",
       "      <td>2016-11-29</td>\n",
       "      <td>3.3900</td>\n",
       "      <td>17850</td>\n",
       "      <td>United Kingdom</td>\n",
       "    </tr>\n",
       "    <tr>\n",
       "      <th>4</th>\n",
       "      <td>536365</td>\n",
       "      <td>84029E</td>\n",
       "      <td>6</td>\n",
       "      <td>2016-11-29</td>\n",
       "      <td>3.3900</td>\n",
       "      <td>17850</td>\n",
       "      <td>United Kingdom</td>\n",
       "    </tr>\n",
       "    <tr>\n",
       "      <th>5</th>\n",
       "      <td>536365</td>\n",
       "      <td>22752</td>\n",
       "      <td>2</td>\n",
       "      <td>2016-11-29</td>\n",
       "      <td>7.6500</td>\n",
       "      <td>17850</td>\n",
       "      <td>United Kingdom</td>\n",
       "    </tr>\n",
       "    <tr>\n",
       "      <th>6</th>\n",
       "      <td>536365</td>\n",
       "      <td>21730</td>\n",
       "      <td>6</td>\n",
       "      <td>2016-11-29</td>\n",
       "      <td>4.2500</td>\n",
       "      <td>17850</td>\n",
       "      <td>United Kingdom</td>\n",
       "    </tr>\n",
       "    <tr>\n",
       "      <th>7</th>\n",
       "      <td>536366</td>\n",
       "      <td>22633</td>\n",
       "      <td>6</td>\n",
       "      <td>2016-11-29</td>\n",
       "      <td>1.8500</td>\n",
       "      <td>17850</td>\n",
       "      <td>United Kingdom</td>\n",
       "    </tr>\n",
       "    <tr>\n",
       "      <th>8</th>\n",
       "      <td>536366</td>\n",
       "      <td>22632</td>\n",
       "      <td>6</td>\n",
       "      <td>2016-11-29</td>\n",
       "      <td>1.8500</td>\n",
       "      <td>17850</td>\n",
       "      <td>United Kingdom</td>\n",
       "    </tr>\n",
       "    <tr>\n",
       "      <th>47</th>\n",
       "      <td>536372</td>\n",
       "      <td>22632</td>\n",
       "      <td>6</td>\n",
       "      <td>2016-11-29</td>\n",
       "      <td>1.8500</td>\n",
       "      <td>17850</td>\n",
       "      <td>United Kingdom</td>\n",
       "    </tr>\n",
       "    <tr>\n",
       "      <th>48</th>\n",
       "      <td>536372</td>\n",
       "      <td>22633</td>\n",
       "      <td>6</td>\n",
       "      <td>2016-11-29</td>\n",
       "      <td>1.8500</td>\n",
       "      <td>17850</td>\n",
       "      <td>United Kingdom</td>\n",
       "    </tr>\n",
       "    <tr>\n",
       "      <th>49</th>\n",
       "      <td>536373</td>\n",
       "      <td>85123A</td>\n",
       "      <td>6</td>\n",
       "      <td>2016-11-29</td>\n",
       "      <td>2.5500</td>\n",
       "      <td>17850</td>\n",
       "      <td>United Kingdom</td>\n",
       "    </tr>\n",
       "    <tr>\n",
       "      <th>50</th>\n",
       "      <td>536373</td>\n",
       "      <td>71053</td>\n",
       "      <td>6</td>\n",
       "      <td>2016-11-29</td>\n",
       "      <td>3.3900</td>\n",
       "      <td>17850</td>\n",
       "      <td>United Kingdom</td>\n",
       "    </tr>\n",
       "    <tr>\n",
       "      <th>51</th>\n",
       "      <td>536373</td>\n",
       "      <td>84406B</td>\n",
       "      <td>8</td>\n",
       "      <td>2016-11-29</td>\n",
       "      <td>2.7500</td>\n",
       "      <td>17850</td>\n",
       "      <td>United Kingdom</td>\n",
       "    </tr>\n",
       "    <tr>\n",
       "      <th>52</th>\n",
       "      <td>536373</td>\n",
       "      <td>20679</td>\n",
       "      <td>6</td>\n",
       "      <td>2016-11-29</td>\n",
       "      <td>4.9500</td>\n",
       "      <td>17850</td>\n",
       "      <td>United Kingdom</td>\n",
       "    </tr>\n",
       "    <tr>\n",
       "      <th>53</th>\n",
       "      <td>536373</td>\n",
       "      <td>37370</td>\n",
       "      <td>6</td>\n",
       "      <td>2016-11-29</td>\n",
       "      <td>1.0600</td>\n",
       "      <td>17850</td>\n",
       "      <td>United Kingdom</td>\n",
       "    </tr>\n",
       "    <tr>\n",
       "      <th>54</th>\n",
       "      <td>536373</td>\n",
       "      <td>21871</td>\n",
       "      <td>6</td>\n",
       "      <td>2016-11-29</td>\n",
       "      <td>1.0600</td>\n",
       "      <td>17850</td>\n",
       "      <td>United Kingdom</td>\n",
       "    </tr>\n",
       "    <tr>\n",
       "      <th>55</th>\n",
       "      <td>536373</td>\n",
       "      <td>21071</td>\n",
       "      <td>6</td>\n",
       "      <td>2016-11-29</td>\n",
       "      <td>1.0600</td>\n",
       "      <td>17850</td>\n",
       "      <td>United Kingdom</td>\n",
       "    </tr>\n",
       "    <tr>\n",
       "      <th>56</th>\n",
       "      <td>536373</td>\n",
       "      <td>21068</td>\n",
       "      <td>6</td>\n",
       "      <td>2016-11-29</td>\n",
       "      <td>1.0600</td>\n",
       "      <td>17850</td>\n",
       "      <td>United Kingdom</td>\n",
       "    </tr>\n",
       "    <tr>\n",
       "      <th>57</th>\n",
       "      <td>536373</td>\n",
       "      <td>82483</td>\n",
       "      <td>2</td>\n",
       "      <td>2016-11-29</td>\n",
       "      <td>4.9500</td>\n",
       "      <td>17850</td>\n",
       "      <td>United Kingdom</td>\n",
       "    </tr>\n",
       "  </tbody>\n",
       "</table>\n",
       "</div>"
      ],
      "text/plain": [
       "   invoice_no stock_code  quantity invoice_date  unit_price  customer_id  \\\n",
       "0      536365     85123A         6   2016-11-29      2.5500        17850   \n",
       "1      536365      71053         6   2016-11-29      3.3900        17850   \n",
       "2      536365     84406B         8   2016-11-29      2.7500        17850   \n",
       "3      536365     84029G         6   2016-11-29      3.3900        17850   \n",
       "4      536365     84029E         6   2016-11-29      3.3900        17850   \n",
       "5      536365      22752         2   2016-11-29      7.6500        17850   \n",
       "6      536365      21730         6   2016-11-29      4.2500        17850   \n",
       "7      536366      22633         6   2016-11-29      1.8500        17850   \n",
       "8      536366      22632         6   2016-11-29      1.8500        17850   \n",
       "47     536372      22632         6   2016-11-29      1.8500        17850   \n",
       "48     536372      22633         6   2016-11-29      1.8500        17850   \n",
       "49     536373     85123A         6   2016-11-29      2.5500        17850   \n",
       "50     536373      71053         6   2016-11-29      3.3900        17850   \n",
       "51     536373     84406B         8   2016-11-29      2.7500        17850   \n",
       "52     536373      20679         6   2016-11-29      4.9500        17850   \n",
       "53     536373      37370         6   2016-11-29      1.0600        17850   \n",
       "54     536373      21871         6   2016-11-29      1.0600        17850   \n",
       "55     536373      21071         6   2016-11-29      1.0600        17850   \n",
       "56     536373      21068         6   2016-11-29      1.0600        17850   \n",
       "57     536373      82483         2   2016-11-29      4.9500        17850   \n",
       "\n",
       "           country  \n",
       "0   United Kingdom  \n",
       "1   United Kingdom  \n",
       "2   United Kingdom  \n",
       "3   United Kingdom  \n",
       "4   United Kingdom  \n",
       "5   United Kingdom  \n",
       "6   United Kingdom  \n",
       "7   United Kingdom  \n",
       "8   United Kingdom  \n",
       "47  United Kingdom  \n",
       "48  United Kingdom  \n",
       "49  United Kingdom  \n",
       "50  United Kingdom  \n",
       "51  United Kingdom  \n",
       "52  United Kingdom  \n",
       "53  United Kingdom  \n",
       "54  United Kingdom  \n",
       "55  United Kingdom  \n",
       "56  United Kingdom  \n",
       "57  United Kingdom  "
      ]
     },
     "execution_count": 43,
     "metadata": {},
     "output_type": "execute_result"
    }
   ],
   "source": [
    "df3[df3['customer_id']==17850].head(20)"
   ]
  },
  {
   "cell_type": "markdown",
   "id": "bf75e490",
   "metadata": {},
   "source": [
    "O gráfico mostra que a distribuição é afetada pelos valores extremos. Portanto, a maioria dos clientes gastou menos de 1,00 durante o periodo em análise."
   ]
  },
  {
   "cell_type": "markdown",
   "id": "ee494b9e",
   "metadata": {
    "ExecuteTime": {
     "end_time": "2023-05-10T13:18:53.684913Z",
     "start_time": "2023-05-10T13:18:52.589574Z"
    }
   },
   "source": [
    "### AVG Basket size"
   ]
  },
  {
   "cell_type": "markdown",
   "id": "b649b39c",
   "metadata": {},
   "source": [
    "- No gráfico é possível notar que a maioria das compras foram realizadas nos últimos 100 dias\n",
    "- Mas há clientes que não fazem compras ha 373 dias"
   ]
  },
  {
   "cell_type": "code",
   "execution_count": 44,
   "id": "6225da70",
   "metadata": {
    "ExecuteTime": {
     "end_time": "2023-05-29T11:25:17.981432Z",
     "start_time": "2023-05-29T11:25:17.797838Z"
    }
   },
   "outputs": [],
   "source": [
    "#df4[df4['avg_basket_size']==40498.5]"
   ]
  },
  {
   "cell_type": "markdown",
   "id": "7dade44f",
   "metadata": {},
   "source": [
    "## Bivariate Analysis"
   ]
  },
  {
   "cell_type": "markdown",
   "id": "c072879e",
   "metadata": {},
   "source": [
    "- analyze a feature in relation to all others"
   ]
  },
  {
   "cell_type": "code",
   "execution_count": 45,
   "id": "d0e377bd",
   "metadata": {
    "ExecuteTime": {
     "end_time": "2023-05-29T11:25:18.369973Z",
     "start_time": "2023-05-29T11:25:17.984364Z"
    }
   },
   "outputs": [],
   "source": [
    "#cols = ['customer_id']\n",
    "df4 = df3.copy()"
   ]
  },
  {
   "cell_type": "code",
   "execution_count": 46,
   "id": "5ba1c7d6",
   "metadata": {
    "ExecuteTime": {
     "end_time": "2023-05-29T11:25:18.590985Z",
     "start_time": "2023-05-29T11:25:18.372936Z"
    }
   },
   "outputs": [],
   "source": [
    "#plt.figure( figsize = (25, 12))\n",
    "#sns.pairplot(df4);"
   ]
  },
  {
   "cell_type": "markdown",
   "id": "99274905",
   "metadata": {},
   "source": [
    "**Notes**\n",
    "\n",
    "    - Frequency has low variance\n",
    "    - Avg ticket has low variance"
   ]
  },
  {
   "cell_type": "markdown",
   "id": "b772004b",
   "metadata": {},
   "source": [
    "# Data Preparation"
   ]
  },
  {
   "cell_type": "code",
   "execution_count": 58,
   "id": "0eee6e86",
   "metadata": {
    "ExecuteTime": {
     "end_time": "2023-05-29T12:49:07.044143Z",
     "start_time": "2023-05-29T12:49:02.935330Z"
    }
   },
   "outputs": [
    {
     "data": {
      "text/html": [
       "<div>\n",
       "<style scoped>\n",
       "    .dataframe tbody tr th:only-of-type {\n",
       "        vertical-align: middle;\n",
       "    }\n",
       "\n",
       "    .dataframe tbody tr th {\n",
       "        vertical-align: top;\n",
       "    }\n",
       "\n",
       "    .dataframe thead th {\n",
       "        text-align: right;\n",
       "    }\n",
       "</style>\n",
       "<table border=\"1\" class=\"dataframe\">\n",
       "  <thead>\n",
       "    <tr style=\"text-align: right;\">\n",
       "      <th></th>\n",
       "      <th>invoice_no</th>\n",
       "      <th>stock_code</th>\n",
       "      <th>quantity</th>\n",
       "      <th>invoice_date</th>\n",
       "      <th>unit_price</th>\n",
       "      <th>country</th>\n",
       "    </tr>\n",
       "  </thead>\n",
       "  <tbody>\n",
       "    <tr>\n",
       "      <th>0</th>\n",
       "      <td>536365</td>\n",
       "      <td>85123A</td>\n",
       "      <td>6</td>\n",
       "      <td>2016-11-29</td>\n",
       "      <td>2.5500</td>\n",
       "      <td>United Kingdom</td>\n",
       "    </tr>\n",
       "    <tr>\n",
       "      <th>1</th>\n",
       "      <td>536365</td>\n",
       "      <td>71053</td>\n",
       "      <td>6</td>\n",
       "      <td>2016-11-29</td>\n",
       "      <td>3.3900</td>\n",
       "      <td>United Kingdom</td>\n",
       "    </tr>\n",
       "    <tr>\n",
       "      <th>2</th>\n",
       "      <td>536365</td>\n",
       "      <td>84406B</td>\n",
       "      <td>8</td>\n",
       "      <td>2016-11-29</td>\n",
       "      <td>2.7500</td>\n",
       "      <td>United Kingdom</td>\n",
       "    </tr>\n",
       "    <tr>\n",
       "      <th>3</th>\n",
       "      <td>536365</td>\n",
       "      <td>84029G</td>\n",
       "      <td>6</td>\n",
       "      <td>2016-11-29</td>\n",
       "      <td>3.3900</td>\n",
       "      <td>United Kingdom</td>\n",
       "    </tr>\n",
       "    <tr>\n",
       "      <th>4</th>\n",
       "      <td>536365</td>\n",
       "      <td>84029E</td>\n",
       "      <td>6</td>\n",
       "      <td>2016-11-29</td>\n",
       "      <td>3.3900</td>\n",
       "      <td>United Kingdom</td>\n",
       "    </tr>\n",
       "  </tbody>\n",
       "</table>\n",
       "</div>"
      ],
      "text/plain": [
       "  invoice_no stock_code  quantity invoice_date  unit_price         country\n",
       "0     536365     85123A         6   2016-11-29      2.5500  United Kingdom\n",
       "1     536365      71053         6   2016-11-29      3.3900  United Kingdom\n",
       "2     536365     84406B         8   2016-11-29      2.7500  United Kingdom\n",
       "3     536365     84029G         6   2016-11-29      3.3900  United Kingdom\n",
       "4     536365     84029E         6   2016-11-29      3.3900  United Kingdom"
      ]
     },
     "execution_count": 58,
     "metadata": {},
     "output_type": "execute_result"
    }
   ],
   "source": [
    "df43 = df4.drop(columns=['customer_id'], axis=1).copy()\n",
    "df43.head()"
   ]
  },
  {
   "cell_type": "code",
   "execution_count": 51,
   "id": "247f67ef",
   "metadata": {
    "ExecuteTime": {
     "end_time": "2023-05-29T11:44:38.901044Z",
     "start_time": "2023-05-29T11:44:38.893046Z"
    }
   },
   "outputs": [],
   "source": [
    "#df43.columns"
   ]
  },
  {
   "cell_type": "code",
   "execution_count": 59,
   "id": "968e3730",
   "metadata": {
    "ExecuteTime": {
     "end_time": "2023-05-29T16:01:25.576736Z",
     "start_time": "2023-05-29T16:01:22.173659Z"
    }
   },
   "outputs": [],
   "source": [
    "df43 = df4.dropna()"
   ]
  },
  {
   "cell_type": "code",
   "execution_count": 63,
   "id": "4dbba4ec",
   "metadata": {
    "ExecuteTime": {
     "end_time": "2023-05-29T16:02:43.526703Z",
     "start_time": "2023-05-29T16:02:43.481671Z"
    }
   },
   "outputs": [
    {
     "data": {
      "text/plain": [
       "Index(['invoice_no', 'stock_code', 'quantity', 'invoice_date', 'unit_price',\n",
       "       'customer_id', 'country'],\n",
       "      dtype='object')"
      ]
     },
     "execution_count": 63,
     "metadata": {},
     "output_type": "execute_result"
    }
   ],
   "source": [
    "df4.columns"
   ]
  },
  {
   "cell_type": "code",
   "execution_count": 61,
   "id": "3bf69be6",
   "metadata": {
    "ExecuteTime": {
     "end_time": "2023-05-29T16:01:33.174418Z",
     "start_time": "2023-05-29T16:01:29.520813Z"
    }
   },
   "outputs": [
    {
     "ename": "KeyError",
     "evalue": "\"None of [Index(['gross_revenue'], dtype='object')] are in the [columns]\"",
     "output_type": "error",
     "traceback": [
      "\u001b[1;31m---------------------------------------------------------------------------\u001b[0m",
      "\u001b[1;31mKeyError\u001b[0m                                  Traceback (most recent call last)",
      "Cell \u001b[1;32mIn[61], line 4\u001b[0m\n\u001b[0;32m      1\u001b[0m mm \u001b[38;5;241m=\u001b[39m pp\u001b[38;5;241m.\u001b[39mMinMaxScaler()\n\u001b[0;32m      3\u001b[0m \u001b[38;5;66;03m#\u001b[39;00m\n\u001b[1;32m----> 4\u001b[0m df43[\u001b[38;5;124m'\u001b[39m\u001b[38;5;124mgross_revenue\u001b[39m\u001b[38;5;124m'\u001b[39m]          \u001b[38;5;241m=\u001b[39m mm\u001b[38;5;241m.\u001b[39mfit_transform(\u001b[43mdf43\u001b[49m\u001b[43m[\u001b[49m\u001b[43m[\u001b[49m\u001b[38;5;124;43m'\u001b[39;49m\u001b[38;5;124;43mgross_revenue\u001b[39;49m\u001b[38;5;124;43m'\u001b[39;49m\u001b[43m]\u001b[49m\u001b[43m]\u001b[49m)\n\u001b[0;32m      5\u001b[0m df43[\u001b[38;5;124m'\u001b[39m\u001b[38;5;124mrecency_days\u001b[39m\u001b[38;5;124m'\u001b[39m]           \u001b[38;5;241m=\u001b[39m mm\u001b[38;5;241m.\u001b[39mfit_transform(df43[[\u001b[38;5;124m'\u001b[39m\u001b[38;5;124mrecency_days\u001b[39m\u001b[38;5;124m'\u001b[39m]])\n\u001b[0;32m      6\u001b[0m df43[\u001b[38;5;124m'\u001b[39m\u001b[38;5;124mqty_invoice_no\u001b[39m\u001b[38;5;124m'\u001b[39m]         \u001b[38;5;241m=\u001b[39m mm\u001b[38;5;241m.\u001b[39mfit_transform(df43[[\u001b[38;5;124m'\u001b[39m\u001b[38;5;124mqty_invoice_no\u001b[39m\u001b[38;5;124m'\u001b[39m]])\n",
      "File \u001b[1;32m~\\projetos\\clusterizacao\\cluster\\lib\\site-packages\\pandas\\core\\frame.py:3813\u001b[0m, in \u001b[0;36mDataFrame.__getitem__\u001b[1;34m(self, key)\u001b[0m\n\u001b[0;32m   3811\u001b[0m     \u001b[38;5;28;01mif\u001b[39;00m is_iterator(key):\n\u001b[0;32m   3812\u001b[0m         key \u001b[38;5;241m=\u001b[39m \u001b[38;5;28mlist\u001b[39m(key)\n\u001b[1;32m-> 3813\u001b[0m     indexer \u001b[38;5;241m=\u001b[39m \u001b[38;5;28;43mself\u001b[39;49m\u001b[38;5;241;43m.\u001b[39;49m\u001b[43mcolumns\u001b[49m\u001b[38;5;241;43m.\u001b[39;49m\u001b[43m_get_indexer_strict\u001b[49m\u001b[43m(\u001b[49m\u001b[43mkey\u001b[49m\u001b[43m,\u001b[49m\u001b[43m \u001b[49m\u001b[38;5;124;43m\"\u001b[39;49m\u001b[38;5;124;43mcolumns\u001b[39;49m\u001b[38;5;124;43m\"\u001b[39;49m\u001b[43m)\u001b[49m[\u001b[38;5;241m1\u001b[39m]\n\u001b[0;32m   3815\u001b[0m \u001b[38;5;66;03m# take() does not accept boolean indexers\u001b[39;00m\n\u001b[0;32m   3816\u001b[0m \u001b[38;5;28;01mif\u001b[39;00m \u001b[38;5;28mgetattr\u001b[39m(indexer, \u001b[38;5;124m\"\u001b[39m\u001b[38;5;124mdtype\u001b[39m\u001b[38;5;124m\"\u001b[39m, \u001b[38;5;28;01mNone\u001b[39;00m) \u001b[38;5;241m==\u001b[39m \u001b[38;5;28mbool\u001b[39m:\n",
      "File \u001b[1;32m~\\projetos\\clusterizacao\\cluster\\lib\\site-packages\\pandas\\core\\indexes\\base.py:6070\u001b[0m, in \u001b[0;36mIndex._get_indexer_strict\u001b[1;34m(self, key, axis_name)\u001b[0m\n\u001b[0;32m   6067\u001b[0m \u001b[38;5;28;01melse\u001b[39;00m:\n\u001b[0;32m   6068\u001b[0m     keyarr, indexer, new_indexer \u001b[38;5;241m=\u001b[39m \u001b[38;5;28mself\u001b[39m\u001b[38;5;241m.\u001b[39m_reindex_non_unique(keyarr)\n\u001b[1;32m-> 6070\u001b[0m \u001b[38;5;28;43mself\u001b[39;49m\u001b[38;5;241;43m.\u001b[39;49m\u001b[43m_raise_if_missing\u001b[49m\u001b[43m(\u001b[49m\u001b[43mkeyarr\u001b[49m\u001b[43m,\u001b[49m\u001b[43m \u001b[49m\u001b[43mindexer\u001b[49m\u001b[43m,\u001b[49m\u001b[43m \u001b[49m\u001b[43maxis_name\u001b[49m\u001b[43m)\u001b[49m\n\u001b[0;32m   6072\u001b[0m keyarr \u001b[38;5;241m=\u001b[39m \u001b[38;5;28mself\u001b[39m\u001b[38;5;241m.\u001b[39mtake(indexer)\n\u001b[0;32m   6073\u001b[0m \u001b[38;5;28;01mif\u001b[39;00m \u001b[38;5;28misinstance\u001b[39m(key, Index):\n\u001b[0;32m   6074\u001b[0m     \u001b[38;5;66;03m# GH 42790 - Preserve name from an Index\u001b[39;00m\n",
      "File \u001b[1;32m~\\projetos\\clusterizacao\\cluster\\lib\\site-packages\\pandas\\core\\indexes\\base.py:6130\u001b[0m, in \u001b[0;36mIndex._raise_if_missing\u001b[1;34m(self, key, indexer, axis_name)\u001b[0m\n\u001b[0;32m   6128\u001b[0m     \u001b[38;5;28;01mif\u001b[39;00m use_interval_msg:\n\u001b[0;32m   6129\u001b[0m         key \u001b[38;5;241m=\u001b[39m \u001b[38;5;28mlist\u001b[39m(key)\n\u001b[1;32m-> 6130\u001b[0m     \u001b[38;5;28;01mraise\u001b[39;00m \u001b[38;5;167;01mKeyError\u001b[39;00m(\u001b[38;5;124mf\u001b[39m\u001b[38;5;124m\"\u001b[39m\u001b[38;5;124mNone of [\u001b[39m\u001b[38;5;132;01m{\u001b[39;00mkey\u001b[38;5;132;01m}\u001b[39;00m\u001b[38;5;124m] are in the [\u001b[39m\u001b[38;5;132;01m{\u001b[39;00maxis_name\u001b[38;5;132;01m}\u001b[39;00m\u001b[38;5;124m]\u001b[39m\u001b[38;5;124m\"\u001b[39m)\n\u001b[0;32m   6132\u001b[0m not_found \u001b[38;5;241m=\u001b[39m \u001b[38;5;28mlist\u001b[39m(ensure_index(key)[missing_mask\u001b[38;5;241m.\u001b[39mnonzero()[\u001b[38;5;241m0\u001b[39m]]\u001b[38;5;241m.\u001b[39munique())\n\u001b[0;32m   6133\u001b[0m \u001b[38;5;28;01mraise\u001b[39;00m \u001b[38;5;167;01mKeyError\u001b[39;00m(\u001b[38;5;124mf\u001b[39m\u001b[38;5;124m\"\u001b[39m\u001b[38;5;132;01m{\u001b[39;00mnot_found\u001b[38;5;132;01m}\u001b[39;00m\u001b[38;5;124m not in index\u001b[39m\u001b[38;5;124m\"\u001b[39m)\n",
      "\u001b[1;31mKeyError\u001b[0m: \"None of [Index(['gross_revenue'], dtype='object')] are in the [columns]\""
     ]
    }
   ],
   "source": [
    "mm = pp.MinMaxScaler()\n",
    "\n",
    "#\n",
    "df43['gross_revenue']          = mm.fit_transform(df43[['gross_revenue']])\n",
    "df43['recency_days']           = mm.fit_transform(df43[['recency_days']])\n",
    "df43['qty_invoice_no']         = mm.fit_transform(df43[['qty_invoice_no']])\n",
    "df43['qty_items']              = mm.fit_transform(df43[['qty_items']])\n",
    "df43['qty_products']           = mm.fit_transform(df43[['qty_products']])\n",
    "df43['avg_ticket']             = mm.fit_transform(df43[['avg_ticket']])\n",
    "df43['avg_recency_days']       = mm.fit_transform(df43[['avg_recency_days']])\n",
    "df43['frequency']              = mm.fit_transform(df43[['frequency']])\n",
    "df43['qtde_returns']           = mm.fit_transform(df43[['qtde_returns']])\n",
    "df43['avg_basket_size']        = mm.fit_transform(df43[['avg_basket_size']])\n",
    "df43['avg_unique_basket_size'] = mm.fit_transform(df43[['avg_unique_basket_size']])\n",
    "\n",
    "X = df43.copy()"
   ]
  },
  {
   "cell_type": "markdown",
   "id": "d3cb8276",
   "metadata": {},
   "source": [
    "# Estudo do Espaço"
   ]
  },
  {
   "cell_type": "code",
   "execution_count": null,
   "id": "996f66e9",
   "metadata": {
    "ExecuteTime": {
     "end_time": "2023-05-29T11:25:20.570681Z",
     "start_time": "2023-05-29T11:25:20.570681Z"
    }
   },
   "outputs": [],
   "source": [
    "#cols_selected = ['customer_id', 'gross_revenue','recency_days', 'qtde_products', 'frequency', 'qty_returns']\n",
    "#X = df43[cols_selected].copy()"
   ]
  },
  {
   "cell_type": "markdown",
   "id": "2ef6697b",
   "metadata": {},
   "source": [
    "Existem diversas técnicas de redução de dimensionalidade, incluindo métodos lineares (como PCA e LDA) e não lineares (como t-SNE e UMAP). Essas técnicas podem ser utilizadas para encontrar combinações de variáveis que preservem a maior quantidade possível de informações relevantes, gerando um conjunto de dados reduzido com menos variáveis."
   ]
  },
  {
   "cell_type": "markdown",
   "id": "271f1835",
   "metadata": {},
   "source": [
    "## PCA"
   ]
  },
  {
   "cell_type": "code",
   "execution_count": null,
   "id": "615f7e14",
   "metadata": {
    "ExecuteTime": {
     "end_time": "2023-05-29T11:25:20.574681Z",
     "start_time": "2023-05-29T11:25:20.574681Z"
    },
    "code_folding": []
   },
   "outputs": [],
   "source": [
    "#define number of features on space\n",
    "pca = dd.PCA (n_components=X.shape[1])\n",
    "\n",
    "principal_components = pca.fit_transform( X )\n",
    "\n",
    "#plot explianed variables (variance of the main components)\n",
    "#x axis\n",
    "features = range(pca.n_components_)\n",
    "#y axis\n",
    "plt.bar(features, pca.explained_variance_ratio_, color='black')\n",
    "\n",
    "#pca_component\n",
    "df_pca = pd.DataFrame(principal_components)"
   ]
  },
  {
   "cell_type": "code",
   "execution_count": null,
   "id": "4c69af0a",
   "metadata": {
    "ExecuteTime": {
     "end_time": "2023-05-29T11:25:20.578681Z",
     "start_time": "2023-05-29T11:25:20.578681Z"
    }
   },
   "outputs": [],
   "source": [
    "df_pca.head()"
   ]
  },
  {
   "cell_type": "code",
   "execution_count": null,
   "id": "aea46e44",
   "metadata": {
    "ExecuteTime": {
     "end_time": "2023-05-29T11:25:20.581684Z",
     "start_time": "2023-05-29T11:25:20.581684Z"
    }
   },
   "outputs": [],
   "source": [
    "sns.scatterplot(x=0, y=1, data=df_pca);"
   ]
  },
  {
   "cell_type": "markdown",
   "id": "5bbb07a6",
   "metadata": {},
   "source": [
    "- There is no clear division, let's keep going."
   ]
  },
  {
   "cell_type": "markdown",
   "id": "e049a96a",
   "metadata": {},
   "source": [
    "## UMAP"
   ]
  },
  {
   "cell_type": "markdown",
   "id": "7ae1c6fc",
   "metadata": {},
   "source": [
    "O UMAP é uma técnica de redução de dimensionalidade que pode ser utilizada para visualização de dados em um espaço bidimensional ou tridimensional. Ele não é uma técnica de clusterização em si, mas pode ser utilizado em conjunto com outras técnicas, como o K-means, para agrupar os dados em clusters."
   ]
  },
  {
   "cell_type": "code",
   "execution_count": null,
   "id": "4f6c238e",
   "metadata": {
    "ExecuteTime": {
     "end_time": "2023-05-29T11:25:20.584684Z",
     "start_time": "2023-05-29T11:25:20.584684Z"
    }
   },
   "outputs": [],
   "source": [
    "reducer = umap.UMAP( random_state=42 )\n",
    "embedding = reducer.fit_transform( X )\n",
    "df_pca = pd.DataFrame()\n",
    "df_pca['embedding_x'] = embedding[:, 0]\n",
    "df_pca['embedding_y'] = embedding[:, 1]\n",
    "sns.scatterplot( x='embedding_x',\n",
    "                 y='embedding_y',\n",
    "                 data=df_pca )"
   ]
  },
  {
   "cell_type": "markdown",
   "id": "1304fcff",
   "metadata": {},
   "source": [
    "## t-SNE"
   ]
  },
  {
   "cell_type": "code",
   "execution_count": null,
   "id": "89405678",
   "metadata": {
    "ExecuteTime": {
     "end_time": "2023-05-29T11:25:20.588684Z",
     "start_time": "2023-05-29T11:25:20.588684Z"
    }
   },
   "outputs": [],
   "source": [
    "reducer = TSNE( n_components=2, n_jobs=-1, random_state=42 ) #can user different n_components, try it!\n",
    "embedding = reducer.fit_transform( X )\n",
    "df_tsne = pd.DataFrame()\n",
    "df_tsne['embedding_x'] = embedding[:, 0]\n",
    "df_tsne['embedding_y'] = embedding[:, 1]\n",
    "sns.scatterplot( x='embedding_x', y='embedding_y', data=df_tsne );"
   ]
  },
  {
   "cell_type": "markdown",
   "id": "1baf0a5a",
   "metadata": {},
   "source": [
    "### Tree based embeding"
   ]
  },
  {
   "cell_type": "markdown",
   "id": "2c5e6a68",
   "metadata": {},
   "source": [
    "**Tree-based Embedding** é uma técnica de clusterização que utiliza árvores de decisão para gerar representações numéricas dos dados, que são utilizadas para agrupar os dados em clusters com base em sua similaridade.\n",
    "\n",
    "A principal vantagem dessa técnica é permitir trabalhar com dados de alta dimensionalidade, sem a necessidade de reduzir a dimensionalidade dos dados, o que pode ser útil em casos em que a redução da dimensionalidade pode levar à perda de informações importantes."
   ]
  },
  {
   "cell_type": "code",
   "execution_count": null,
   "id": "4583b13d",
   "metadata": {
    "ExecuteTime": {
     "end_time": "2023-05-29T11:25:20.592680Z",
     "start_time": "2023-05-29T11:25:20.592680Z"
    }
   },
   "outputs": [],
   "source": [
    "#training dataset\n",
    "X= df43.drop('gross_revenue', axis=1)\n",
    " \n",
    "y = df43['gross_revenue']\n",
    "\n",
    "#model definition\n",
    "rf_model = RandomForestRegressor(n_estimators=100, random_state=42)\n",
    "\n",
    "# Model Training\n",
    "rf_model.fit(X, y)\n",
    "#Leaf\n",
    "\n",
    "#Dataframe\n",
    "df_leaf = pd.DataFrame(rf_model.apply(X))\n",
    "# Reduzer dimensionality"
   ]
  },
  {
   "cell_type": "code",
   "execution_count": null,
   "id": "7c8c4963",
   "metadata": {
    "ExecuteTime": {
     "end_time": "2023-05-29T11:25:20.595683Z",
     "start_time": "2023-05-29T11:25:20.595683Z"
    }
   },
   "outputs": [],
   "source": [
    "df_leaf.shape"
   ]
  },
  {
   "cell_type": "markdown",
   "id": "e685c557",
   "metadata": {},
   "source": [
    "### UMAP"
   ]
  },
  {
   "cell_type": "code",
   "execution_count": null,
   "id": "8358fc33",
   "metadata": {
    "ExecuteTime": {
     "end_time": "2023-05-29T11:25:20.598682Z",
     "start_time": "2023-05-29T11:25:20.598682Z"
    }
   },
   "outputs": [],
   "source": [
    "reducer = umap.UMAP()\n",
    "# Reduzer dimensionality\n",
    "reducer = umap.UMAP( random_state=42 )\n",
    "embedding = reducer.fit_transform( df_leaf )\n",
    "\n",
    "# embedding\n",
    "df_tree = pd.DataFrame()\n",
    "df_tree['embedding_x'] = embedding[:, 0]\n",
    "df_tree['embedding_y'] = embedding[:, 1]"
   ]
  },
  {
   "cell_type": "code",
   "execution_count": null,
   "id": "8d456d2c",
   "metadata": {
    "ExecuteTime": {
     "end_time": "2023-05-29T11:25:20.602681Z",
     "start_time": "2023-05-29T11:25:20.602681Z"
    }
   },
   "outputs": [],
   "source": [
    "# Plot UMAP\n",
    "sns.scatterplot(x='embedding_x',\n",
    "               y='embedding_y',\n",
    "               data= df_tree)"
   ]
  },
  {
   "cell_type": "markdown",
   "id": "6141862b",
   "metadata": {
    "ExecuteTime": {
     "end_time": "2023-05-17T13:10:47.069296Z",
     "start_time": "2023-05-17T13:10:47.060294Z"
    }
   },
   "source": [
    "# Data Preparation"
   ]
  },
  {
   "cell_type": "code",
   "execution_count": null,
   "id": "6e008688",
   "metadata": {
    "ExecuteTime": {
     "end_time": "2023-05-29T11:25:20.610680Z",
     "start_time": "2023-05-29T11:25:20.610680Z"
    }
   },
   "outputs": [],
   "source": [
    "df5 = df4.copy()"
   ]
  },
  {
   "cell_type": "code",
   "execution_count": null,
   "id": "7ce1d072",
   "metadata": {
    "ExecuteTime": {
     "end_time": "2023-05-29T11:25:20.613689Z",
     "start_time": "2023-05-29T11:25:20.613689Z"
    }
   },
   "outputs": [],
   "source": [
    "df5 =df5.dropna()"
   ]
  },
  {
   "cell_type": "code",
   "execution_count": null,
   "id": "ab6504a1",
   "metadata": {
    "ExecuteTime": {
     "end_time": "2023-05-29T11:25:20.616683Z",
     "start_time": "2023-05-29T11:25:20.616683Z"
    }
   },
   "outputs": [],
   "source": [
    "mm = MinMaxScaler()\n",
    "\n",
    "df5['gross_revenue']          =mm.fit_transform( df5[['gross_revenue']])\n",
    "df5['recency_days']           =mm.fit_transform( df5[['recency_days']])\n",
    "df5['qty_invoice_no']         =mm.fit_transform( df5[['qty_invoice_no']])\n",
    "df5['qtde_products']          =mm.fit_transform( df5[['qtde_products']])\n",
    "df5['qty_items']              =mm.fit_transform( df5[['qty_items']])\n",
    "df5['frequency']              =mm.fit_transform( df5[['frequency']])\n",
    "df5['avg_ticket']             =mm.fit_transform( df5[['avg_ticket']])\n",
    "df5['qty_returns']            =mm.fit_transform( df5[['qty_returns']])\n",
    "df5['avg_basket_size']        =mm.fit_transform( df5[['avg_basket_size']])\n",
    "df5['avg_unique_basket_size'] =mm.fit_transform( df5[['avg_unique_basket_size']])"
   ]
  },
  {
   "cell_type": "markdown",
   "id": "b069800b",
   "metadata": {},
   "source": [
    "# Feature Selection"
   ]
  },
  {
   "cell_type": "code",
   "execution_count": null,
   "id": "dc0daf3d",
   "metadata": {
    "ExecuteTime": {
     "end_time": "2023-05-29T11:25:20.619687Z",
     "start_time": "2023-05-29T11:25:20.619687Z"
    }
   },
   "outputs": [],
   "source": [
    "df6 = df5.drop('customer_id', axis=1)"
   ]
  },
  {
   "cell_type": "markdown",
   "id": "3e6c3e8b",
   "metadata": {},
   "source": [
    "## Hyper Parameter Fine-Tuning"
   ]
  },
  {
   "cell_type": "code",
   "execution_count": null,
   "id": "bfbae33a",
   "metadata": {
    "ExecuteTime": {
     "end_time": "2023-05-29T11:25:20.626006Z",
     "start_time": "2023-05-29T11:25:20.624958Z"
    }
   },
   "outputs": [],
   "source": [
    "X=df6.copy()"
   ]
  },
  {
   "cell_type": "code",
   "execution_count": null,
   "id": "ee933d8f",
   "metadata": {
    "ExecuteTime": {
     "end_time": "2023-05-29T11:25:20.628958Z",
     "start_time": "2023-05-29T11:25:20.628958Z"
    }
   },
   "outputs": [],
   "source": [
    "X.head()"
   ]
  },
  {
   "cell_type": "markdown",
   "id": "2402cf31",
   "metadata": {},
   "source": [
    "# Model Training"
   ]
  },
  {
   "cell_type": "code",
   "execution_count": null,
   "id": "3b6422c3",
   "metadata": {
    "ExecuteTime": {
     "end_time": "2023-05-29T11:25:20.631961Z",
     "start_time": "2023-05-29T11:25:20.631961Z"
    }
   },
   "outputs": [],
   "source": [
    "clusters=[2,3,4,5,6,7]"
   ]
  },
  {
   "cell_type": "markdown",
   "id": "c409827d",
   "metadata": {},
   "source": [
    "## K-Means"
   ]
  },
  {
   "cell_type": "markdown",
   "id": "f6551c77",
   "metadata": {},
   "source": [
    "K-Means is heavily influenced by the presence of outliers as they increase significantly the loss function that the algorithm tries to minimize. This loss function is the squared sum of the distances of each datapoint to the centroid, so, if the outlier is far enough, the centroid will be incorrectly situated. "
   ]
  },
  {
   "cell_type": "code",
   "execution_count": null,
   "id": "f2006a6e",
   "metadata": {
    "ExecuteTime": {
     "end_time": "2023-05-29T11:25:20.634960Z",
     "start_time": "2023-05-29T11:25:20.634960Z"
    }
   },
   "outputs": [],
   "source": [
    "#set number of clusters\n",
    "clusters_in = np.arange(2,13,1)\n",
    "\n",
    "\n",
    "\n",
    "kmeans_list = []\n",
    "for k in clusters_in:\n",
    "    #model definition\n",
    "    kmeans_model = KMeans( n_clusters=k, n_init=100, random_state=42 )#P.S: use always this 2 parameters: n_init=300, random_state=42, or when running again, values of clustering will change.\n",
    "\n",
    "    #model training\n",
    "    kmeans_model.fit(X)\n",
    "\n",
    "    #Model predict\n",
    "    kmeans_labels = kmeans_model.predict(X)\n",
    "    #labels: array([1, 5, 5, ..., 5, 3, 5], dtype=int32)\n",
    "        \n",
    "   #model perfomance (SS)\n",
    "    kmeans_ss = m.silhouette_score(X, kmeans_labels, metric='euclidean')\n",
    "    kmeans_list.append(kmeans_ss)"
   ]
  },
  {
   "cell_type": "code",
   "execution_count": null,
   "id": "a689b415",
   "metadata": {
    "ExecuteTime": {
     "end_time": "2023-05-29T11:25:20.637961Z",
     "start_time": "2023-05-29T11:25:20.637961Z"
    }
   },
   "outputs": [],
   "source": [
    "#Silhouette Score \n",
    "#n_estimators= 100, 5 features: ['gross_revenue','recency_days','unique_products','daily_purchase_rate','total_prod_returned']\n",
    "plt.plot(clusters_in, kmeans_list, linestyle='--', marker='o', color='b')\n",
    "plt.xlabel('K');\n",
    "plt.ylabel('Silhouette Score');\n",
    "plt.title('Silhouette Score x K');\n",
    "plt.show\n"
   ]
  },
  {
   "cell_type": "markdown",
   "id": "97633ce0",
   "metadata": {},
   "source": [
    "## Gaussian Mixture Model"
   ]
  },
  {
   "cell_type": "code",
   "execution_count": 62,
   "id": "68179a13",
   "metadata": {
    "ExecuteTime": {
     "end_time": "2023-05-29T16:02:30.494875Z",
     "start_time": "2023-05-29T16:02:30.012813Z"
    }
   },
   "outputs": [
    {
     "ename": "NameError",
     "evalue": "name 'X' is not defined",
     "output_type": "error",
     "traceback": [
      "\u001b[1;31m---------------------------------------------------------------------------\u001b[0m",
      "\u001b[1;31mNameError\u001b[0m                                 Traceback (most recent call last)",
      "Cell \u001b[1;32mIn[62], line 7\u001b[0m\n\u001b[0;32m      3\u001b[0m gmm_model \u001b[38;5;241m=\u001b[39m GaussianMixture(n_components\u001b[38;5;241m=\u001b[39mk, n_init\u001b[38;5;241m=\u001b[39m\u001b[38;5;241m300\u001b[39m, random_state\u001b[38;5;241m=\u001b[39m\u001b[38;5;241m42\u001b[39m)\n\u001b[0;32m      6\u001b[0m \u001b[38;5;66;03m#Model training\u001b[39;00m\n\u001b[1;32m----> 7\u001b[0m gmm_model\u001b[38;5;241m.\u001b[39mfit( \u001b[43mX\u001b[49m )\n\u001b[0;32m      9\u001b[0m \u001b[38;5;66;03m#Clustering\u001b[39;00m\n\u001b[0;32m     10\u001b[0m labels \u001b[38;5;241m=\u001b[39m gmm_model\u001b[38;5;241m.\u001b[39mpredict(X)\n",
      "\u001b[1;31mNameError\u001b[0m: name 'X' is not defined"
     ]
    }
   ],
   "source": [
    "k=8\n",
    "#Model definition\n",
    "gmm_model = GaussianMixture(n_components=k, n_init=300, random_state=42)\n",
    "\n",
    "\n",
    "#Model training\n",
    "gmm_model.fit( X )\n",
    "\n",
    "#Clustering\n",
    "labels = gmm_model.predict(X)"
   ]
  },
  {
   "cell_type": "markdown",
   "id": "04a590bd",
   "metadata": {},
   "source": [
    "## Cluster Validation"
   ]
  },
  {
   "cell_type": "code",
   "execution_count": null,
   "id": "b900e750",
   "metadata": {
    "ExecuteTime": {
     "end_time": "2023-05-29T11:25:20.644959Z",
     "start_time": "2023-05-29T11:25:20.644959Z"
    }
   },
   "outputs": [],
   "source": [
    "# SS (Silhouette Score)\n",
    "print( 'SS value: {}'.format( m.silhouette_score( X, labels, metric='euclidean' ) ) )"
   ]
  },
  {
   "cell_type": "code",
   "execution_count": null,
   "id": "691546f8",
   "metadata": {},
   "outputs": [],
   "source": []
  }
 ],
 "metadata": {
  "kernelspec": {
   "display_name": "Python 3 (ipykernel)",
   "language": "python",
   "name": "python3"
  },
  "language_info": {
   "codemirror_mode": {
    "name": "ipython",
    "version": 3
   },
   "file_extension": ".py",
   "mimetype": "text/x-python",
   "name": "python",
   "nbconvert_exporter": "python",
   "pygments_lexer": "ipython3",
   "version": "3.10.9"
  },
  "varInspector": {
   "cols": {
    "lenName": 16,
    "lenType": 16,
    "lenVar": 40
   },
   "kernels_config": {
    "python": {
     "delete_cmd_postfix": "",
     "delete_cmd_prefix": "del ",
     "library": "var_list.py",
     "varRefreshCmd": "print(var_dic_list())"
    },
    "r": {
     "delete_cmd_postfix": ") ",
     "delete_cmd_prefix": "rm(",
     "library": "var_list.r",
     "varRefreshCmd": "cat(var_dic_list()) "
    }
   },
   "types_to_exclude": [
    "module",
    "function",
    "builtin_function_or_method",
    "instance",
    "_Feature"
   ],
   "window_display": false
  }
 },
 "nbformat": 4,
 "nbformat_minor": 5
}

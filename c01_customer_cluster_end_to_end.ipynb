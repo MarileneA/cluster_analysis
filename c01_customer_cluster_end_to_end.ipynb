{
 "cells": [
  {
   "cell_type": "markdown",
   "id": "7cd04bc6",
   "metadata": {},
   "source": [
    "# Solution Planning\n"
   ]
  },
  {
   "cell_type": "markdown",
   "id": "eb3c4930",
   "metadata": {},
   "source": [
    "## Business Problem\n",
    "   **What is the business problem?**\n",
    "\n",
    "    Select the most valuable customers to join the \"Loyals\" loyalty program.\n",
    "\n",
    "    Answering business questions to the marketing team."
   ]
  },
  {
   "cell_type": "markdown",
   "id": "1bf70f33",
   "metadata": {},
   "source": [
    "## Output\n",
    "**What will I deliver? / Where does the business team want to see it?**\n",
    "\n",
    "List in xls / send by email. It must contain customers who will join Loyals (loyalty program).\n",
    "Format:\n",
    "client_id\tis_loyal\n",
    "\n",
    "    │1\t│yes\n",
    "    │2\t│no\n",
    "    \n",
    "**PDF report answering business questions / send by email and present to the marketing team:**\n",
    "\n",
    "    Who are the people eligible to participate in the Loyals program?\n",
    "    How many customers will be part of the group?\n",
    "    What are the main characteristics of these customers?\n",
    "    What is the percentage of revenue contribution from Loyals?\n",
    "    What is the expected revenue for this group for the coming months?\n",
    "    What are the conditions for a person to be eligible for Loyals?\n",
    "    What are the conditions for a person to be removed from Loyals?\n",
    "    What is the guarantee that the Loyals program is better than the rest of the base?\n",
    "    What actions can the marketing team take to increase revenue?"
   ]
  },
  {
   "cell_type": "markdown",
   "id": "9e9af167",
   "metadata": {},
   "source": [
    "### Input"
   ]
  },
  {
   "cell_type": "markdown",
   "id": "e9131109",
   "metadata": {},
   "source": [
    "Data sources: Dataset \"Ecommerce.csv\", containing e-commerce sales for the period of one year.\n",
    "\n",
    "Tools: Python 3.8.12, Jupyter Notebook, Git, Github.\n",
    "\n",
    "Process\n",
    "Type of problem: Separation of customers by groups.\n",
    "\n",
    "Main methods: clustering.\n",
    "\n",
    "**Business Questions:**\n",
    "\n",
    "    Who are the people eligible to participate in the Loyals program?\n",
    "    \n",
    "    What does it mean to be eligible? / What are higher \"value\" customers? (depending on business area)\n",
    "    Invoicing:\n",
    "    \n",
    "   - High average ticket\n",
    "       High LTV (sum of customer revenue)\n",
    "       \n",
    "       Low recency (time since last purchase)\n",
    "       \n",
    "       High basket size (qty products purchased per purchase)\n",
    "       \n",
    "       Low churn probability (would use the output of a model)\n",
    "       \n",
    "       High LTV Prediction (would use output from a model)\n",
    "       \n",
    "       High propensity to buy (would use the output of a model)\n",
    "       \n",
    "              \n",
    "   - Cost:\n",
    "        Low return rate\n",
    "        \n",
    "   - Shopping experience:\n",
    "   \n",
    "        High average of the evaluations"
   ]
  },
  {
   "cell_type": "markdown",
   "id": "70175101",
   "metadata": {},
   "source": [
    "## Solution Benchmarking\n",
    "Desk Research\n",
    "Reading articles on customer segmentation on the internet to understand what the market is doing.\n",
    "\n",
    "Identify from market solutions, with the business team, what we can do as an MVP.\n",
    "\n",
    "RFM segmentation model."
   ]
  },
  {
   "cell_type": "markdown",
   "id": "ddc3489f",
   "metadata": {},
   "source": [
    "# Imports"
   ]
  },
  {
   "cell_type": "code",
   "execution_count": 142,
   "id": "989fd6b2",
   "metadata": {
    "ExecuteTime": {
     "end_time": "2023-06-08T12:10:32.504557Z",
     "start_time": "2023-06-08T12:10:32.497555Z"
    }
   },
   "outputs": [],
   "source": [
    "import warnings\n",
    "import re\n",
    "import scipy.stats       as st\n",
    "import sweetviz as sv\n",
    "import inflection\n",
    "import pandas            as pd\n",
    "import seaborn           as sns\n",
    "import datetime          as dt\n",
    "from matplotlib  import pyplot as plt\n",
    "from sklearn import preprocessing as pp\n",
    "from sklearn import ensemble as en\n",
    "import umap.umap_   as umap\n",
    "from sklearn             import decomposition as dd\n",
    "from sklearn import cluster as c\n",
    "from sklearn import metrics as m\n",
    "from scipy.cluster            import hierarchy as hc\n",
    "from sklearn                  import mixture as mx\n",
    "from yellowbrick.cluster import KElbowVisualizer, SilhouetteVisualizer\n",
    "warnings.filterwarnings('ignore')"
   ]
  },
  {
   "cell_type": "markdown",
   "id": "bf115ad3",
   "metadata": {},
   "source": [
    "## Helper Functions"
   ]
  },
  {
   "cell_type": "code",
   "execution_count": 2,
   "id": "705d026b",
   "metadata": {
    "ExecuteTime": {
     "end_time": "2023-06-08T11:38:28.850205Z",
     "start_time": "2023-06-08T11:38:28.841053Z"
    }
   },
   "outputs": [],
   "source": [
    "# Função para formatar notação científica\n",
    "pd.set_option('display.float_format', lambda x: '%.4f' % x)\n",
    "\n",
    "# Tamanho dos Graficos\n",
    "sns.set(style = \"darkgrid\")\n",
    "sns.set(rc={\"figure.figsize\":(15, 10)})\n",
    "#pd.options.display.float_format = \"{:,.2f}\".format\n"
   ]
  },
  {
   "cell_type": "markdown",
   "id": "74775086",
   "metadata": {},
   "source": [
    "## Load Data"
   ]
  },
  {
   "cell_type": "code",
   "execution_count": 3,
   "id": "5a0ec561",
   "metadata": {
    "ExecuteTime": {
     "end_time": "2023-06-08T11:38:29.832116Z",
     "start_time": "2023-06-08T11:38:28.854207Z"
    }
   },
   "outputs": [],
   "source": [
    "df_raw = pd.read_csv('data/ecommerce.csv',encoding='unicode_escape')"
   ]
  },
  {
   "cell_type": "code",
   "execution_count": 4,
   "id": "1423b465",
   "metadata": {
    "ExecuteTime": {
     "end_time": "2023-06-08T11:38:29.896134Z",
     "start_time": "2023-06-08T11:38:29.837031Z"
    }
   },
   "outputs": [],
   "source": [
    "df_raw = df_raw.drop('Unnamed: 8', axis=1)"
   ]
  },
  {
   "cell_type": "markdown",
   "id": "75169820",
   "metadata": {},
   "source": [
    "# Data Description"
   ]
  },
  {
   "cell_type": "code",
   "execution_count": 5,
   "id": "6623cba6",
   "metadata": {
    "ExecuteTime": {
     "end_time": "2023-06-08T11:38:30.021476Z",
     "start_time": "2023-06-08T11:38:29.899054Z"
    }
   },
   "outputs": [],
   "source": [
    "df1 = df_raw.copy()"
   ]
  },
  {
   "cell_type": "markdown",
   "id": "55547185",
   "metadata": {},
   "source": [
    "## Rename Columns"
   ]
  },
  {
   "cell_type": "code",
   "execution_count": 6,
   "id": "ee019bcb",
   "metadata": {
    "ExecuteTime": {
     "end_time": "2023-06-08T11:38:30.176899Z",
     "start_time": "2023-06-08T11:38:30.025318Z"
    }
   },
   "outputs": [],
   "source": [
    "#Renomear as colunas do dataset microdados\n",
    "cols_old = list(df1)\n",
    "\n",
    "\n",
    "#Função para renomear colunas\n",
    "\n",
    "snakecase = lambda x: inflection.underscore(x)\n",
    "\n",
    "cols_new = list( map( snakecase, cols_old) )\n",
    "\n",
    "#Rename\n",
    "df1.columns = cols_new"
   ]
  },
  {
   "cell_type": "markdown",
   "id": "790d400a",
   "metadata": {
    "ExecuteTime": {
     "end_time": "2023-05-16T13:42:02.719373Z",
     "start_time": "2023-05-16T13:42:02.707376Z"
    }
   },
   "source": [
    "## Data Dimensions"
   ]
  },
  {
   "cell_type": "code",
   "execution_count": 7,
   "id": "3cc0d555",
   "metadata": {
    "ExecuteTime": {
     "end_time": "2023-06-08T11:38:30.269556Z",
     "start_time": "2023-06-08T11:38:30.179916Z"
    }
   },
   "outputs": [
    {
     "name": "stdout",
     "output_type": "stream",
     "text": [
      "Number of rows: 541909\n",
      "Number of columns: 8\n"
     ]
    }
   ],
   "source": [
    "print(f'Number of rows: {df1.shape[0]}')\n",
    "print(f'Number of columns: {df1.shape[1]}')"
   ]
  },
  {
   "cell_type": "markdown",
   "id": "67d9b09f",
   "metadata": {},
   "source": [
    "## Data Dtypes"
   ]
  },
  {
   "cell_type": "code",
   "execution_count": 8,
   "id": "18120a33",
   "metadata": {
    "ExecuteTime": {
     "end_time": "2023-06-08T11:38:30.425664Z",
     "start_time": "2023-06-08T11:38:30.273393Z"
    }
   },
   "outputs": [
    {
     "data": {
      "text/plain": [
       "invoice_no       object\n",
       "stock_code       object\n",
       "description      object\n",
       "quantity          int64\n",
       "invoice_date     object\n",
       "unit_price      float64\n",
       "customer_id     float64\n",
       "country          object\n",
       "dtype: object"
      ]
     },
     "execution_count": 8,
     "metadata": {},
     "output_type": "execute_result"
    }
   ],
   "source": [
    "df1.dtypes"
   ]
  },
  {
   "cell_type": "markdown",
   "id": "d75af7de",
   "metadata": {},
   "source": [
    "## Check NA"
   ]
  },
  {
   "cell_type": "code",
   "execution_count": 9,
   "id": "a2e00ffa",
   "metadata": {
    "ExecuteTime": {
     "end_time": "2023-06-08T11:38:30.912532Z",
     "start_time": "2023-06-08T11:38:30.429669Z"
    }
   },
   "outputs": [
    {
     "data": {
      "text/plain": [
       "invoice_no           0\n",
       "stock_code           0\n",
       "description       1454\n",
       "quantity             0\n",
       "invoice_date         0\n",
       "unit_price           0\n",
       "customer_id     135080\n",
       "country              0\n",
       "dtype: int64"
      ]
     },
     "execution_count": 9,
     "metadata": {},
     "output_type": "execute_result"
    }
   ],
   "source": [
    "df1.isna().sum()"
   ]
  },
  {
   "cell_type": "markdown",
   "id": "b0d3417d",
   "metadata": {},
   "source": [
    "## Drop NA"
   ]
  },
  {
   "cell_type": "code",
   "execution_count": 10,
   "id": "2a7fe861",
   "metadata": {
    "ExecuteTime": {
     "end_time": "2023-06-08T11:38:31.401389Z",
     "start_time": "2023-06-08T11:38:30.920532Z"
    }
   },
   "outputs": [],
   "source": [
    "df1 = df1.dropna()"
   ]
  },
  {
   "cell_type": "markdown",
   "id": "934c939b",
   "metadata": {
    "ExecuteTime": {
     "end_time": "2023-05-16T13:44:17.738637Z",
     "start_time": "2023-05-16T13:44:17.467791Z"
    }
   },
   "source": [
    "The most NA values are in the customer_id column. \n",
    "In this first step, I decided to exclude the NA values, as it isn't possible to fill in these values without further information."
   ]
  },
  {
   "cell_type": "markdown",
   "id": "71ff1dc4",
   "metadata": {},
   "source": [
    "## Change dtypes"
   ]
  },
  {
   "cell_type": "code",
   "execution_count": 11,
   "id": "10e57102",
   "metadata": {
    "ExecuteTime": {
     "end_time": "2023-06-08T11:38:31.542812Z",
     "start_time": "2023-06-08T11:38:31.405306Z"
    }
   },
   "outputs": [
    {
     "data": {
      "text/plain": [
       "invoice_no              object\n",
       "stock_code              object\n",
       "description             object\n",
       "quantity                 int64\n",
       "invoice_date    datetime64[ns]\n",
       "unit_price             float64\n",
       "customer_id              int64\n",
       "country                 object\n",
       "dtype: object"
      ]
     },
     "execution_count": 11,
     "metadata": {},
     "output_type": "execute_result"
    }
   ],
   "source": [
    "# invoicedate\n",
    "df1['invoice_date'] = pd.to_datetime( df1['invoice_date'], format='%d-%b-%y')\n",
    "\n",
    "#customerid\n",
    "df1['customer_id'] = df1['customer_id'].astype('int64')\n",
    "df1.dtypes"
   ]
  },
  {
   "cell_type": "markdown",
   "id": "dea5199d",
   "metadata": {},
   "source": [
    "## Descriptive Statistics"
   ]
  },
  {
   "cell_type": "code",
   "execution_count": 12,
   "id": "e7d26756",
   "metadata": {
    "ExecuteTime": {
     "end_time": "2023-06-08T11:38:31.636050Z",
     "start_time": "2023-06-08T11:38:31.545777Z"
    }
   },
   "outputs": [],
   "source": [
    "num_attributes = df1.select_dtypes( include=['int64', 'float64'])\n",
    "cat_attributes = df1.select_dtypes( exclude=['int64', 'float64', 'datetime64[ns]'])"
   ]
  },
  {
   "cell_type": "markdown",
   "id": "2622d775",
   "metadata": {},
   "source": [
    "### Numerical Attributes"
   ]
  },
  {
   "cell_type": "code",
   "execution_count": 13,
   "id": "d11e1bfe",
   "metadata": {
    "ExecuteTime": {
     "end_time": "2023-06-08T11:38:31.841207Z",
     "start_time": "2023-06-08T11:38:31.640065Z"
    }
   },
   "outputs": [
    {
     "data": {
      "text/html": [
       "<div>\n",
       "<style scoped>\n",
       "    .dataframe tbody tr th:only-of-type {\n",
       "        vertical-align: middle;\n",
       "    }\n",
       "\n",
       "    .dataframe tbody tr th {\n",
       "        vertical-align: top;\n",
       "    }\n",
       "\n",
       "    .dataframe thead th {\n",
       "        text-align: right;\n",
       "    }\n",
       "</style>\n",
       "<table border=\"1\" class=\"dataframe\">\n",
       "  <thead>\n",
       "    <tr style=\"text-align: right;\">\n",
       "      <th></th>\n",
       "      <th>attributes</th>\n",
       "      <th>min</th>\n",
       "      <th>max</th>\n",
       "      <th>range</th>\n",
       "      <th>mean</th>\n",
       "      <th>median</th>\n",
       "      <th>std</th>\n",
       "      <th>skew</th>\n",
       "      <th>kurtosis</th>\n",
       "    </tr>\n",
       "  </thead>\n",
       "  <tbody>\n",
       "    <tr>\n",
       "      <th>0</th>\n",
       "      <td>quantity</td>\n",
       "      <td>-80995.0000</td>\n",
       "      <td>80995.0000</td>\n",
       "      <td>161990.0000</td>\n",
       "      <td>12.0613</td>\n",
       "      <td>5.0000</td>\n",
       "      <td>248.6931</td>\n",
       "      <td>0.1827</td>\n",
       "      <td>94317.5637</td>\n",
       "    </tr>\n",
       "    <tr>\n",
       "      <th>1</th>\n",
       "      <td>unit_price</td>\n",
       "      <td>0.0000</td>\n",
       "      <td>38970.0000</td>\n",
       "      <td>38970.0000</td>\n",
       "      <td>3.4605</td>\n",
       "      <td>1.9500</td>\n",
       "      <td>69.3151</td>\n",
       "      <td>452.2190</td>\n",
       "      <td>246924.5430</td>\n",
       "    </tr>\n",
       "    <tr>\n",
       "      <th>2</th>\n",
       "      <td>customer_id</td>\n",
       "      <td>12346.0000</td>\n",
       "      <td>18287.0000</td>\n",
       "      <td>5941.0000</td>\n",
       "      <td>15287.6906</td>\n",
       "      <td>15152.0000</td>\n",
       "      <td>1713.5982</td>\n",
       "      <td>0.0298</td>\n",
       "      <td>-1.1800</td>\n",
       "    </tr>\n",
       "  </tbody>\n",
       "</table>\n",
       "</div>"
      ],
      "text/plain": [
       "    attributes         min        max       range       mean     median  \\\n",
       "0     quantity -80995.0000 80995.0000 161990.0000    12.0613     5.0000   \n",
       "1   unit_price      0.0000 38970.0000  38970.0000     3.4605     1.9500   \n",
       "2  customer_id  12346.0000 18287.0000   5941.0000 15287.6906 15152.0000   \n",
       "\n",
       "        std     skew    kurtosis  \n",
       "0  248.6931   0.1827  94317.5637  \n",
       "1   69.3151 452.2190 246924.5430  \n",
       "2 1713.5982   0.0298     -1.1800  "
      ]
     },
     "execution_count": 13,
     "metadata": {},
     "output_type": "execute_result"
    }
   ],
   "source": [
    "#central tendency - mean, median, \n",
    "ct1 = pd.DataFrame(num_attributes.apply(np.mean) ).T\n",
    "ct2 = pd.DataFrame(num_attributes.apply(np.median)).T\n",
    "\n",
    "#Dispersion - std, \n",
    "d1 = pd.DataFrame(num_attributes.apply(np.std)).T\n",
    "d2 = pd.DataFrame(num_attributes.apply(np.min)).T\n",
    "d3 = pd.DataFrame(num_attributes.apply(np.max)).T\n",
    "d4 = pd.DataFrame(num_attributes.apply(lambda x: x.max() - x.min())).T\n",
    "d5 = pd.DataFrame(num_attributes.apply(lambda x: x.skew()) ).T\n",
    "d6 = pd.DataFrame(num_attributes.apply(lambda x: x.kurtosis()) ).T\n",
    "\n",
    "#Merge\n",
    "n = pd.concat([d2, d3, d4, ct1, ct2, d1, d5, d6]).T.reset_index()\n",
    "n.columns = ['attributes', 'min', 'max', 'range','mean', 'median', 'std','skew','kurtosis']\n",
    "n"
   ]
  },
  {
   "cell_type": "markdown",
   "id": "fde9507a",
   "metadata": {},
   "source": [
    "### Categorical Attributes"
   ]
  },
  {
   "cell_type": "code",
   "execution_count": 14,
   "id": "d61486b1",
   "metadata": {
    "ExecuteTime": {
     "end_time": "2023-06-08T11:38:32.314605Z",
     "start_time": "2023-06-08T11:38:31.844212Z"
    }
   },
   "outputs": [
    {
     "name": "stdout",
     "output_type": "stream",
     "text": [
      "total de invoices com letras: 8905\n",
      "total de invoices com valores negativos: 8905\n"
     ]
    }
   ],
   "source": [
    "# problem: The invoice has numbers and letters\n",
    "\n",
    "df_letter_invoices = df1.loc[df1['invoice_no'].apply( lambda x: bool( re.search( '[^0-9]+', x ) ) ), :]\n",
    "\n",
    "#Check if all invoices are letter\n",
    "print(f'total de invoices com letras: {len(df_letter_invoices)}')\n",
    "\n",
    "#Check if all invoices are negative\n",
    "print(f'total de invoices com valores negativos: {len(df_letter_invoices[ df_letter_invoices[\"quantity\"] < 0 ])}')"
   ]
  },
  {
   "cell_type": "markdown",
   "id": "f2f48011",
   "metadata": {},
   "source": [
    "### Stoke_code"
   ]
  },
  {
   "cell_type": "code",
   "execution_count": 15,
   "id": "001a8253",
   "metadata": {
    "ExecuteTime": {
     "end_time": "2023-06-08T11:38:33.191507Z",
     "start_time": "2023-06-08T11:38:32.318516Z"
    }
   },
   "outputs": [
    {
     "data": {
      "text/plain": [
       "array(['POST', 'D', 'M', 'PADS', 'DOT', 'CRUK'], dtype=object)"
      ]
     },
     "execution_count": 15,
     "metadata": {},
     "output_type": "execute_result"
    }
   ],
   "source": [
    "at_least_one_string = len(cat_attributes.loc[ cat_attributes['stock_code'].apply( lambda x: bool( re.search('[^0-9]+', x))), 'stock_code'].drop_duplicates())\n",
    "\n",
    "cat_attributes.loc[ cat_attributes['stock_code'].apply( lambda x:  bool( re.search( '^[a-zA-z]+$', x))),'stock_code'].unique()\n",
    "\n",
    "#Ação\n",
    "# Remover 'POST', 'D', 'DOT', 'M', 'S', 'AMAZONFEE', 'm', 'DCGSSBOY', 'DCGSSGIRL', 'PADS', 'B', 'CRUK'"
   ]
  },
  {
   "cell_type": "markdown",
   "id": "14970e1d",
   "metadata": {},
   "source": [
    "### Country"
   ]
  },
  {
   "cell_type": "code",
   "execution_count": 16,
   "id": "3eacd72e",
   "metadata": {
    "ExecuteTime": {
     "end_time": "2023-06-08T11:38:33.237504Z",
     "start_time": "2023-06-08T11:38:33.194473Z"
    }
   },
   "outputs": [
    {
     "data": {
      "text/plain": [
       "37"
      ]
     },
     "execution_count": 16,
     "metadata": {},
     "output_type": "execute_result"
    }
   ],
   "source": [
    "len(df1['country'].unique())"
   ]
  },
  {
   "cell_type": "code",
   "execution_count": 17,
   "id": "50174d3b",
   "metadata": {
    "ExecuteTime": {
     "end_time": "2023-06-08T11:38:33.377377Z",
     "start_time": "2023-06-08T11:38:33.240503Z"
    }
   },
   "outputs": [
    {
     "data": {
      "text/plain": [
       "United Kingdom         0.8895\n",
       "Germany                0.0233\n",
       "France                 0.0209\n",
       "EIRE                   0.0184\n",
       "Spain                  0.0062\n",
       "Netherlands            0.0058\n",
       "Belgium                0.0051\n",
       "Switzerland            0.0046\n",
       "Portugal               0.0036\n",
       "Australia              0.0031\n",
       "Norway                 0.0027\n",
       "Italy                  0.0020\n",
       "Channel Islands        0.0019\n",
       "Finland                0.0017\n",
       "Cyprus                 0.0015\n",
       "Sweden                 0.0011\n",
       "Austria                0.0010\n",
       "Denmark                0.0010\n",
       "Japan                  0.0009\n",
       "Poland                 0.0008\n",
       "USA                    0.0007\n",
       "Israel                 0.0006\n",
       "Unspecified            0.0006\n",
       "Singapore              0.0006\n",
       "Iceland                0.0004\n",
       "Canada                 0.0004\n",
       "Greece                 0.0004\n",
       "Malta                  0.0003\n",
       "United Arab Emirates   0.0002\n",
       "European Community     0.0001\n",
       "RSA                    0.0001\n",
       "Lebanon                0.0001\n",
       "Lithuania              0.0001\n",
       "Brazil                 0.0001\n",
       "Czech Republic         0.0001\n",
       "Bahrain                0.0000\n",
       "Saudi Arabia           0.0000\n",
       "Name: country, dtype: float64"
      ]
     },
     "execution_count": 17,
     "metadata": {},
     "output_type": "execute_result"
    }
   ],
   "source": [
    "# country x purchases\n",
    "df1['country'].value_counts(normalize=True)"
   ]
  },
  {
   "cell_type": "markdown",
   "id": "1aeab951",
   "metadata": {},
   "source": [
    "# Filtering Variable"
   ]
  },
  {
   "cell_type": "code",
   "execution_count": 18,
   "id": "efcb6a95",
   "metadata": {
    "ExecuteTime": {
     "end_time": "2023-06-08T11:38:33.515828Z",
     "start_time": "2023-06-08T11:38:33.380580Z"
    }
   },
   "outputs": [],
   "source": [
    "df2 = df1.copy()"
   ]
  },
  {
   "cell_type": "code",
   "execution_count": 19,
   "id": "45719cb2",
   "metadata": {
    "ExecuteTime": {
     "end_time": "2023-06-08T11:38:33.910206Z",
     "start_time": "2023-06-08T11:38:33.519747Z"
    }
   },
   "outputs": [],
   "source": [
    "#=====================Numerical Attributes=================================\n",
    "#Quantity\n",
    "df2 = df2.loc[df2['unit_price']>= 0.04]\n",
    "\n",
    "\n",
    "#=====================Caterical Attributes=================================\n",
    "df2 = df2[~df2['stock_code'].isin( ['POST', 'D', 'DOT', 'M', 'S', 'AMAZONFEE', 'm', 'DCGSSBOY',\n",
    "       'DCGSSGIRL', 'PADS', 'B', 'CRUK'])]\n",
    "\n",
    "#Description\n",
    "df2 = df2.drop(columns='description', axis=1)\n",
    "\n",
    "#map\n",
    "df2 = df2[~df2['country'].isin(['European Community', 'Unspecified'])]\n",
    "\n",
    "#Quantity\n",
    "df_return = df2.loc[df1['quantity']<0, :]\n",
    "df2_purchase = df2.loc[df1['quantity']>= 0, :]\n",
    "\n",
    "#Bad Users\n",
    "df2 = df2[~df2['customer_id'].isin( [16446] )]"
   ]
  },
  {
   "cell_type": "markdown",
   "id": "1501dbc6",
   "metadata": {},
   "source": [
    "# Feature Engeneering"
   ]
  },
  {
   "cell_type": "code",
   "execution_count": 20,
   "id": "bbc83295",
   "metadata": {
    "ExecuteTime": {
     "end_time": "2023-06-08T11:38:33.942210Z",
     "start_time": "2023-06-08T11:38:33.913143Z"
    }
   },
   "outputs": [],
   "source": [
    "df3 = df2.copy()"
   ]
  },
  {
   "cell_type": "code",
   "execution_count": 21,
   "id": "b8bfad89",
   "metadata": {
    "ExecuteTime": {
     "end_time": "2023-06-08T11:38:34.099733Z",
     "start_time": "2023-06-08T11:38:33.944129Z"
    }
   },
   "outputs": [],
   "source": [
    "#create the referente table with uniques customer_id (and reset index)\n",
    "df_ref = df3.drop(['invoice_no', 'stock_code', 'quantity', 'invoice_date',\n",
    "       'unit_price', 'country'], axis=1).drop_duplicates(ignore_index=True).copy()"
   ]
  },
  {
   "cell_type": "code",
   "execution_count": 22,
   "id": "68f62f15",
   "metadata": {
    "ExecuteTime": {
     "end_time": "2023-06-08T11:38:34.284522Z",
     "start_time": "2023-06-08T11:38:34.102724Z"
    }
   },
   "outputs": [
    {
     "data": {
      "text/html": [
       "<div>\n",
       "<style scoped>\n",
       "    .dataframe tbody tr th:only-of-type {\n",
       "        vertical-align: middle;\n",
       "    }\n",
       "\n",
       "    .dataframe tbody tr th {\n",
       "        vertical-align: top;\n",
       "    }\n",
       "\n",
       "    .dataframe thead th {\n",
       "        text-align: right;\n",
       "    }\n",
       "</style>\n",
       "<table border=\"1\" class=\"dataframe\">\n",
       "  <thead>\n",
       "    <tr style=\"text-align: right;\">\n",
       "      <th></th>\n",
       "      <th>customer_id</th>\n",
       "    </tr>\n",
       "  </thead>\n",
       "  <tbody>\n",
       "    <tr>\n",
       "      <th>0</th>\n",
       "      <td>17850</td>\n",
       "    </tr>\n",
       "    <tr>\n",
       "      <th>1</th>\n",
       "      <td>13047</td>\n",
       "    </tr>\n",
       "    <tr>\n",
       "      <th>2</th>\n",
       "      <td>12583</td>\n",
       "    </tr>\n",
       "    <tr>\n",
       "      <th>3</th>\n",
       "      <td>13748</td>\n",
       "    </tr>\n",
       "    <tr>\n",
       "      <th>4</th>\n",
       "      <td>15100</td>\n",
       "    </tr>\n",
       "  </tbody>\n",
       "</table>\n",
       "</div>"
      ],
      "text/plain": [
       "   customer_id\n",
       "0        17850\n",
       "1        13047\n",
       "2        12583\n",
       "3        13748\n",
       "4        15100"
      ]
     },
     "execution_count": 22,
     "metadata": {},
     "output_type": "execute_result"
    }
   ],
   "source": [
    "df_ref.head()"
   ]
  },
  {
   "cell_type": "markdown",
   "id": "b4f68b48",
   "metadata": {
    "ExecuteTime": {
     "end_time": "2023-05-29T12:20:49.607426Z",
     "start_time": "2023-05-29T12:20:49.598422Z"
    }
   },
   "source": [
    "## Gross Revenue"
   ]
  },
  {
   "cell_type": "code",
   "execution_count": 23,
   "id": "75c3f547",
   "metadata": {
    "ExecuteTime": {
     "end_time": "2023-06-08T11:38:34.424823Z",
     "start_time": "2023-06-08T11:38:34.288520Z"
    }
   },
   "outputs": [
    {
     "data": {
      "text/plain": [
       "customer_id       0\n",
       "gross_revenue    27\n",
       "dtype: int64"
      ]
     },
     "execution_count": 23,
     "metadata": {},
     "output_type": "execute_result"
    }
   ],
   "source": [
    "# Gross Revenue ( Faturamento ) quantity * price\n",
    "df2_purchase.loc[:, 'gross_revenue'] = df2_purchase.loc[:,'quantity'] * df2_purchase.loc[:, 'unit_price']\n",
    "\n",
    "# Monetary (How much money a customer spends on purchases)\n",
    "df_monetary = df2_purchase.loc[:, ['customer_id', 'gross_revenue']].groupby( 'customer_id' ).sum().reset_index()\n",
    "df_ref = pd.merge( df_ref, df_monetary, on='customer_id', how='left' )\n",
    "df_ref.isna().sum()"
   ]
  },
  {
   "cell_type": "markdown",
   "id": "8caacdd6",
   "metadata": {},
   "source": [
    "## Recency"
   ]
  },
  {
   "cell_type": "code",
   "execution_count": 24,
   "id": "56477394",
   "metadata": {
    "ExecuteTime": {
     "end_time": "2023-06-08T11:38:34.563955Z",
     "start_time": "2023-06-08T11:38:34.427791Z"
    }
   },
   "outputs": [
    {
     "data": {
      "text/plain": [
       "customer_id       0\n",
       "gross_revenue    27\n",
       "recency_days     27\n",
       "dtype: int64"
      ]
     },
     "execution_count": 24,
     "metadata": {},
     "output_type": "execute_result"
    }
   ],
   "source": [
    "# Recency - Day from last purchase\n",
    "df_recency = df2_purchase.loc[:, ['customer_id', 'invoice_date']].groupby( 'customer_id' ).max().reset_index()\n",
    "df_recency['recency_days'] = ( df1['invoice_date'].max() - df_recency['invoice_date'] ).dt.days\n",
    "df_recency = df_recency[['customer_id', 'recency_days']].copy()\n",
    "\n",
    "df_ref = pd.merge( df_ref, df_recency, on='customer_id', how='left' )\n",
    "df_ref.isna().sum()"
   ]
  },
  {
   "cell_type": "markdown",
   "id": "2f81203f",
   "metadata": {},
   "source": [
    "## Quantity of Purchases"
   ]
  },
  {
   "cell_type": "code",
   "execution_count": 25,
   "id": "b9f190ac",
   "metadata": {
    "ExecuteTime": {
     "end_time": "2023-06-08T11:38:34.736479Z",
     "start_time": "2023-06-08T11:38:34.567965Z"
    }
   },
   "outputs": [
    {
     "data": {
      "text/plain": [
       "customer_id        0\n",
       "gross_revenue     27\n",
       "recency_days      27\n",
       "qty_invoice_no    27\n",
       "dtype: int64"
      ]
     },
     "execution_count": 25,
     "metadata": {},
     "output_type": "execute_result"
    }
   ],
   "source": [
    "# Quantity of purchases (quantity of invoice no)\n",
    "df_freq = (df2_purchase.loc[:, ['customer_id', 'invoice_no']].drop_duplicates()\n",
    "                                                             .groupby( 'customer_id' )\n",
    "                                                             .count()\n",
    "                                                             .reset_index()\n",
    "                                                             .rename(columns = {'invoice_no': 'qty_invoice_no'}))\n",
    "df_ref = pd.merge( df_ref, df_freq, on='customer_id', how='left' )\n",
    "df_ref.isna().sum()"
   ]
  },
  {
   "cell_type": "markdown",
   "id": "5cdcb52c",
   "metadata": {},
   "source": [
    "## Quantity of Items Purchased by Customer"
   ]
  },
  {
   "cell_type": "code",
   "execution_count": 26,
   "id": "78296b92",
   "metadata": {
    "ExecuteTime": {
     "end_time": "2023-06-08T11:38:34.814200Z",
     "start_time": "2023-06-08T11:38:34.739482Z"
    }
   },
   "outputs": [
    {
     "data": {
      "text/plain": [
       "customer_id        0\n",
       "gross_revenue     27\n",
       "recency_days      27\n",
       "qty_invoice_no    27\n",
       "qty_items         27\n",
       "dtype: int64"
      ]
     },
     "execution_count": 26,
     "metadata": {},
     "output_type": "execute_result"
    }
   ],
   "source": [
    "# Quantity of items purchased by customer\n",
    "df_freq = (df2_purchase.loc[:, ['customer_id', 'quantity']].groupby( 'customer_id' ).sum()\n",
    "                                                           .reset_index()\n",
    "                                                           .rename( columns={'quantity': 'qty_items'} ) )\n",
    "df_ref = pd.merge( df_ref, df_freq, on='customer_id', how='left' )\n",
    "df_ref.isna().sum()"
   ]
  },
  {
   "cell_type": "markdown",
   "id": "7a18c417",
   "metadata": {},
   "source": [
    "## Quantity of Products Purchased"
   ]
  },
  {
   "cell_type": "code",
   "execution_count": 27,
   "id": "d517b3f5",
   "metadata": {
    "ExecuteTime": {
     "end_time": "2023-06-08T11:38:35.001474Z",
     "start_time": "2023-06-08T11:38:34.818054Z"
    }
   },
   "outputs": [
    {
     "data": {
      "text/plain": [
       "customer_id        0\n",
       "gross_revenue     27\n",
       "recency_days      27\n",
       "qty_invoice_no    27\n",
       "qty_items         27\n",
       "qty_products      27\n",
       "dtype: int64"
      ]
     },
     "execution_count": 27,
     "metadata": {},
     "output_type": "execute_result"
    }
   ],
   "source": [
    "# Quantity of unique products purchased (Frequency: qntd of products over time)\n",
    "\n",
    "# Number of products (different stock codes by customer)\n",
    "df_freq = (df2_purchase.loc[:, ['customer_id', 'stock_code']].groupby( 'customer_id' ).count()\n",
    "                                                           .reset_index()\n",
    "                                                           .rename( columns={'stock_code': 'qty_products'} ) )\n",
    "df_ref = pd.merge( df_ref, df_freq, on='customer_id', how='left' )\n",
    "df_ref.isna().sum()"
   ]
  },
  {
   "cell_type": "markdown",
   "id": "db2566ea",
   "metadata": {},
   "source": [
    "## Average Ticket Value"
   ]
  },
  {
   "cell_type": "code",
   "execution_count": 28,
   "id": "7a654f73",
   "metadata": {
    "ExecuteTime": {
     "end_time": "2023-06-08T11:38:35.126303Z",
     "start_time": "2023-06-08T11:38:35.011472Z"
    }
   },
   "outputs": [
    {
     "data": {
      "text/plain": [
       "customer_id        0\n",
       "gross_revenue     27\n",
       "recency_days      27\n",
       "qty_invoice_no    27\n",
       "qty_items         27\n",
       "qty_products      27\n",
       "avg_ticket        27\n",
       "dtype: int64"
      ]
     },
     "execution_count": 28,
     "metadata": {},
     "output_type": "execute_result"
    }
   ],
   "source": [
    "# Average Ticket Value\n",
    "df_avg_ticket = df2_purchase.loc[:, ['customer_id', 'gross_revenue']].groupby( 'customer_id' ).mean().reset_index().rename( columns={'gross_revenue':'avg_ticket'} )\n",
    "df_ref = pd.merge( df_ref, df_avg_ticket, on='customer_id', how='left')\n",
    "df_ref.isna().sum()"
   ]
  },
  {
   "cell_type": "markdown",
   "id": "5b041bea",
   "metadata": {},
   "source": [
    "## Average Recency Days"
   ]
  },
  {
   "cell_type": "code",
   "execution_count": 29,
   "id": "51c935f7",
   "metadata": {
    "ExecuteTime": {
     "end_time": "2023-06-08T11:38:35.739294Z",
     "start_time": "2023-06-08T11:38:35.129627Z"
    }
   },
   "outputs": [
    {
     "data": {
      "text/plain": [
       "customer_id            0\n",
       "gross_revenue         27\n",
       "recency_days          27\n",
       "qty_invoice_no        27\n",
       "qty_items             27\n",
       "qty_products          27\n",
       "avg_ticket            27\n",
       "avg_recency_days    1370\n",
       "dtype: int64"
      ]
     },
     "execution_count": 29,
     "metadata": {},
     "output_type": "execute_result"
    }
   ],
   "source": [
    "# Average recency days\n",
    "df_aux = df1[['customer_id', 'invoice_date']].drop_duplicates().sort_values( ['customer_id', 'invoice_date'], ascending=False )\n",
    "df_aux['next_customer_id'] = df_aux['customer_id'].shift() # next customer\n",
    "df_aux['previous_date'] = df_aux['invoice_date'].shift() # next invoince date\n",
    "\n",
    "df_aux['avg_recency_days'] = df_aux.apply( lambda x: ( x['invoice_date'] - x['previous_date'] ).days if x['customer_id'] == x['next_customer_id'] else np.nan, axis=1 )\n",
    "\n",
    "df_aux = df_aux.drop( ['invoice_date', 'next_customer_id', 'previous_date'], axis=1 ).dropna()\n",
    "\n",
    "#average recency \n",
    "df_avg_recency_days = df_aux.groupby( 'customer_id' ).mean().reset_index()\n",
    "\n",
    "# merge\n",
    "df_ref = pd.merge( df_ref, df_avg_recency_days, on='customer_id', how='left' )\n",
    "df_ref.isna().sum()"
   ]
  },
  {
   "cell_type": "markdown",
   "id": "fda09011",
   "metadata": {},
   "source": [
    "## Frequency"
   ]
  },
  {
   "cell_type": "code",
   "execution_count": 30,
   "id": "610da418",
   "metadata": {
    "ExecuteTime": {
     "end_time": "2023-06-08T11:38:36.776638Z",
     "start_time": "2023-06-08T11:38:35.742265Z"
    }
   },
   "outputs": [
    {
     "data": {
      "text/plain": [
       "customer_id            0\n",
       "gross_revenue         27\n",
       "recency_days          27\n",
       "qty_invoice_no        27\n",
       "qty_items             27\n",
       "qty_products          27\n",
       "avg_ticket            27\n",
       "avg_recency_days    1370\n",
       "frequency             27\n",
       "dtype: int64"
      ]
     },
     "execution_count": 30,
     "metadata": {},
     "output_type": "execute_result"
    }
   ],
   "source": [
    "#Frequency Purchase (rate: purchases by day)\n",
    "df_aux = ( df2_purchase[['customer_id', 'invoice_no', 'invoice_date']].drop_duplicates()\n",
    "                                                             .groupby( 'customer_id')\n",
    "                                                             .agg( max_ = ( 'invoice_date', 'max' ), \n",
    "                                                                   min_ = ( 'invoice_date', 'min' ),\n",
    "                                                                   days_= ( 'invoice_date', lambda x: ( ( x.max() - x.min() ).days ) + 1 ),\n",
    "                                                                   buy_ = ( 'invoice_no', 'count' ) ) ).reset_index()\n",
    "# Frequency\n",
    "df_aux['frequency'] = df_aux[['buy_', 'days_']].apply( lambda x: x['buy_'] / x['days_'] if  x['days_'] != 0 else 0, axis=1 )\n",
    "\n",
    "# Merge\n",
    "df_ref = pd.merge( df_ref, df_aux[['customer_id', 'frequency']], on='customer_id', how='left' )\n",
    "df_ref.isna().sum()"
   ]
  },
  {
   "cell_type": "markdown",
   "id": "05aa912e",
   "metadata": {},
   "source": [
    "## Number of Returns"
   ]
  },
  {
   "cell_type": "code",
   "execution_count": 31,
   "id": "b5046077",
   "metadata": {
    "ExecuteTime": {
     "end_time": "2023-06-08T11:38:36.808737Z",
     "start_time": "2023-06-08T11:38:36.780606Z"
    }
   },
   "outputs": [
    {
     "data": {
      "text/plain": [
       "customer_id            0\n",
       "gross_revenue         27\n",
       "recency_days          27\n",
       "qty_invoice_no        27\n",
       "qty_items             27\n",
       "qty_products          27\n",
       "avg_ticket            27\n",
       "avg_recency_days    1370\n",
       "frequency             27\n",
       "qtde_returns           0\n",
       "dtype: int64"
      ]
     },
     "execution_count": 31,
     "metadata": {},
     "output_type": "execute_result"
    }
   ],
   "source": [
    "#Number of Returns\n",
    "df_returns = df_return[['customer_id', 'quantity']].groupby( 'customer_id' ).sum().reset_index().rename( columns={'quantity':'qtde_returns'} )\n",
    "df_returns['qtde_returns'] = df_returns['qtde_returns'] * -1\n",
    "\n",
    "df_ref = pd.merge( df_ref, df_returns, how='left', on='customer_id' )\n",
    "df_ref.loc[df_ref['qtde_returns'].isna(), 'qtde_returns'] = 0 #customers with 0 returned items\n",
    "\n",
    "df_ref.isna().sum()"
   ]
  },
  {
   "cell_type": "markdown",
   "id": "c8959ac8",
   "metadata": {},
   "source": [
    "## Basket Size"
   ]
  },
  {
   "cell_type": "code",
   "execution_count": 32,
   "id": "3206de01",
   "metadata": {
    "ExecuteTime": {
     "end_time": "2023-06-08T11:38:37.072702Z",
     "start_time": "2023-06-08T11:38:36.814736Z"
    }
   },
   "outputs": [
    {
     "data": {
      "text/plain": [
       "customer_id            0\n",
       "gross_revenue         27\n",
       "recency_days          27\n",
       "qty_invoice_no        27\n",
       "qty_items             27\n",
       "qty_products          27\n",
       "avg_ticket            27\n",
       "avg_recency_days    1370\n",
       "frequency             27\n",
       "qtde_returns           0\n",
       "avg_basket_size       27\n",
       "dtype: int64"
      ]
     },
     "execution_count": 32,
     "metadata": {},
     "output_type": "execute_result"
    }
   ],
   "source": [
    "#Basket Size - the number of products sold in a single purchase ( Quantity )\n",
    "# Invoice No = Purchase = purchase\n",
    "# Stock Code = Produto Único = Product\n",
    "# Quantity = Item = Item\n",
    "\n",
    "df_aux = ( df2_purchase.loc[:, ['customer_id', 'invoice_no', 'quantity']].groupby( 'customer_id' )\n",
    "                                                                            .agg( n_purchase=( 'invoice_no', 'nunique'),\n",
    "                                                                                   n_products=( 'quantity', 'sum' ) )\n",
    "                                                                            .reset_index() )\n",
    "\n",
    "# calculation\n",
    "df_aux['avg_basket_size'] = df_aux['n_products'] / df_aux['n_purchase']\n",
    "\n",
    "# merge\n",
    "df_ref = pd.merge( df_ref, df_aux[['customer_id', 'avg_basket_size']], how='left', on='customer_id' )\n",
    "df_ref.isna().sum()"
   ]
  },
  {
   "cell_type": "markdown",
   "id": "426ab8c8",
   "metadata": {},
   "source": [
    "## Unique Basket Size"
   ]
  },
  {
   "cell_type": "code",
   "execution_count": 33,
   "id": "3792751f",
   "metadata": {
    "ExecuteTime": {
     "end_time": "2023-06-08T11:38:37.372367Z",
     "start_time": "2023-06-08T11:38:37.076705Z"
    }
   },
   "outputs": [
    {
     "data": {
      "text/plain": [
       "customer_id                  0\n",
       "gross_revenue               27\n",
       "recency_days                27\n",
       "qty_invoice_no              27\n",
       "qty_items                   27\n",
       "qty_products                27\n",
       "avg_ticket                  27\n",
       "avg_recency_days          1370\n",
       "frequency                   27\n",
       "qtde_returns                 0\n",
       "avg_basket_size             27\n",
       "avg_unique_basket_size      27\n",
       "dtype: int64"
      ]
     },
     "execution_count": 33,
     "metadata": {},
     "output_type": "execute_result"
    }
   ],
   "source": [
    "#Unique Basket Size - Quantidade de produtos distintos por compra\n",
    "\n",
    "df_aux = ( df2_purchase.loc[:, ['customer_id', 'invoice_no', 'stock_code']].groupby( 'customer_id' )\n",
    "                                                                            .agg( n_purchase=( 'invoice_no', 'nunique'),\n",
    "                                                                                   n_products=( 'stock_code', 'nunique' ) )\n",
    "                                                                            .reset_index() )\n",
    "\n",
    "# calculation\n",
    "df_aux['avg_unique_basket_size'] = df_aux['n_products'] / df_aux['n_purchase']\n",
    "\n",
    "# merge\n",
    "df_ref = pd.merge( df_ref, df_aux[['customer_id', 'avg_unique_basket_size']], how='left', on='customer_id' )\n",
    "df_ref.isna().sum()"
   ]
  },
  {
   "cell_type": "markdown",
   "id": "344d721d",
   "metadata": {},
   "source": [
    "# EDA"
   ]
  },
  {
   "cell_type": "markdown",
   "id": "1fe72c37",
   "metadata": {},
   "source": [
    "1) do analysis to validate business hypotheses, combat business guesswork\n",
    "\n",
    "2) study data space in which the data are inserted."
   ]
  },
  {
   "cell_type": "code",
   "execution_count": 34,
   "id": "57f44d0d",
   "metadata": {
    "ExecuteTime": {
     "end_time": "2023-06-08T11:38:37.388313Z",
     "start_time": "2023-06-08T11:38:37.375281Z"
    }
   },
   "outputs": [],
   "source": [
    "df4 = df_ref.dropna()"
   ]
  },
  {
   "cell_type": "code",
   "execution_count": 35,
   "id": "3f6c7663",
   "metadata": {
    "ExecuteTime": {
     "end_time": "2023-06-08T11:38:37.542830Z",
     "start_time": "2023-06-08T11:38:37.391280Z"
    }
   },
   "outputs": [
    {
     "data": {
      "text/plain": [
       "customer_id               0\n",
       "gross_revenue             0\n",
       "recency_days              0\n",
       "qty_invoice_no            0\n",
       "qty_items                 0\n",
       "qty_products              0\n",
       "avg_ticket                0\n",
       "avg_recency_days          0\n",
       "frequency                 0\n",
       "qtde_returns              0\n",
       "avg_basket_size           0\n",
       "avg_unique_basket_size    0\n",
       "dtype: int64"
      ]
     },
     "execution_count": 35,
     "metadata": {},
     "output_type": "execute_result"
    }
   ],
   "source": [
    "df4.isna().sum()"
   ]
  },
  {
   "cell_type": "markdown",
   "id": "efa0eaa0",
   "metadata": {},
   "source": [
    "## Análise Univariada\n",
    "Usar o Sweetviz"
   ]
  },
  {
   "cell_type": "code",
   "execution_count": 36,
   "id": "928033f4",
   "metadata": {
    "ExecuteTime": {
     "end_time": "2023-06-08T11:38:37.667773Z",
     "start_time": "2023-06-08T11:38:37.547848Z"
    }
   },
   "outputs": [],
   "source": [
    "#generate report with Pandas Profiling Report\n",
    "#my_report2 = sv.analyze(df4)\n",
    "#my_report2.show_html() "
   ]
  },
  {
   "cell_type": "markdown",
   "id": "4a13fb22",
   "metadata": {
    "ExecuteTime": {
     "end_time": "2023-05-10T11:59:49.486989Z",
     "start_time": "2023-05-10T11:59:49.486989Z"
    }
   },
   "source": [
    "- AO analisar o relatório do sweetviz observei que tem um valor muito alto. Vamos dar um zoom nesse id e ver do que se trata"
   ]
  },
  {
   "cell_type": "markdown",
   "id": "9f64eb8c",
   "metadata": {
    "ExecuteTime": {
     "end_time": "2023-05-10T11:59:49.491990Z",
     "start_time": "2023-05-10T11:59:49.491990Z"
    }
   },
   "source": [
    "### Quantity Items"
   ]
  },
  {
   "cell_type": "code",
   "execution_count": 37,
   "id": "989afd84",
   "metadata": {
    "ExecuteTime": {
     "end_time": "2023-06-08T11:38:37.792687Z",
     "start_time": "2023-06-08T11:38:37.671740Z"
    }
   },
   "outputs": [
    {
     "data": {
      "text/html": [
       "<div>\n",
       "<style scoped>\n",
       "    .dataframe tbody tr th:only-of-type {\n",
       "        vertical-align: middle;\n",
       "    }\n",
       "\n",
       "    .dataframe tbody tr th {\n",
       "        vertical-align: top;\n",
       "    }\n",
       "\n",
       "    .dataframe thead th {\n",
       "        text-align: right;\n",
       "    }\n",
       "</style>\n",
       "<table border=\"1\" class=\"dataframe\">\n",
       "  <thead>\n",
       "    <tr style=\"text-align: right;\">\n",
       "      <th></th>\n",
       "      <th>customer_id</th>\n",
       "      <th>gross_revenue</th>\n",
       "      <th>recency_days</th>\n",
       "      <th>qty_invoice_no</th>\n",
       "      <th>qty_items</th>\n",
       "      <th>qty_products</th>\n",
       "      <th>avg_ticket</th>\n",
       "      <th>avg_recency_days</th>\n",
       "      <th>frequency</th>\n",
       "      <th>qtde_returns</th>\n",
       "      <th>avg_basket_size</th>\n",
       "      <th>avg_unique_basket_size</th>\n",
       "    </tr>\n",
       "  </thead>\n",
       "  <tbody>\n",
       "    <tr>\n",
       "      <th>908</th>\n",
       "      <td>14646</td>\n",
       "      <td>279138.0200</td>\n",
       "      <td>1.0000</td>\n",
       "      <td>72.0000</td>\n",
       "      <td>196844.0000</td>\n",
       "      <td>2060.0000</td>\n",
       "      <td>135.5039</td>\n",
       "      <td>-7.6739</td>\n",
       "      <td>0.2034</td>\n",
       "      <td>288.0000</td>\n",
       "      <td>2733.9444</td>\n",
       "      <td>9.7083</td>\n",
       "    </tr>\n",
       "  </tbody>\n",
       "</table>\n",
       "</div>"
      ],
      "text/plain": [
       "     customer_id  gross_revenue  recency_days  qty_invoice_no   qty_items  \\\n",
       "908        14646    279138.0200        1.0000         72.0000 196844.0000   \n",
       "\n",
       "     qty_products  avg_ticket  avg_recency_days  frequency  qtde_returns  \\\n",
       "908     2060.0000    135.5039           -7.6739     0.2034      288.0000   \n",
       "\n",
       "     avg_basket_size  avg_unique_basket_size  \n",
       "908        2733.9444                  9.7083  "
      ]
     },
     "execution_count": 37,
     "metadata": {},
     "output_type": "execute_result"
    }
   ],
   "source": [
    "df4.loc[df4['qty_items']==196844]"
   ]
  },
  {
   "cell_type": "markdown",
   "id": "7761e3b3",
   "metadata": {
    "ExecuteTime": {
     "end_time": "2023-05-10T18:06:34.016281Z",
     "start_time": "2023-05-10T18:06:33.899469Z"
    }
   },
   "source": [
    "Esse cliente fez a compra ha 1 dia, comprou 2060 produtos m tem uma frequencia de 20"
   ]
  },
  {
   "cell_type": "code",
   "execution_count": 38,
   "id": "483e195e",
   "metadata": {
    "ExecuteTime": {
     "end_time": "2023-06-08T11:38:37.948038Z",
     "start_time": "2023-06-08T11:38:37.796657Z"
    }
   },
   "outputs": [
    {
     "data": {
      "text/html": [
       "<div>\n",
       "<style scoped>\n",
       "    .dataframe tbody tr th:only-of-type {\n",
       "        vertical-align: middle;\n",
       "    }\n",
       "\n",
       "    .dataframe tbody tr th {\n",
       "        vertical-align: top;\n",
       "    }\n",
       "\n",
       "    .dataframe thead th {\n",
       "        text-align: right;\n",
       "    }\n",
       "</style>\n",
       "<table border=\"1\" class=\"dataframe\">\n",
       "  <thead>\n",
       "    <tr style=\"text-align: right;\">\n",
       "      <th></th>\n",
       "      <th>invoice_no</th>\n",
       "      <th>stock_code</th>\n",
       "      <th>quantity</th>\n",
       "      <th>invoice_date</th>\n",
       "      <th>unit_price</th>\n",
       "      <th>customer_id</th>\n",
       "      <th>country</th>\n",
       "    </tr>\n",
       "  </thead>\n",
       "  <tbody>\n",
       "    <tr>\n",
       "      <th>37952</th>\n",
       "      <td>539491</td>\n",
       "      <td>21981</td>\n",
       "      <td>12</td>\n",
       "      <td>2016-12-18</td>\n",
       "      <td>0.2900</td>\n",
       "      <td>14646</td>\n",
       "      <td>Netherlands</td>\n",
       "    </tr>\n",
       "    <tr>\n",
       "      <th>37953</th>\n",
       "      <td>539491</td>\n",
       "      <td>21986</td>\n",
       "      <td>12</td>\n",
       "      <td>2016-12-18</td>\n",
       "      <td>0.2900</td>\n",
       "      <td>14646</td>\n",
       "      <td>Netherlands</td>\n",
       "    </tr>\n",
       "    <tr>\n",
       "      <th>37954</th>\n",
       "      <td>539491</td>\n",
       "      <td>22720</td>\n",
       "      <td>2</td>\n",
       "      <td>2016-12-18</td>\n",
       "      <td>4.9500</td>\n",
       "      <td>14646</td>\n",
       "      <td>Netherlands</td>\n",
       "    </tr>\n",
       "    <tr>\n",
       "      <th>37955</th>\n",
       "      <td>539491</td>\n",
       "      <td>21931</td>\n",
       "      <td>1</td>\n",
       "      <td>2016-12-18</td>\n",
       "      <td>1.9500</td>\n",
       "      <td>14646</td>\n",
       "      <td>Netherlands</td>\n",
       "    </tr>\n",
       "    <tr>\n",
       "      <th>37956</th>\n",
       "      <td>539491</td>\n",
       "      <td>22613</td>\n",
       "      <td>2</td>\n",
       "      <td>2016-12-18</td>\n",
       "      <td>0.8500</td>\n",
       "      <td>14646</td>\n",
       "      <td>Netherlands</td>\n",
       "    </tr>\n",
       "    <tr>\n",
       "      <th>37957</th>\n",
       "      <td>539491</td>\n",
       "      <td>20751</td>\n",
       "      <td>1</td>\n",
       "      <td>2016-12-18</td>\n",
       "      <td>2.1000</td>\n",
       "      <td>14646</td>\n",
       "      <td>Netherlands</td>\n",
       "    </tr>\n",
       "    <tr>\n",
       "      <th>37958</th>\n",
       "      <td>539491</td>\n",
       "      <td>21246</td>\n",
       "      <td>2</td>\n",
       "      <td>2016-12-18</td>\n",
       "      <td>4.9500</td>\n",
       "      <td>14646</td>\n",
       "      <td>Netherlands</td>\n",
       "    </tr>\n",
       "    <tr>\n",
       "      <th>37959</th>\n",
       "      <td>539491</td>\n",
       "      <td>22960</td>\n",
       "      <td>1</td>\n",
       "      <td>2016-12-18</td>\n",
       "      <td>4.2500</td>\n",
       "      <td>14646</td>\n",
       "      <td>Netherlands</td>\n",
       "    </tr>\n",
       "    <tr>\n",
       "      <th>37960</th>\n",
       "      <td>539491</td>\n",
       "      <td>22355</td>\n",
       "      <td>2</td>\n",
       "      <td>2016-12-18</td>\n",
       "      <td>0.8500</td>\n",
       "      <td>14646</td>\n",
       "      <td>Netherlands</td>\n",
       "    </tr>\n",
       "    <tr>\n",
       "      <th>37961</th>\n",
       "      <td>539491</td>\n",
       "      <td>21123</td>\n",
       "      <td>2</td>\n",
       "      <td>2016-12-18</td>\n",
       "      <td>1.2500</td>\n",
       "      <td>14646</td>\n",
       "      <td>Netherlands</td>\n",
       "    </tr>\n",
       "    <tr>\n",
       "      <th>37962</th>\n",
       "      <td>539491</td>\n",
       "      <td>47599A</td>\n",
       "      <td>2</td>\n",
       "      <td>2016-12-18</td>\n",
       "      <td>2.1000</td>\n",
       "      <td>14646</td>\n",
       "      <td>Netherlands</td>\n",
       "    </tr>\n",
       "    <tr>\n",
       "      <th>37963</th>\n",
       "      <td>539491</td>\n",
       "      <td>22331</td>\n",
       "      <td>2</td>\n",
       "      <td>2016-12-18</td>\n",
       "      <td>1.6500</td>\n",
       "      <td>14646</td>\n",
       "      <td>Netherlands</td>\n",
       "    </tr>\n",
       "    <tr>\n",
       "      <th>37964</th>\n",
       "      <td>539491</td>\n",
       "      <td>22333</td>\n",
       "      <td>2</td>\n",
       "      <td>2016-12-18</td>\n",
       "      <td>1.6500</td>\n",
       "      <td>14646</td>\n",
       "      <td>Netherlands</td>\n",
       "    </tr>\n",
       "    <tr>\n",
       "      <th>37965</th>\n",
       "      <td>539491</td>\n",
       "      <td>22315</td>\n",
       "      <td>1</td>\n",
       "      <td>2016-12-18</td>\n",
       "      <td>1.2500</td>\n",
       "      <td>14646</td>\n",
       "      <td>Netherlands</td>\n",
       "    </tr>\n",
       "    <tr>\n",
       "      <th>37966</th>\n",
       "      <td>539491</td>\n",
       "      <td>22445</td>\n",
       "      <td>1</td>\n",
       "      <td>2016-12-18</td>\n",
       "      <td>2.9500</td>\n",
       "      <td>14646</td>\n",
       "      <td>Netherlands</td>\n",
       "    </tr>\n",
       "    <tr>\n",
       "      <th>40190</th>\n",
       "      <td>539731</td>\n",
       "      <td>21212</td>\n",
       "      <td>240</td>\n",
       "      <td>2016-12-19</td>\n",
       "      <td>0.4200</td>\n",
       "      <td>14646</td>\n",
       "      <td>Netherlands</td>\n",
       "    </tr>\n",
       "    <tr>\n",
       "      <th>40191</th>\n",
       "      <td>539731</td>\n",
       "      <td>22858</td>\n",
       "      <td>108</td>\n",
       "      <td>2016-12-19</td>\n",
       "      <td>1.4500</td>\n",
       "      <td>14646</td>\n",
       "      <td>Netherlands</td>\n",
       "    </tr>\n",
       "    <tr>\n",
       "      <th>40192</th>\n",
       "      <td>539731</td>\n",
       "      <td>84459A</td>\n",
       "      <td>192</td>\n",
       "      <td>2016-12-19</td>\n",
       "      <td>1.2500</td>\n",
       "      <td>14646</td>\n",
       "      <td>Netherlands</td>\n",
       "    </tr>\n",
       "    <tr>\n",
       "      <th>40193</th>\n",
       "      <td>539731</td>\n",
       "      <td>84459B</td>\n",
       "      <td>192</td>\n",
       "      <td>2016-12-19</td>\n",
       "      <td>1.2500</td>\n",
       "      <td>14646</td>\n",
       "      <td>Netherlands</td>\n",
       "    </tr>\n",
       "    <tr>\n",
       "      <th>40194</th>\n",
       "      <td>539731</td>\n",
       "      <td>22859</td>\n",
       "      <td>108</td>\n",
       "      <td>2016-12-19</td>\n",
       "      <td>1.4500</td>\n",
       "      <td>14646</td>\n",
       "      <td>Netherlands</td>\n",
       "    </tr>\n",
       "  </tbody>\n",
       "</table>\n",
       "</div>"
      ],
      "text/plain": [
       "      invoice_no stock_code  quantity invoice_date  unit_price  customer_id  \\\n",
       "37952     539491      21981        12   2016-12-18      0.2900        14646   \n",
       "37953     539491      21986        12   2016-12-18      0.2900        14646   \n",
       "37954     539491      22720         2   2016-12-18      4.9500        14646   \n",
       "37955     539491      21931         1   2016-12-18      1.9500        14646   \n",
       "37956     539491      22613         2   2016-12-18      0.8500        14646   \n",
       "37957     539491      20751         1   2016-12-18      2.1000        14646   \n",
       "37958     539491      21246         2   2016-12-18      4.9500        14646   \n",
       "37959     539491      22960         1   2016-12-18      4.2500        14646   \n",
       "37960     539491      22355         2   2016-12-18      0.8500        14646   \n",
       "37961     539491      21123         2   2016-12-18      1.2500        14646   \n",
       "37962     539491     47599A         2   2016-12-18      2.1000        14646   \n",
       "37963     539491      22331         2   2016-12-18      1.6500        14646   \n",
       "37964     539491      22333         2   2016-12-18      1.6500        14646   \n",
       "37965     539491      22315         1   2016-12-18      1.2500        14646   \n",
       "37966     539491      22445         1   2016-12-18      2.9500        14646   \n",
       "40190     539731      21212       240   2016-12-19      0.4200        14646   \n",
       "40191     539731      22858       108   2016-12-19      1.4500        14646   \n",
       "40192     539731     84459A       192   2016-12-19      1.2500        14646   \n",
       "40193     539731     84459B       192   2016-12-19      1.2500        14646   \n",
       "40194     539731      22859       108   2016-12-19      1.4500        14646   \n",
       "\n",
       "           country  \n",
       "37952  Netherlands  \n",
       "37953  Netherlands  \n",
       "37954  Netherlands  \n",
       "37955  Netherlands  \n",
       "37956  Netherlands  \n",
       "37957  Netherlands  \n",
       "37958  Netherlands  \n",
       "37959  Netherlands  \n",
       "37960  Netherlands  \n",
       "37961  Netherlands  \n",
       "37962  Netherlands  \n",
       "37963  Netherlands  \n",
       "37964  Netherlands  \n",
       "37965  Netherlands  \n",
       "37966  Netherlands  \n",
       "40190  Netherlands  \n",
       "40191  Netherlands  \n",
       "40192  Netherlands  \n",
       "40193  Netherlands  \n",
       "40194  Netherlands  "
      ]
     },
     "execution_count": 38,
     "metadata": {},
     "output_type": "execute_result"
    }
   ],
   "source": [
    "df3[df3['customer_id']==14646].head(20)"
   ]
  },
  {
   "cell_type": "markdown",
   "id": "63845c5a",
   "metadata": {},
   "source": [
    "**- What appears is a recurring customer who buys large quantities in small amounts**"
   ]
  },
  {
   "cell_type": "markdown",
   "id": "619e99f2",
   "metadata": {},
   "source": [
    "### AVG Ticket"
   ]
  },
  {
   "cell_type": "markdown",
   "id": "4bd52855",
   "metadata": {},
   "source": [
    "The AVG ticket also showed an outlier.\n",
    "It is noticed that it is the same as the previous customer, therefore, the decision is to exclude this id, as it generates an outlier and distorts the data information."
   ]
  },
  {
   "cell_type": "code",
   "execution_count": 39,
   "id": "a34f6362",
   "metadata": {
    "ExecuteTime": {
     "end_time": "2023-06-08T11:38:38.043695Z",
     "start_time": "2023-06-08T11:38:37.952039Z"
    }
   },
   "outputs": [],
   "source": [
    "#df4[df4['avg_ticket']==56157.5]"
   ]
  },
  {
   "cell_type": "markdown",
   "id": "7c2d8dda",
   "metadata": {},
   "source": [
    "### Frequency"
   ]
  },
  {
   "cell_type": "code",
   "execution_count": 40,
   "id": "e62ea49c",
   "metadata": {
    "ExecuteTime": {
     "end_time": "2023-06-08T11:38:38.196525Z",
     "start_time": "2023-06-08T11:38:38.046694Z"
    }
   },
   "outputs": [
    {
     "data": {
      "text/html": [
       "<div>\n",
       "<style scoped>\n",
       "    .dataframe tbody tr th:only-of-type {\n",
       "        vertical-align: middle;\n",
       "    }\n",
       "\n",
       "    .dataframe tbody tr th {\n",
       "        vertical-align: top;\n",
       "    }\n",
       "\n",
       "    .dataframe thead th {\n",
       "        text-align: right;\n",
       "    }\n",
       "</style>\n",
       "<table border=\"1\" class=\"dataframe\">\n",
       "  <thead>\n",
       "    <tr style=\"text-align: right;\">\n",
       "      <th></th>\n",
       "      <th>customer_id</th>\n",
       "      <th>gross_revenue</th>\n",
       "      <th>recency_days</th>\n",
       "      <th>qty_invoice_no</th>\n",
       "      <th>qty_items</th>\n",
       "      <th>qty_products</th>\n",
       "      <th>avg_ticket</th>\n",
       "      <th>avg_recency_days</th>\n",
       "      <th>frequency</th>\n",
       "      <th>qtde_returns</th>\n",
       "      <th>avg_basket_size</th>\n",
       "      <th>avg_unique_basket_size</th>\n",
       "    </tr>\n",
       "  </thead>\n",
       "  <tbody>\n",
       "    <tr>\n",
       "      <th>0</th>\n",
       "      <td>17850</td>\n",
       "      <td>5391.2100</td>\n",
       "      <td>372.0000</td>\n",
       "      <td>34.0000</td>\n",
       "      <td>1733.0000</td>\n",
       "      <td>297.0000</td>\n",
       "      <td>18.1522</td>\n",
       "      <td>-35.5000</td>\n",
       "      <td>17.0000</td>\n",
       "      <td>40.0000</td>\n",
       "      <td>50.9706</td>\n",
       "      <td>0.6176</td>\n",
       "    </tr>\n",
       "  </tbody>\n",
       "</table>\n",
       "</div>"
      ],
      "text/plain": [
       "   customer_id  gross_revenue  recency_days  qty_invoice_no  qty_items  \\\n",
       "0        17850      5391.2100      372.0000         34.0000  1733.0000   \n",
       "\n",
       "   qty_products  avg_ticket  avg_recency_days  frequency  qtde_returns  \\\n",
       "0      297.0000     18.1522          -35.5000    17.0000       40.0000   \n",
       "\n",
       "   avg_basket_size  avg_unique_basket_size  \n",
       "0          50.9706                  0.6176  "
      ]
     },
     "execution_count": 40,
     "metadata": {},
     "output_type": "execute_result"
    }
   ],
   "source": [
    "df4[df4['frequency']==17]"
   ]
  },
  {
   "cell_type": "code",
   "execution_count": 41,
   "id": "fb64a660",
   "metadata": {
    "ExecuteTime": {
     "end_time": "2023-06-08T11:38:38.382665Z",
     "start_time": "2023-06-08T11:38:38.199490Z"
    }
   },
   "outputs": [
    {
     "data": {
      "text/html": [
       "<div>\n",
       "<style scoped>\n",
       "    .dataframe tbody tr th:only-of-type {\n",
       "        vertical-align: middle;\n",
       "    }\n",
       "\n",
       "    .dataframe tbody tr th {\n",
       "        vertical-align: top;\n",
       "    }\n",
       "\n",
       "    .dataframe thead th {\n",
       "        text-align: right;\n",
       "    }\n",
       "</style>\n",
       "<table border=\"1\" class=\"dataframe\">\n",
       "  <thead>\n",
       "    <tr style=\"text-align: right;\">\n",
       "      <th></th>\n",
       "      <th>invoice_no</th>\n",
       "      <th>stock_code</th>\n",
       "      <th>quantity</th>\n",
       "      <th>invoice_date</th>\n",
       "      <th>unit_price</th>\n",
       "      <th>customer_id</th>\n",
       "      <th>country</th>\n",
       "    </tr>\n",
       "  </thead>\n",
       "  <tbody>\n",
       "    <tr>\n",
       "      <th>0</th>\n",
       "      <td>536365</td>\n",
       "      <td>85123A</td>\n",
       "      <td>6</td>\n",
       "      <td>2016-11-29</td>\n",
       "      <td>2.5500</td>\n",
       "      <td>17850</td>\n",
       "      <td>United Kingdom</td>\n",
       "    </tr>\n",
       "    <tr>\n",
       "      <th>1</th>\n",
       "      <td>536365</td>\n",
       "      <td>71053</td>\n",
       "      <td>6</td>\n",
       "      <td>2016-11-29</td>\n",
       "      <td>3.3900</td>\n",
       "      <td>17850</td>\n",
       "      <td>United Kingdom</td>\n",
       "    </tr>\n",
       "    <tr>\n",
       "      <th>2</th>\n",
       "      <td>536365</td>\n",
       "      <td>84406B</td>\n",
       "      <td>8</td>\n",
       "      <td>2016-11-29</td>\n",
       "      <td>2.7500</td>\n",
       "      <td>17850</td>\n",
       "      <td>United Kingdom</td>\n",
       "    </tr>\n",
       "    <tr>\n",
       "      <th>3</th>\n",
       "      <td>536365</td>\n",
       "      <td>84029G</td>\n",
       "      <td>6</td>\n",
       "      <td>2016-11-29</td>\n",
       "      <td>3.3900</td>\n",
       "      <td>17850</td>\n",
       "      <td>United Kingdom</td>\n",
       "    </tr>\n",
       "    <tr>\n",
       "      <th>4</th>\n",
       "      <td>536365</td>\n",
       "      <td>84029E</td>\n",
       "      <td>6</td>\n",
       "      <td>2016-11-29</td>\n",
       "      <td>3.3900</td>\n",
       "      <td>17850</td>\n",
       "      <td>United Kingdom</td>\n",
       "    </tr>\n",
       "    <tr>\n",
       "      <th>5</th>\n",
       "      <td>536365</td>\n",
       "      <td>22752</td>\n",
       "      <td>2</td>\n",
       "      <td>2016-11-29</td>\n",
       "      <td>7.6500</td>\n",
       "      <td>17850</td>\n",
       "      <td>United Kingdom</td>\n",
       "    </tr>\n",
       "    <tr>\n",
       "      <th>6</th>\n",
       "      <td>536365</td>\n",
       "      <td>21730</td>\n",
       "      <td>6</td>\n",
       "      <td>2016-11-29</td>\n",
       "      <td>4.2500</td>\n",
       "      <td>17850</td>\n",
       "      <td>United Kingdom</td>\n",
       "    </tr>\n",
       "    <tr>\n",
       "      <th>7</th>\n",
       "      <td>536366</td>\n",
       "      <td>22633</td>\n",
       "      <td>6</td>\n",
       "      <td>2016-11-29</td>\n",
       "      <td>1.8500</td>\n",
       "      <td>17850</td>\n",
       "      <td>United Kingdom</td>\n",
       "    </tr>\n",
       "    <tr>\n",
       "      <th>8</th>\n",
       "      <td>536366</td>\n",
       "      <td>22632</td>\n",
       "      <td>6</td>\n",
       "      <td>2016-11-29</td>\n",
       "      <td>1.8500</td>\n",
       "      <td>17850</td>\n",
       "      <td>United Kingdom</td>\n",
       "    </tr>\n",
       "    <tr>\n",
       "      <th>47</th>\n",
       "      <td>536372</td>\n",
       "      <td>22632</td>\n",
       "      <td>6</td>\n",
       "      <td>2016-11-29</td>\n",
       "      <td>1.8500</td>\n",
       "      <td>17850</td>\n",
       "      <td>United Kingdom</td>\n",
       "    </tr>\n",
       "    <tr>\n",
       "      <th>48</th>\n",
       "      <td>536372</td>\n",
       "      <td>22633</td>\n",
       "      <td>6</td>\n",
       "      <td>2016-11-29</td>\n",
       "      <td>1.8500</td>\n",
       "      <td>17850</td>\n",
       "      <td>United Kingdom</td>\n",
       "    </tr>\n",
       "    <tr>\n",
       "      <th>49</th>\n",
       "      <td>536373</td>\n",
       "      <td>85123A</td>\n",
       "      <td>6</td>\n",
       "      <td>2016-11-29</td>\n",
       "      <td>2.5500</td>\n",
       "      <td>17850</td>\n",
       "      <td>United Kingdom</td>\n",
       "    </tr>\n",
       "    <tr>\n",
       "      <th>50</th>\n",
       "      <td>536373</td>\n",
       "      <td>71053</td>\n",
       "      <td>6</td>\n",
       "      <td>2016-11-29</td>\n",
       "      <td>3.3900</td>\n",
       "      <td>17850</td>\n",
       "      <td>United Kingdom</td>\n",
       "    </tr>\n",
       "    <tr>\n",
       "      <th>51</th>\n",
       "      <td>536373</td>\n",
       "      <td>84406B</td>\n",
       "      <td>8</td>\n",
       "      <td>2016-11-29</td>\n",
       "      <td>2.7500</td>\n",
       "      <td>17850</td>\n",
       "      <td>United Kingdom</td>\n",
       "    </tr>\n",
       "    <tr>\n",
       "      <th>52</th>\n",
       "      <td>536373</td>\n",
       "      <td>20679</td>\n",
       "      <td>6</td>\n",
       "      <td>2016-11-29</td>\n",
       "      <td>4.9500</td>\n",
       "      <td>17850</td>\n",
       "      <td>United Kingdom</td>\n",
       "    </tr>\n",
       "    <tr>\n",
       "      <th>53</th>\n",
       "      <td>536373</td>\n",
       "      <td>37370</td>\n",
       "      <td>6</td>\n",
       "      <td>2016-11-29</td>\n",
       "      <td>1.0600</td>\n",
       "      <td>17850</td>\n",
       "      <td>United Kingdom</td>\n",
       "    </tr>\n",
       "    <tr>\n",
       "      <th>54</th>\n",
       "      <td>536373</td>\n",
       "      <td>21871</td>\n",
       "      <td>6</td>\n",
       "      <td>2016-11-29</td>\n",
       "      <td>1.0600</td>\n",
       "      <td>17850</td>\n",
       "      <td>United Kingdom</td>\n",
       "    </tr>\n",
       "    <tr>\n",
       "      <th>55</th>\n",
       "      <td>536373</td>\n",
       "      <td>21071</td>\n",
       "      <td>6</td>\n",
       "      <td>2016-11-29</td>\n",
       "      <td>1.0600</td>\n",
       "      <td>17850</td>\n",
       "      <td>United Kingdom</td>\n",
       "    </tr>\n",
       "    <tr>\n",
       "      <th>56</th>\n",
       "      <td>536373</td>\n",
       "      <td>21068</td>\n",
       "      <td>6</td>\n",
       "      <td>2016-11-29</td>\n",
       "      <td>1.0600</td>\n",
       "      <td>17850</td>\n",
       "      <td>United Kingdom</td>\n",
       "    </tr>\n",
       "    <tr>\n",
       "      <th>57</th>\n",
       "      <td>536373</td>\n",
       "      <td>82483</td>\n",
       "      <td>2</td>\n",
       "      <td>2016-11-29</td>\n",
       "      <td>4.9500</td>\n",
       "      <td>17850</td>\n",
       "      <td>United Kingdom</td>\n",
       "    </tr>\n",
       "  </tbody>\n",
       "</table>\n",
       "</div>"
      ],
      "text/plain": [
       "   invoice_no stock_code  quantity invoice_date  unit_price  customer_id  \\\n",
       "0      536365     85123A         6   2016-11-29      2.5500        17850   \n",
       "1      536365      71053         6   2016-11-29      3.3900        17850   \n",
       "2      536365     84406B         8   2016-11-29      2.7500        17850   \n",
       "3      536365     84029G         6   2016-11-29      3.3900        17850   \n",
       "4      536365     84029E         6   2016-11-29      3.3900        17850   \n",
       "5      536365      22752         2   2016-11-29      7.6500        17850   \n",
       "6      536365      21730         6   2016-11-29      4.2500        17850   \n",
       "7      536366      22633         6   2016-11-29      1.8500        17850   \n",
       "8      536366      22632         6   2016-11-29      1.8500        17850   \n",
       "47     536372      22632         6   2016-11-29      1.8500        17850   \n",
       "48     536372      22633         6   2016-11-29      1.8500        17850   \n",
       "49     536373     85123A         6   2016-11-29      2.5500        17850   \n",
       "50     536373      71053         6   2016-11-29      3.3900        17850   \n",
       "51     536373     84406B         8   2016-11-29      2.7500        17850   \n",
       "52     536373      20679         6   2016-11-29      4.9500        17850   \n",
       "53     536373      37370         6   2016-11-29      1.0600        17850   \n",
       "54     536373      21871         6   2016-11-29      1.0600        17850   \n",
       "55     536373      21071         6   2016-11-29      1.0600        17850   \n",
       "56     536373      21068         6   2016-11-29      1.0600        17850   \n",
       "57     536373      82483         2   2016-11-29      4.9500        17850   \n",
       "\n",
       "           country  \n",
       "0   United Kingdom  \n",
       "1   United Kingdom  \n",
       "2   United Kingdom  \n",
       "3   United Kingdom  \n",
       "4   United Kingdom  \n",
       "5   United Kingdom  \n",
       "6   United Kingdom  \n",
       "7   United Kingdom  \n",
       "8   United Kingdom  \n",
       "47  United Kingdom  \n",
       "48  United Kingdom  \n",
       "49  United Kingdom  \n",
       "50  United Kingdom  \n",
       "51  United Kingdom  \n",
       "52  United Kingdom  \n",
       "53  United Kingdom  \n",
       "54  United Kingdom  \n",
       "55  United Kingdom  \n",
       "56  United Kingdom  \n",
       "57  United Kingdom  "
      ]
     },
     "execution_count": 41,
     "metadata": {},
     "output_type": "execute_result"
    }
   ],
   "source": [
    "df3[df3['customer_id']==17850].head(20)"
   ]
  },
  {
   "cell_type": "markdown",
   "id": "bf75e490",
   "metadata": {},
   "source": [
    "The graph shows that the distribution is affected by extreme values. Therefore, most customers spent less than 1.00 during the period under review."
   ]
  },
  {
   "cell_type": "markdown",
   "id": "ee494b9e",
   "metadata": {
    "ExecuteTime": {
     "end_time": "2023-05-10T13:18:53.684913Z",
     "start_time": "2023-05-10T13:18:52.589574Z"
    }
   },
   "source": [
    "### AVG Basket size"
   ]
  },
  {
   "cell_type": "markdown",
   "id": "b649b39c",
   "metadata": {},
   "source": [
    "- In the graph, you can see that most purchases were made in the last 100 days\n",
    "- But there are customers who have not made purchases for 373 days"
   ]
  },
  {
   "cell_type": "code",
   "execution_count": 42,
   "id": "6225da70",
   "metadata": {
    "ExecuteTime": {
     "end_time": "2023-06-08T11:38:38.553734Z",
     "start_time": "2023-06-08T11:38:38.385667Z"
    }
   },
   "outputs": [],
   "source": [
    "#df4[df4['avg_basket_size']==40498.5]"
   ]
  },
  {
   "cell_type": "markdown",
   "id": "7dade44f",
   "metadata": {},
   "source": [
    "## Bivariate Analysis"
   ]
  },
  {
   "cell_type": "markdown",
   "id": "c072879e",
   "metadata": {},
   "source": [
    "- analyze a feature in relation to all others"
   ]
  },
  {
   "cell_type": "code",
   "execution_count": 43,
   "id": "f376b638",
   "metadata": {
    "ExecuteTime": {
     "end_time": "2023-06-08T11:38:38.769789Z",
     "start_time": "2023-06-08T11:38:38.556740Z"
    }
   },
   "outputs": [],
   "source": [
    "#cols = ['customer_id']\n",
    "#df4 = df3.copy()"
   ]
  },
  {
   "cell_type": "code",
   "execution_count": 44,
   "id": "b6591d95",
   "metadata": {
    "ExecuteTime": {
     "end_time": "2023-06-08T11:38:39.016780Z",
     "start_time": "2023-06-08T11:38:38.772817Z"
    }
   },
   "outputs": [],
   "source": [
    "#plt.figure( figsize = (25, 12))\n",
    "#sns.pairplot(df4);"
   ]
  },
  {
   "cell_type": "markdown",
   "id": "2baea053",
   "metadata": {},
   "source": [
    "# Feature Selection"
   ]
  },
  {
   "cell_type": "code",
   "execution_count": 61,
   "id": "6c64ba9a",
   "metadata": {
    "ExecuteTime": {
     "end_time": "2023-06-08T11:50:52.941688Z",
     "start_time": "2023-06-08T11:50:52.919727Z"
    }
   },
   "outputs": [],
   "source": [
    "cols_selected = ['customer_id', 'gross_revenue','recency_days', 'qty_products', 'frequency', 'qtde_returns']\n",
    "df43 = df4[cols_selected].copy()"
   ]
  },
  {
   "cell_type": "markdown",
   "id": "53765013",
   "metadata": {},
   "source": [
    "# Data Preparation"
   ]
  },
  {
   "cell_type": "code",
   "execution_count": 62,
   "id": "2cab4f56",
   "metadata": {
    "ExecuteTime": {
     "end_time": "2023-06-08T11:50:53.116688Z",
     "start_time": "2023-06-08T11:50:52.945691Z"
    }
   },
   "outputs": [],
   "source": [
    "mm = pp.MinMaxScaler()\n",
    "\n",
    "df43['gross_revenue']         =  mm.fit_transform(df43[['gross_revenue']])\n",
    "df43['recency_days']          =  mm.fit_transform(df43[['recency_days']])\n",
    "df43['qty_products']         =  mm.fit_transform(df43[['qty_products']])\n",
    "df43['frequency']             =  mm.fit_transform(df43[['frequency']])\n",
    "df43['qtde_returns']          =  mm.fit_transform(df43[['qtde_returns']])"
   ]
  },
  {
   "cell_type": "code",
   "execution_count": 63,
   "id": "80f7d675",
   "metadata": {
    "ExecuteTime": {
     "end_time": "2023-06-08T11:50:53.242862Z",
     "start_time": "2023-06-08T11:50:53.119693Z"
    }
   },
   "outputs": [
    {
     "data": {
      "text/html": [
       "<div>\n",
       "<style scoped>\n",
       "    .dataframe tbody tr th:only-of-type {\n",
       "        vertical-align: middle;\n",
       "    }\n",
       "\n",
       "    .dataframe tbody tr th {\n",
       "        vertical-align: top;\n",
       "    }\n",
       "\n",
       "    .dataframe thead th {\n",
       "        text-align: right;\n",
       "    }\n",
       "</style>\n",
       "<table border=\"1\" class=\"dataframe\">\n",
       "  <thead>\n",
       "    <tr style=\"text-align: right;\">\n",
       "      <th></th>\n",
       "      <th>customer_id</th>\n",
       "      <th>gross_revenue</th>\n",
       "      <th>recency_days</th>\n",
       "      <th>qty_products</th>\n",
       "      <th>frequency</th>\n",
       "      <th>qtde_returns</th>\n",
       "    </tr>\n",
       "  </thead>\n",
       "  <tbody>\n",
       "    <tr>\n",
       "      <th>0</th>\n",
       "      <td>17850</td>\n",
       "      <td>0.0193</td>\n",
       "      <td>0.9973</td>\n",
       "      <td>0.0378</td>\n",
       "      <td>1.0000</td>\n",
       "      <td>0.0044</td>\n",
       "    </tr>\n",
       "    <tr>\n",
       "      <th>1</th>\n",
       "      <td>13047</td>\n",
       "      <td>0.0116</td>\n",
       "      <td>0.1501</td>\n",
       "      <td>0.0217</td>\n",
       "      <td>0.0013</td>\n",
       "      <td>0.0039</td>\n",
       "    </tr>\n",
       "    <tr>\n",
       "      <th>2</th>\n",
       "      <td>12583</td>\n",
       "      <td>0.0240</td>\n",
       "      <td>0.0054</td>\n",
       "      <td>0.0295</td>\n",
       "      <td>0.0021</td>\n",
       "      <td>0.0055</td>\n",
       "    </tr>\n",
       "    <tr>\n",
       "      <th>3</th>\n",
       "      <td>13748</td>\n",
       "      <td>0.0034</td>\n",
       "      <td>0.2547</td>\n",
       "      <td>0.0034</td>\n",
       "      <td>0.0007</td>\n",
       "      <td>0.0000</td>\n",
       "    </tr>\n",
       "    <tr>\n",
       "      <th>4</th>\n",
       "      <td>15100</td>\n",
       "      <td>0.0031</td>\n",
       "      <td>0.8928</td>\n",
       "      <td>0.0003</td>\n",
       "      <td>0.0040</td>\n",
       "      <td>0.0024</td>\n",
       "    </tr>\n",
       "  </tbody>\n",
       "</table>\n",
       "</div>"
      ],
      "text/plain": [
       "   customer_id  gross_revenue  recency_days  qty_products  frequency  \\\n",
       "0        17850         0.0193        0.9973        0.0378     1.0000   \n",
       "1        13047         0.0116        0.1501        0.0217     0.0013   \n",
       "2        12583         0.0240        0.0054        0.0295     0.0021   \n",
       "3        13748         0.0034        0.2547        0.0034     0.0007   \n",
       "4        15100         0.0031        0.8928        0.0003     0.0040   \n",
       "\n",
       "   qtde_returns  \n",
       "0        0.0044  \n",
       "1        0.0039  \n",
       "2        0.0055  \n",
       "3        0.0000  \n",
       "4        0.0024  "
      ]
     },
     "execution_count": 63,
     "metadata": {},
     "output_type": "execute_result"
    }
   ],
   "source": [
    "X = df43.copy()\n",
    "X.head()"
   ]
  },
  {
   "cell_type": "markdown",
   "id": "498cac9f",
   "metadata": {},
   "source": [
    "## Estudo do Espaco"
   ]
  },
  {
   "cell_type": "markdown",
   "id": "91938179",
   "metadata": {},
   "source": [
    "## PCA"
   ]
  },
  {
   "cell_type": "markdown",
   "id": "33a15483",
   "metadata": {},
   "source": [
    "PCA is a technique that simplifies a dataset by finding linear combinations of the original features, called principal components. It helps identify patterns and reduce data dimensionality while retaining the most important information.\n"
   ]
  },
  {
   "cell_type": "code",
   "execution_count": 139,
   "id": "5b4307e6",
   "metadata": {
    "ExecuteTime": {
     "end_time": "2023-06-08T12:01:21.742034Z",
     "start_time": "2023-06-08T12:01:21.723039Z"
    }
   },
   "outputs": [],
   "source": [
    "#pca = dd.PCA( n_components = X.shape[1])\n",
    "#\n",
    "#\n",
    "#principal_components = pca.fit_transform(X)\n",
    "#\n",
    "## plot explained variables\n",
    "#features = range(pca.n_components_)\n",
    "#\n",
    "#plt.bar(features, pca.explained_variance_ratio_, color = 'black') #quais componentes principais com a maior variação de dados\n",
    "#\n",
    "## pca component\n",
    "#df_pca = pd.DataFrame( principal_components )"
   ]
  },
  {
   "cell_type": "markdown",
   "id": "a7dffd72",
   "metadata": {},
   "source": [
    "### UMAP"
   ]
  },
  {
   "cell_type": "markdown",
   "id": "fe9ebe65",
   "metadata": {},
   "source": [
    "UMAP is a dimensionality reduction algorithm that is based on the concept of neighborhood approximations, where each point is compared to its close neighbors to build a graph. This graph is then optimized to preserve the original structure of the data in a smaller dimension space.\n"
   ]
  },
  {
   "cell_type": "code",
   "execution_count": 140,
   "id": "9f9caea2",
   "metadata": {
    "ExecuteTime": {
     "end_time": "2023-06-08T12:01:35.421538Z",
     "start_time": "2023-06-08T12:01:35.409537Z"
    }
   },
   "outputs": [],
   "source": [
    "#reducer = umap.UMAP(random_state = 42)\n",
    "#embedding = reducer.fit_transform(X) #gera o espaço projetado - embedding é a projeção gerada em outro espaço\n",
    "#\n",
    "##embedding\n",
    "#df_pca['embedding_X'] = embedding[:, 0]\n",
    "#df_pca['embedding_y'] = embedding[:, 1]\n",
    "#\n",
    "##plot UMAP - cluster projetado de alta dimencionalidade\n",
    "#sns.scatterplot(x = 'embedding_X', y = 'embedding_y',\n",
    "#                data = df_pca);"
   ]
  },
  {
   "cell_type": "markdown",
   "id": "ef6f8019",
   "metadata": {},
   "source": [
    "### Tree-Based Embedding"
   ]
  },
  {
   "cell_type": "markdown",
   "id": "51a1f156",
   "metadata": {},
   "source": [
    "Tree-Based Embedding is a technique that uses a decision tree to simplify complex data. It helps us to group people or objects based on their characteristics, providing a clearer and easier to understand representation.\n",
    "This technique is especially useful when we have many characteristics and want to understand how they are related to group people or objects more clearly."
   ]
  },
  {
   "cell_type": "code",
   "execution_count": 67,
   "id": "49af85c5",
   "metadata": {
    "ExecuteTime": {
     "end_time": "2023-06-08T11:51:10.145492Z",
     "start_time": "2023-06-08T11:51:08.148979Z"
    }
   },
   "outputs": [
    {
     "data": {
      "text/html": [
       "<style>#sk-container-id-2 {color: black;background-color: white;}#sk-container-id-2 pre{padding: 0;}#sk-container-id-2 div.sk-toggleable {background-color: white;}#sk-container-id-2 label.sk-toggleable__label {cursor: pointer;display: block;width: 100%;margin-bottom: 0;padding: 0.3em;box-sizing: border-box;text-align: center;}#sk-container-id-2 label.sk-toggleable__label-arrow:before {content: \"▸\";float: left;margin-right: 0.25em;color: #696969;}#sk-container-id-2 label.sk-toggleable__label-arrow:hover:before {color: black;}#sk-container-id-2 div.sk-estimator:hover label.sk-toggleable__label-arrow:before {color: black;}#sk-container-id-2 div.sk-toggleable__content {max-height: 0;max-width: 0;overflow: hidden;text-align: left;background-color: #f0f8ff;}#sk-container-id-2 div.sk-toggleable__content pre {margin: 0.2em;color: black;border-radius: 0.25em;background-color: #f0f8ff;}#sk-container-id-2 input.sk-toggleable__control:checked~div.sk-toggleable__content {max-height: 200px;max-width: 100%;overflow: auto;}#sk-container-id-2 input.sk-toggleable__control:checked~label.sk-toggleable__label-arrow:before {content: \"▾\";}#sk-container-id-2 div.sk-estimator input.sk-toggleable__control:checked~label.sk-toggleable__label {background-color: #d4ebff;}#sk-container-id-2 div.sk-label input.sk-toggleable__control:checked~label.sk-toggleable__label {background-color: #d4ebff;}#sk-container-id-2 input.sk-hidden--visually {border: 0;clip: rect(1px 1px 1px 1px);clip: rect(1px, 1px, 1px, 1px);height: 1px;margin: -1px;overflow: hidden;padding: 0;position: absolute;width: 1px;}#sk-container-id-2 div.sk-estimator {font-family: monospace;background-color: #f0f8ff;border: 1px dotted black;border-radius: 0.25em;box-sizing: border-box;margin-bottom: 0.5em;}#sk-container-id-2 div.sk-estimator:hover {background-color: #d4ebff;}#sk-container-id-2 div.sk-parallel-item::after {content: \"\";width: 100%;border-bottom: 1px solid gray;flex-grow: 1;}#sk-container-id-2 div.sk-label:hover label.sk-toggleable__label {background-color: #d4ebff;}#sk-container-id-2 div.sk-serial::before {content: \"\";position: absolute;border-left: 1px solid gray;box-sizing: border-box;top: 0;bottom: 0;left: 50%;z-index: 0;}#sk-container-id-2 div.sk-serial {display: flex;flex-direction: column;align-items: center;background-color: white;padding-right: 0.2em;padding-left: 0.2em;position: relative;}#sk-container-id-2 div.sk-item {position: relative;z-index: 1;}#sk-container-id-2 div.sk-parallel {display: flex;align-items: stretch;justify-content: center;background-color: white;position: relative;}#sk-container-id-2 div.sk-item::before, #sk-container-id-2 div.sk-parallel-item::before {content: \"\";position: absolute;border-left: 1px solid gray;box-sizing: border-box;top: 0;bottom: 0;left: 50%;z-index: -1;}#sk-container-id-2 div.sk-parallel-item {display: flex;flex-direction: column;z-index: 1;position: relative;background-color: white;}#sk-container-id-2 div.sk-parallel-item:first-child::after {align-self: flex-end;width: 50%;}#sk-container-id-2 div.sk-parallel-item:last-child::after {align-self: flex-start;width: 50%;}#sk-container-id-2 div.sk-parallel-item:only-child::after {width: 0;}#sk-container-id-2 div.sk-dashed-wrapped {border: 1px dashed gray;margin: 0 0.4em 0.5em 0.4em;box-sizing: border-box;padding-bottom: 0.4em;background-color: white;}#sk-container-id-2 div.sk-label label {font-family: monospace;font-weight: bold;display: inline-block;line-height: 1.2em;}#sk-container-id-2 div.sk-label-container {text-align: center;}#sk-container-id-2 div.sk-container {/* jupyter's `normalize.less` sets `[hidden] { display: none; }` but bootstrap.min.css set `[hidden] { display: none !important; }` so we also need the `!important` here to be able to override the default hidden behavior on the sphinx rendered scikit-learn.org. See: https://github.com/scikit-learn/scikit-learn/issues/21755 */display: inline-block !important;position: relative;}#sk-container-id-2 div.sk-text-repr-fallback {display: none;}</style><div id=\"sk-container-id-2\" class=\"sk-top-container\"><div class=\"sk-text-repr-fallback\"><pre>RandomForestRegressor(random_state=42)</pre><b>In a Jupyter environment, please rerun this cell to show the HTML representation or trust the notebook. <br />On GitHub, the HTML representation is unable to render, please try loading this page with nbviewer.org.</b></div><div class=\"sk-container\" hidden><div class=\"sk-item\"><div class=\"sk-estimator sk-toggleable\"><input class=\"sk-toggleable__control sk-hidden--visually\" id=\"sk-estimator-id-2\" type=\"checkbox\" checked><label for=\"sk-estimator-id-2\" class=\"sk-toggleable__label sk-toggleable__label-arrow\">RandomForestRegressor</label><div class=\"sk-toggleable__content\"><pre>RandomForestRegressor(random_state=42)</pre></div></div></div></div></div>"
      ],
      "text/plain": [
       "RandomForestRegressor(random_state=42)"
      ]
     },
     "execution_count": 67,
     "metadata": {},
     "output_type": "execute_result"
    }
   ],
   "source": [
    "# training dataset\n",
    "\n",
    "X = df43.drop(columns = ['customer_id', 'gross_revenue'], axis = 1)\n",
    "y = df43['gross_revenue']\n",
    "\n",
    "# model definition\n",
    "rf_model = en.RandomForestRegressor(n_estimators = 100, random_state = 42)\n",
    "\n",
    "# model training\n",
    "rf_model.fit(X,y)"
   ]
  },
  {
   "cell_type": "code",
   "execution_count": 68,
   "id": "9957f55c",
   "metadata": {
    "ExecuteTime": {
     "end_time": "2023-06-08T11:51:10.261711Z",
     "start_time": "2023-06-08T11:51:10.149496Z"
    }
   },
   "outputs": [
    {
     "data": {
      "text/html": [
       "<div>\n",
       "<style scoped>\n",
       "    .dataframe tbody tr th:only-of-type {\n",
       "        vertical-align: middle;\n",
       "    }\n",
       "\n",
       "    .dataframe tbody tr th {\n",
       "        vertical-align: top;\n",
       "    }\n",
       "\n",
       "    .dataframe thead th {\n",
       "        text-align: right;\n",
       "    }\n",
       "</style>\n",
       "<table border=\"1\" class=\"dataframe\">\n",
       "  <thead>\n",
       "    <tr style=\"text-align: right;\">\n",
       "      <th></th>\n",
       "      <th>0</th>\n",
       "      <th>1</th>\n",
       "      <th>2</th>\n",
       "      <th>3</th>\n",
       "      <th>4</th>\n",
       "      <th>5</th>\n",
       "      <th>6</th>\n",
       "      <th>7</th>\n",
       "      <th>8</th>\n",
       "      <th>9</th>\n",
       "      <th>...</th>\n",
       "      <th>90</th>\n",
       "      <th>91</th>\n",
       "      <th>92</th>\n",
       "      <th>93</th>\n",
       "      <th>94</th>\n",
       "      <th>95</th>\n",
       "      <th>96</th>\n",
       "      <th>97</th>\n",
       "      <th>98</th>\n",
       "      <th>99</th>\n",
       "    </tr>\n",
       "  </thead>\n",
       "  <tbody>\n",
       "    <tr>\n",
       "      <th>0</th>\n",
       "      <td>3764</td>\n",
       "      <td>3360</td>\n",
       "      <td>3716</td>\n",
       "      <td>3462</td>\n",
       "      <td>3593</td>\n",
       "      <td>3661</td>\n",
       "      <td>3641</td>\n",
       "      <td>3595</td>\n",
       "      <td>3598</td>\n",
       "      <td>3431</td>\n",
       "      <td>...</td>\n",
       "      <td>3469</td>\n",
       "      <td>3670</td>\n",
       "      <td>3644</td>\n",
       "      <td>3689</td>\n",
       "      <td>3594</td>\n",
       "      <td>3676</td>\n",
       "      <td>3565</td>\n",
       "      <td>3642</td>\n",
       "      <td>3679</td>\n",
       "      <td>3611</td>\n",
       "    </tr>\n",
       "    <tr>\n",
       "      <th>1</th>\n",
       "      <td>3306</td>\n",
       "      <td>3004</td>\n",
       "      <td>3429</td>\n",
       "      <td>3361</td>\n",
       "      <td>3234</td>\n",
       "      <td>3282</td>\n",
       "      <td>3206</td>\n",
       "      <td>3444</td>\n",
       "      <td>3464</td>\n",
       "      <td>3332</td>\n",
       "      <td>...</td>\n",
       "      <td>3333</td>\n",
       "      <td>3014</td>\n",
       "      <td>3294</td>\n",
       "      <td>2997</td>\n",
       "      <td>3263</td>\n",
       "      <td>3226</td>\n",
       "      <td>3333</td>\n",
       "      <td>3063</td>\n",
       "      <td>3107</td>\n",
       "      <td>3436</td>\n",
       "    </tr>\n",
       "    <tr>\n",
       "      <th>2</th>\n",
       "      <td>3418</td>\n",
       "      <td>3331</td>\n",
       "      <td>3492</td>\n",
       "      <td>3441</td>\n",
       "      <td>3259</td>\n",
       "      <td>3397</td>\n",
       "      <td>3298</td>\n",
       "      <td>3608</td>\n",
       "      <td>3547</td>\n",
       "      <td>3321</td>\n",
       "      <td>...</td>\n",
       "      <td>3429</td>\n",
       "      <td>3193</td>\n",
       "      <td>3323</td>\n",
       "      <td>3604</td>\n",
       "      <td>3258</td>\n",
       "      <td>3345</td>\n",
       "      <td>3414</td>\n",
       "      <td>3617</td>\n",
       "      <td>3587</td>\n",
       "      <td>3691</td>\n",
       "    </tr>\n",
       "    <tr>\n",
       "      <th>3</th>\n",
       "      <td>1246</td>\n",
       "      <td>1100</td>\n",
       "      <td>1542</td>\n",
       "      <td>514</td>\n",
       "      <td>346</td>\n",
       "      <td>1239</td>\n",
       "      <td>914</td>\n",
       "      <td>961</td>\n",
       "      <td>369</td>\n",
       "      <td>376</td>\n",
       "      <td>...</td>\n",
       "      <td>1140</td>\n",
       "      <td>570</td>\n",
       "      <td>856</td>\n",
       "      <td>337</td>\n",
       "      <td>1029</td>\n",
       "      <td>846</td>\n",
       "      <td>890</td>\n",
       "      <td>1578</td>\n",
       "      <td>1276</td>\n",
       "      <td>485</td>\n",
       "    </tr>\n",
       "    <tr>\n",
       "      <th>4</th>\n",
       "      <td>512</td>\n",
       "      <td>367</td>\n",
       "      <td>38</td>\n",
       "      <td>794</td>\n",
       "      <td>736</td>\n",
       "      <td>612</td>\n",
       "      <td>481</td>\n",
       "      <td>480</td>\n",
       "      <td>720</td>\n",
       "      <td>752</td>\n",
       "      <td>...</td>\n",
       "      <td>563</td>\n",
       "      <td>882</td>\n",
       "      <td>541</td>\n",
       "      <td>959</td>\n",
       "      <td>512</td>\n",
       "      <td>469</td>\n",
       "      <td>366</td>\n",
       "      <td>139</td>\n",
       "      <td>755</td>\n",
       "      <td>615</td>\n",
       "    </tr>\n",
       "  </tbody>\n",
       "</table>\n",
       "<p>5 rows × 100 columns</p>\n",
       "</div>"
      ],
      "text/plain": [
       "     0     1     2     3     4     5     6     7     8     9   ...    90  \\\n",
       "0  3764  3360  3716  3462  3593  3661  3641  3595  3598  3431  ...  3469   \n",
       "1  3306  3004  3429  3361  3234  3282  3206  3444  3464  3332  ...  3333   \n",
       "2  3418  3331  3492  3441  3259  3397  3298  3608  3547  3321  ...  3429   \n",
       "3  1246  1100  1542   514   346  1239   914   961   369   376  ...  1140   \n",
       "4   512   367    38   794   736   612   481   480   720   752  ...   563   \n",
       "\n",
       "     91    92    93    94    95    96    97    98    99  \n",
       "0  3670  3644  3689  3594  3676  3565  3642  3679  3611  \n",
       "1  3014  3294  2997  3263  3226  3333  3063  3107  3436  \n",
       "2  3193  3323  3604  3258  3345  3414  3617  3587  3691  \n",
       "3   570   856   337  1029   846   890  1578  1276   485  \n",
       "4   882   541   959   512   469   366   139   755   615  \n",
       "\n",
       "[5 rows x 100 columns]"
      ]
     },
     "execution_count": 68,
     "metadata": {},
     "output_type": "execute_result"
    }
   ],
   "source": [
    "df_leaf = pd.DataFrame(rf_model.apply( X ))\n",
    "\n",
    "df_leaf.head()"
   ]
  },
  {
   "cell_type": "markdown",
   "id": "cef7b13f",
   "metadata": {
    "ExecuteTime": {
     "end_time": "2023-05-29T13:22:45.963054Z",
     "start_time": "2023-05-29T13:22:45.952049Z"
    }
   },
   "source": [
    "- y = number of estimators, number of trees (decision tree each column)\n",
    "- x = customers\n",
    "- xy (points within the matrix) = position of the leaf that the customer fell on each tree"
   ]
  },
  {
   "cell_type": "code",
   "execution_count": 69,
   "id": "9cc260f5",
   "metadata": {
    "ExecuteTime": {
     "end_time": "2023-06-08T11:51:26.147068Z",
     "start_time": "2023-06-08T11:51:10.265711Z"
    }
   },
   "outputs": [
    {
     "data": {
      "image/png": "[encoded data removed]",
      "text/plain": [
       "<Figure size 1500x1000 with 1 Axes>"
      ]
     },
     "metadata": {},
     "output_type": "display_data"
    }
   ],
   "source": [
    "# using UMAP to reduce the space study from 100 to 2\n",
    "reducer = umap.UMAP(random_state = 42)\n",
    "embedding = reducer.fit_transform(df_leaf) #gera o espaço projetado - embedding é a projeção gerada em outro espaço\n",
    "\n",
    "#embedding\n",
    "df_tree = pd.DataFrame()\n",
    "df_tree['embedding_X'] = embedding[:, 0]\n",
    "df_tree['embedding_y'] = embedding[:, 1]\n",
    "\n",
    "#plot UMAP - cluster projetado de alta dimencionalidade\n",
    "sns.scatterplot(x = 'embedding_X', y = 'embedding_y',\n",
    "                data = df_tree);"
   ]
  },
  {
   "cell_type": "markdown",
   "id": "8fb6c5bf",
   "metadata": {},
   "source": [
    "# Hyper Parameter Fine-Tuning"
   ]
  },
  {
   "cell_type": "code",
   "execution_count": 70,
   "id": "eba3bf5b",
   "metadata": {
    "ExecuteTime": {
     "end_time": "2023-06-08T11:51:26.177873Z",
     "start_time": "2023-06-08T11:51:26.154073Z"
    }
   },
   "outputs": [
    {
     "data": {
      "text/html": [
       "<div>\n",
       "<style scoped>\n",
       "    .dataframe tbody tr th:only-of-type {\n",
       "        vertical-align: middle;\n",
       "    }\n",
       "\n",
       "    .dataframe tbody tr th {\n",
       "        vertical-align: top;\n",
       "    }\n",
       "\n",
       "    .dataframe thead th {\n",
       "        text-align: right;\n",
       "    }\n",
       "</style>\n",
       "<table border=\"1\" class=\"dataframe\">\n",
       "  <thead>\n",
       "    <tr style=\"text-align: right;\">\n",
       "      <th></th>\n",
       "      <th>embedding_X</th>\n",
       "      <th>embedding_y</th>\n",
       "    </tr>\n",
       "  </thead>\n",
       "  <tbody>\n",
       "    <tr>\n",
       "      <th>0</th>\n",
       "      <td>11.4913</td>\n",
       "      <td>-8.1539</td>\n",
       "    </tr>\n",
       "    <tr>\n",
       "      <th>1</th>\n",
       "      <td>18.2693</td>\n",
       "      <td>-0.1774</td>\n",
       "    </tr>\n",
       "    <tr>\n",
       "      <th>2</th>\n",
       "      <td>12.1070</td>\n",
       "      <td>-7.5721</td>\n",
       "    </tr>\n",
       "    <tr>\n",
       "      <th>3</th>\n",
       "      <td>-5.5520</td>\n",
       "      <td>17.8015</td>\n",
       "    </tr>\n",
       "    <tr>\n",
       "      <th>4</th>\n",
       "      <td>-3.6493</td>\n",
       "      <td>1.7451</td>\n",
       "    </tr>\n",
       "  </tbody>\n",
       "</table>\n",
       "</div>"
      ],
      "text/plain": [
       "   embedding_X  embedding_y\n",
       "0      11.4913      -8.1539\n",
       "1      18.2693      -0.1774\n",
       "2      12.1070      -7.5721\n",
       "3      -5.5520      17.8015\n",
       "4      -3.6493       1.7451"
      ]
     },
     "execution_count": 70,
     "metadata": {},
     "output_type": "execute_result"
    }
   ],
   "source": [
    "#drop customer_id\n",
    "X = df_tree.copy()\n",
    "X.head()"
   ]
  },
  {
   "cell_type": "markdown",
   "id": "8533b3e6",
   "metadata": {},
   "source": [
    "For a good clustering, we need clusters to have two properties:\n",
    "\n",
    "- Compactness: smallest possible distance between the points of the same cluster.\n",
    "- Separation: greatest possible distance between the points of different clusters.\n",
    "Let's use k-means with 2 metrics:\n",
    "\n",
    "1 - Within-Cluster Sum of Square (WSS) - calculates Compactness\n",
    " \n",
    "2 - Silhouette Score (SS) - calculates Compactness and Separation"
   ]
  },
  {
   "cell_type": "code",
   "execution_count": 71,
   "id": "4d178813",
   "metadata": {
    "ExecuteTime": {
     "end_time": "2023-06-08T11:51:26.317315Z",
     "start_time": "2023-06-08T11:51:26.186877Z"
    }
   },
   "outputs": [
    {
     "data": {
      "text/plain": [
       "array([ 2,  3,  4,  5,  6,  7,  8,  9, 10, 11, 12, 13, 14, 15, 16, 17, 18,\n",
       "       19, 20, 21, 22, 23, 24, 25, 26, 27])"
      ]
     },
     "execution_count": 71,
     "metadata": {},
     "output_type": "execute_result"
    }
   ],
   "source": [
    "#clusters = [2, 3, 4, 5, 6, 7, 8, 9, 10]\n",
    "clusters = np.arange(2,28,1)\n",
    "clusters"
   ]
  },
  {
   "cell_type": "markdown",
   "id": "76523c32",
   "metadata": {},
   "source": [
    "## K-Means"
   ]
  },
  {
   "cell_type": "code",
   "execution_count": 72,
   "id": "725b0201",
   "metadata": {
    "ExecuteTime": {
     "end_time": "2023-06-08T11:51:36.052767Z",
     "start_time": "2023-06-08T11:51:26.320504Z"
    }
   },
   "outputs": [],
   "source": [
    "kmeans_list = []\n",
    "for k in clusters:\n",
    "    #model definition\n",
    "    kmeans_model = c.KMeans( n_clusters=k )\n",
    "\n",
    "    #model training\n",
    "    kmeans_model.fit(X)\n",
    "\n",
    "    #Model predict\n",
    "    kmeans_labels = kmeans_model.predict(X)\n",
    "    #labels: array([1, 5, 5, ..., 5, 3, 5], dtype=int32)\n",
    "        \n",
    "   #model perfomance (SS)\n",
    "    kmeans_sil = m.silhouette_score(X, kmeans_labels, metric='euclidean')\n",
    "    kmeans_list.append(kmeans_sil)"
   ]
  },
  {
   "cell_type": "code",
   "execution_count": 73,
   "id": "434cd5fb",
   "metadata": {
    "ExecuteTime": {
     "end_time": "2023-06-08T11:51:36.464926Z",
     "start_time": "2023-06-08T11:51:36.055747Z"
    }
   },
   "outputs": [
    {
     "data": {
      "image/png": "[encoded data removed]",
      "text/plain": [
       "<Figure size 1500x1000 with 1 Axes>"
      ]
     },
     "metadata": {},
     "output_type": "display_data"
    }
   ],
   "source": [
    "#Silhouette Score\n",
    "plt.plot(clusters, kmeans_list, linestyle='--', marker='o', color='b')\n",
    "plt.xlabel('K');\n",
    "plt.ylabel('Silhouette Score');\n",
    "plt.title('Silhouette Score x K');"
   ]
  },
  {
   "cell_type": "markdown",
   "id": "6dfd51b0",
   "metadata": {},
   "source": [
    "## Gaussian Mixture Model"
   ]
  },
  {
   "cell_type": "code",
   "execution_count": 74,
   "id": "bb5aa2de",
   "metadata": {
    "ExecuteTime": {
     "end_time": "2023-06-08T11:51:46.331860Z",
     "start_time": "2023-06-08T11:51:36.468925Z"
    }
   },
   "outputs": [],
   "source": [
    "gmm_list = []\n",
    "for k in clusters:\n",
    "    #model definition\n",
    "    gmm_model = mx.GaussianMixture(n_components=k)\n",
    "\n",
    "    #model training\n",
    "    gmm_model.fit(X)\n",
    "\n",
    "    #model predict\n",
    "    gmm_labels = gmm_model.predict(X)\n",
    "\n",
    "    #model perfomance (SS)\n",
    "    gmm_sil = m.silhouette_score(X, gmm_labels, metric='euclidean')\n",
    "    gmm_list.append(gmm_sil)"
   ]
  },
  {
   "cell_type": "code",
   "execution_count": 75,
   "id": "3887d1c6",
   "metadata": {
    "ExecuteTime": {
     "end_time": "2023-06-08T11:51:46.775877Z",
     "start_time": "2023-06-08T11:51:46.334840Z"
    }
   },
   "outputs": [
    {
     "data": {
      "image/png": "[encoded data removed]",
      "text/plain": [
       "<Figure size 1500x1000 with 1 Axes>"
      ]
     },
     "metadata": {},
     "output_type": "display_data"
    }
   ],
   "source": [
    "#Silhouette Score (with feature selection done before creating embedding space)\n",
    "plt.plot(clusters, gmm_list, linestyle='--', marker='o', color='b')\n",
    "plt.xlabel('K');\n",
    "plt.ylabel('Silhouette Score');\n",
    "plt.title('Silhouette Score x K');"
   ]
  },
  {
   "cell_type": "markdown",
   "id": "93bd507f",
   "metadata": {},
   "source": [
    "## Hierarchical Clustering"
   ]
  },
  {
   "cell_type": "code",
   "execution_count": 76,
   "id": "27572213",
   "metadata": {
    "ExecuteTime": {
     "end_time": "2023-06-08T11:51:57.191398Z",
     "start_time": "2023-06-08T11:51:46.780876Z"
    }
   },
   "outputs": [],
   "source": [
    "#using scipy instead of sklearn, so model definition and training are done toghether\n",
    "k=2\n",
    "hc_list = []\n",
    "for k in clusters:\n",
    "    #model definition and training\n",
    "    hc_model = hc.linkage(X, 'ward')\n",
    "\n",
    "    #model predict\n",
    "    hc_labels = hc.fcluster(hc_model, k, criterion='maxclust')#to cut dendrogram\n",
    "\n",
    "    #model perfomance (SS)\n",
    "    hc_sil = m.silhouette_score(X, hc_labels, metric='euclidean')\n",
    "    hc_list.append(hc_sil) "
   ]
  },
  {
   "cell_type": "code",
   "execution_count": 77,
   "id": "6ebfc164",
   "metadata": {
    "ExecuteTime": {
     "end_time": "2023-06-08T11:51:57.614854Z",
     "start_time": "2023-06-08T11:51:57.195305Z"
    }
   },
   "outputs": [
    {
     "data": {
      "image/png": "[encoded data removed]",
      "text/plain": [
       "<Figure size 1500x1000 with 1 Axes>"
      ]
     },
     "metadata": {},
     "output_type": "display_data"
    }
   ],
   "source": [
    "#Silhouette Score (with feature selection done before creating embedding space)\n",
    "plt.plot(clusters, hc_list, linestyle='--', marker='o', color='b')\n",
    "plt.xlabel('K');\n",
    "plt.ylabel('Silhouette Score');\n",
    "plt.title('Silhouette Score x K');"
   ]
  },
  {
   "cell_type": "code",
   "execution_count": 78,
   "id": "86bc067b",
   "metadata": {
    "ExecuteTime": {
     "end_time": "2023-06-08T11:51:59.741381Z",
     "start_time": "2023-06-08T11:51:57.622859Z"
    }
   },
   "outputs": [
    {
     "data": {
      "text/plain": [
       "[]"
      ]
     },
     "execution_count": 78,
     "metadata": {},
     "output_type": "execute_result"
    },
    {
     "data": {
      "image/png": "[encoded data removed]",
      "text/plain": [
       "<Figure size 1500x1000 with 1 Axes>"
      ]
     },
     "metadata": {},
     "output_type": "display_data"
    }
   ],
   "source": [
    "#truncated dendrogram\n",
    "hc.dendrogram(\n",
    "    hc_model,\n",
    "    #leaf_rotation=90,\n",
    "    #leaf_font_size=8,\n",
    "    truncate_mode='lastp',#take out for complete (heavy)\n",
    "    p=12, #truncate after 12 \n",
    "    show_contracted=True\n",
    ")\n",
    "plt.plot()"
   ]
  },
  {
   "cell_type": "markdown",
   "id": "1ac0ad46",
   "metadata": {},
   "source": [
    "## Results"
   ]
  },
  {
   "cell_type": "code",
   "execution_count": 79,
   "id": "157115b3",
   "metadata": {
    "ExecuteTime": {
     "end_time": "2023-06-08T11:52:00.303703Z",
     "start_time": "2023-06-08T11:51:59.748147Z"
    },
    "scrolled": true
   },
   "outputs": [
    {
     "data": {
      "text/html": [
       "<style type=\"text/css\">\n",
       "#T_f867e_row0_col7, #T_f867e_row1_col13, #T_f867e_row2_col7 {\n",
       "  background-color: green;\n",
       "}\n",
       "</style>\n",
       "<table id=\"T_f867e\">\n",
       "  <thead>\n",
       "    <tr>\n",
       "      <th class=\"blank level0\" >&nbsp;</th>\n",
       "      <th id=\"T_f867e_level0_col0\" class=\"col_heading level0 col0\" >2</th>\n",
       "      <th id=\"T_f867e_level0_col1\" class=\"col_heading level0 col1\" >3</th>\n",
       "      <th id=\"T_f867e_level0_col2\" class=\"col_heading level0 col2\" >4</th>\n",
       "      <th id=\"T_f867e_level0_col3\" class=\"col_heading level0 col3\" >5</th>\n",
       "      <th id=\"T_f867e_level0_col4\" class=\"col_heading level0 col4\" >6</th>\n",
       "      <th id=\"T_f867e_level0_col5\" class=\"col_heading level0 col5\" >7</th>\n",
       "      <th id=\"T_f867e_level0_col6\" class=\"col_heading level0 col6\" >8</th>\n",
       "      <th id=\"T_f867e_level0_col7\" class=\"col_heading level0 col7\" >9</th>\n",
       "      <th id=\"T_f867e_level0_col8\" class=\"col_heading level0 col8\" >10</th>\n",
       "      <th id=\"T_f867e_level0_col9\" class=\"col_heading level0 col9\" >11</th>\n",
       "      <th id=\"T_f867e_level0_col10\" class=\"col_heading level0 col10\" >12</th>\n",
       "      <th id=\"T_f867e_level0_col11\" class=\"col_heading level0 col11\" >13</th>\n",
       "      <th id=\"T_f867e_level0_col12\" class=\"col_heading level0 col12\" >14</th>\n",
       "      <th id=\"T_f867e_level0_col13\" class=\"col_heading level0 col13\" >15</th>\n",
       "      <th id=\"T_f867e_level0_col14\" class=\"col_heading level0 col14\" >16</th>\n",
       "      <th id=\"T_f867e_level0_col15\" class=\"col_heading level0 col15\" >17</th>\n",
       "      <th id=\"T_f867e_level0_col16\" class=\"col_heading level0 col16\" >18</th>\n",
       "      <th id=\"T_f867e_level0_col17\" class=\"col_heading level0 col17\" >19</th>\n",
       "      <th id=\"T_f867e_level0_col18\" class=\"col_heading level0 col18\" >20</th>\n",
       "      <th id=\"T_f867e_level0_col19\" class=\"col_heading level0 col19\" >21</th>\n",
       "      <th id=\"T_f867e_level0_col20\" class=\"col_heading level0 col20\" >22</th>\n",
       "      <th id=\"T_f867e_level0_col21\" class=\"col_heading level0 col21\" >23</th>\n",
       "      <th id=\"T_f867e_level0_col22\" class=\"col_heading level0 col22\" >24</th>\n",
       "      <th id=\"T_f867e_level0_col23\" class=\"col_heading level0 col23\" >25</th>\n",
       "      <th id=\"T_f867e_level0_col24\" class=\"col_heading level0 col24\" >26</th>\n",
       "      <th id=\"T_f867e_level0_col25\" class=\"col_heading level0 col25\" >27</th>\n",
       "    </tr>\n",
       "  </thead>\n",
       "  <tbody>\n",
       "    <tr>\n",
       "      <th id=\"T_f867e_level0_row0\" class=\"row_heading level0 row0\" >K-Means</th>\n",
       "      <td id=\"T_f867e_row0_col0\" class=\"data row0 col0\" >0.408179</td>\n",
       "      <td id=\"T_f867e_row0_col1\" class=\"data row0 col1\" >0.485130</td>\n",
       "      <td id=\"T_f867e_row0_col2\" class=\"data row0 col2\" >0.555873</td>\n",
       "      <td id=\"T_f867e_row0_col3\" class=\"data row0 col3\" >0.588183</td>\n",
       "      <td id=\"T_f867e_row0_col4\" class=\"data row0 col4\" >0.614100</td>\n",
       "      <td id=\"T_f867e_row0_col5\" class=\"data row0 col5\" >0.633351</td>\n",
       "      <td id=\"T_f867e_row0_col6\" class=\"data row0 col6\" >0.646340</td>\n",
       "      <td id=\"T_f867e_row0_col7\" class=\"data row0 col7\" >0.680361</td>\n",
       "      <td id=\"T_f867e_row0_col8\" class=\"data row0 col8\" >0.633851</td>\n",
       "      <td id=\"T_f867e_row0_col9\" class=\"data row0 col9\" >0.664904</td>\n",
       "      <td id=\"T_f867e_row0_col10\" class=\"data row0 col10\" >0.641638</td>\n",
       "      <td id=\"T_f867e_row0_col11\" class=\"data row0 col11\" >0.644584</td>\n",
       "      <td id=\"T_f867e_row0_col12\" class=\"data row0 col12\" >0.640690</td>\n",
       "      <td id=\"T_f867e_row0_col13\" class=\"data row0 col13\" >0.657255</td>\n",
       "      <td id=\"T_f867e_row0_col14\" class=\"data row0 col14\" >0.658594</td>\n",
       "      <td id=\"T_f867e_row0_col15\" class=\"data row0 col15\" >0.643137</td>\n",
       "      <td id=\"T_f867e_row0_col16\" class=\"data row0 col16\" >0.651858</td>\n",
       "      <td id=\"T_f867e_row0_col17\" class=\"data row0 col17\" >0.660124</td>\n",
       "      <td id=\"T_f867e_row0_col18\" class=\"data row0 col18\" >0.596579</td>\n",
       "      <td id=\"T_f867e_row0_col19\" class=\"data row0 col19\" >0.604914</td>\n",
       "      <td id=\"T_f867e_row0_col20\" class=\"data row0 col20\" >0.612587</td>\n",
       "      <td id=\"T_f867e_row0_col21\" class=\"data row0 col21\" >0.634767</td>\n",
       "      <td id=\"T_f867e_row0_col22\" class=\"data row0 col22\" >0.621539</td>\n",
       "      <td id=\"T_f867e_row0_col23\" class=\"data row0 col23\" >0.624247</td>\n",
       "      <td id=\"T_f867e_row0_col24\" class=\"data row0 col24\" >0.633329</td>\n",
       "      <td id=\"T_f867e_row0_col25\" class=\"data row0 col25\" >0.621318</td>\n",
       "    </tr>\n",
       "    <tr>\n",
       "      <th id=\"T_f867e_level0_row1\" class=\"row_heading level0 row1\" >GMM</th>\n",
       "      <td id=\"T_f867e_row1_col0\" class=\"data row1 col0\" >0.414556</td>\n",
       "      <td id=\"T_f867e_row1_col1\" class=\"data row1 col1\" >0.508177</td>\n",
       "      <td id=\"T_f867e_row1_col2\" class=\"data row1 col2\" >0.484473</td>\n",
       "      <td id=\"T_f867e_row1_col3\" class=\"data row1 col3\" >0.558208</td>\n",
       "      <td id=\"T_f867e_row1_col4\" class=\"data row1 col4\" >0.589161</td>\n",
       "      <td id=\"T_f867e_row1_col5\" class=\"data row1 col5\" >0.625490</td>\n",
       "      <td id=\"T_f867e_row1_col6\" class=\"data row1 col6\" >0.553814</td>\n",
       "      <td id=\"T_f867e_row1_col7\" class=\"data row1 col7\" >0.592788</td>\n",
       "      <td id=\"T_f867e_row1_col8\" class=\"data row1 col8\" >0.572157</td>\n",
       "      <td id=\"T_f867e_row1_col9\" class=\"data row1 col9\" >0.628540</td>\n",
       "      <td id=\"T_f867e_row1_col10\" class=\"data row1 col10\" >0.595105</td>\n",
       "      <td id=\"T_f867e_row1_col11\" class=\"data row1 col11\" >0.610733</td>\n",
       "      <td id=\"T_f867e_row1_col12\" class=\"data row1 col12\" >0.643231</td>\n",
       "      <td id=\"T_f867e_row1_col13\" class=\"data row1 col13\" >0.649086</td>\n",
       "      <td id=\"T_f867e_row1_col14\" class=\"data row1 col14\" >0.571801</td>\n",
       "      <td id=\"T_f867e_row1_col15\" class=\"data row1 col15\" >0.632268</td>\n",
       "      <td id=\"T_f867e_row1_col16\" class=\"data row1 col16\" >0.587141</td>\n",
       "      <td id=\"T_f867e_row1_col17\" class=\"data row1 col17\" >0.540904</td>\n",
       "      <td id=\"T_f867e_row1_col18\" class=\"data row1 col18\" >0.526417</td>\n",
       "      <td id=\"T_f867e_row1_col19\" class=\"data row1 col19\" >0.578287</td>\n",
       "      <td id=\"T_f867e_row1_col20\" class=\"data row1 col20\" >0.590767</td>\n",
       "      <td id=\"T_f867e_row1_col21\" class=\"data row1 col21\" >0.596193</td>\n",
       "      <td id=\"T_f867e_row1_col22\" class=\"data row1 col22\" >0.587108</td>\n",
       "      <td id=\"T_f867e_row1_col23\" class=\"data row1 col23\" >0.572700</td>\n",
       "      <td id=\"T_f867e_row1_col24\" class=\"data row1 col24\" >0.580161</td>\n",
       "      <td id=\"T_f867e_row1_col25\" class=\"data row1 col25\" >0.598483</td>\n",
       "    </tr>\n",
       "    <tr>\n",
       "      <th id=\"T_f867e_level0_row2\" class=\"row_heading level0 row2\" >HC</th>\n",
       "      <td id=\"T_f867e_row2_col0\" class=\"data row2 col0\" >0.433406</td>\n",
       "      <td id=\"T_f867e_row2_col1\" class=\"data row2 col1\" >0.508177</td>\n",
       "      <td id=\"T_f867e_row2_col2\" class=\"data row2 col2\" >0.539897</td>\n",
       "      <td id=\"T_f867e_row2_col3\" class=\"data row2 col3\" >0.581082</td>\n",
       "      <td id=\"T_f867e_row2_col4\" class=\"data row2 col4\" >0.604340</td>\n",
       "      <td id=\"T_f867e_row2_col5\" class=\"data row2 col5\" >0.632846</td>\n",
       "      <td id=\"T_f867e_row2_col6\" class=\"data row2 col6\" >0.645871</td>\n",
       "      <td id=\"T_f867e_row2_col7\" class=\"data row2 col7\" >0.669907</td>\n",
       "      <td id=\"T_f867e_row2_col8\" class=\"data row2 col8\" >0.634463</td>\n",
       "      <td id=\"T_f867e_row2_col9\" class=\"data row2 col9\" >0.652308</td>\n",
       "      <td id=\"T_f867e_row2_col10\" class=\"data row2 col10\" >0.649034</td>\n",
       "      <td id=\"T_f867e_row2_col11\" class=\"data row2 col11\" >0.627232</td>\n",
       "      <td id=\"T_f867e_row2_col12\" class=\"data row2 col12\" >0.644344</td>\n",
       "      <td id=\"T_f867e_row2_col13\" class=\"data row2 col13\" >0.652819</td>\n",
       "      <td id=\"T_f867e_row2_col14\" class=\"data row2 col14\" >0.655437</td>\n",
       "      <td id=\"T_f867e_row2_col15\" class=\"data row2 col15\" >0.633867</td>\n",
       "      <td id=\"T_f867e_row2_col16\" class=\"data row2 col16\" >0.646788</td>\n",
       "      <td id=\"T_f867e_row2_col17\" class=\"data row2 col17\" >0.657146</td>\n",
       "      <td id=\"T_f867e_row2_col18\" class=\"data row2 col18\" >0.642854</td>\n",
       "      <td id=\"T_f867e_row2_col19\" class=\"data row2 col19\" >0.648134</td>\n",
       "      <td id=\"T_f867e_row2_col20\" class=\"data row2 col20\" >0.605566</td>\n",
       "      <td id=\"T_f867e_row2_col21\" class=\"data row2 col21\" >0.618419</td>\n",
       "      <td id=\"T_f867e_row2_col22\" class=\"data row2 col22\" >0.615192</td>\n",
       "      <td id=\"T_f867e_row2_col23\" class=\"data row2 col23\" >0.618538</td>\n",
       "      <td id=\"T_f867e_row2_col24\" class=\"data row2 col24\" >0.622476</td>\n",
       "      <td id=\"T_f867e_row2_col25\" class=\"data row2 col25\" >0.627335</td>\n",
       "    </tr>\n",
       "  </tbody>\n",
       "</table>\n"
      ],
      "text/plain": [
       "<pandas.io.formats.style.Styler at 0x17bf090f490>"
      ]
     },
     "execution_count": 79,
     "metadata": {},
     "output_type": "execute_result"
    }
   ],
   "source": [
    "\n",
    "df_results = pd.DataFrame({'K-Means':kmeans_list, 'GMM':gmm_list, 'HC':hc_list }).T\n",
    "df_results.columns = clusters\n",
    "#highlight best cluster per algorithm according to SS \n",
    "df_results.style.highlight_max(color='green', axis=1)"
   ]
  },
  {
   "cell_type": "markdown",
   "id": "20131af5",
   "metadata": {},
   "source": [
    "# Machine Learning Model"
   ]
  },
  {
   "cell_type": "markdown",
   "id": "9b6f48c0",
   "metadata": {},
   "source": [
    "## K-Means"
   ]
  },
  {
   "cell_type": "code",
   "execution_count": 80,
   "id": "f4fe0c28",
   "metadata": {
    "ExecuteTime": {
     "end_time": "2023-06-08T11:52:00.661057Z",
     "start_time": "2023-06-08T11:52:00.307706Z"
    }
   },
   "outputs": [],
   "source": [
    "k = 10\n",
    "#model definition\n",
    "kmeans = c.KMeans( init='random', #init centroids ramdomly\n",
    "                  n_clusters=k, #3\n",
    "                  n_init=20, #Num of times k-means will be run with different centroid seeds.\n",
    "                  max_iter=300, #up to 300 times\n",
    "                 random_state=42) #seed, to generate the same random init\n",
    "#model training\n",
    "kmeans.fit(X)\n",
    "#get cluster of each row\n",
    "kmeans_labels = kmeans.labels_"
   ]
  },
  {
   "cell_type": "markdown",
   "id": "0a240325",
   "metadata": {},
   "source": [
    "## Gaussian Mixture Model"
   ]
  },
  {
   "cell_type": "code",
   "execution_count": 82,
   "id": "5a664681",
   "metadata": {
    "ExecuteTime": {
     "end_time": "2023-06-08T11:52:24.940980Z",
     "start_time": "2023-06-08T11:52:00.711317Z"
    }
   },
   "outputs": [],
   "source": [
    "k=10\n",
    "#Model definition\n",
    "gmm_model = mx.GaussianMixture(n_components=k, n_init=300, random_state=42)\n",
    "\n",
    "\n",
    "#Model training\n",
    "gmm_model.fit( X )\n",
    "\n",
    "#Clustering\n",
    "labels = gmm_model.predict(X)"
   ]
  },
  {
   "cell_type": "markdown",
   "id": "132f72a9",
   "metadata": {},
   "source": [
    "## Final Model"
   ]
  },
  {
   "cell_type": "markdown",
   "id": "a8a6af7e",
   "metadata": {},
   "source": [
    "Let's go with the k-Means"
   ]
  },
  {
   "cell_type": "code",
   "execution_count": 115,
   "id": "50a6d4f4",
   "metadata": {
    "ExecuteTime": {
     "end_time": "2023-06-08T11:57:32.446021Z",
     "start_time": "2023-06-08T11:57:32.368057Z"
    }
   },
   "outputs": [],
   "source": [
    "k = 8\n",
    "#model definition\n",
    "kmeans = c.KMeans( init='random', #init centroids ramdomly\n",
    "                  n_clusters=k, #3\n",
    "                  n_init=20, #Num of times k-means will be run with different centroid seeds.\n",
    "                  max_iter=300, #up to 300 times\n",
    "                 random_state=42) #seed, to generate the same random init\n",
    "#model training\n",
    "kmeans.fit(X)\n",
    "#get cluster of each row\n",
    "kmeans_labels = kmeans.labels_"
   ]
  },
  {
   "cell_type": "markdown",
   "id": "c02d6058",
   "metadata": {},
   "source": [
    "## Cluster Validation"
   ]
  },
  {
   "cell_type": "code",
   "execution_count": 116,
   "id": "3e194b5a",
   "metadata": {
    "ExecuteTime": {
     "end_time": "2023-06-08T11:57:33.571784Z",
     "start_time": "2023-06-08T11:57:33.357280Z"
    }
   },
   "outputs": [
    {
     "name": "stdout",
     "output_type": "stream",
     "text": [
      "WSS score: 21184.66796875\n",
      "SS score: 0.6467858552932739\n"
     ]
    }
   ],
   "source": [
    "# WSS (Within-cluster Sum of Square )\n",
    "print('WSS score: {}'.format(kmeans.inertia_))\n",
    "\n",
    "# SS (Silhouette Score)\n",
    "print('SS score: {}'.format(m.silhouette_score(X, kmeans_labels, metric = 'euclidean')))"
   ]
  },
  {
   "cell_type": "markdown",
   "id": "7ce114d3",
   "metadata": {},
   "source": [
    "# Cluster Analysis Variable"
   ]
  },
  {
   "cell_type": "code",
   "execution_count": 117,
   "id": "377ad407",
   "metadata": {
    "ExecuteTime": {
     "end_time": "2023-06-08T11:58:35.432631Z",
     "start_time": "2023-06-08T11:58:35.406634Z"
    }
   },
   "outputs": [
    {
     "data": {
      "text/html": [
       "<div>\n",
       "<style scoped>\n",
       "    .dataframe tbody tr th:only-of-type {\n",
       "        vertical-align: middle;\n",
       "    }\n",
       "\n",
       "    .dataframe tbody tr th {\n",
       "        vertical-align: top;\n",
       "    }\n",
       "\n",
       "    .dataframe thead th {\n",
       "        text-align: right;\n",
       "    }\n",
       "</style>\n",
       "<table border=\"1\" class=\"dataframe\">\n",
       "  <thead>\n",
       "    <tr style=\"text-align: right;\">\n",
       "      <th></th>\n",
       "      <th>customer_id</th>\n",
       "      <th>gross_revenue</th>\n",
       "      <th>recency_days</th>\n",
       "      <th>qty_invoice_no</th>\n",
       "      <th>qty_items</th>\n",
       "      <th>qty_products</th>\n",
       "      <th>avg_ticket</th>\n",
       "      <th>avg_recency_days</th>\n",
       "      <th>frequency</th>\n",
       "      <th>qtde_returns</th>\n",
       "      <th>avg_basket_size</th>\n",
       "      <th>avg_unique_basket_size</th>\n",
       "      <th>cluster</th>\n",
       "    </tr>\n",
       "  </thead>\n",
       "  <tbody>\n",
       "    <tr>\n",
       "      <th>0</th>\n",
       "      <td>17850</td>\n",
       "      <td>5391.2100</td>\n",
       "      <td>372.0000</td>\n",
       "      <td>34.0000</td>\n",
       "      <td>1733.0000</td>\n",
       "      <td>297.0000</td>\n",
       "      <td>18.1522</td>\n",
       "      <td>-35.5000</td>\n",
       "      <td>17.0000</td>\n",
       "      <td>40.0000</td>\n",
       "      <td>50.9706</td>\n",
       "      <td>0.6176</td>\n",
       "      <td>4</td>\n",
       "    </tr>\n",
       "    <tr>\n",
       "      <th>1</th>\n",
       "      <td>13047</td>\n",
       "      <td>3232.5900</td>\n",
       "      <td>56.0000</td>\n",
       "      <td>9.0000</td>\n",
       "      <td>1390.0000</td>\n",
       "      <td>171.0000</td>\n",
       "      <td>18.9040</td>\n",
       "      <td>-26.3077</td>\n",
       "      <td>0.0283</td>\n",
       "      <td>35.0000</td>\n",
       "      <td>154.4444</td>\n",
       "      <td>11.6667</td>\n",
       "      <td>1</td>\n",
       "    </tr>\n",
       "    <tr>\n",
       "      <th>2</th>\n",
       "      <td>12583</td>\n",
       "      <td>6705.3800</td>\n",
       "      <td>2.0000</td>\n",
       "      <td>15.0000</td>\n",
       "      <td>5028.0000</td>\n",
       "      <td>232.0000</td>\n",
       "      <td>28.9025</td>\n",
       "      <td>-21.8235</td>\n",
       "      <td>0.0403</td>\n",
       "      <td>50.0000</td>\n",
       "      <td>335.2000</td>\n",
       "      <td>7.6000</td>\n",
       "      <td>4</td>\n",
       "    </tr>\n",
       "    <tr>\n",
       "      <th>3</th>\n",
       "      <td>13748</td>\n",
       "      <td>948.2500</td>\n",
       "      <td>95.0000</td>\n",
       "      <td>5.0000</td>\n",
       "      <td>439.0000</td>\n",
       "      <td>28.0000</td>\n",
       "      <td>33.8661</td>\n",
       "      <td>-92.6667</td>\n",
       "      <td>0.0179</td>\n",
       "      <td>0.0000</td>\n",
       "      <td>87.8000</td>\n",
       "      <td>4.8000</td>\n",
       "      <td>0</td>\n",
       "    </tr>\n",
       "    <tr>\n",
       "      <th>4</th>\n",
       "      <td>15100</td>\n",
       "      <td>876.0000</td>\n",
       "      <td>333.0000</td>\n",
       "      <td>3.0000</td>\n",
       "      <td>80.0000</td>\n",
       "      <td>3.0000</td>\n",
       "      <td>292.0000</td>\n",
       "      <td>-8.6000</td>\n",
       "      <td>0.0732</td>\n",
       "      <td>22.0000</td>\n",
       "      <td>26.6667</td>\n",
       "      <td>0.3333</td>\n",
       "      <td>2</td>\n",
       "    </tr>\n",
       "  </tbody>\n",
       "</table>\n",
       "</div>"
      ],
      "text/plain": [
       "   customer_id  gross_revenue  recency_days  qty_invoice_no  qty_items  \\\n",
       "0        17850      5391.2100      372.0000         34.0000  1733.0000   \n",
       "1        13047      3232.5900       56.0000          9.0000  1390.0000   \n",
       "2        12583      6705.3800        2.0000         15.0000  5028.0000   \n",
       "3        13748       948.2500       95.0000          5.0000   439.0000   \n",
       "4        15100       876.0000      333.0000          3.0000    80.0000   \n",
       "\n",
       "   qty_products  avg_ticket  avg_recency_days  frequency  qtde_returns  \\\n",
       "0      297.0000     18.1522          -35.5000    17.0000       40.0000   \n",
       "1      171.0000     18.9040          -26.3077     0.0283       35.0000   \n",
       "2      232.0000     28.9025          -21.8235     0.0403       50.0000   \n",
       "3       28.0000     33.8661          -92.6667     0.0179        0.0000   \n",
       "4        3.0000    292.0000           -8.6000     0.0732       22.0000   \n",
       "\n",
       "   avg_basket_size  avg_unique_basket_size  cluster  \n",
       "0          50.9706                  0.6176        4  \n",
       "1         154.4444                 11.6667        1  \n",
       "2         335.2000                  7.6000        4  \n",
       "3          87.8000                  4.8000        0  \n",
       "4          26.6667                  0.3333        2  "
      ]
     },
     "execution_count": 117,
     "metadata": {},
     "output_type": "execute_result"
    }
   ],
   "source": [
    "df9 = df4.copy()\n",
    "df9['cluster'] = labels\n",
    "df9.head()"
   ]
  },
  {
   "cell_type": "markdown",
   "id": "342fcbf7",
   "metadata": {},
   "source": [
    "## Visualization Inspection"
   ]
  },
  {
   "cell_type": "code",
   "execution_count": 118,
   "id": "77987ac5",
   "metadata": {
    "ExecuteTime": {
     "end_time": "2023-06-08T11:58:39.702546Z",
     "start_time": "2023-06-08T11:58:38.875585Z"
    }
   },
   "outputs": [
    {
     "data": {
      "image/png": "[encoded data removed]",
      "text/plain": [
       "<Figure size 1500x1000 with 1 Axes>"
      ]
     },
     "metadata": {},
     "output_type": "display_data"
    }
   ],
   "source": [
    "visualizer = SilhouetteVisualizer(kmeans, colores = 'yellowbrick')\n",
    "visualizer.fit(X)\n",
    "visualizer.finalize()"
   ]
  },
  {
   "cell_type": "markdown",
   "id": "c4920677",
   "metadata": {},
   "source": [
    "## Cluster Profile"
   ]
  },
  {
   "cell_type": "code",
   "execution_count": 119,
   "id": "fce3ffcb",
   "metadata": {
    "ExecuteTime": {
     "end_time": "2023-06-08T11:58:50.188677Z",
     "start_time": "2023-06-08T11:58:50.163678Z"
    }
   },
   "outputs": [
    {
     "data": {
      "text/html": [
       "<div>\n",
       "<style scoped>\n",
       "    .dataframe tbody tr th:only-of-type {\n",
       "        vertical-align: middle;\n",
       "    }\n",
       "\n",
       "    .dataframe tbody tr th {\n",
       "        vertical-align: top;\n",
       "    }\n",
       "\n",
       "    .dataframe thead th {\n",
       "        text-align: right;\n",
       "    }\n",
       "</style>\n",
       "<table border=\"1\" class=\"dataframe\">\n",
       "  <thead>\n",
       "    <tr style=\"text-align: right;\">\n",
       "      <th></th>\n",
       "      <th>customer_id</th>\n",
       "      <th>gross_revenue</th>\n",
       "      <th>recency_days</th>\n",
       "      <th>qty_products</th>\n",
       "      <th>frequency</th>\n",
       "      <th>qtde_returns</th>\n",
       "      <th>cluster</th>\n",
       "    </tr>\n",
       "  </thead>\n",
       "  <tbody>\n",
       "    <tr>\n",
       "      <th>0</th>\n",
       "      <td>17850</td>\n",
       "      <td>5391.2100</td>\n",
       "      <td>372.0000</td>\n",
       "      <td>297.0000</td>\n",
       "      <td>17.0000</td>\n",
       "      <td>40.0000</td>\n",
       "      <td>4</td>\n",
       "    </tr>\n",
       "    <tr>\n",
       "      <th>1</th>\n",
       "      <td>13047</td>\n",
       "      <td>3232.5900</td>\n",
       "      <td>56.0000</td>\n",
       "      <td>171.0000</td>\n",
       "      <td>0.0283</td>\n",
       "      <td>35.0000</td>\n",
       "      <td>1</td>\n",
       "    </tr>\n",
       "    <tr>\n",
       "      <th>2</th>\n",
       "      <td>12583</td>\n",
       "      <td>6705.3800</td>\n",
       "      <td>2.0000</td>\n",
       "      <td>232.0000</td>\n",
       "      <td>0.0403</td>\n",
       "      <td>50.0000</td>\n",
       "      <td>4</td>\n",
       "    </tr>\n",
       "    <tr>\n",
       "      <th>3</th>\n",
       "      <td>13748</td>\n",
       "      <td>948.2500</td>\n",
       "      <td>95.0000</td>\n",
       "      <td>28.0000</td>\n",
       "      <td>0.0179</td>\n",
       "      <td>0.0000</td>\n",
       "      <td>0</td>\n",
       "    </tr>\n",
       "    <tr>\n",
       "      <th>4</th>\n",
       "      <td>15100</td>\n",
       "      <td>876.0000</td>\n",
       "      <td>333.0000</td>\n",
       "      <td>3.0000</td>\n",
       "      <td>0.0732</td>\n",
       "      <td>22.0000</td>\n",
       "      <td>2</td>\n",
       "    </tr>\n",
       "  </tbody>\n",
       "</table>\n",
       "</div>"
      ],
      "text/plain": [
       "   customer_id  gross_revenue  recency_days  qty_products  frequency  \\\n",
       "0        17850      5391.2100      372.0000      297.0000    17.0000   \n",
       "1        13047      3232.5900       56.0000      171.0000     0.0283   \n",
       "2        12583      6705.3800        2.0000      232.0000     0.0403   \n",
       "3        13748       948.2500       95.0000       28.0000     0.0179   \n",
       "4        15100       876.0000      333.0000        3.0000     0.0732   \n",
       "\n",
       "   qtde_returns  cluster  \n",
       "0       40.0000        4  \n",
       "1       35.0000        1  \n",
       "2       50.0000        4  \n",
       "3        0.0000        0  \n",
       "4       22.0000        2  "
      ]
     },
     "execution_count": 119,
     "metadata": {},
     "output_type": "execute_result"
    }
   ],
   "source": [
    "df92 = df4[cols_selected]\n",
    "df92['cluster'] =labels\n",
    "df92.head()"
   ]
  },
  {
   "cell_type": "code",
   "execution_count": 120,
   "id": "f26506d1",
   "metadata": {
    "ExecuteTime": {
     "end_time": "2023-06-08T11:59:02.801881Z",
     "start_time": "2023-06-08T11:59:02.733872Z"
    }
   },
   "outputs": [
    {
     "data": {
      "text/html": [
       "<div>\n",
       "<style scoped>\n",
       "    .dataframe tbody tr th:only-of-type {\n",
       "        vertical-align: middle;\n",
       "    }\n",
       "\n",
       "    .dataframe tbody tr th {\n",
       "        vertical-align: top;\n",
       "    }\n",
       "\n",
       "    .dataframe thead th {\n",
       "        text-align: right;\n",
       "    }\n",
       "</style>\n",
       "<table border=\"1\" class=\"dataframe\">\n",
       "  <thead>\n",
       "    <tr style=\"text-align: right;\">\n",
       "      <th></th>\n",
       "      <th>cluster</th>\n",
       "      <th>customer_id</th>\n",
       "      <th>perc_customer</th>\n",
       "      <th>gross_revenue</th>\n",
       "      <th>recency_days</th>\n",
       "      <th>qty_products</th>\n",
       "      <th>frequency</th>\n",
       "      <th>qtde_returns</th>\n",
       "    </tr>\n",
       "  </thead>\n",
       "  <tbody>\n",
       "    <tr>\n",
       "      <th>4</th>\n",
       "      <td>4</td>\n",
       "      <td>468</td>\n",
       "      <td>15.6836</td>\n",
       "      <td>8836.1364</td>\n",
       "      <td>21.4380</td>\n",
       "      <td>424.1346</td>\n",
       "      <td>0.0946</td>\n",
       "      <td>149.2714</td>\n",
       "    </tr>\n",
       "    <tr>\n",
       "      <th>1</th>\n",
       "      <td>1</td>\n",
       "      <td>153</td>\n",
       "      <td>5.1273</td>\n",
       "      <td>3101.3605</td>\n",
       "      <td>36.4248</td>\n",
       "      <td>172.8954</td>\n",
       "      <td>0.0582</td>\n",
       "      <td>22.5948</td>\n",
       "    </tr>\n",
       "    <tr>\n",
       "      <th>5</th>\n",
       "      <td>5</td>\n",
       "      <td>372</td>\n",
       "      <td>12.4665</td>\n",
       "      <td>2691.0882</td>\n",
       "      <td>56.4516</td>\n",
       "      <td>89.3441</td>\n",
       "      <td>0.0644</td>\n",
       "      <td>19.9489</td>\n",
       "    </tr>\n",
       "    <tr>\n",
       "      <th>7</th>\n",
       "      <td>7</td>\n",
       "      <td>516</td>\n",
       "      <td>17.2922</td>\n",
       "      <td>2223.1820</td>\n",
       "      <td>45.4845</td>\n",
       "      <td>118.0775</td>\n",
       "      <td>0.0383</td>\n",
       "      <td>19.6725</td>\n",
       "    </tr>\n",
       "    <tr>\n",
       "      <th>3</th>\n",
       "      <td>3</td>\n",
       "      <td>373</td>\n",
       "      <td>12.5000</td>\n",
       "      <td>1217.0592</td>\n",
       "      <td>60.8284</td>\n",
       "      <td>54.3887</td>\n",
       "      <td>0.0515</td>\n",
       "      <td>7.1635</td>\n",
       "    </tr>\n",
       "    <tr>\n",
       "      <th>6</th>\n",
       "      <td>6</td>\n",
       "      <td>329</td>\n",
       "      <td>11.0255</td>\n",
       "      <td>975.5898</td>\n",
       "      <td>76.0213</td>\n",
       "      <td>37.1763</td>\n",
       "      <td>0.0854</td>\n",
       "      <td>10.7264</td>\n",
       "    </tr>\n",
       "    <tr>\n",
       "      <th>0</th>\n",
       "      <td>0</td>\n",
       "      <td>162</td>\n",
       "      <td>5.4290</td>\n",
       "      <td>819.3064</td>\n",
       "      <td>85.7284</td>\n",
       "      <td>27.9444</td>\n",
       "      <td>0.1240</td>\n",
       "      <td>4.0000</td>\n",
       "    </tr>\n",
       "    <tr>\n",
       "      <th>2</th>\n",
       "      <td>2</td>\n",
       "      <td>611</td>\n",
       "      <td>20.4759</td>\n",
       "      <td>550.4167</td>\n",
       "      <td>117.0786</td>\n",
       "      <td>14.0949</td>\n",
       "      <td>0.3103</td>\n",
       "      <td>9.5123</td>\n",
       "    </tr>\n",
       "  </tbody>\n",
       "</table>\n",
       "</div>"
      ],
      "text/plain": [
       "   cluster  customer_id  perc_customer  gross_revenue  recency_days  \\\n",
       "4        4          468        15.6836      8836.1364       21.4380   \n",
       "1        1          153         5.1273      3101.3605       36.4248   \n",
       "5        5          372        12.4665      2691.0882       56.4516   \n",
       "7        7          516        17.2922      2223.1820       45.4845   \n",
       "3        3          373        12.5000      1217.0592       60.8284   \n",
       "6        6          329        11.0255       975.5898       76.0213   \n",
       "0        0          162         5.4290       819.3064       85.7284   \n",
       "2        2          611        20.4759       550.4167      117.0786   \n",
       "\n",
       "   qty_products  frequency  qtde_returns  \n",
       "4      424.1346     0.0946      149.2714  \n",
       "1      172.8954     0.0582       22.5948  \n",
       "5       89.3441     0.0644       19.9489  \n",
       "7      118.0775     0.0383       19.6725  \n",
       "3       54.3887     0.0515        7.1635  \n",
       "6       37.1763     0.0854       10.7264  \n",
       "0       27.9444     0.1240        4.0000  \n",
       "2       14.0949     0.3103        9.5123  "
      ]
     },
     "execution_count": 120,
     "metadata": {},
     "output_type": "execute_result"
    }
   ],
   "source": [
    "# Explaining clusters profile based on this averages\n",
    "# Number of customer\n",
    "df_cluster = df92[['customer_id', 'cluster']].groupby( 'cluster' ).count().reset_index()\n",
    "df_cluster['perc_customer'] = 100*( df_cluster['customer_id'] / df_cluster['customer_id'].sum() )\n",
    "\n",
    "# Avg Gross revenue\n",
    "df_avg_gross_revenue = df92[['gross_revenue', 'cluster']].groupby( 'cluster' ).mean().reset_index()\n",
    "df_cluster = pd.merge( df_cluster, df_avg_gross_revenue, how='inner', on='cluster' )\n",
    "\n",
    "# Avg recency days\n",
    "df_avg_recency_days = df92[['recency_days', 'cluster']].groupby( 'cluster' ).mean().reset_index()\n",
    "df_cluster = pd.merge( df_cluster, df_avg_recency_days, how='inner', on='cluster' )\n",
    "\n",
    "# Avg qty products\n",
    "df_qty_products = df92[['qty_products', 'cluster']].groupby( 'cluster' ).mean().reset_index()\n",
    "df_cluster = pd.merge( df_cluster, df_qty_products, how='inner', on='cluster' )\n",
    "\n",
    "# Frequency\n",
    "df_frequency = df92[['frequency', 'cluster']].groupby( 'cluster' ).mean().reset_index()\n",
    "df_cluster = pd.merge( df_cluster, df_frequency, how='inner', on='cluster' )\n",
    "\n",
    "# Avg qty returns\n",
    "df_qty_returns = df92[['qtde_returns', 'cluster']].groupby( 'cluster' ).mean().reset_index()\n",
    "df_cluster = pd.merge( df_cluster, df_qty_returns, how='inner', on='cluster' )\n",
    "\n",
    "# cluster profiles\n",
    "df_cluster.sort_values('gross_revenue', ascending=False)"
   ]
  },
  {
   "cell_type": "code",
   "execution_count": 121,
   "id": "1727b36b",
   "metadata": {
    "ExecuteTime": {
     "end_time": "2023-06-08T11:59:18.669069Z",
     "start_time": "2023-06-08T11:59:18.660066Z"
    }
   },
   "outputs": [],
   "source": [
    "loyals_cluster = 4"
   ]
  },
  {
   "cell_type": "code",
   "execution_count": 122,
   "id": "1f805764",
   "metadata": {
    "ExecuteTime": {
     "end_time": "2023-06-08T11:59:19.416598Z",
     "start_time": "2023-06-08T11:59:19.404603Z"
    }
   },
   "outputs": [
    {
     "name": "stdout",
     "output_type": "stream",
     "text": [
      " Cluster 0:\n",
      "    -Number of customers: 162 (5%)\n",
      "    -Average revenue: $819\n",
      "    -Average recency: by each 86 days (12 week(s))\n",
      "    -Average quantity products purchased: 28 \n",
      "    \n",
      " \n",
      " Cluster 1:\n",
      "    -Number of customers: 153 (5%)\n",
      "    -Average revenue: $3101\n",
      "    -Average recency: by each 36 days (5 week(s))\n",
      "    -Average quantity products purchased: 173 \n",
      "    \n",
      " \n",
      " Cluster 2:\n",
      "    -Number of customers: 611 (20%)\n",
      "    -Average revenue: $550\n",
      "    -Average recency: by each 117 days (17 week(s))\n",
      "    -Average quantity products purchased: 14 \n",
      "    \n",
      " \n",
      " Cluster 3:\n",
      "    -Number of customers: 373 (12%)\n",
      "    -Average revenue: $1217\n",
      "    -Average recency: by each 61 days (9 week(s))\n",
      "    -Average quantity products purchased: 54 \n",
      "    \n",
      " \n",
      " Cluster 4:\n",
      "    -Number of customers: 468 (16%)\n",
      "    -Average revenue: $8836\n",
      "    -Average recency: by each 21 days (3 week(s))\n",
      "    -Average quantity products purchased: 424 \n",
      "    \n",
      " \n",
      " Cluster 5:\n",
      "    -Number of customers: 372 (12%)\n",
      "    -Average revenue: $2691\n",
      "    -Average recency: by each 56 days (8 week(s))\n",
      "    -Average quantity products purchased: 89 \n",
      "    \n",
      " \n",
      " Cluster 6:\n",
      "    -Number of customers: 329 (11%)\n",
      "    -Average revenue: $976\n",
      "    -Average recency: by each 76 days (11 week(s))\n",
      "    -Average quantity products purchased: 37 \n",
      "    \n",
      " \n",
      " Cluster 7:\n",
      "    -Number of customers: 516 (17%)\n",
      "    -Average revenue: $2223\n",
      "    -Average recency: by each 45 days (6 week(s))\n",
      "    -Average quantity products purchased: 118 \n",
      "    \n",
      " \n"
     ]
    }
   ],
   "source": [
    "#generate the repport dinamically:\n",
    "for i in range(len(df_cluster['customer_id'])):\n",
    "    \n",
    "    print(f\"\"\" Cluster {df_cluster['cluster'][i]}:\n",
    "    -Number of customers: {df_cluster['customer_id'][i]} ({round(df_cluster['perc_customer'][i])}%)\n",
    "    -Average revenue: ${round(df_cluster['gross_revenue'][i])}\n",
    "    -Average recency: by each {round(df_cluster['recency_days'][i])} days ({round(df_cluster['recency_days'][i]/7)} week(s))\n",
    "    -Average quantity products purchased: {round(df_cluster['qty_products'][i])} \n",
    "    \\n \"\"\")"
   ]
  },
  {
   "cell_type": "markdown",
   "id": "cfcfccf3",
   "metadata": {},
   "source": [
    "# Business questions"
   ]
  },
  {
   "cell_type": "code",
   "execution_count": 123,
   "id": "5d6a9bb5",
   "metadata": {
    "ExecuteTime": {
     "end_time": "2023-06-08T11:59:30.513784Z",
     "start_time": "2023-06-08T11:59:30.507819Z"
    }
   },
   "outputs": [],
   "source": [
    "df10 = df92.copy()"
   ]
  },
  {
   "cell_type": "code",
   "execution_count": 124,
   "id": "71215a1d",
   "metadata": {
    "ExecuteTime": {
     "end_time": "2023-06-08T11:59:31.382772Z",
     "start_time": "2023-06-08T11:59:31.355595Z"
    }
   },
   "outputs": [
    {
     "data": {
      "text/html": [
       "<div>\n",
       "<style scoped>\n",
       "    .dataframe tbody tr th:only-of-type {\n",
       "        vertical-align: middle;\n",
       "    }\n",
       "\n",
       "    .dataframe tbody tr th {\n",
       "        vertical-align: top;\n",
       "    }\n",
       "\n",
       "    .dataframe thead th {\n",
       "        text-align: right;\n",
       "    }\n",
       "</style>\n",
       "<table border=\"1\" class=\"dataframe\">\n",
       "  <thead>\n",
       "    <tr style=\"text-align: right;\">\n",
       "      <th></th>\n",
       "      <th>customer_id</th>\n",
       "      <th>gross_revenue</th>\n",
       "      <th>recency_days</th>\n",
       "      <th>qty_products</th>\n",
       "      <th>frequency</th>\n",
       "      <th>qtde_returns</th>\n",
       "      <th>cluster</th>\n",
       "    </tr>\n",
       "  </thead>\n",
       "  <tbody>\n",
       "    <tr>\n",
       "      <th>2189</th>\n",
       "      <td>18263</td>\n",
       "      <td>1213.1600</td>\n",
       "      <td>25.0000</td>\n",
       "      <td>61.0000</td>\n",
       "      <td>0.0132</td>\n",
       "      <td>1.0000</td>\n",
       "      <td>3</td>\n",
       "    </tr>\n",
       "    <tr>\n",
       "      <th>2294</th>\n",
       "      <td>15655</td>\n",
       "      <td>560.6700</td>\n",
       "      <td>243.0000</td>\n",
       "      <td>34.0000</td>\n",
       "      <td>1.0000</td>\n",
       "      <td>5.0000</td>\n",
       "      <td>6</td>\n",
       "    </tr>\n",
       "    <tr>\n",
       "      <th>1455</th>\n",
       "      <td>13911</td>\n",
       "      <td>2580.9100</td>\n",
       "      <td>57.0000</td>\n",
       "      <td>148.0000</td>\n",
       "      <td>0.0357</td>\n",
       "      <td>0.0000</td>\n",
       "      <td>7</td>\n",
       "    </tr>\n",
       "    <tr>\n",
       "      <th>3547</th>\n",
       "      <td>16240</td>\n",
       "      <td>3718.8000</td>\n",
       "      <td>24.0000</td>\n",
       "      <td>135.0000</td>\n",
       "      <td>0.0370</td>\n",
       "      <td>7.0000</td>\n",
       "      <td>7</td>\n",
       "    </tr>\n",
       "    <tr>\n",
       "      <th>958</th>\n",
       "      <td>14732</td>\n",
       "      <td>2702.4900</td>\n",
       "      <td>8.0000</td>\n",
       "      <td>147.0000</td>\n",
       "      <td>0.0241</td>\n",
       "      <td>3.0000</td>\n",
       "      <td>7</td>\n",
       "    </tr>\n",
       "    <tr>\n",
       "      <th>3095</th>\n",
       "      <td>18101</td>\n",
       "      <td>223.6500</td>\n",
       "      <td>11.0000</td>\n",
       "      <td>41.0000</td>\n",
       "      <td>0.0150</td>\n",
       "      <td>0.0000</td>\n",
       "      <td>6</td>\n",
       "    </tr>\n",
       "    <tr>\n",
       "      <th>323</th>\n",
       "      <td>17677</td>\n",
       "      <td>16363.2300</td>\n",
       "      <td>1.0000</td>\n",
       "      <td>304.0000</td>\n",
       "      <td>0.0815</td>\n",
       "      <td>50.0000</td>\n",
       "      <td>4</td>\n",
       "    </tr>\n",
       "    <tr>\n",
       "      <th>738</th>\n",
       "      <td>16810</td>\n",
       "      <td>309.5400</td>\n",
       "      <td>192.0000</td>\n",
       "      <td>15.0000</td>\n",
       "      <td>1.0000</td>\n",
       "      <td>2.0000</td>\n",
       "      <td>2</td>\n",
       "    </tr>\n",
       "    <tr>\n",
       "      <th>441</th>\n",
       "      <td>16775</td>\n",
       "      <td>1695.6600</td>\n",
       "      <td>10.0000</td>\n",
       "      <td>158.0000</td>\n",
       "      <td>0.0307</td>\n",
       "      <td>0.0000</td>\n",
       "      <td>1</td>\n",
       "    </tr>\n",
       "    <tr>\n",
       "      <th>1532</th>\n",
       "      <td>12507</td>\n",
       "      <td>1052.8100</td>\n",
       "      <td>134.0000</td>\n",
       "      <td>19.0000</td>\n",
       "      <td>0.0182</td>\n",
       "      <td>11.0000</td>\n",
       "      <td>2</td>\n",
       "    </tr>\n",
       "  </tbody>\n",
       "</table>\n",
       "</div>"
      ],
      "text/plain": [
       "      customer_id  gross_revenue  recency_days  qty_products  frequency  \\\n",
       "2189        18263      1213.1600       25.0000       61.0000     0.0132   \n",
       "2294        15655       560.6700      243.0000       34.0000     1.0000   \n",
       "1455        13911      2580.9100       57.0000      148.0000     0.0357   \n",
       "3547        16240      3718.8000       24.0000      135.0000     0.0370   \n",
       "958         14732      2702.4900        8.0000      147.0000     0.0241   \n",
       "3095        18101       223.6500       11.0000       41.0000     0.0150   \n",
       "323         17677     16363.2300        1.0000      304.0000     0.0815   \n",
       "738         16810       309.5400      192.0000       15.0000     1.0000   \n",
       "441         16775      1695.6600       10.0000      158.0000     0.0307   \n",
       "1532        12507      1052.8100      134.0000       19.0000     0.0182   \n",
       "\n",
       "      qtde_returns  cluster  \n",
       "2189        1.0000        3  \n",
       "2294        5.0000        6  \n",
       "1455        0.0000        7  \n",
       "3547        7.0000        7  \n",
       "958         3.0000        7  \n",
       "3095        0.0000        6  \n",
       "323        50.0000        4  \n",
       "738         2.0000        2  \n",
       "441         0.0000        1  \n",
       "1532       11.0000        2  "
      ]
     },
     "execution_count": 124,
     "metadata": {},
     "output_type": "execute_result"
    }
   ],
   "source": [
    "df10.sample(10)"
   ]
  },
  {
   "cell_type": "markdown",
   "id": "a0e9c484",
   "metadata": {
    "ExecuteTime": {
     "end_time": "2023-05-30T12:47:02.213626Z",
     "start_time": "2023-05-30T12:47:02.213626Z"
    }
   },
   "source": [
    "### Who are the people eligible to participate in the Loyals program?"
   ]
  },
  {
   "cell_type": "code",
   "execution_count": 125,
   "id": "f4d67cbb",
   "metadata": {
    "ExecuteTime": {
     "end_time": "2023-06-08T11:59:34.144285Z",
     "start_time": "2023-06-08T11:59:34.124284Z"
    }
   },
   "outputs": [
    {
     "data": {
      "text/plain": [
       "0       17850\n",
       "2       12583\n",
       "6       14688\n",
       "8       15311\n",
       "12      16029\n",
       "        ...  \n",
       "3942    15993\n",
       "3976    17590\n",
       "3984    15444\n",
       "4106    15531\n",
       "4308    13521\n",
       "Name: customer_id, Length: 468, dtype: int64"
      ]
     },
     "execution_count": 125,
     "metadata": {},
     "output_type": "execute_result"
    }
   ],
   "source": [
    "df10.loc[ df10['cluster'] == loyals_cluster , 'customer_id']"
   ]
  },
  {
   "cell_type": "markdown",
   "id": "cf3c6432",
   "metadata": {
    "ExecuteTime": {
     "end_time": "2023-06-06T12:44:25.493268Z",
     "start_time": "2023-06-06T12:44:25.323897Z"
    }
   },
   "source": [
    "### How many customers will be part of the group?"
   ]
  },
  {
   "cell_type": "code",
   "execution_count": 126,
   "id": "4254d7ab",
   "metadata": {
    "ExecuteTime": {
     "end_time": "2023-06-08T11:59:35.287169Z",
     "start_time": "2023-06-08T11:59:35.277134Z"
    }
   },
   "outputs": [
    {
     "data": {
      "text/plain": [
       "468"
      ]
     },
     "execution_count": 126,
     "metadata": {},
     "output_type": "execute_result"
    }
   ],
   "source": [
    "df10.loc[ df10['cluster'] == loyals_cluster , 'customer_id'].size"
   ]
  },
  {
   "cell_type": "markdown",
   "id": "a7df9896",
   "metadata": {
    "ExecuteTime": {
     "end_time": "2023-06-07T12:04:31.610744Z",
     "start_time": "2023-06-07T12:04:31.610744Z"
    }
   },
   "source": [
    "### What are the main characteristics of these customers?"
   ]
  },
  {
   "cell_type": "code",
   "execution_count": 127,
   "id": "96dc1775",
   "metadata": {
    "ExecuteTime": {
     "end_time": "2023-06-08T11:59:36.942147Z",
     "start_time": "2023-06-08T11:59:36.927110Z"
    }
   },
   "outputs": [
    {
     "name": "stdout",
     "output_type": "stream",
     "text": [
      "Check session Cluster Profile -> Cluster 4\n"
     ]
    }
   ],
   "source": [
    "print(f'Check session Cluster Profile -> Cluster {loyals_cluster}')"
   ]
  },
  {
   "cell_type": "code",
   "execution_count": 128,
   "id": "fce03180",
   "metadata": {
    "ExecuteTime": {
     "end_time": "2023-06-08T11:59:37.751270Z",
     "start_time": "2023-06-08T11:59:37.724340Z"
    }
   },
   "outputs": [
    {
     "data": {
      "text/plain": [
       "(6926.952000975534, 10745.320776802242)"
      ]
     },
     "execution_count": 128,
     "metadata": {},
     "output_type": "execute_result"
    }
   ],
   "source": [
    "#Info about confidence intervals for Average Revenue\n",
    "df_loyals = df10.loc[ df10['cluster'] == loyals_cluster , 'gross_revenue']\n",
    "st.t.interval(alpha = 0.95, #trust level\n",
    "              df = len(df_loyals-1), #degrees of freedom (df -1)\n",
    "              loc = np.mean(df_loyals),#mean\n",
    "              scale = st.sem(df_loyals) ) #std"
   ]
  },
  {
   "cell_type": "code",
   "execution_count": 129,
   "id": "b4178c6e",
   "metadata": {
    "ExecuteTime": {
     "end_time": "2023-06-08T11:59:40.800589Z",
     "start_time": "2023-06-08T11:59:40.792588Z"
    }
   },
   "outputs": [
    {
     "data": {
      "text/plain": [
       "8836.136388888888"
      ]
     },
     "execution_count": 129,
     "metadata": {},
     "output_type": "execute_result"
    }
   ],
   "source": [
    "np.mean(df_loyals)"
   ]
  },
  {
   "cell_type": "markdown",
   "id": "5c9d6bbe",
   "metadata": {
    "ExecuteTime": {
     "end_time": "2023-06-07T13:38:03.840586Z",
     "start_time": "2023-06-07T13:38:03.822553Z"
    }
   },
   "source": [
    "We can say that in 95 out of 100 customers, the result will be within the range above.\n",
    "\n",
    "The other 5% clients have a good chance of not being part of the cluster in the future, because they are more distant of the mean."
   ]
  },
  {
   "cell_type": "markdown",
   "id": "cdf60223",
   "metadata": {
    "ExecuteTime": {
     "end_time": "2023-06-07T12:04:31.613745Z",
     "start_time": "2023-06-07T12:04:31.613745Z"
    }
   },
   "source": [
    "### What is the percentage of revenue contribution from Loyals?\n"
   ]
  },
  {
   "cell_type": "code",
   "execution_count": 130,
   "id": "f8014c53",
   "metadata": {
    "ExecuteTime": {
     "end_time": "2023-06-08T11:59:42.427016Z",
     "start_time": "2023-06-08T11:59:42.411979Z"
    }
   },
   "outputs": [],
   "source": [
    "#total gross revenue = 100%\n",
    "df_perc_rev_all = df10['gross_revenue'].sum()\n",
    "#loyal's gross revenue = %?\n",
    "df_perc_rev_loyals = df10.loc[ df10['cluster'] == loyals_cluster , 'gross_revenue'].sum() "
   ]
  },
  {
   "cell_type": "code",
   "execution_count": 131,
   "id": "036f1a4e",
   "metadata": {
    "ExecuteTime": {
     "end_time": "2023-06-08T11:59:43.304027Z",
     "start_time": "2023-06-08T11:59:43.291027Z"
    }
   },
   "outputs": [
    {
     "data": {
      "text/plain": [
       "52"
      ]
     },
     "execution_count": 131,
     "metadata": {},
     "output_type": "execute_result"
    }
   ],
   "source": [
    "#calculate percentage:\n",
    "round((df_perc_rev_loyals / df_perc_rev_all)*100)"
   ]
  },
  {
   "cell_type": "markdown",
   "id": "a7211fb8",
   "metadata": {
    "ExecuteTime": {
     "end_time": "2023-06-07T12:04:31.616744Z",
     "start_time": "2023-06-07T12:04:31.616744Z"
    }
   },
   "source": [
    "### What is the expected revenue for this group for the coming months?\n"
   ]
  },
  {
   "cell_type": "markdown",
   "id": "854acf03",
   "metadata": {},
   "source": [
    "Won't be answared right now, cause we would need more data to work with time series."
   ]
  },
  {
   "cell_type": "markdown",
   "id": "48e6fb25",
   "metadata": {
    "ExecuteTime": {
     "end_time": "2023-06-07T12:04:31.620744Z",
     "start_time": "2023-06-07T12:04:31.620744Z"
    }
   },
   "source": [
    "### What are the conditions for a person to be eligible for Loyals?\n"
   ]
  },
  {
   "cell_type": "markdown",
   "id": "a4a9179e",
   "metadata": {},
   "source": [
    "The model will tell us. Let's run the model monthly, for example, and each time, we create a Data and Cluster column, and the person will continue in Loyals, or fall into another cluster."
   ]
  },
  {
   "cell_type": "markdown",
   "id": "0106a063",
   "metadata": {
    "ExecuteTime": {
     "end_time": "2023-06-07T12:04:31.624746Z",
     "start_time": "2023-06-07T12:04:31.624746Z"
    }
   },
   "source": [
    "### What are the conditions for a person to be removed from Loyals?\n"
   ]
  },
  {
   "cell_type": "markdown",
   "id": "3d64ab4c",
   "metadata": {
    "ExecuteTime": {
     "end_time": "2023-06-07T13:43:53.847788Z",
     "start_time": "2023-06-07T13:43:53.825786Z"
    }
   },
   "source": [
    "The model will tell us too, works like explained on previous question."
   ]
  },
  {
   "cell_type": "markdown",
   "id": "5a763380",
   "metadata": {
    "ExecuteTime": {
     "end_time": "2023-06-07T12:04:31.627745Z",
     "start_time": "2023-06-07T12:04:31.627745Z"
    }
   },
   "source": [
    "### What is the guarantee that the Loyals program is better than the rest of the base?\n"
   ]
  },
  {
   "cell_type": "markdown",
   "id": "4c3a7fe2",
   "metadata": {},
   "source": [
    "An A/B test or a Hypothesis test can be run on next cycles to answer this."
   ]
  },
  {
   "cell_type": "markdown",
   "id": "575ab933",
   "metadata": {
    "ExecuteTime": {
     "end_time": "2023-06-07T12:04:31.631745Z",
     "start_time": "2023-06-07T12:04:31.631745Z"
    }
   },
   "source": [
    "### What actions can the marketing team take to increase revenue?"
   ]
  },
  {
   "cell_type": "markdown",
   "id": "b04effc6",
   "metadata": {},
   "source": [
    "- Discount\n",
    "- Purchase preference\n",
    "- Cheaper shipping\n",
    "- Visit the company\n",
    "- Offer personal stylist\n",
    "- Recommend cross selling\n",
    "- Offer exclusive content"
   ]
  },
  {
   "cell_type": "markdown",
   "id": "1ccd1b51",
   "metadata": {},
   "source": [
    "# Business Results"
   ]
  },
  {
   "cell_type": "code",
   "execution_count": 132,
   "id": "2e666341",
   "metadata": {
    "ExecuteTime": {
     "end_time": "2023-06-08T11:59:48.046990Z",
     "start_time": "2023-06-08T11:59:48.028954Z"
    }
   },
   "outputs": [
    {
     "data": {
      "text/plain": [
       "4086.705"
      ]
     },
     "execution_count": 132,
     "metadata": {},
     "output_type": "execute_result"
    }
   ],
   "source": [
    "#median revenue of loyals cluster\n",
    "median_loyals = df10.loc[df10['cluster'] == loyals_cluster, 'gross_revenue'].median() \n",
    "#median revenue of all clusters\n",
    "median_all = df10['gross_revenue'].median() \n",
    "median_loyals"
   ]
  },
  {
   "cell_type": "code",
   "execution_count": 133,
   "id": "6df43cfe",
   "metadata": {
    "ExecuteTime": {
     "end_time": "2023-06-08T11:59:49.025103Z",
     "start_time": "2023-06-08T11:59:49.006062Z"
    }
   },
   "outputs": [
    {
     "data": {
      "text/plain": [
       "4086.705"
      ]
     },
     "execution_count": 133,
     "metadata": {},
     "output_type": "execute_result"
    }
   ],
   "source": [
    "median_loyals"
   ]
  },
  {
   "cell_type": "code",
   "execution_count": 134,
   "id": "1f075551",
   "metadata": {
    "ExecuteTime": {
     "end_time": "2023-06-08T11:59:49.891278Z",
     "start_time": "2023-06-08T11:59:49.879276Z"
    }
   },
   "outputs": [
    {
     "data": {
      "text/plain": [
       "1079.635"
      ]
     },
     "execution_count": 134,
     "metadata": {},
     "output_type": "execute_result"
    }
   ],
   "source": [
    "median_all"
   ]
  },
  {
   "cell_type": "code",
   "execution_count": 138,
   "id": "b9421de5",
   "metadata": {
    "ExecuteTime": {
     "end_time": "2023-06-08T12:00:18.210636Z",
     "start_time": "2023-06-08T12:00:18.202635Z"
    }
   },
   "outputs": [
    {
     "data": {
      "text/plain": [
       "278.5265390618125"
      ]
     },
     "execution_count": 138,
     "metadata": {},
     "output_type": "execute_result"
    }
   ],
   "source": [
    "#calculation\n",
    "((median_loyals - median_all) / median_all)*100"
   ]
  },
  {
   "cell_type": "code",
   "execution_count": 136,
   "id": "6d7afe82",
   "metadata": {
    "ExecuteTime": {
     "end_time": "2023-06-08T11:59:52.114549Z",
     "start_time": "2023-06-08T11:59:52.093552Z"
    }
   },
   "outputs": [],
   "source": [
    "#calculations\n",
    "\n",
    "#number of loyals today\n",
    "tot_loyals_today = df10.loc[df10['cluster'] == loyals_cluster, 'customer_id'].count()\n",
    "\n",
    "#expected loyals on next year (10% more)\n",
    "tot_loyals_nextyear = round(df10.loc[df10['cluster'] == loyals_cluster, 'customer_id'].count()*1.1)\n",
    "\n",
    "#number of new loyals\n",
    "exp_new_loyals = tot_loyals_nextyear - tot_loyals_today\n",
    "\n",
    "#gross revenue expectation\n",
    " # median revenue of loyals cluster (from H3)\n",
    "add_revenue_exp = exp_new_loyals * median_loyals"
   ]
  },
  {
   "cell_type": "code",
   "execution_count": 141,
   "id": "89fa1293",
   "metadata": {
    "ExecuteTime": {
     "end_time": "2023-06-08T12:08:46.755464Z",
     "start_time": "2023-06-08T12:08:46.736426Z"
    }
   },
   "outputs": [
    {
     "name": "stdout",
     "output_type": "stream",
     "text": [
      "Regarding financial results, we start from the fact that the median revenue of the Loyals cluster is (2,78) greater than the median revenue of all clusters, as already explained.\n",
      "\n",
      "With the premise that the Stand Out Brands marketing team, through the project, will increase the number of Loyals by 10% in the next year, we will have in 10% of the base, a median increase in revenue of 2,78x.\n",
      "\n",
      "The number of Loyals customers in the last year (373 days) was: 468.\n",
      "The number of Loyals customers expected for the next year will be: 515.\n",
      "We will therefore have 47 new customers.\n",
      "\n",
      "Assuming the same median revenue per Loyal, the expected revenue increment is $192075 \n"
     ]
    }
   ],
   "source": [
    "print(f\"\"\"Regarding financial results, we start from the fact that the median revenue of the Loyals cluster is (2,78) greater than the median revenue of all clusters, as already explained.\n",
    "\n",
    "With the premise that the Stand Out Brands marketing team, through the project, will increase the number of Loyals by 10% in the next year, we will have in 10% of the base, a median increase in revenue of 2,78x.\n",
    "\n",
    "The number of Loyals customers in the last year (373 days) was: {tot_loyals_today}.\n",
    "The number of Loyals customers expected for the next year will be: {tot_loyals_nextyear}.\n",
    "We will therefore have {exp_new_loyals} new customers.\n",
    "\n",
    "Assuming the same median revenue per Loyal, the expected revenue increment is ${round(add_revenue_exp)} \"\"\")"
   ]
  }
 ],
 "metadata": {
  "kernelspec": {
   "display_name": "Python 3 (ipykernel)",
   "language": "python",
   "name": "python3"
  },
  "language_info": {
   "codemirror_mode": {
    "name": "ipython",
    "version": 3
   },
   "file_extension": ".py",
   "mimetype": "text/x-python",
   "name": "python",
   "nbconvert_exporter": "python",
   "pygments_lexer": "ipython3",
   "version": "3.10.9"
  },
  "varInspector": {
   "cols": {
    "lenName": 16,
    "lenType": 16,
    "lenVar": 40
   },
   "kernels_config": {
    "python": {
     "delete_cmd_postfix": "",
     "delete_cmd_prefix": "del ",
     "library": "var_list.py",
     "varRefreshCmd": "print(var_dic_list())"
    },
    "r": {
     "delete_cmd_postfix": ") ",
     "delete_cmd_prefix": "rm(",
     "library": "var_list.r",
     "varRefreshCmd": "cat(var_dic_list()) "
    }
   },
   "types_to_exclude": [
    "module",
    "function",
    "builtin_function_or_method",
    "instance",
    "_Feature"
   ],
   "window_display": false
  }
 },
 "nbformat": 4,
 "nbformat_minor": 5
}
